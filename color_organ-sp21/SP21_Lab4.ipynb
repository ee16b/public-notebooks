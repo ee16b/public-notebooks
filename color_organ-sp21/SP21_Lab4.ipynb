{
 "cells": [
  {
   "cell_type": "markdown",
   "metadata": {},
   "source": [
    "# Mic Board and Filters\n",
    "### EECS16B: Designing Information Devices and Systems II, Spring 2021\n",
    "\n",
    "Updated by Mia Mirkovic (2020)\n",
    "\n",
    "miamirkovic@berkeley.edu\n",
    "\n",
    "-----\n",
    "\n",
    "Updated by Rafael Calleja (2021)\n",
    "\n",
    "rafael.calleja@berkeley.edu"
   ]
  },
  {
   "cell_type": "markdown",
   "metadata": {},
   "source": [
    "## Table of Contents\n",
    "\n",
    "* Notes\n",
    "    - [Main Lab Note](https://drive.google.com/file/d/1Kv5mKBud9F4IidCnMdNOK9Ws55VgR8l3/view?usp=sharing)\n",
    "    - [Mic Board Note](https://drive.google.com/file/d/1Noi_zAl_Zl7LYr3R9lIwl38MsPUXmmFz/view?usp=sharing)\n",
    "* [Part 1: Frequency Response of the Speaker-Microphone System](#part1)\n",
    "    * [Breadboard Layout](#layout)\n",
    "    * [Micboard Setup](#micboard)\n",
    "    * [Biasing Circuit](#biasing_circuit)\n",
    "    * [Peak Detector](#peak_detector)\n",
    "    * [Calibration](#calibration)\n",
    "    * [Tuning](#tuning)\n",
    "    * [Measuring the Frequency Response](#speaker_microphone_frequency_response)\n",
    "* [Part 2: High Hello!](#part2)\n",
    "\n"
   ]
  },
  {
   "cell_type": "markdown",
   "metadata": {},
   "source": [
    "<a id='part1'></a>\n",
    "# <span style=\"color:navy\">Part 1: Frequency Response of the Speaker-Microphone System</span>\n",
    "-----"
   ]
  },
  {
   "cell_type": "markdown",
   "metadata": {},
   "source": [
    "<a id='layout'></a>\n",
    "### 1.0. Breadboard Layout and Planning\n",
    "\n",
    "- Plan ahead how you will build each circuit to minimize space usage on your breadboard. \n",
    "    - The layout below is a **strong** suggestion of where each circuit should be placed and how much space they should be taking up.\n",
    "    - Do NOT plug in your 9V supply into the positive rails!!! It should ONLY ever be connected to the 9V row reserved on your breadboard.\n",
    "    - You will be using these exact circuits for the project, so **make them neat and do not deconstruct them** once you are done with this lab.\n",
    "\n",
    "<img style=\"width:750px\" src=\"images/sp21_breadboard_layout.png\">\n",
    "\n",
    "- <span style=\"color:blue\"> **Unit Test! Unit Test! Unit Test!** </span> Many of your circuit elements (specifically your op-amps) are not very expendable so unit tests can be invaluable.\n",
    "- **Before** connecting any of your circuits to power, always:\n",
    "    1. Double check that your circuit was built correctly \n",
    "    2. Check that all the relevant nodes are connected properly\n",
    "    3. Check that none of your circuit elements are shorted (i.e. are connected in some way they shouldn't be)\n",
    "    4. <span style=\"color:#ba190f\">**Make sure the 3V3 pin and the 5V pin on the Launchpad are not connected to anything.**</span>\n",
    "- After connecting any of your circuits to power always:\n",
    "    1. Check that the output is in a range that you expect\n",
    "    2. **Check that none of your circuit elements (i.e. voltage regulators, Launchpad, op-amps) are getting hot, which is a clear sign of a short**"
   ]
  },
  {
   "cell_type": "markdown",
   "metadata": {},
   "source": [
    "<a id='micboard'></a>\n",
    "### 1.1. Setting up the Mic Board\n",
    "\n",
    "#### Materials\n",
    "- Mic board\n",
    "- Op-amp\n",
    "- 3.3V Voltage Regulator\n",
    "- Launchpad\n",
    "- Jumper Wires\n",
    "\n",
    "<img style=\"width:250px\" src=\"images/mic_annotated.png\">\n",
    "\n",
    "#### Tasks: \n",
    "\n",
    "1. **PLUG IN AN OP AMP INTO THE 8-PIN SOCKET ON YOUR MIC BOARD**. Make sure you plug it in the right way by matching the notch on the op amp chip with the op amp socket on the mic board!\n",
    "\n",
    "- Plug your micboard _DIRECTLY_ into your breadboard. **No jumper wires!!!**\n",
    "\n",
    "- Connect the mic board's Vout pin (`MIC_OUT`) to your Launchpad's oscope probe (`P6.0`) on the Launchpad.\n",
    "\n",
    "- Connect the mic board's VDD pin to the 3.3V  rail.\n",
    "\n",
    "- Connect either of the mic board's two VSS pins to the ground rail. You need only connect one of them to your ground rail.\n",
    "\n",
    "#### Notes/Tips:\n",
    "\n",
    "- The top of the op-amp is denoted by the little dot marked in one of the corners.\n",
    "- **Make sure you match the top of the op amp to the notch on the 8-pin socket!**\n",
    "- If your 3.3V regulator gets hot after connecting your mic board's VDD pin the 3.3V rail, you might have a burnt out op-amp.\n"
   ]
  },
  {
   "cell_type": "markdown",
   "metadata": {},
   "source": [
    "<a id='biasing_circuit'></a>\n",
    "### 1.2. Build the Biasing Circuit\n",
    "\n",
    "#### Materials\n",
    "- Mic board\n",
    "- Op-amp A from an op-amp chip\n",
    "- 2x $10 k\\Omega$ resistors | (code: brown, black, orange, gold)\n",
    "- $100 k\\Omega$ resistor | (code: brown, black, yellow, gold)\n",
    "- Power supply (3.3V from regulator)\n",
    "\n",
    "|Biasing Circuit:|Op-Amp Pinout:|\n",
    "|:-----:|:---------------:|\n",
    "|<img style=\"width:500px\" src=\"images/sp21_biasing.png\">|<img style=\"width:500px\" src=\"images/op_amp_pinout.png\">| \n",
    "\n",
    "#### Tasks:\n",
    "\n",
    "1. Build the above circuit near your mic board on the breadboard. \n",
    "\n",
    "- Connect the node labeled `Half Rail` to an empty row on your breadboard.\n",
    "\n",
    "- Connect `OS1` on your mic board to the `Half Rail` using a $100k\\Omega$ resistor.\n",
    "\n",
    "- Connect `OS2` on your mic board to the `Half Rail` using a wire.\n",
    "\n",
    "#### Notes/Tips:\n",
    "\n",
    "- This circuit is giving a low-impedance DC voltage source equal to ~$\\frac{3.3V}{2} \\approx 1.65V$ to use as reference for our micboard."
   ]
  },
  {
   "cell_type": "markdown",
   "metadata": {},
   "source": [
    "<span style=\"color:#075a04\"> **1.2.1 What is the purpose of OS1 and OS2?** </span>\n",
    "\n",
    "_Hint: Check out the mic board note if you're not sure!_\n",
    "\n",
    "`YOUR ANSWER HERE`"
   ]
  },
  {
   "cell_type": "markdown",
   "metadata": {},
   "source": [
    "<a id='peak_detector'></a>\n",
    "### 1.3. Build the Peak Detector\n",
    "\n",
    "#### Materials\n",
    "- Mic board\n",
    "- $1 \\mu F$ capacitor | (code: 105k)\n",
    "- $100 k\\Omega$ resistor | (code: brown, black, yellow, gold)\n",
    "- Diode | (looks like a black resistor with a white stripe)\n",
    "- Op-amp B of the **same op amp chip used in 1.2** for your [Biasing Circuit](#biasing_circuit)\n",
    "\n",
    "|Peak Detector Circuit:|Op-Amp & Diode:|\n",
    "|:-----:|:---------------:|\n",
    "|<img style=\"width:500px\" src=\"images/sp21_peak_detector.png\">|<img style=\"width:300px\" src=\"images/op_amp_pinout.png\"><img style=\"width:450px\" src=\"images/sp21_diode_annotated.png\">| \n",
    "\n",
    "#### Tasks:\n",
    "\n",
    "1. Build the above circuit **on the same op-amp chip as your biasing circuit**.\n",
    "\n",
    "- Connect the node labeled `P6.1` to the `P6.1` pin on your Launchpad using a jumper wire.\n",
    "\n",
    "#### Notes/Tips:\n",
    "\n",
    "- **If you only have 2 functional op-amps, you should skip this circuit, but your peak-to-peak readings will not be as accurate.**\n",
    "- This circuit is a very simple peak detector. It gives us a stable signal for the peak voltage of an oscillating signal which is useful when you want to calculate the peak-to-peak voltage ($V_{pp}$) of an AC signal. The AC signal we will be analyzing today is the one that comes out of your micboard.\n",
    "- Use this circuit to check the peak-to-peak voltage for any circuit that you build. To do this, just unplug the micboard's output from the peak detector input and instead connect the output of the circuit you want the peak-to-peak voltage for to the input of this circuit (the node labeled `MIC_OUT`)"
   ]
  },
  {
   "cell_type": "markdown",
   "metadata": {},
   "source": [
    "<a id='calibration'></a>\n",
    "### 1.4. Calibrating your Launchpad to the Mic Board\n",
    "\n",
    "#### Materials:\n",
    "- Mic board\n",
    "- Launchpad\n",
    "- USB cable\n",
    "- Jumper wires\n",
    "\n",
    "### <span style=\"color:#ba190f\">DO NOT connect the 3V3 pin or the 5V pin to anything on your breadboard.</span>\n",
    "#### Tasks:\n",
    "\n",
    "1. Open up `oscope.ino` in Energia.\n",
    "\n",
    "- Measure the output of your 3.3V rail **with your multimeter** and record that voltage next to the `#define MAX_VOLTAGE`  directive at the top of the `oscope.ino` file.\n",
    "\n",
    "- Plug in your Launchpad to your computer via USB. **You must do this before the next step.** <span style=\"color:#ba190f\">**As a reminder, DO NOT connect the 3V3 pin or the 5V pin to anything.**</span>\n",
    "\n",
    "- Connect the calibration pin (`P6.2`) to your 3.3V rail. **Your Launchpad must be connected to your computer via USB before you do this.**\n",
    "\n",
    "- Make sure your Launchpad's probe pin (`P6.0`) is connected to the mic board output (`MIC_OUT`). Check that the values look reasonable. _Hint: What should the micboard's output be centered around? What are its max and min values? Review the mic board note if you're uncertain._\n",
    "\n",
    "- Open the serial plotter.\n",
    "\n",
    "- Upload `oscope.ino` to your Launchpad and hit `RST`.\n",
    "\n",
    "- Press the button at the bottom left of the Launchpad (`P2.1`) to calibrate the readings. This button will calculate a `conversion_factor` to convert the readings of the Launchpad's ADC to an understandable voltage measurement.\n",
    "\n",
    "- Disconnect the calibration pin (`P6.2`) from your 3.3V rail. **Do not leave this pin connected to the 3.3V rail, especially if your Launchpad is not connected to power via USB.**\n",
    "\n",
    "\n",
    "#### Notes/Tips:\n",
    "\n",
    "- <span style=\"color:#ba190f\">**DO NOT connect the 3V3 pin or the 5V pin to anything.**</span> This will cause your Launchpad to fry.\n",
    "- **If you skipped the peak detector, use `oscope_wout_PD.ino` instead.**\n",
    "- Use the shortcut `CTRL-SHIFT-L` on Windows or `CMD-SHIFT-L` on Mac to open the serial plotter.\n",
    "\n",
    "- **Repeat these steps if the readings on your serial plotter aren't on the correct scale (between $[0,~3.45]$).**"
   ]
  },
  {
   "cell_type": "markdown",
   "metadata": {},
   "source": [
    "<a id='tuning'></a>\n",
    "### 1.5. Tune Your Mic Board\n",
    "\n",
    "#### Materials:\n",
    "- Phone speaker or headphones\n",
    "- 6pc. Precision Screwdriver Set\n",
    "\n",
    "#### Tasks:\n",
    "1. Make sure `P6.0` is connected to `MIC_OUT`.\n",
    "\n",
    "- **Play a pure tone using a [tone generator](https://www.szynalski.com/tone-generator/) in the range (3000 - 4000 Hz)** on your phone at a reasonable volume. Do NOT use a Youtube video!\n",
    "    - If the tone generator website is not working for you, you can download a tone generator app onto your phone instead.\n",
    "\n",
    "- Make sure to point the speaker directly at the mic and hold it a few inches away from the mic. \n",
    "    - The distance between your speaker and the mic affects the tuning process quite a bit so **try to keep your speaker at a fixed distance from your mic for the rest of the lab**.\n",
    "\n",
    "- Turn the potentiometer **(CW: decrease gain | CCW: increase gain)** until you see a sine wave with a **peak-to-peak of around 2V to 3V** on the serial plotter.\n",
    "\n",
    "#### Notes/Tips:\n",
    "\n",
    "<img style=\"width:600px\" src=\"images/sp21_railing_example.png\">\n",
    "\n",
    "- With oscillating signals like this, there is an important concept called \"railing.\" We define railing, with regards to this mic board, as non-linear behavior at the boundaries of the output range as shown in the plot. In general, if `P2P` on the serial plotter is too high ($>3.0V$ in testing) your micboard is probably railing. Keep this in mind as you tune your mic and as you go through the rest of the lab.\n",
    "- The plotter has a legend at the top telling you which lines correspond to the mic board output, the peak-to-peak, and the 2.5V threshold.\n",
    "- The mic board's output plot is centered around zero (0) to make reading the peak-to-peak more convenient. This does not reflect the actual DC value of its center, which is generated by the biasing circuitry from part 1.2.\n",
    "- The instantaneous peak-to-peak value is given beside its legend title.\n",
    "- If you tap on the mic, it should rail, but **it should not be railing while you play the tone.** \n",
    "- If the peak-to-peak reading stops being accurate, go through [**the calibration steps**](#calibration) again.\n",
    "- If there's a non-sensical spike on the serial plotter preventing you from seeing your voltages at the correct scale, try closing and reopening it. You may have to [calibrate](#calibration) again.\n",
    "    \n",
    "\n",
    "<span style=\"color:#ba190f\">**Congratulations! You have successfully tuned your mic board!**</span>"
   ]
  },
  {
   "cell_type": "markdown",
   "metadata": {},
   "source": [
    "<a id='speaker_microphone_frequency_response'></a>\n",
    "### 1.6. Measure the Frequency Response of the Speaker-Microphone System\n",
    "\n",
    "Finding the frequency response is the best way to know how your system will react to a range of frequencies. Usually this is performed with a linear sweep of every value within the range of frequencies that your system will be tasked with handling. You may think that we are just finding the frequency response of our microphone, but actually we are finding the frequency response of our joint speaker-microphone system. \n",
    "\n",
    "You can think of our system as your speaker (which is playing the pure tones) in series with your microphone (which is receiving the pure tones) and outputting some voltage corresponding to those pure tones. Here we will measure how this cascaded system reacts to certain discrete pure tone frequency inputs to get a general idea of how our speaker-microphone system will react to other frequencies within our range.\n",
    "\n",
    "You can refer back to these findings for guidance on choosing gains for the amplifiers of your filters later in the lab.\n",
    "\n",
    "#### Tasks\n",
    "1. Keeping your headphones/smartphone/speaker at a fixed distance from your mic board, use the serial plotter to record the peak-to-peak voltage at each frequency in the array `freq` in the code below."
   ]
  },
  {
   "cell_type": "code",
   "execution_count": null,
   "metadata": {
    "collapsed": true
   },
   "outputs": [],
   "source": [
    "import numpy as np\n",
    "import matplotlib.pyplot as plt\n",
    "import scipy.signal as sp\n",
    "from pylab import * \n",
    "%matplotlib inline"
   ]
  },
  {
   "cell_type": "code",
   "execution_count": null,
   "metadata": {
    "collapsed": true
   },
   "outputs": [],
   "source": [
    "#Record the amplitude of the output sinusoid at each given frequency\n",
    "freq = [20, 50, 200, 300, 500, 800, 1000, 1250, 1750, 2000, 2500, 3000, 4000, 5000, 6000, 7000, 8000]\n",
    "\n",
    "\n",
    "Vpp = [] #fill in your values here\n",
    "\n",
    "gain = np.array(Vpp)/max(Vpp)\n",
    "\n",
    "plt.loglog(freq, gain)\n",
    "plt.title('log-Gain vs log-Frequency')\n",
    "plt.xlabel('Frequency (Hz)')\n",
    "plt.ylabel('Gain (Volts/Volt)')"
   ]
  },
  {
   "cell_type": "markdown",
   "metadata": {},
   "source": [
    "## Questions\n",
    "\n",
    "<span style=\"color:#075a04\"> **1.6.1. What do you notice about the shape of this function? Which frequencies result in large output?**</span>"
   ]
  },
  {
   "cell_type": "markdown",
   "metadata": {},
   "source": [
    "`YOUR ANSWER HERE`"
   ]
  },
  {
   "cell_type": "markdown",
   "metadata": {},
   "source": [
    "<span style=\"color:#075a04\"> **1.6.2. What does the plot tell you about the loudness of your speaker at certain frequencies? Does this reflect your experience listening to music?**</span>\n",
    "\n",
    "Hint: low frequencies correspond to the bass in a song. Try playing something [bass-heavy :)](https://youtu.be/rCuBBaLtXQQ)"
   ]
  },
  {
   "cell_type": "markdown",
   "metadata": {},
   "source": [
    "`YOUR ANSWER HERE`"
   ]
  },
  {
   "cell_type": "markdown",
   "metadata": {},
   "source": [
    "<span style=\"color:#075a04\">**1.6.3. Let's say you wanted to flatten out the frequency response of your system such that the gain is around the same across all frequencies. Suggest a way to accomplish this with the circuit elements you learned about in class.**</span>"
   ]
  },
  {
   "cell_type": "markdown",
   "metadata": {},
   "source": [
    "`YOUR ANSWER HERE`"
   ]
  },
  {
   "cell_type": "markdown",
   "metadata": {},
   "source": [
    "\n",
    "<a id='part2'></a>\n",
    "# <span style=\"color:navy\">Part 2: High Hello!</span>\n",
    "\n",
    "-----\n"
   ]
  },
  {
   "cell_type": "markdown",
   "metadata": {},
   "source": [
    "### 2.1. Build and Test the High-Pass Filter Circuit\n",
    "\n",
    "#### Materials\n",
    "- Capacitors\n",
    "- Resistors\n",
    "- Launchpad\n",
    "- USB cable\n",
    "- Phone speaker or headphones\n",
    "- `oscope.ino`\n",
    "\n",
    "#### Tasks:\n",
    "1. On a sheet of paper, draw the circuit diagram for a first-order high pass RC filter. Write out the equation for its cutoff frequency $f_c$. \n",
    "\n",
    "- Choose values for $R$ and $C$ such that your cutoff frequency $f_c$ is in the range 5000 - 8000 Hz. Don't worry about getting the exact cutoff frequency you chose, since you have limited component values. If you're a few hundred Hz off from what you started with, just take that as your new frequency.\n",
    "    \n",
    "- Record your values for $R$, $C$, and $f_c$ in the code below.\n",
    "\n",
    "- Build the high-pass filter on your breadboard.\n",
    "\n",
    "- <span style=\"color:#ba190f\"> **Instead of connecting the end of the resistor to ground, connect it to the `Half Rail`.**</span> <span style=\"color:#075a04\"> **Sanity check: Why do we do this?** </span>\n",
    "\n",
    "- **Unit test!** Check the filter's output using the tone generator, your mic board, and `oscope.ino` \n",
    "    - Move your mic board output to the input of your high pass filter.\n",
    "    - Move the Launchpad's oscope probe (`P6.0`) to the output of your high pass\n",
    "    - Connect the output of your high pass filter to the input of the peak detector.\n",
    "    - Make sure the gain at the cutoff frequency is what you expect. <span style=\"color:#075a04\"> **Sanity check: What value should this be?** </span>\n",
    "\n",
    "#### Notes/Tips:\n",
    " \n",
    "- Since we have far more resistor values than we have capacitor values, start by choosing an easy capacitor value. Pick one that that lets you choose resistors of at least 1kOhm.\n",
    "\n",
    "- Because the frequencies are attentuated slowly in a first order filter, you may want to choose a cutoff frequency closer to the middle of the high-frequency range.\n",
    "\n",
    "- You can always change your cutoff frequency later."
   ]
  },
  {
   "cell_type": "code",
   "execution_count": null,
   "metadata": {
    "collapsed": true
   },
   "outputs": [],
   "source": [
    "### YOUR CODE HERE\n",
    "R = ...\n",
    "C = ...\n",
    "f_c = ...\n",
    "\n",
    "print(\"High pass filter\")\n",
    "print(\"================\")\n",
    "print(\"Resistor: {} ohms\".format(R))\n",
    "print(\"Capacitor: {} farads\".format(C))\n",
    "print(\"Cutoff frequency: {} Hz\".format(f_c))"
   ]
  },
  {
   "cell_type": "markdown",
   "metadata": {},
   "source": [
    "### 2.2. Plot the Frequency Response of the Micboard High-Pass System\n",
    "\n",
    "When desiging filters, it's helpful to visualize how the frequency response looks. \n",
    "\n",
    "Run the script below to plot the expected frequency response of your high pass filter. "
   ]
  },
  {
   "cell_type": "code",
   "execution_count": null,
   "metadata": {
    "collapsed": true
   },
   "outputs": [],
   "source": [
    "high_cutoff = float() #TODO\n",
    "\n",
    "hp_p2p_expected =  (np.array(freq)/high_cutoff)/(np.sqrt(1 + (np.array(freq)/high_cutoff)**2))\n",
    "\n",
    "plt.xlabel(\"Frequency (Hz)\")\n",
    "plt.ylabel(\"Output Voltage/Input Voltage\")\n",
    "plt.title(\"Frequency vs Gain (High Pass)\")\n",
    "plt.plot(freq, hp_p2p_expected)\n",
    "plt.show()\n",
    "\n",
    "plt.xlabel(\"Frequency (Hz)\")\n",
    "plt.ylabel(\"Output Voltage/Input Voltage\")\n",
    "plt.title(\"log-Frequency vs log-Gain (High Pass)\")\n",
    "plt.loglog(freq, hp_p2p_expected)\n",
    "plt.show()"
   ]
  },
  {
   "cell_type": "markdown",
   "metadata": {},
   "source": [
    "Record the peak-to-peak voltage values into `hp_p2p_observed` for the given frequencies in `hp_freqs`, and observe how your recorded values match up to the calculated frequency response of your system."
   ]
  },
  {
   "cell_type": "code",
   "execution_count": null,
   "metadata": {
    "collapsed": true
   },
   "outputs": [],
   "source": [
    "hp_freqs = [200, 500, 1000, 2000, 5000, 10000]\n",
    "hp_p2p_observed = [] #TODO\n",
    "\n",
    "hp_gain_observed = np.array(hp_p2p_observed)/np.max(hp_p2p_observed)\n",
    "\n",
    "plt.xlabel(\"Frequency (Hz)\")\n",
    "plt.ylabel(\"Output Voltage/Input Voltage\")\n",
    "plt.title(\"Frequency vs Gain (High Pass)\")\n",
    "plt.plot(freq, hp_p2p_expected)\n",
    "plt.scatter(hp_freqs, hp_gain_observed)\n",
    "plt.show()\n",
    "\n",
    "plt.xlabel(\"Frequency (Hz)\")\n",
    "plt.ylabel(\"Output Voltage/Input Voltage\")\n",
    "plt.title(\"log-Frequency vs log-Gain (High Pass)\")\n",
    "plt.loglog(freq, hp_p2p_expected)\n",
    "plt.scatter(hp_freqs, hp_gain_observed)\n",
    "plt.show()"
   ]
  },
  {
   "cell_type": "markdown",
   "metadata": {},
   "source": [
    "<span style=\"color:#075a04\"> **Do your observed values match up with the expected frequency response of our high pass? Why or why not? _Hint: Are we accounting for our full system?_** </span>"
   ]
  },
  {
   "cell_type": "markdown",
   "metadata": {},
   "source": [
    "`YOUR ANSWER HERE`"
   ]
  },
  {
   "cell_type": "markdown",
   "metadata": {},
   "source": [
    "<span style=\"color:#075a04\"> **What is the frequency response of your high-pass-filtered micboard in terms of the frequency response of your high pass filter and the frequency response of your micboard?**</span>"
   ]
  },
  {
   "cell_type": "markdown",
   "metadata": {},
   "source": [
    "`YOUR ANSWER HERE`"
   ]
  },
  {
   "cell_type": "markdown",
   "metadata": {},
   "source": [
    "Use the code below to plot the frequency response of your micboard-high pass filter system and compare it to the frequency response of just your micboard."
   ]
  },
  {
   "cell_type": "code",
   "execution_count": null,
   "metadata": {
    "collapsed": true,
    "scrolled": false
   },
   "outputs": [],
   "source": [
    "response_hp_micboard = np.multiply(hp_p2p_expected, gain)\n",
    "\n",
    "plt.xlabel(\"Frequency (Hz)\")\n",
    "plt.ylabel(\"Output Voltage/Input Voltage\")\n",
    "plt.title(\"Frequency vs Gain (High pass filtered Micboard)\")\n",
    "plt.plot(freq, Vpp, label=\"Micboard\")\n",
    "plt.plot(freq, response_hp_micboard, label=\"HP Expected\")\n",
    "plt.scatter(hp_freqs, hp_p2p_observed, label=\"HP observed\")\n",
    "plt.legend()\n",
    "plt.show()\n",
    "\n",
    "plt.xlabel(\"Frequency (Hz)\")\n",
    "plt.ylabel(\"Output Voltage/Input Voltage\")\n",
    "plt.title(\"log-Frequency vs log-Gain (High pass filtered Micboard)\")\n",
    "plt.loglog(freq, Vpp, label=\"Micboard\")\n",
    "plt.loglog(freq, response_hp_micboard)\n",
    "plt.scatter(hp_freqs, hp_p2p_observed)\n",
    "plt.legend()\n",
    "plt.show()"
   ]
  },
  {
   "cell_type": "markdown",
   "metadata": {},
   "source": [
    "Does your observed values match up with the frequency response of our full system?"
   ]
  },
  {
   "cell_type": "markdown",
   "metadata": {},
   "source": [
    "### 2.3 Amplify the High-Pass Signal\n",
    "1. Follow your filter with a non-inverting amplifier and LED/resistor as shown below.\n",
    "    - Try different gains to get the LED to brighten or light up more in the frequency range that you want. To figure out how much to raise or lower your gain, _refer to the frequency response plot!_\n",
    "    - If you find that you don't actually need a gain (the output is fine as is), just change the non-inverting amplifier to a buffer.\n",
    "\n",
    "- Make some noises at your microphone. Does the brightness of the LED change?\n",
    "    - Use the `oscope.ino` script to check the peak-to-peak voltages for specific frequencies.\n",
    "    - Try playing some different frequencies from this [tone generator website](http://www.szynalski.com/tone-generator/) and make sure the LED brightens or lights up for frequencies in your expected frequency range.\n",
    "\n",
    "- Here is the final circuit schematic:\n",
    "    \n",
    "\n",
    "<img style=\"width:750px\" src=\"images/sp21_high_pass.png\">\n"
   ]
  },
  {
   "cell_type": "markdown",
   "metadata": {},
   "source": [
    "<a id='checkoff'> </a>\n",
    "\n",
    "# Checkoff"
   ]
  },
  {
   "cell_type": "markdown",
   "metadata": {},
   "source": [
    "### For Checkoff:\n",
    "- Show your GSI your:\n",
    "    - working micboard system\n",
    "    - high pass filter\n",
    "    - relevant plots\n",
    "- Be prepared to answer some questions.\n",
    "- [Checkoff link](http://tinyurl.com/16b-checkoff-sp21)\n",
    "\n",
    "**After checkoff, please:**\n",
    "\n",
    "- <span style=\"color:#ff0000\"> **Keep all the circuits you built in this lab on your breadboard!**   </span> You will be using these for the project!\n",
    "- Store all your electrical components in a neat and organized manner.\n",
    "- Make sure that all components that you received in your lab kit are stored safely for use in future labs."
   ]
  }
 ],
 "metadata": {
  "anaconda-cloud": {},
  "kernelspec": {
   "display_name": "Python 3",
   "language": "python",
   "name": "python3"
  },
  "language_info": {
   "codemirror_mode": {
    "name": "ipython",
    "version": 3
   },
   "file_extension": ".py",
   "mimetype": "text/x-python",
   "name": "python",
   "nbconvert_exporter": "python",
   "pygments_lexer": "ipython3",
   "version": "3.6.1"
  }
 },
 "nbformat": 4,
 "nbformat_minor": 1
}
