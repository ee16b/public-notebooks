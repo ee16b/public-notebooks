{
 "cells": [
  {
   "cell_type": "markdown",
   "metadata": {},
   "source": [
    "# Color Organ\n",
    "### EECS16B: Designing Information Devices and Systems II, Spring 2021\n",
    "\n",
    "Updated by Mia Mirkovic (2020)\n",
    "\n",
    "miamirkovic@berkeley.edu\n",
    "\n",
    "-----\n",
    "\n",
    "Updated by Rafael Calleja (2021)\n",
    "\n",
    "rafael.calleja@berkeley.edu"
   ]
  },
  {
   "cell_type": "markdown",
   "metadata": {},
   "source": [
    "Notes\n",
    "* [Main Lab Note](https://drive.google.com/file/d/1Kv5mKBud9F4IidCnMdNOK9Ws55VgR8l3/view?usp=sharing)\n",
    "* [Mic Board Note](https://drive.google.com/file/d/1Noi_zAl_Zl7LYr3R9lIwl38MsPUXmmFz/view?usp=sharing)"
   ]
  },
  {
   "cell_type": "markdown",
   "metadata": {},
   "source": [
    "# <span style=\"color:navy\">Part 1: Fill-in From Lab 4</span>\n",
    "------\n",
    "\n",
    "Copy this from the main lab 4 ipynb file."
   ]
  },
  {
   "cell_type": "markdown",
   "metadata": {},
   "source": [
    "### Speaker - Mic Board Frequency Response"
   ]
  },
  {
   "cell_type": "code",
   "execution_count": 3,
   "metadata": {},
   "outputs": [],
   "source": [
    "import numpy as np\n",
    "import matplotlib.pyplot as plt\n",
    "import scipy.signal as sp\n",
    "from pylab import * \n",
    "%matplotlib inline"
   ]
  },
  {
   "cell_type": "code",
   "execution_count": null,
   "metadata": {
    "collapsed": true
   },
   "outputs": [],
   "source": [
    "#Record the amplitude of the output sinusoid at each given frequency\n",
    "freq = [20, 50, 200, 300, 500, 800, 1000, 1250, 1750, 2000, 2500, 3000, 4000, 5000, 6000, 7000, 8000]\n",
    "\n",
    "\n",
    "Vpp = [] #fill in your values here\n",
    "\n",
    "gain = np.array(Vpp)/max(Vpp)\n",
    "\n",
    "plt.loglog(freq, gain)\n",
    "plt.title('log-Gain vs log-Frequency')\n",
    "plt.xlabel('Frequency (Hz)')\n",
    "plt.ylabel('Gain (Volts/Volt)')"
   ]
  },
  {
   "cell_type": "markdown",
   "metadata": {},
   "source": [
    "### High Pass Frequency Response"
   ]
  },
  {
   "cell_type": "code",
   "execution_count": null,
   "metadata": {},
   "outputs": [],
   "source": [
    "hp_freqs = [200, 500, 1000, 2000, 5000, 10000]\n",
    "hp_p2p_observed = [] #TODO\n",
    "high_cutoff = float() #TODO\n",
    "\n",
    "hp_p2p_expected =  (np.array(freq)/high_cutoff)/(np.sqrt(1 + (np.array(freq)/high_cutoff)**2))\n",
    "hp_p2p_observed = np.multiply(peak_to_peak_voltages_highpass, gain)\n",
    "hp_gain_observed = np.array(hp_p2p_observed)/np.max(hp_p2p_observed)\n",
    "\n",
    "plt.xlabel(\"Frequency (Hz)\")\n",
    "plt.ylabel(\"Output Voltage/Input Voltage\")\n",
    "plt.title(\"Frequency vs Gain (High pass filtered Micboard)\")\n",
    "plt.plot(freq, hp_p2p_expected)\n",
    "plt.show()\n",
    "\n",
    "plt.xlabel(\"Frequency (Hz)\")\n",
    "plt.ylabel(\"Output Voltage/Input Voltage\")\n",
    "plt.title(\"log-Frequency vs log-Gain (High pass filtered Micboard)\")\n",
    "plt.loglog(freq, hp_p2p_expected)\n",
    "plt.show()"
   ]
  },
  {
   "cell_type": "markdown",
   "metadata": {},
   "source": [
    "\n",
    "\n",
    "<a id='part2'></a>\n",
    "# <span style=\"color:navy\">Part 2: *Bass*ic Color Organ</span>\n",
    "------\n"
   ]
  },
  {
   "cell_type": "markdown",
   "metadata": {},
   "source": [
    "## Materials\n",
    "- Capacitors\n",
    "- Resistors\n",
    "- Launchpad\n",
    "- USB cable\n",
    "- Phone speaker or headphones\n",
    "- `oscope.ino`"
   ]
  },
  {
   "cell_type": "markdown",
   "metadata": {},
   "source": [
    "## Tasks\n",
    "### 2.1. Build and Test the Low-Pass Filter\n",
    "\n",
    "1. On a sheet of paper, draw the circuit diagram for a first-order low pass RC filter. Write out the equation for its cutoff frequency $f_c$. \n",
    "\n",
    "- Choose values for $R$ and $C$ such that your cutoff frequency $f_c$ is in the range 100 - 500 Hz.\n",
    "    \n",
    "- Record your values for $R$, $C$, and $f_c$ in the code below.\n",
    "\n",
    "- Build the low-pass filter on your breadboard.\n",
    "\n",
    "- **Unit test!** Check the filter's output using the tone generator, your mic board, and `oscope.ino` \n",
    "    - Move your mic board output to the input of your low pass filter.\n",
    "    - Move the launchpad's oscope probe (`P6.0`) to the output of your low pass\n",
    "    - Connect the output of your low pass filter to the input of the peak detector.\n",
    "    - Make sure the gain at the cutoff frequency is what you expect. <span style=\"color:#075a04\"> **Sanity check: What value should this be?** </span>\n",
    "\n",
    "#### Notes/Tips:\n",
    " \n",
    "- Since we have far more resistor values than we have capacitor values, start by choosing an easy capacitor value. Pick one that that lets you choose resistors of at least 1kOhm.\n",
    "\n",
    "- Because the frequencies are attentuated slowly in a first order filter, you may want to choose a cutoff frequency closer to the middle of the low-frequency range.\n",
    "\n",
    "- You can always change your cutoff frequency later."
   ]
  },
  {
   "cell_type": "code",
   "execution_count": null,
   "metadata": {
    "collapsed": true
   },
   "outputs": [],
   "source": [
    "### YOUR CODE HERE\n",
    "R = ...\n",
    "C = ...\n",
    "f_c = ...\n",
    "\n",
    "print(\"Low pass filter\")\n",
    "print(\"===============\")\n",
    "print(\"Resistor: {} ohms\".format(R))\n",
    "print(\"Capacitor: {} farads\".format(C))\n",
    "print(\"Cutoff frequency: {} Hz\".format(f_c))"
   ]
  },
  {
   "cell_type": "markdown",
   "metadata": {},
   "source": [
    "### 2.3. Plot the Frequency Response of the Low-Pass-Filtered Mic Board\n",
    "\n",
    "When desiging filters, it's helpful to visualize how the frequency response looks. \n",
    "\n",
    "Run the script below to plot the frequency response of just your low pass filter. "
   ]
  },
  {
   "cell_type": "code",
   "execution_count": null,
   "metadata": {
    "collapsed": true
   },
   "outputs": [],
   "source": [
    "### TODO: Enter your low cutoff frequency below. Cast them to floats so this block of code runs correctly. \n",
    "low_cutoff = float() #TODO\n",
    "\n",
    "lp_p2p_expected = 1/(np.sqrt(1+((np.array(freq)/(low_cutoff))**2)))\n",
    "\n",
    "\n",
    "plt.plot(freq, lp_p2p_expected)\n",
    "plt.xlabel(\"Frequency (Hz)\")\n",
    "plt.ylabel(\"Output Voltage/Input Voltage\")\n",
    "plt.title(\"Frequency vs Gain (Low Pass)\")\n",
    "plt.show()\n",
    "\n",
    "plt.loglog(freq, lp_p2p_expected)\n",
    "plt.xlabel(\"Frequency (Hz)\")\n",
    "plt.ylabel(\"Output Voltage/Input Voltage\")\n",
    "plt.title(\"log-Frequency vs log-Gain (Low Pass)\")\n",
    "plt.show()"
   ]
  },
  {
   "cell_type": "markdown",
   "metadata": {},
   "source": [
    "Record the peak-to-peak voltage values into `lp_p2p_observed` for the given frequencies in `lp_freqs` and observe how your recorded values match up to the calculated frequency response of your system."
   ]
  },
  {
   "cell_type": "code",
   "execution_count": null,
   "metadata": {
    "collapsed": true
   },
   "outputs": [],
   "source": [
    "lp_freqs = [100, 200, 400, 600, 1000, 2000, 5000]\n",
    "lp_p2p_observed = [] #TODO\n",
    "\n",
    "lp_gain_observed = np.array(lp_p2p_observed)/np.max(lp_p2p_observed)\n",
    "\n",
    "plt.xlabel(\"Frequency (Hz)\")\n",
    "plt.ylabel(\"Output Voltage/Input Voltage\")\n",
    "plt.title(\"Frequency vs Gain (High Pass)\")\n",
    "plt.plot(freq, lp_p2p_expected)\n",
    "plt.scatter(lp_freqs, lp_gain_observed)\n",
    "plt.show()\n",
    "\n",
    "plt.xlabel(\"Frequency (Hz)\")\n",
    "plt.ylabel(\"Output Voltage/Input Voltage\")\n",
    "plt.title(\"log-Frequency vs log-Gain (High Pass)\")\n",
    "plt.loglog(freq, lp_p2p_expected)\n",
    "plt.scatter(lp_freqs, lp_gain_observed)\n",
    "plt.show()"
   ]
  },
  {
   "cell_type": "markdown",
   "metadata": {},
   "source": [
    "The frequency response of your low pass filtered micboard is simply the product of the frequency responses of the low pass filter and the frequency response of the micboard. \n",
    "\n",
    "Run the script below to plot the frequency response of your low pass filtered micboard. \n"
   ]
  },
  {
   "cell_type": "code",
   "execution_count": null,
   "metadata": {
    "collapsed": true
   },
   "outputs": [],
   "source": [
    "response_lp_micboard = #TODO\n",
    "\n",
    "plt.xlabel(\"Frequency (Hz)\")\n",
    "plt.ylabel(\"Output Voltage/Input Voltage\")\n",
    "plt.title(\"Frequency vs Gain (Low pass filtered Micboard)\")\n",
    "plt.plot(freq, response_lp_micboard)\n",
    "plt.scatter(lp_freqs,lp_gain_observed)\n",
    "plt.show()\n",
    "\n",
    "plt.xlabel(\"Frequency (Hz)\")\n",
    "plt.ylabel(\"Output Voltage/Input Voltage\")\n",
    "plt.title(\"log-Frequency vs log-Gain (Low pass filtered Micboard)\")\n",
    "plt.loglog(freq, response_lp_micboard)\n",
    "plt.scatter(lp_freqs,lp_gain_observed)\n",
    "plt.show()\n"
   ]
  },
  {
   "cell_type": "markdown",
   "metadata": {},
   "source": [
    "### 2.2. Amplify the Low-Pass Signal\n",
    "1. Build a non-inverting amplifier with a gain of 2 as shown in the diagram below.\n",
    "    - **You may need to raise or lower the gain later** depending on your setup and the music you want to play. You can reduce it to a buffer if you don't need any extra gain.\n",
    "    - Use the same rail voltages as the mic board.\n",
    "    - Remember that the output voltage needs to be > 1 V, and different LEDs will require different amounts of voltage to turn them on.\n",
    "    - The resistors are no longer connected to GND, but to 1.65V, in order to preserve our 1.65V offset.\n",
    "2. Connect the output of your filter to the input of your amplifier, and the output of your amplifier to a 10 $\\Omega$ resistor and LED as shown below.\n",
    "3. Make some noises at your microphone. Does the LED flash?\n",
    "    - Try playing some different frequencies from [this tone generator website](http://www.szynalski.com/tone-generator/) and make sure the LED lights up for lower tones rather than high ones.\n",
    "    - It may be easier to see this on the serial plotter.\n",
    "4. **If the LED doesn't turn on then you may need more gain or your filter's cutoff frequency might be too low.**\n",
    "    - Refer back to the frequency response you earlier in the lab to see how you may need to adjust the gain or cutoff frequency.\n",
    "\n",
    "<img style=\"width:750px\" src=\"images/sp21_low_pass.png\">\n"
   ]
  },
  {
   "cell_type": "markdown",
   "metadata": {},
   "source": [
    "<a id='part4'></a>\n",
    "# <span style=\"color:navy\">Part 3: Plotting Your Color Organ's Frequency Response</span>\n",
    "\n",
    "-----\n"
   ]
  },
  {
   "cell_type": "markdown",
   "metadata": {},
   "source": [
    "You may have noticed that one of your filters performs better than the other. Why is this? The frequency response of your color organ depends not only on the frequency responses of your filters, but also on the frequency response of your mic board. This means that if your mic board attenuates low frequencies more than high frequencies, your low frequency LED may light up less intensely, even if the low pass filter should have the same gain as the high pass filter in theory. \n",
    "\n",
    "Run the following script to overlay the frequency responses of your low-pass-filtered micboard, and your high-pass-filtered micboard. "
   ]
  },
  {
   "cell_type": "code",
   "execution_count": null,
   "metadata": {
    "collapsed": true
   },
   "outputs": [],
   "source": [
    "plt.xlabel(\"Frequency (Hz)\")\n",
    "plt.ylabel(\"Output Voltage/Input Voltage\")\n",
    "plt.title(\"Frequency vs Gain \")\n",
    "plt.plot(freq, response_lp_micboard, label=\"Low Pass\")\n",
    "plt.plot(freq, response_hp_micboard, label=\"High Pass\")\n",
    "plt.legend()\n",
    "\n",
    "plt.show()\n",
    "\n",
    "plt.xlabel(\"Frequency (Hz)\")\n",
    "plt.ylabel(\"Output Voltage/Input Voltage\")\n",
    "plt.title(\"log-Frequency vs log-Gain \")\n",
    "plt.loglog(freq, response_lp_micboard, label=\"Low Pass\")\n",
    "plt.loglog(freq, response_hp_micboard, label=\"High Pass\")\n",
    "plt.legend()\n",
    "\n",
    "plt.show()"
   ]
  },
  {
   "cell_type": "markdown",
   "metadata": {},
   "source": [
    "## Questions\n",
    "\n",
    "<span style=\"color:#075a04\"> **Does your frequency vs. output voltage plot seem consistent with what you observed? What frequency range(s) is your color organ most\n",
    "responsive to?**</span>"
   ]
  },
  {
   "cell_type": "markdown",
   "metadata": {},
   "source": [
    "`YOUR ANSWER HERE`"
   ]
  },
  {
   "cell_type": "markdown",
   "metadata": {},
   "source": [
    "<span style=\"color:#075a04\"> **Explain why you cannot directly connect a high-pass and low-pass filter to form a band-pass filter as shown below:**</span>\n",
    "![wrong filter](images/WrongFilter_withX.png)"
   ]
  },
  {
   "cell_type": "markdown",
   "metadata": {},
   "source": [
    "The circuit elements (resistor and capacitor) of the low pass would load the signal from the high pass and vice versa thus altering the cutoff frequencies of both filters and creating unexpected behavior."
   ]
  },
  {
   "cell_type": "markdown",
   "metadata": {},
   "source": [
    "<span style=\"color:#075a04\">**Using the op-amp golden rules, explain why adding a buffer between a high-pass filter and a low-pass filter forms a valid band-pass filter:**</span>\n",
    "![right filter](images/RightFilter.png)"
   ]
  },
  {
   "cell_type": "markdown",
   "metadata": {},
   "source": [
    "`YOUR ANSWER HERE`"
   ]
  },
  {
   "cell_type": "markdown",
   "metadata": {},
   "source": [
    "# Band Pass Filter [Optional]"
   ]
  },
  {
   "cell_type": "markdown",
   "metadata": {},
   "source": [
    "# <span style=\"color:navy\">Part 4: Lab Note</span>\n",
    "-----\n",
    "\n",
    "<span style=\"color:#ba190f\"> **Make sure you read the Introduction and Part 1 of the [lab note](https://drive.google.com/file/d/1QIF0DS0EMLltblRz-qc9_5hLxjTna9qT/view?usp=sharing) before beginning!**</span>"
   ]
  },
  {
   "cell_type": "markdown",
   "metadata": {},
   "source": [
    "## Materials\n",
    "- Color organ part 1 setup\n",
    "- Various Caps and Resistors\n",
    "- Op-amps\n",
    "- Mic board\n",
    "- Power supply (3.3V)\n",
    "- Launchpad and accessories\n",
    "- `oscope.ino`\n",
    "\n",
    "## Tasks\n",
    "\n",
    "### 1.1 Build and Test the High-Pass Filter of the Band-Pass\n",
    "1. Choose values for $R_{\\text{high pass}}$ and $C_{\\text{high pass}}$ s.t. your cutoff frequency $f_{c, \\text{ high pass}}$ for your high pass filter is in the range 800 - 1000 Hz.\n",
    "2. Record your values for $R_{\\text{high pass}}$, $C_{\\text{high pass}}$, and $f_{c, \\text{ high pass}}$ below.\n",
    "3. Build your high pass filter and **test it to make sure your cutoff frequency is what you expected**.\n",
    "\n",
    "\n",
    "<span style=\"color:#ba190f\"> **Make sure you connect the end of the resistor that's not connected to the capacitor to 1.65V from OS2!**</span>\n",
    "\n",
    "### 1.2 Build and Test the Low-Pass Filter of the Band-Pass\n",
    "1. Choose values for $R_{\\text{low pass}}$ and $C_{\\text{low pass}}$ s.t. your cutoff frequency $f_{c, \\text{ low pass}}$ for your low pass filter is in the range 3000 - 5000 Hz.\n",
    "2. Record your values for $R_{\\text{low pass}}$, $C_{\\text{low pass}}$, and $f_{c, \\text{ low pass}}$ below.\n",
    "3. Build your low pass filter and **test it to make sure your cutoff frequency is what you expected**.\n",
    "\n",
    "### 1.3 Put Them Together and Test the Band-Pass Filter\n",
    "1. Connect your high-pass filter to your low-pass filter using a buffer as shown above.\n",
    "2. **Test your band-pass filter with the Launchpad and serial plotter to make sure that the cutoff frequencies are what you expected.**\n",
    "3. Follow your band-pass filter with another non-inverting amplifier connected to a 10 $\\Omega$ resistor and an LED just like before.\n",
    "    - You can choose the gain of your non-inverting amplifier. Try using 2 to start.\n",
    "4. Hook up your band pass filter in parallel with the other filters as shown in the block diagram below, and use the output of your mic board as an input to your band pass filter.\n",
    "\n",
    "<img style=\"width:500px\" src=\"images/low-high-band-flow.png\">"
   ]
  },
  {
   "cell_type": "code",
   "execution_count": null,
   "metadata": {
    "collapsed": true
   },
   "outputs": [],
   "source": [
    "### YOUR CODE HERE\n",
    "R_high_pass = ...\n",
    "C_high_pass = ...\n",
    "f_c_high_pass = ...\n",
    "\n",
    "R_low_pass = ...\n",
    "C_low_pass = ...\n",
    "f_c_low_pass = ...\n",
    "\n",
    "print(\"Band pass filter\")\n",
    "print(\"================\")\n",
    "print(\"High pass resistor: {} ohms\".format(R_high_pass))\n",
    "print(\"High pass capacitor: {} farads\".format(C_high_pass))\n",
    "print(\"High pass cutoff frequency: {} Hz\".format(f_c_high_pass))\n",
    "print(\"Low pass resistor: {} ohms\".format(R_low_pass))\n",
    "print(\"Low pass capacitor: {} farads\".format(C_low_pass))\n",
    "print(\"Low pass cutoff frequency: {} Hz\".format(f_c_low_pass))"
   ]
  },
  {
   "cell_type": "markdown",
   "metadata": {},
   "source": [
    "<a id='part6'></a>\n",
    "# <span style=\"color:#ba190f\">(Optional) CHECKOFF </span> \n",
    "-----\n",
    "    \n",
    "\n",
    "- Show your GSI your system's frequency response and your bass and treble LEDs flashing independently to varying frequencies.\n",
    " \n",
    "### <span style=\"color:red\">KEEP YOUR CIRCUIT FOR THE NEXT LAB! YOU WILL NEED IT!</span>"
   ]
  }
 ],
 "metadata": {
  "anaconda-cloud": {},
  "kernelspec": {
   "display_name": "Python 3",
   "language": "python",
   "name": "python3"
  },
  "language_info": {
   "codemirror_mode": {
    "name": "ipython",
    "version": 3
   },
   "file_extension": ".py",
   "mimetype": "text/x-python",
   "name": "python",
   "nbconvert_exporter": "python",
   "pygments_lexer": "ipython3",
   "version": "3.7.4"
  }
 },
 "nbformat": 4,
 "nbformat_minor": 1
}
