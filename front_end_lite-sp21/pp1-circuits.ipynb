{
 "cells": [
  {
   "cell_type": "markdown",
   "metadata": {},
   "source": [
    "# SIXT33N Project Phase 1: Circuits\n",
    "\n",
    "### EE 16B: Designing Information Devices and Systems II, Spring 2021\n",
    "\n",
    "Written by Nathaniel Mailoa and Emily Naviasky (2016).\n",
    "\n",
    "Updated by Peter Schafhalter and Zain Zaidi (2019), Mia Mirkovic (2020), Rafael Calleja (2020), Hossein Najafi (2021)\n",
    "\n",
    "nmailoa@berkeley.edu &emsp; enaviasky@berkeley.edu &emsp; pschafhalter@berkeley.edu &emsp; zzaidi@berkeley.edu &emsp; miamirkovic@berkeley.edu &esmp; rafael.calleja@berkeley.edu; hossein_najafi@berkeley.edu\n",
    "\n",
    "----"
   ]
  },
  {
   "cell_type": "markdown",
   "metadata": {},
   "source": [
    "\n",
    "# Table of Contents\n",
    "\n",
    "* [Part 0: Lab Note](https://drive.google.com/file/d/1GIOIGWjLnxvUFizC8ihpnuKdn__g7LAx/view?usp=sharing)\n",
    "* [Part 1: Building the power voltages](#part1)\n",
    "* [Part 2: Motor controller Circuits](#part2)"
   ]
  },
  {
   "cell_type": "markdown",
   "metadata": {},
   "source": [
    "\n",
    "\n",
    "<a id='part0'></a>\n",
    "# <span style=\"color:navy\">Part 0: Lab Note</span>\n",
    "-----\n",
    "\n",
    "## Please read the [lab note](https://drive.google.com/file/d/1by2QKs1Z9htcBDfEaCHEvBGl7Ln1xhnB/view?usp=sharing).\n",
    "\n",
    "\n",
    "\n"
   ]
  },
  {
   "cell_type": "markdown",
   "metadata": {},
   "source": [
    "<a id='part1'></a>\n",
    "# <span style=\"color:navy\">Part 1: Building the power voltages</span>\n",
    "-----\n",
    "\n",
    "Please use this [starter circuit](https://www.tinkercad.com/things/fMniqUgQCyp) in TinkerCAD for the following lab.\n",
    "## (Virtual) Materials\n",
    "- Voltage regulator circuits from Lab 2\n",
    "- Multimeter\n",
    "- Arduino Microcontroller"
   ]
  },
  {
   "cell_type": "markdown",
   "metadata": {},
   "source": [
    "First we will build the 5V regulator (which you will not use directly in this lab, but will need in the next ones)\n",
    "1. **5V (Will come from the 5V voltage regulator)**\n",
    "\n",
    "\n",
    "\n",
    "## Tasks\n",
    "\n",
    "### 1.0 Plan Your Breadboard Layout\n",
    "\n",
    "Divide your breadboard into the following sections so that you have room for them all.\n",
    "- Plug your 5V output into the power rails for convenience.\n",
    "- Connect the ground of all your supplies, and connect the two (-) to create your ground rail.\n",
    "- The purple sections are where you will build your motor driver circuits.\n",
    "- You will not be using the regulator directly in this lab, but they may come in handy in the next ones, so it's worth making sure you are familiar with how to put them together.\n",
    "\n",
    "<img style=\"width:700px\" src=\"images/circuit_outline_diagram_v2_with_voltage_reg_single_cap.jpg\">\n",
    "\n",
    "### 1.1 Assemble the 5V regulator & test your voltage regulator.\n",
    "\n",
    "\n",
    "SIXT33N will run on a 9V battery when it is running around. \n",
    "- A voltage regulator regulates this 9V down to 5V.\n",
    "\n",
    "1. **Using the multimeter, verify that the output of your 5V regulator is 5V.**\n",
    "\n",
    "\n",
    "Now, you are going to be working with some small signals. You don't want to be susceptible to voltage ripples and potential noise in the circuit, and the power rails can be a large source of noise. To keep some noise off of your power rails:\n",
    "\n",
    "### 1.2 Add a decoupling capacitor (10 uF) between your 5V rail and ground.\n",
    "\n",
    "Decoupling capacitors will reduce fluctuations on your rails (which can occur for example when the voltage source must supply a large amount of current across wires which actually have non-zero resistance and inductance) .  (https://en.wikipedia.org/wiki/Decoupling_capacitor) You should use them in every circuit you build <i>in the future for the rest of your life</i>.\n"
   ]
  },
  {
   "cell_type": "markdown",
   "metadata": {},
   "source": [
    "**<span style=\"color:#075a04\">1. Connect a 10k resistor from the output of the 5V regulator to ground. What is the current being drawn from the battery (in mA) (only enter POSITIVE numerical value)? Remember that you must place an ammeter in series with the 9V battery to measure its current. </span>**\n",
    "\n",
    "< YOUR ANSWER ON GRADESCOPE >"
   ]
  },
  {
   "cell_type": "markdown",
   "metadata": {},
   "source": [
    "<a id='part2'></a>\n",
    "# <span style=\"color:navy\">Part 2: Motor Controller Circuits</span>\n",
    "\n",
    "-----"
   ]
  },
  {
   "cell_type": "markdown",
   "metadata": {},
   "source": [
    "## (Virtual)  Materials\n",
    "- 2 NPN BJTs (Bipolar Junction Transistor)\n",
    "- 2 Diodes\n",
    "- 2 1.5k$\\Omega$ resistors\n",
    "- 1 3-terminal switch"
   ]
  },
  {
   "cell_type": "markdown",
   "metadata": {},
   "source": [
    "## Tasks\n",
    "\n",
    "### 2.0 Read <a href=\"https://drive.google.com/file/d/1by2QKs1Z9htcBDfEaCHEvBGl7Ln1xhnB/view?usp=sharing\">Part 5</a> of the note before you begin this part!\n",
    "\n",
    "S1XT33N will require two batteries: one for the regulator circuits, and one for the motors. The $1.5\\mathrm{k}\\Omega$ resistor is used to limit the current to minimize the risk of the BJT burning out.\n",
    "\n",
    "\n",
    "### 2.1 Get familiar with the motor.\n",
    "\n",
    "1. **The motor has 6 pins.** The two leftmost pins are the driving pins, that you are going to connect using the schematic in part 2.2 to drive the motor. The other 4 pins are for the encoder module, which outputs a single pulse on channel A and B whenever the motor rotates for a specific amount. Channel A and B are identical, except for a quadrature phase difference which helps with identifying the direction of the rotation. Essentially, the two channels are the same waveform, except one is the delayed version of the other, and depending on which one is delayed, we can identify the directon of the rotation.\n",
    "By counting the number of pulses being output by the encoder, we can easily gauge how fast the motor is rotating and whether adjustments need to be made to the input signal.\n",
    "\n",
    "<img width=\"450px\" src=\"images/motor-with-encoder.jpg\">\n",
    "\n",
    "### 2.2 Build the motor controller circuits.\n",
    "1.  **Construct the circuit below for each wheel using the NPN BJT on the breadboard**. You may leave the encoder pins (all 4 of them) not connected for now.\n",
    "\n",
    "<img width=\"450px\" src=\"images/motor-drive-with-switch.jpg\">\n",
    "\n",
    "\n",
    "- **Use a different breadboard row for the 9V for the motors than the 9V for the voltage regulator.**\n",
    "- The motor is reversible so connect it any way for now. If it turns out to go backwards later, just reverse the two terminals of the motor.\n",
    "- The pin diagram of the BJT is reproduced below. <span style=\"color:#ba190f\">**Make sure to match the Base, Emitter, and Collector properly to the schematic.**</span>\n",
    "\n",
    "<img width=\"450px\" src=\"images/proj-bjt.png\">\n",
    "\n",
    "- A <a href=\"https://www.allaboutcircuits.com/textbook/semiconductors/chpt-3/introduction-to-diodes-and-rectifiers/\">diode</a> is a component that only conducts current one way. This diode is needed because of the inductive characteristics of the motor. If the motor is on and we turn it off, the inductive behavior of the motor maintains the current and we need a way to dissipate it. The diagram for the diode is shown below. **Note that the diode has a direction** - be careful which terminal is attached to the 9V power supply.\n",
    "<img width=\"300px\" src=\"images/proj-diode.png\">\n",
    "    \n",
    " **2. Add a switch between 9V and the motor drivers.** You only need **ONE** switch!\n",
    "- We are using this switch as a way to control whether your motors are powered or not. The switch shown below is a real life model of the component in TinkerCAD.\n",
    "- At any given time, two of the three pins below are connected depending on which side the switch is flipped to.\n",
    "<img width=\"300px\" src=\"images/switch.png\">\n",
    "1. Place the switch somewhere fairly central (with respect to the long side) on your breadboard.\n",
    "2. Connect the 9V to `pin 1`\n",
    "3. Connect **BOTH** your motor controller circuits' 9V nodes to `pin 2`. \n",
    "4. Connect `pin 3` to ground.\n",
    "5. **Sanity check:** the middle pin of your switch should be connected to something.\n",
    "         \n",
    "\n",
    "         \n",
    "\n",
    "\n",
    "    \n",
    "    \n",
    "### 2.3 Test the motor controller circuits.\n",
    "\n",
    "**1. Connect the node labeled <span style=\"color:#ba190f\">Arduino output pin</span> in one of the motor controller circuit to <span style=\"color:#ba190f\">pin 9</span> on the Microcontroller. Make sure to ground your Launchpad (connect gnd pin to negative rail)!**\n",
    "\n",
    "**2. Upload `motor_test.ino` to your code environment and load in onto the microcontroller.**\n",
    "\n",
    "**3. Open the serial monitor.**\n",
    "   - As the program runs, you should see the \"Duty Cycle\" reading change in the serial monitor. Your motor should speed up as the duty cycle increases, and slow down as it decreases. \n",
    "    \n",
    "  \n",
    "<span style=\"color:#ba190f\">**5. Repeat for the other motor circuit. Make sure that both motors drive as expected. In real life, they might not go at the same speed - our control scheme will make sure to account for this potential issue later in the project.**</span>\n",
    "\n",
    "<span style=\"color:#ba190f\">**HINT: If you simulation runs slow when trying to drive both motors at the same, try disconnecting the PWM signal from one of the motor driver input (labeled \"Arduino output pin\" in the schematic) and connect that driver input to ground instead to turn it off.**</span>\n",
    "\n",
    "* Probe the Arduino output pin with an oscilloscope and observe the waveform and see how the its duty cycle changes.\n",
    "\n",
    "* You may see the motor rpm written on it when the simulation is running.\n"
   ]
  },
  {
   "cell_type": "markdown",
   "metadata": {},
   "source": [
    "**<span style=\"color:#075a04\">2. What is the range of the duty cycle that the Arduino is able to generate?</span>**\n",
    "\n",
    "< YOU ANSWER ON GRADESCOPE >"
   ]
  },
  {
   "cell_type": "markdown",
   "metadata": {},
   "source": [
    "**<span style=\"color:#075a04\">3. Turn on the 9V switch to allow driving the motor. What is the rpm of the motor value for the lowest duty cycle achievable? (write your answer in units of rpm, and only enter the POSITIVE numerical value)</span>**\n",
    "\n",
    "< YOU ANSWER ON GRADESCOPE >"
   ]
  },
  {
   "cell_type": "markdown",
   "metadata": {},
   "source": [
    "**<span style=\"color:#075a04\">4. Turn on the 9V switch to allow driving the motor. What is the rpm of the motor value for the highest duty cycle achievable? (write your answer in units of rpm, and only enter the POSITIVE numerical value)</span>**\n",
    "\n",
    "< YOU ANSWER ON GRADESCOPE >"
   ]
  },
  {
   "cell_type": "markdown",
   "metadata": {},
   "source": [
    "**<span style=\"color:#075a04\">5. Turn off the 9V switch to stop driving the motor. What is the LOW voltage level at the collector of the BJT? (round your answer to the nearest 1mV division, and write your answer in units of mV, and only enter the numerical value)</span>**\n",
    "\n",
    "< YOU ANSWER ON GRADESCOPE >"
   ]
  },
  {
   "cell_type": "markdown",
   "metadata": {},
   "source": [
    "**<span style=\"color:#075a04\">6. Turn off the 9V switch to stop driving the motor. What is the HIGH voltage level at the collector of the BJT? (round your answer to the nearest 1mV division, and write your answer in units of mV, and only enter the numerical value)</span>**\n",
    "\n",
    "< YOU ANSWER ON GRADESCOPE >"
   ]
  },
  {
   "cell_type": "markdown",
   "metadata": {},
   "source": [
    "**<span style=\"color:#075a04\">7. With the 9V switch turned off, probe the base and the collector of the BJT on two separate oscilloscopes. Observe the two waveforms. How are the two signal related? Are they in phase (meaning their HIGH and LOW happen at the same time) or are they inverted version of each other?</span>**\n",
    "\n",
    "< YOU ANSWER ON GRADESCOPE >"
   ]
  },
  {
   "cell_type": "markdown",
   "metadata": {},
   "source": [
    "**<span style=\"color:#075a04\">8. Choose the best explanation for your answer on question 7:</span>**\n",
    "(see list of answers on gradescope)\n",
    "< YOU ANSWER ON GRADESCOPE >"
   ]
  },
  {
   "cell_type": "markdown",
   "metadata": {},
   "source": [
    "# <span style=\"color:#ba190f\">CHECKOFF</span>\n",
    "-----\n",
    "\n",
    "- Complete the Project: Front End assignment on Gradescope.\n",
    "\n",
    "- **Remember what each part of your circuit is for (Record this in a Google doc or somewhere else safe). You will need to write a summary for your final report.**\n",
    "- Make sure your circuits are saved properly in tinkercad."
   ]
  }
 ],
 "metadata": {
  "anaconda-cloud": {},
  "kernelspec": {
   "display_name": "Python 3",
   "language": "python",
   "name": "python3"
  },
  "language_info": {
   "codemirror_mode": {
    "name": "ipython",
    "version": 3
   },
   "file_extension": ".py",
   "mimetype": "text/x-python",
   "name": "python",
   "nbconvert_exporter": "python",
   "pygments_lexer": "ipython3",
   "version": "3.7.4"
  }
 },
 "nbformat": 4,
 "nbformat_minor": 4
}
