{
 "cells": [
  {
   "cell_type": "markdown",
   "metadata": {},
   "source": [
    "# SIXT33N Phase 2: System Identification\n",
    "\n",
    "### EECS 16B: Designing Information Devices and Systems II, Spring 2021\n",
    "\n",
    "Zhongkai Wang (2021)\n",
    "\n",
    "zhongkai@berkeley.edu"
   ]
  },
  {
   "cell_type": "markdown",
   "metadata": {},
   "source": [
    "## Table of Contents\n",
    "\n",
    "* [Part 0: Introduction](#intro)\n",
    "* [Part 1: Power and Actuator Circuits](#part1)\n",
    "* [Part 2: Open Loop Data Collection and Parameter Estimation](#part2)\n",
    "* [Part 3: Determining the Operating Point](#part3)\n",
    "\n",
    "## <span style=\"color:#ba190f\"> You need to run the python scripts one by one, or errors will show up as they rely on the variables defined above!!\n"
   ]
  },
  {
   "cell_type": "markdown",
   "metadata": {},
   "source": [
    "<a id='intro'></a>\n",
    "## <span style=\"color:blue\">Part 0: Introduction\n",
    "\n",
    "In this phase, we will\n",
    "    \n",
    "- build the SIXT33N actuators (motor controller)\n",
    "- test the encoders to verify our sensing readings are accurate.\n",
    "- model the the car as an open loop system.\n",
    "- collect data and determine the parameters of our model using least-squares.\n"
   ]
  },
  {
   "cell_type": "markdown",
   "metadata": {},
   "source": [
    "<a id='part1'></a>\n",
    "## <span style=\"color:blue\">Part 1: Power and Actuator Circuits</span>\n",
    "\n",
    "### Virtual Materials\n",
    "- 2 NPN BJTs (Bipolar Junction Transistor)\n",
    "- 2 Diodes\n",
    "- Multimeter\n",
    "- Oscilloscopes\n",
    "- Arduino Microcontroller\n",
    "- 1 1.5k$\\Omega$ resistors\n",
    "- 1 4k$\\Omega$ resistors\n",
    "- 1 3-termial switch"
   ]
  },
  {
   "cell_type": "markdown",
   "metadata": {},
   "source": [
    "### Tasks\n",
    "\n",
    "### 1.0 Plan Your Breadboard Layout\n",
    "\n",
    "Our circuit will need two sources of power (as regulators will slow down the simulation, we use the powers directly from battery and Arduino board):\n",
    "\n",
    "- 9V (Will come from the battery) \n",
    "- 5V (Will come from the Arduino board) \n",
    "\n",
    "Try to divide your breadboard into the following sections so that you have room for them and the later of the project. \n",
    "\n",
    "- Use top (+) rail for 9V, and bottom (+) rail for 5V.\n",
    "- Connect the two (-) to create the ground rail.\n",
    "- The purple sections are reserved to build the motor controller circuits.\n",
    "\n",
    "<img style=\"width:700px\" src=\"images/floorplan.png\">\n",
    "\n",
    "The power distribution is shown in the diagram below. The motor controller circuits use the 9V supply from battery to drive the motor. The encoder of the motors gets 5V supply from the Arduino board. **Note that all the grounds (including the grounds of the battery, the Arduino board and the breadboard) are connected.**\n",
    "\n",
    "<br/><br/>\n",
    "\n",
    "<center>\n",
    "<img width=\"500px\" src=\"images/proj-power-2.png\">\n",
    "</center>"
   ]
  },
  {
   "cell_type": "markdown",
   "metadata": {},
   "source": [
    "### 1.1 Get familiar with the motor encoder\n",
    "\n",
    "As mentioned in project phase 1, the motor has 6 pins. The two leftmost pins are the driving pins that you connect using motor controller circuit. The other 4 pins are for the encoder module, which outputs a single pulse on channel A and B whenever the motor rotates for a specific amount. By counting the number of pulses outputted by the encoder, we can easily gauge how fast the motor is rotating and whether adjustments need to be made to the input signal. In this phase, we will use **Channel A** to get the rotating speed of the motors.\n",
    "\n",
    "<img width=\"400px\" src=\"images/motor_with_encoder.png\">\n",
    "\n",
    "\n",
    "### 1.2 Build the circuit\n",
    "\n",
    "For this lab, you have two choices - you can start with circuit you made in project phase 1, or you can use the starter circuit and re-construct the ciruit in TinkerCad.\n",
    "\n",
    "####  <span style=\"color:#ba190f\"> 1.2.1 If you use the project phase 1 circuit, you need to make the following changes. \n",
    "\n",
    "1. Make a duplicate of your circuit from project phase 1 in TinkerCad.\n",
    "    \n",
    "    - Reconstruct the power supplies as shown in the floorplan figure. Connect breadboard top (+) rail to battery and bottom (+) rail to Arduino 5V supply pin. Remember to connect the GNDs of battery, breadboard and Arduino.\n",
    "    - **Remove the 5V and 3.3V regulators from your circuit.** The regulars will slow down the simulation and change the results.\n",
    "    - **Remove your connections connecting Arduino pin 9 and controller circuits from phase 1.**\n",
    "    \n",
    "    \n",
    "2. For the motor controller circuit,\n",
    "\n",
    "    - **Connect $1.5k \\Omega$ resistor for the left BJT base and $4k \\Omega$ to the right BJT base.** Thus, we intentially add some differences between the left and right controller circuits, and make their rotational speed different. \n",
    "\n",
    "    \n",
    "3. Connect the motor encoders for **each wheel**.\n",
    "\n",
    "    - Connect both the **encoder grounds (pin 3 in the motor diagram)** to breadboard ground rail (-).\n",
    "    - Connect both the **encoder powers (pin 6 in the motor diagram)** to bottom (+) rail (5V power rail).\n",
    "    - Connect the **channel A (pin 5 in the motor diagram)** pins of the <span style=\"color:#ba190f\">left motor</span> and <span style=\"color:#ba190f\">right motor</span> to Arduino <span style=\"color:#ba190f\"> pin 3</span> and <span style=\"color:#ba190f\">pin 2</span> respectively.\n",
    "\n",
    "    \n",
    "4. Connect Arduino to controller circuits.\n",
    "\n",
    "    - Connect the node labeled **Arduino output pin** of the <span style=\"color:#ba190f\">left motor</span> controller circuit to <span style=\"color:#ba190f\">pin 10</span> on the Microcontroller. \n",
    "    - Connect the node labeled **Arduino output pin** of the <span style=\"color:#ba190f\">right motor</span> controller circuit to <span style=\"color:#ba190f\">pin 9</span> on the Microcontroller. \n",
    "\n",
    "    \n",
    "#### <span style=\"color:#ba190f\">1.2.2 If you use the [starter circuit](https://www.tinkercad.com/things/5bCH3zNDtGS ) in TinkerCAD for the following lab, the procedure is the following.\n",
    "\n",
    "1. Review phase 1 of the project. Construct the circuit below for **each wheel** using motors, resistors, NPN BJTs and diodes. Please note that\n",
    "\n",
    "    - The motor is reversible. If it turns out to go backwards later, just reverse the two terminals of the motor.\n",
    "    - Make sure to match the Base, Emitter, and Collector of the BJT properly to the schematic.\n",
    "    - Add a diode in parallel with the motor. Be careful which terminal is attached to the 9V power supply.\n",
    "    - Add a switch between 9V and the motor drivers. You only need ONE switch!\n",
    "    - **Please connect $1.5k \\Omega$ resistor for the left BJT base and $4k \\Omega$ to the right BJT base.** Thus, we intentially add some differences between the left and right controller circuits, and make their rotational speed different. \n",
    "\n",
    "   <img width=\"250px\" src=\"images/motor-drive-with-switch.png\">\n",
    "\n",
    "2. Connect the motor encoders for **each wheel**.\n",
    "\n",
    "    - Connect both the **encoder grounds (pin 3 in the motor diagram)** to breadboard ground rail (-).\n",
    "    - Connect both the **encoder powers (pin 6 in the motor diagram)** to bottom (+) rail (5V power rail).\n",
    "    - Connect the **channel A (pin 5 in the motor diagram)** pins of the <span style=\"color:#ba190f\">left motor</span> and <span style=\"color:#ba190f\">right motor</span> to Arduino <span style=\"color:#ba190f\"> pin 3</span> and <span style=\"color:#ba190f\">pin 2</span> respectively.\n",
    "    \n",
    "\n",
    "3. Connect Arduino to controller circuits.\n",
    "\n",
    "    - Connect the node labeled **Arduino output pin** of the <span style=\"color:#ba190f\">left motor</span> controller circuit to <span style=\"color:#ba190f\">pin 10</span> on the Microcontroller. \n",
    "    - Connect the node labeled **Arduino output pin** of the <span style=\"color:#ba190f\">right motor</span> controller circuit to <span style=\"color:#ba190f\">pin 9</span> on the Microcontroller. \n",
    "\n",
    "\n",
    "### 1.3 Test the circuit.\n",
    "\n",
    "1. Make sure parameter **`MODE`** in line 6 being 0. **If you used your previous circuit, you need to upload `dynamics_data.ino` to your code environment and load in onto the microcontroller.** \n",
    "\n",
    "2. Open the serial monitor.\n",
    " \n",
    "     - As the program runs, you should see the \"Encoder values\" in the serial monitor. This is the number of encoder pulses within every 200ms duration. **The two numbers are for the left motor and right motor, respectively.** The numbers will stablize after about five cycles. \n",
    "     - To control the PWM duty cycle, you can change parameter `PWM_CONST` in line 7 of the code. **When `PWM_CONST` is 200, encoder value of the left motor is around 359.**\n",
    "\n",
    "    \n",
    "3. You can also try to debug your circuit by  \n",
    "\n",
    "    - probing the two encoder outputs (pin **channel A** ) with oscilloscopes and observe the encoder outputs. If you set the `Time Per Division` to 1ms, you should see the following waveform (`PWM_CONST` is 200).\n",
    "    - observing the motor rpm written on it when the simulation is running.\n",
    "\n",
    "<img width=\"350px\" src=\"images/encoder_output.png\">"
   ]
  },
  {
   "cell_type": "markdown",
   "metadata": {},
   "source": [
    "## Questions\n",
    "\n",
    "**<span style=\"color:#075a04\"> 1. Which motor rotates at a higher speed?</span>**\n",
    "\n",
    "- The left motor\n",
    "- The right motor\n",
    "- The two motors have almost same rotating speed\n",
    "\n",
    "< YOU ANSWER ON GRADESCOPE >\n",
    "\n",
    "<span style=\"color:#075a04\"> **2. In real life, the two motors might rotate at different rotating speeds. What could cause the difference in our circuit? Choose all the answers that are correct.** \n",
    "\n",
    "- The motors may have different sensitivities to current, due to electrical or mechanical difference.\n",
    "- The BJTs may have different output currents even with same input voltages.\n",
    "- The two resistors connecting to BJT bases may have resistance errors.\n",
    "- The PWM duty cycles from the Arduino may be inaccurate.\n",
    "\n",
    "< YOU ANSWER ON GRADESCOPE >\n",
    "\n",
    "<span style=\"color:#075a04\"> **3. Change parameter `PWM_CONST` to 255, what is the number of encoder pulses you get for the left motor from the Serial Monitor (after the values stabilize)? <span style=\"color:#ba190f\"> Enter integer value (e.g. 100).** \n",
    "\n",
    "< YOU ANSWER ON GRADESCOPE >\n",
    " \n",
    "<span style=\"color:#075a04\"> **4. When increasing parameter `PWM_CONST`, how does the period of the encoder pulses change? The period** \n",
    "    \n",
    "- increases\n",
    "- decreases\n",
    "- does not change\n",
    "\n",
    "< YOU ANSWER ON GRADESCOPE >\n",
    "    \n",
    "<span style=\"color:#075a04\"> **5. Change parameter `PWM_CONST` to 150, what is the difference of the number of encoder pulses between the left and right motors (after the values stabilize)? Use the number of the left motor minus the number of the right motor. <span style=\"color:#ba190f\"> Enter integer value (the number could be negative, e.g. -100).** \n",
    "\n",
    "< YOU ANSWER ON GRADESCOPE >"
   ]
  },
  {
   "cell_type": "markdown",
   "metadata": {},
   "source": [
    "<a id='part3'></a>\n",
    "## <span style=\"color:blue\">Part 2: Open Loop Data Collection and Parameter Estimation</span>\n",
    "\n"
   ]
  },
  {
   "cell_type": "markdown",
   "metadata": {},
   "source": [
    "\n",
    "### 2.0. Please read the [lab note](https://drive.google.com/file/d/1JTsD3TQo6t1tnkJU322V40ZpRp2avbUA/view?usp=sharing).\n",
    "\n",
    "Before trying to control SIXT33N, we will first determine the system operating point: since your motors are not identical, we need to find an operating velocity that both motors can reach. We will assume that velocity varies approximately linearly with applied voltage, so we will collect data across a range of applied voltages and then perform a least-squares linear regression on a subset of the data (located around your operating point). You will do this separately for each wheel. By doing this, we are effectively forming a simplified model of your car (you will use a more detailed model to design your control scheme, but this is enough for us to get the data we need)."
   ]
  },
  {
   "cell_type": "markdown",
   "metadata": {},
   "source": [
    "### 2.1. Collect data\n",
    "\n",
    "Now, you will collect the data. Glance through the code - when parameter **`MODE`** is 1, it records the position of each wheel while varying the PWM input signal (noted as $u[k]$) linearly from HIGH_PWM to LOW_PWM and back up. The sampling period is $T_s = 200\\mathrm{ms}$. A long sampling period is used to minimize error due to quantization, the rounding error from measuring only integer encoder ticks.\n",
    "\n",
    "The five parameters in code block `SID1` will sweep through the whole range of PWM values, from maximum to minimum and back to maximum, while collecting only 1 sample per PWM. This means **the motor will stop for a short time in the middle of the test.**\n",
    "\n",
    "#### About DATA collection:\n",
    "1. Change parameter **`MODE` to 1**. \n",
    "2. Clear the Serial Monitor.\n",
    "3. **Make sure the switch is ON before starting the simulation.** When running **`dynamics_data.ino`**, Arduino will run the motors and collect data, then read data collected onto the Serial Monitor. You need to wait for a while for the data to show up, it takes about 10 seconds of simulator time.\n",
    "4. When reading the data from the Serial Monitor:\n",
    "    - The data is printed in lines as comma separated 3-tuples. \n",
    "    - Copy and paste, ONLY these 3-tuples, nothing else.\n",
    "    - Your data should look something like this (albeit with more data points):\n",
    "<img width=\"400px\" src=\"images/data_coarse_example.png\">"
   ]
  },
  {
   "cell_type": "markdown",
   "metadata": {},
   "source": [
    "### 2.2. Plot data:\n",
    "\n",
    "- Once you've copied data from the serial monitor, paste it into a text file called **`data.txt`** in the *home directory* of this lab. **Delete all the empty lines and useless messages, only keep the numbers as picture above.**\n",
    "\n",
    "The example plot below shows an example of extreme differences between the two wheels from **hands-on lab**. Here, the 1.5$\\mathrm{k\\Omega}$ resistors at the bases of the BJT's were replaced by 1$\\mathrm{k\\Omega}$ (left) and 3$\\mathrm{k\\Omega}$ (right) resistors. The smaller resistor drives the BJT with more current ($I=\\frac{V}{R}$, smaller $\\downarrow R\\implies \\uparrow I$), and oppositely for the larger resistor. This mimics a car with a much stronger left wheel than right wheel. The plot shows the drastic difference in response between the two wheels, and how the wheels behave when slowing to 0 versus speeding up from 0.\n",
    "\n",
    "<img width=\"400px\" src=\"images/example_coarse_data.png\">\n"
   ]
  },
  {
   "cell_type": "code",
   "execution_count": 1,
   "metadata": {},
   "outputs": [],
   "source": [
    "import numpy as np\n",
    "import matplotlib.pyplot as plt\n",
    "%matplotlib inline"
   ]
  },
  {
   "cell_type": "code",
   "execution_count": null,
   "metadata": {},
   "outputs": [],
   "source": [
    "with open('data.txt', 'r') as file:\n",
    "    data = []\n",
    "    for line in file.readlines():\n",
    "        if not len(line.strip()) == 0 : \n",
    "            data.append ([int(num) for num in line.strip().split(',')])\n",
    "    data = np.array(data)\n",
    "\n",
    "# compute velocity from distances\n",
    "vleft  = data[:, 1]\n",
    "vright = data[:, 2]\n",
    "u = data[:, 0]    # duty cycle     #####.reshape((-1, 1)) \n",
    "\n",
    "left_des, left_asc = np.array_split(vleft, 2)\n",
    "right_des, right_asc = np.array_split(vright, 2)\n",
    "u_des, u_asc = np.array_split(u, 2)\n",
    "\n",
    "plt.plot(u_des, left_des, 'b-',  u_des, right_des, 'y-')\n",
    "plt.plot(u_asc, left_asc, 'b-o',  u_asc, right_asc, 'y-^')\n",
    "plt.xlabel(\"u (input via PWM)\")\n",
    "plt.ylabel(\"Velocity of Wheels\")\n",
    "labels = (\"left (descending)\", \"right (descending)\",\n",
    "          \"left (ascending)\" , \"right (ascending)\")\n",
    "plt.legend(labels, loc=0)\n",
    "plt.show()"
   ]
  },
  {
   "cell_type": "markdown",
   "metadata": {},
   "source": [
    "In real life, the car only has to run within a small range of velocities due to the non-linearity, so we need to collect more samples at each PWM, over a smaller PWM range. However, from the plot above, the simulated data are good enough, and we can skip this step and find a linear approximation for the behavior of the motors directly. "
   ]
  },
  {
   "cell_type": "markdown",
   "metadata": {},
   "source": [
    "## Questions\n",
    "\n",
    "<span style=\"color:#075a04\"> **6. What is the slope of line under the *right ascending case* from the data or plot above? You can estimate it from the first and last points of the line. Hint: Use print() function to print out the values you need. <span style=\"color:#ba190f\">Enter numerical value with two decimal points (e.g. 3.14).**\n",
    "    \n",
    "< YOU ANSWER ON GRADESCOPE >"
   ]
  },
  {
   "cell_type": "markdown",
   "metadata": {},
   "source": [
    "### 2.3. Least-Squares Regression\n",
    "Now that we have some data, we can try performing least-squares regression.\n",
    "\n",
    "1. Write a function that takes the data as parameters, performs least squares, and extracts the parameters. The function [`np.linalg.lstsq`](https://het.as.utexas.edu/HET/Software/Numpy/reference/generated/numpy.linalg.lstsq.html) and [`np.vstack`](https://het.as.utexas.edu/HET/Software/Numpy/reference/generated/numpy.vstack.html )will be helpful here. **From the [note](https://drive.google.com/file/d/1JTsD3TQo6t1tnkJU322V40ZpRp2avbUA/view?usp=sharing), in our linear regression method, we assume that $v=\\theta u-\\beta$, and the single matrix-vector equation of the form $Ax = b$ is shown as follows. However, the example in the webpage uses $v=\\theta u+\\beta$.** Please think about how to modify the example and use it here.\n",
    "2. Call the function once for each wheel.\n",
    "3. Record the values of $\\theta$ and $\\beta$ for each wheel.\n",
    "\n",
    "<img width=\"400px\" src=\"images/fomular.png\">"
   ]
  },
  {
   "cell_type": "code",
   "execution_count": null,
   "metadata": {},
   "outputs": [],
   "source": [
    "# Write a function that formulates and performs least squares\n",
    "# and returns theta and beta for one wheel\n",
    "def identify_parameters(u, v):\n",
    "    # Returns (theta, beta) for given (u, v)\n",
    "    ####### YOUR CODE STARTS HERE ###############\n",
    "    \n",
    "    return pass\n",
    "    ####### YOUR CODE ENDS HERE #################\n",
    "\n",
    "\n",
    "# extract parameters, call your function here\n",
    "theta_left, beta_left = identify_parameters(u, vleft) # 0, 0\n",
    "theta_right, beta_right = identify_parameters(u, vright) # 0, 0\n",
    "\n",
    "print(\"float theta_left = {:.4g};\".format(theta_left))\n",
    "print(\"float theta_right = {:.4g};\".format(theta_right))\n",
    "print(\"float beta_left = {:.4g};\".format(beta_left))\n",
    "print(\"float beta_right = {:.4g};\".format(beta_right))"
   ]
  },
  {
   "cell_type": "code",
   "execution_count": null,
   "metadata": {
    "scrolled": true
   },
   "outputs": [],
   "source": [
    "# plot results of least squares fit \n",
    "u = u.reshape(-1)\n",
    "vleft_LS = theta_left*u-beta_left\n",
    "vright_LS = theta_right*u-beta_right\n",
    "plt.plot(u, vleft, 'bo',  u, vright, 'yo', u, vleft_LS, 'b-', u, vright_LS, 'y-')\n",
    "plt.xlabel(\"u (input via PWM)\")\n",
    "plt.ylabel(\"Velocity of Wheels\")\n",
    "plt.legend((\"left\", \"right\"), loc=0)"
   ]
  },
  {
   "cell_type": "markdown",
   "metadata": {},
   "source": [
    "## Questions\n",
    "\n",
    "<span style=\"color:#075a04\"> **7. What is the $\\theta$ you get for the *left* motor from the least-squares regression?. <span style=\"color:#ba190f\">Enter numerical value with two decimal points (e.g. 3.14).**\n",
    "    \n",
    "< YOU ANSWER ON GRADESCOPE >"
   ]
  },
  {
   "cell_type": "markdown",
   "metadata": {},
   "source": [
    "### 2.4. Evaluate Your Fit"
   ]
  },
  {
   "cell_type": "markdown",
   "metadata": {},
   "source": [
    "To test that we have estimated the parameters accurately, we will simulate the model using the parameters we have found. When we compare the simulated data with the collected data, we expect them to match up pretty well. \n",
    "- **Please visualize or think about why the distance plot is curved the way it is.**"
   ]
  },
  {
   "cell_type": "code",
   "execution_count": null,
   "metadata": {},
   "outputs": [],
   "source": [
    "# least-squares regression\n",
    "def sim(d0, u, theta, beta):\n",
    "    d = np.zeros(len(u)+1)\n",
    "    d[0] = d0\n",
    "    for t in range(len(u)):\n",
    "        d[t+1] = d[t] + theta*u[t] - beta\n",
    "    return d\n",
    "\n",
    "# simulation\n",
    "def get_distances_from_velocities(v):\n",
    "    d = np.zeros(len(u) + 1)\n",
    "    d[0] = 0\n",
    "    for t in range(len(u)):\n",
    "        d[t+1] = d[t] + v[t] \n",
    "    return d\n",
    "        \n",
    "# plot simulated trajectories \n",
    "dleft = get_distances_from_velocities(vleft)\n",
    "dright = get_distances_from_velocities(vright)\n",
    "\n",
    "dleft_regression  = sim(0, u, theta_left, beta_left)\n",
    "dright_regression = sim(0, u, theta_right, beta_right)\n",
    "plt.plot(dleft, 'b.', \n",
    "         dright, 'y.',\n",
    "         dleft_regression, 'b-', \n",
    "         dright_regression, 'y-',\n",
    "        )\n",
    "plt.xlabel(\"time\")\n",
    "plt.ylabel(\"distance\")\n",
    "plt.legend((\"left (sim)\", \"right (sim)\", \"left (regression)\", \"right (regression)\"), loc='upper left')"
   ]
  },
  {
   "cell_type": "markdown",
   "metadata": {},
   "source": [
    "## Questions\n",
    "\n",
    "<span style=\"color:#075a04\"> **8. What is the final distance of the *right* motor from least-squares regression model at the end of the time? Hint: Use print() function to print out the values you need. <span style=\"color:#ba190f\"> Enter numerical value with two decimal points (e.g. 3.14).**\n",
    "    \n",
    "< YOU ANSWER ON GRADESCOPE >\n",
    "    "
   ]
  },
  {
   "cell_type": "markdown",
   "metadata": {},
   "source": [
    "<a id='part3'></a>\n",
    "## <span style=\"color:blue\">Part 3: Determining the Operating Point</span>"
   ]
  },
  {
   "cell_type": "markdown",
   "metadata": {},
   "source": [
    "In hands-on lab, each wheel may have a different range of velocities, illustrated here.\n",
    "\n",
    "<img src=\"./images/partial_overlap_lsq.png\">\n"
   ]
  },
  {
   "cell_type": "markdown",
   "metadata": {},
   "source": [
    "In order to drive straight, the car must be operating at a velocity achievable by both wheels. A good choice of target velocity is the midpoint of the overlapping range of velocity. The below cell will calculate this."
   ]
  },
  {
   "cell_type": "code",
   "execution_count": null,
   "metadata": {},
   "outputs": [],
   "source": [
    "min_vel = max(min(vleft_LS), min(vright_LS))\n",
    "max_vel = min(max(vleft_LS), max(vright_LS))\n",
    "print('Velocity range = [{:0.3f}, {:0.3f}]'.format(min_vel, max_vel))\n",
    "midpoint = (min_vel+max_vel)/2\n",
    "print('\\nOperating point:\\nfloat v_star = {:.3f};'.format(midpoint))\n",
    "\n",
    "u = u.reshape(-1)\n",
    "vleft_LS = theta_left*u-beta_left\n",
    "vright_LS = theta_right*u-beta_right\n",
    "plt.plot(u, vleft_LS, 'b-', u, vright_LS, 'y-')\n",
    "for i in (min_vel, max_vel):\n",
    "    plt.plot(u, 0*u + i, 'g-')\n",
    "plt.plot(u, vleft, 'bo',  u, vright, 'yo')\n",
    "plt.xlabel(\"u (input via PWM)\")\n",
    "plt.ylabel(\"Velocity of Wheels\")\n",
    "plt.legend((\"left\", \"right\", \"overlap\"), loc=0)"
   ]
  },
  {
   "cell_type": "markdown",
   "metadata": {},
   "source": [
    "## Questions\n",
    "\n",
    "<span style=\"color:#075a04\"> **9. What is the operating point of velocity you get from the procedure above? <span style=\"color:#ba190f\">Enter numerical value with two decimal points (e.g. 3.14).**\n",
    "    \n",
    "< YOU ANSWER ON GRADESCOPE >"
   ]
  },
  {
   "cell_type": "markdown",
   "metadata": {},
   "source": [
    "<img width='30px' align='left' src=\"http://inst.eecs.berkeley.edu/~ee16b/sp16/lab_pics/check.png\">\n",
    "<br/>\n",
    "\n",
    "## <span style=\"color:green\">CHECKOFF</span>\n",
    "\n",
    "- Complete the Project: Front End assignment on Gradescope.\n",
    "- Make sure your circuits are saved properly in Tinkercad."
   ]
  }
 ],
 "metadata": {
  "anaconda-cloud": {},
  "kernelspec": {
   "display_name": "Python 3",
   "language": "python",
   "name": "python3"
  },
  "language_info": {
   "codemirror_mode": {
    "name": "ipython",
    "version": 3
   },
   "file_extension": ".py",
   "mimetype": "text/x-python",
   "name": "python",
   "nbconvert_exporter": "python",
   "pygments_lexer": "ipython3",
   "version": "3.7.4"
  }
 },
 "nbformat": 4,
 "nbformat_minor": 1
}
