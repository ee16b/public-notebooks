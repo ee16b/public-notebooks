{
 "cells": [
  {
   "cell_type": "markdown",
   "metadata": {},
   "source": [
    "# SIXT33N Phase 2: Controls | Closed-Loop Control\n",
    "## EE16B: Designing Information Devices and Systems II, Spring 2021\n",
    "\n",
    "Hossein Najafi (2021)\n",
    "\n",
    "hossein_najafi@berkeley.edu"
   ]
  },
  {
   "cell_type": "markdown",
   "metadata": {},
   "source": [
    "## Table of Contents\n",
    "\n",
    "* [Introduction](#intro)\n",
    "* [Part 1: Open Loop Control](#part1)\n",
    "* [Part 2.1: Closed Loop Design](#part21)\n",
    "* [Part 2.2: Closed Loop Simulation and k-Value Selection](#part22)\n",
    "* [Part 2.3: Closed Loop Implementation](#part23)\n",
    "* [Part 2.4: k-Value Tuning](#part24)\n",
    "* [Part 2.5: Steady-State Error Correction](#part25)\n",
    "* [Part 3: Open Loop Comparison](#part3) \n"
   ]
  },
  {
   "cell_type": "markdown",
   "metadata": {},
   "source": [
    "<a id='part1'></a>\n",
    "# <span style=\"color:blue\">Part 1: Open Loop Control</span>"
   ]
  },
  {
   "cell_type": "markdown",
   "metadata": {},
   "source": [
    "## 1.0 Introduction\n",
    "\n",
    "\n",
    "### <a href=\"https://drive.google.com/file/d/1eJcav-nncRJO19HxB4HXCVb6RDUombo5/view\">Read the Introduction of the note to familiarize yourself with/remind yourself of the open-loop model.</a>\n",
    "Last time you modeled the open-loop system, collected data, and determined the unknown parameters of your car.\n",
    "\n",
    "This week, you'll implement the open-loop and closed-loop systems. By the end of the phase, you should be able to control the trajectory of the car. We will return to turning later in the project. \n",
    "\n",
    "The goals of this phase are as follows:\n",
    "- Controller design\n",
    "- Closed loop simulation\n",
    "- Move at constant speed + direction\n",
    "\n",
    "### <span style=\"color:red\">**Use the System ID TinkerCAD modules for this lab.**</span>\n",
    "\n",
    "### <span style=\"color:red\">**Fill in your model parameters and target velocity with values you calculated at the end of System ID lab.**</span>"
   ]
  },
  {
   "cell_type": "code",
   "execution_count": null,
   "metadata": {
    "collapsed": true
   },
   "outputs": [],
   "source": [
    "import numpy as np\n",
    "import matplotlib.pyplot as plt\n",
    "import utils\n",
    "%matplotlib inline"
   ]
  },
  {
   "cell_type": "code",
   "execution_count": null,
   "metadata": {
    "collapsed": true
   },
   "outputs": [],
   "source": [
    "# YOUR PARAMETERS HERE\n",
    "theta_left = ...;\n",
    "theta_right = ...;\n",
    "beta_left = ...;\n",
    "beta_right = ...;\n",
    "v_star = ...;\n",
    "\n",
    "\n",
    "\n",
    "simulator = utils.Simulator(theta_left, theta_right, beta_left, beta_right)"
   ]
  },
  {
   "cell_type": "code",
   "execution_count": null,
   "metadata": {
    "collapsed": true
   },
   "outputs": [],
   "source": [
    "params = np.array([(theta_left, theta_right),\n",
    "                   (beta_left, beta_right)])\n",
    "d0 = (0,  0)\n",
    "sim_length = 10 # sim length\n",
    "mismatch_error = 0.1 # 10% model mismatch"
   ]
  },
  {
   "cell_type": "markdown",
   "metadata": {},
   "source": [
    "**<span style=\"color:#075a04\">1. What is the value of theta_left?**\n",
    "< YOUR ANSWER ON GRADESCOPE >"
   ]
  },
  {
   "cell_type": "markdown",
   "metadata": {},
   "source": [
    "**<span style=\"color:#075a04\">2. What is the value of theta_right?**\n",
    "< YOUR ANSWER ON GRADESCOPE >"
   ]
  },
  {
   "cell_type": "markdown",
   "metadata": {},
   "source": [
    "**<span style=\"color:#075a04\">3. What is the value of beta_left?**\n",
    "< YOUR ANSWER ON GRADESCOPE >"
   ]
  },
  {
   "cell_type": "markdown",
   "metadata": {},
   "source": [
    "**<span style=\"color:#075a04\">4. What is the value of beta_right?**\n",
    "< YOUR ANSWER ON GRADESCOPE >"
   ]
  },
  {
   "cell_type": "markdown",
   "metadata": {},
   "source": [
    "**<span style=\"color:#075a04\">5. What is the value of v_star?**\n",
    "< YOUR ANSWER ON GRADESCOPE >"
   ]
  },
  {
   "cell_type": "markdown",
   "metadata": {},
   "source": [
    "<a id='part1.1'></a>\n",
    "## 1.1 Open Loop Controller Design\n",
    "\n",
    "### <a href=\"https://drive.google.com/file/d/1eJcav-nncRJO19HxB4HXCVb6RDUombo5/view?usp=sharing\">Read Part 1 of the note before you proceed.</a>\n",
    "\n",
    "Now design an open loop controller that uses the desired wheel velocity, `v_star`, to set the input `u` to an appropriate value for the pulse width modulation (PWM). To do this, solve your model from the previous part for the input $u[k]$ that makes the model velocity $d[k+1] - d[k]$ equal to the desired velocity $v^*$."
   ]
  },
  {
   "cell_type": "code",
   "execution_count": null,
   "metadata": {
    "collapsed": true
   },
   "outputs": [],
   "source": [
    "# DESIGN YOUR OPEN-LOOP CONTROL HERE\n",
    "def drive_straight_left_ol(v_star):\n",
    "    \"\"\"Returns the open loop input 'u' for the left wheel\"\"\"\n",
    "    # YOUR CODE HERE\n",
    "    return\n",
    "\n",
    "def drive_straight_right_ol(v_star):\n",
    "    \"\"\"Returns the open loop input 'u' for the right wheel\"\"\"\n",
    "    # YOUR CODE HERE\n",
    "    return"
   ]
  },
  {
   "cell_type": "markdown",
   "metadata": {},
   "source": [
    "<a id='part1.2'></a>\n",
    "## 1.2 Open Loop Simulation\n",
    "\n",
    "### <a href=\"https://drive.google.com/file/d/1eJcav-nncRJO19HxB4HXCVb6RDUombo5/view?usp=sharing\">If you haven't yet, read Part 2 of the note.</a>\n",
    "\n",
    "Now, let's do a quick simulation to check the behavior of the car based on our functions above. In these simulations, we apply maximum PWM for a short time as we do in the real car to \"jolt\" the motors from a stop.\n",
    "\n",
    "**Important:** As long as $\\delta$ is constant, even if $\\delta\\neq 0$, the car still travels straight! Traveling straight means the *velocities*, not the positions, of the wheels are the same. It may just travel straight in a different direction than the original heading. Lets call the steady state (final) value $\\delta_{ss}$.\n",
    "\n",
    "For the first 4 graphs, in the left two plots, we assume the physical system perfectly matches our model. On the right, we assume the physical system is 10% different from our model, meaning the input signals to the wheels have a 10% mismatch.\n",
    "\n",
    "The 5th plot titled \"Trajectory of the car\" shows how the car would travel depending on which model is used. The car should ideally be traveling straight (from x = 0 to x = $\\infty$), but mismatch may often introduce deviation from the ideal case."
   ]
  },
  {
   "cell_type": "code",
   "execution_count": null,
   "metadata": {
    "collapsed": true
   },
   "outputs": [],
   "source": [
    "titles = \"Open-loop control with model mismatch\"\n",
    "\n",
    "d_left, d_right = utils.two_sims(titles, simulator, v_star, drive_straight_left_ol, drive_straight_right_ol,sim_length=sim_length)\n",
    "utils.plot_car_traj(titles, simulator, v_star, drive_straight_left_ol, drive_straight_right_ol,mismatch_error=0.1,sim_length=sim_length)"
   ]
  },
  {
   "cell_type": "markdown",
   "metadata": {},
   "source": [
    "From the above plots, we can see that the open-loop car travels straight only with a perfect model."
   ]
  },
  {
   "cell_type": "markdown",
   "metadata": {},
   "source": [
    "**<span style=\"color:#075a04\">6. What is the $\\delta$ value in steady state for an ideal model? Only enter the numerical value in units shown on the plots. If the steady state $\\delta$ is unbounded, enter -1.</span>**\n",
    "\n",
    "< YOUR ANSWER ON GRADESCOPE >"
   ]
  },
  {
   "cell_type": "markdown",
   "metadata": {},
   "source": [
    "**<span style=\"color:#075a04\">7. What is the $\\delta$ value in steady state for a model with 10% mismatch? Only enter the numerical value in units shown on the plots. If the steady state $\\delta$ is unbounded, enter -1. </span>**\n",
    "\n",
    "< YOUR ANSWER ON GRADESCOPE >"
   ]
  },
  {
   "cell_type": "markdown",
   "metadata": {},
   "source": [
    "**<span style=\"color:#075a04\">8. Observe the trajectory of the car in the two cases. Does a 10% mismatch introduce any deviation in the car's path? If so, please select the option best describing what you see. </span>**\n",
    "\n",
    "< YOUR ANSWER ON GRADESCOPE >\n",
    "* The car zigzags around the line y = 0 while moving forward.\n",
    "* The car goes left and right along the x axis (horizontally).\n",
    "* The car goes up and down along the y axis (vertically).\n",
    "* The car moves in circles.\n",
    "* The car does not experience any deviation from the ideal path."
   ]
  },
  {
   "cell_type": "markdown",
   "metadata": {},
   "source": [
    "In the real world, there is also noise being introduced by various sources, further complicating the imperfections of the open loop control module. Noise sources that can have significant impact on the system could be electronical noise, mechanical noise, measurement noise and quantization noise. To better visualize the effect of noise in the control of the car, we will deliberately inject (add) noise into the data we measured to emulate real-life measurements. We have added a random gaussian noise to the inputs (u) of a magnitude equal to 5% of the total amplitude Feel free to experiment with other values and see what happens. To do so, change the value of the \"u_noise_factor\" variable in the noisy model instantiation. (a value of 0.05 means 5%, and so on)"
   ]
  },
  {
   "cell_type": "code",
   "execution_count": null,
   "metadata": {
    "collapsed": true,
    "scrolled": false
   },
   "outputs": [],
   "source": [
    "titles = [\"Open-loop control with model mismatch only\",\n",
    "          \"Open-loop control with model mismatch + noise\"]\n",
    "\n",
    "## Simulating noiseless model\n",
    "utils.plot_car_traj(titles[0], simulator, v_star, drive_straight_left_ol, drive_straight_right_ol,mismatch_error=0.1,sim_length=sim_length,u_noise_factor=0.0)\n",
    "\n",
    "\n",
    "## Simulating noisy model\n",
    "utils.plot_car_traj(titles[1], simulator, v_star, drive_straight_left_ol, drive_straight_right_ol,mismatch_error=0.1,sim_length=sim_length,u_noise_factor=0.05)\n",
    "\n"
   ]
  },
  {
   "cell_type": "markdown",
   "metadata": {},
   "source": [
    "**<span style=\"color:#075a04\">9. Observe the trajectory of the car in the two cases with mismatch in the model (with and without noise). Select the options that best describe what you see. </span>**\n",
    "< YOUR ANSWER ON GRADESCOPE >\n",
    "\n",
    "* The trajectory is no longer the same as the noiseless case.\n",
    "* The trajectory becomes closer to a circle as u_noise_factor increases.\n",
    "* The car trajectory is no longer deterministic and changes with every run.\n",
    "* The car fails to move when more than 25% noise is added.\n",
    "* The effects of noise on the system are very minimal and cannot be visualized."
   ]
  },
  {
   "cell_type": "markdown",
   "metadata": {},
   "source": [
    "<a id='part1.3'></a>\n",
    "## 1.3 Jolt Calculation\n",
    "\n",
    "### <a href=\"https://drive.google.com/file/d/1eJcav-nncRJO19HxB4HXCVb6RDUombo5/view?usp=sharing\">Before you proceed, read Part 3 of the note.</a>\n",
    "\n",
    "We find the jolts below by calculating the inputs that result in the minimum of the maximum velocities of both wheels. \n",
    "\n",
    "- **Make sure your `data.txt` file from System ID is in the same directory as the iPython notebook.**\n",
    "- Run the code below to find your initial jolt values.\n",
    "- Your initial jolt values are correct if they are the input values that correspond to the points where the blue and yellow lines intersect the green line respectively."
   ]
  },
  {
   "cell_type": "code",
   "execution_count": null,
   "metadata": {
    "collapsed": true
   },
   "outputs": [],
   "source": [
    "left_jolt, right_jolt = utils.find_jolt()\n",
    "print('int left_jolt = {};\\nint right_jolt = {};'.format(left_jolt, right_jolt))"
   ]
  },
  {
   "cell_type": "markdown",
   "metadata": {},
   "source": [
    "**<span style=\"color:#075a04\">10. What is the value for left_jolt? Enter the numerical value as displayed by the script. </span>** < YOUR ANSWER ON GRADESCOPE >"
   ]
  },
  {
   "cell_type": "markdown",
   "metadata": {},
   "source": [
    "**<span style=\"color:#075a04\">11. What is the value for right_jolt? Enter the numerical value as displayed by the script. </span>** < YOUR ANSWER ON GRADESCOPE >"
   ]
  },
  {
   "cell_type": "markdown",
   "metadata": {},
   "source": [
    "\n",
    "##  Now open your TinkerCAD module.\n",
    "\n",
    "\n",
    "-----"
   ]
  },
  {
   "cell_type": "markdown",
   "metadata": {},
   "source": [
    "<a id='part1.4'></a>\n",
    "## 1.4 Open Loop Implementation\n",
    "\n",
    "Now implement the controller on the Arduino. The sketch **`open_loop.ino`** contains some code that implements the open loop control.\n",
    "\n",
    "- Fill in these values in `CODE BLOCK CON1`:\n",
    "    - desired velocity: `v_star` \n",
    "    - estimated parameters: `theta_left`, `theta_right`, `beta_left`, `beta_right`\n",
    "    - initial jolt values: `left_jolt`, `right_jolt`\n",
    "    \n",
    "    \n",
    "- Additionally, we need to compute the PWM input to the motors in `CODE BLOCK CON2`:\n",
    "    - Complete `driveStraight_left()` and `driveStraight_right()` to compute `left_cur_pwm` and `right_cur_pwm` (the PWM inputs for each wheel required for a desired v_star)\n",
    "    \n",
    "    \n",
    "- Fill out `CODE BLOCK CON0` to calculate the control inputs using the functions from `CODE BLOCK CON2`.\n",
    "- Upload the sketch to your Arduino.\n",
    "\n",
    "This code will attempt at driving both wheels at the same speed so the car remains on a straight path for some period of time. Because of the asymmetry we have introduced using the different base resistances, the left and right motor signals will not be identical. \n",
    "- Observe these voltage by probing the voltage at the base of each transistor. Make sure you confirm that the two signals are not identical.\n",
    "\n",
    "-----"
   ]
  },
  {
   "cell_type": "markdown",
   "metadata": {},
   "source": [
    "**<span style=\"color:#075a04\">12. Using a third scope, probe the voltage differences between the two bases (connect each pin of the scope to one of the bases). Since the waveforms are not identical, this signal will not be a zero signal. The asymmetry in the design is being compensated by a longer PWM pulse on one motor compared to the other. Using the waveform on the third scope, measure  the duration difference of the  two PWM inputs. You will need to change the scope's timespan to 0.05ms/division in order to accurately measure the duration of the pulse on the third scope. Enter your answer in units of us, and only enter numerical values (no units). </span>** < YOUR ANSWER ON GRADESCOPE >"
   ]
  },
  {
   "cell_type": "markdown",
   "metadata": {},
   "source": [
    "<a id='part2.0'></a>\n",
    "# <span style=\"color:blue\">Part 2: Closed Loop Control</span>"
   ]
  },
  {
   "cell_type": "markdown",
   "metadata": {},
   "source": [
    "<a id='part21'></a>\n",
    "## Closed Loop Design\n",
    "\n",
    "Given the data you found in System ID, we know that the car does not match perfectly with our linear model *(think about why we know this)*. In order to correct for the imperfect model, we can build a closed loop controller that uses feedback to ensure that both wheels still drive at the same velocity. The controller has 2 inputs, namely the desired velocity and the difference between the wheel distances $\\delta[k] = d_L[k] - d_R[k]$.\n",
    "\n",
    "### 1. Please make sure you have read the [the note](https://drive.google.com/file/d/1eJcav-nncRJO19HxB4HXCVb6RDUombo5/view?usp=sharing) before you begin. You may also find it helpful to read [this PDF](https://inst.eecs.berkeley.edu/~ee16b/fa17/proj/controls-primer.pdf) for the derivation of the closed-loop system and its eigenvalue."
   ]
  },
  {
   "cell_type": "markdown",
   "metadata": {},
   "source": [
    "<span style='color:red'>**2. Using the information above, draw a block diagram of both wheels' controllers.**</span> Do not discard this diagram. Keep this somewhere, as you may use it later in your next labs, or report."
   ]
  },
  {
   "cell_type": "markdown",
   "metadata": {},
   "source": [
    "<span style='color:red'>**3. Now derive the closed loop update equation for the differences $\\delta[k]$ corresponding to your controller.**</span> Keep this somewhere, as you will use it in your report."
   ]
  },
  {
   "cell_type": "markdown",
   "metadata": {},
   "source": [
    "Now that we've derived the model, we can begin implementing it. Fill in the two functions below."
   ]
  },
  {
   "cell_type": "code",
   "execution_count": null,
   "metadata": {
    "collapsed": true
   },
   "outputs": [],
   "source": [
    "# YOUR PARAMETERS HERE\n",
    "# SAME AS FOR OPEN LOOP\n",
    "theta_left = ...;\n",
    "theta_right = ...;\n",
    "beta_left = ...;\n",
    "beta_right = ...;\n",
    "v_star = ...;\n",
    "\n",
    "simulator = utils.Simulator(theta_left, theta_right, beta_left, beta_right)"
   ]
  },
  {
   "cell_type": "code",
   "execution_count": null,
   "metadata": {
    "collapsed": true,
    "scrolled": false
   },
   "outputs": [],
   "source": [
    "# DESIGN YOUR CLOSED-LOOP CONTROL HERE USING k_left AND k_right AS YOUR FEEDBACK TERMS\n",
    "def drive_straight_left_cl(v_star, delta):\n",
    "    \"\"\"Returns the closed loop input 'u' for the left wheel\"\"\"\n",
    "    # YOUR CODE HERE\n",
    "    return  # u\n",
    "\n",
    "def drive_straight_right_cl(v_star, delta):\n",
    "    \"\"\"Returns the closed loop input 'u' for the right wheel\"\"\"\n",
    "    # YOUR CODE HERE\n",
    "    return  # u"
   ]
  },
  {
   "cell_type": "markdown",
   "metadata": {},
   "source": [
    "<a id='part22'></a>\n",
    "## Closed Loop Simulation and K-Value Selection\n",
    "\n",
    "Next we need to choose values for the control gains so that the $\\delta[k]$ update equation is stable. *Concept check: For what eigenvalues is a discrete system stable?* There should be a range of parameter values that make it stable, so we can tune the gains to get the desired performance.\n",
    "\n",
    "Take a look at each group of perfect/noiseless-mismatched-model/noisy-mismatched-model plots below for each k-value pair and relate how our choice in k-values affects the car's performance. For each pair of plots, ask yourself these questions:\n",
    "1. Does the car seem to drive straight in the perfectly matched model?\n",
    "2. Does the car seem to correct for any errors that arise from a mismatched model? Does it end up driving straight?\n",
    "3. How well does the car correct for errors?\n",
    "3. Why do the chosen k-values make our system exhibit such behaviors?\n",
    "\n",
    "<span style='color:red'>**Try the 5 different sets of gains below and see the effect of each.**</span>"
   ]
  },
  {
   "cell_type": "code",
   "execution_count": null,
   "metadata": {
    "collapsed": true,
    "scrolled": false
   },
   "outputs": [],
   "source": [
    "k_left, k_right = None, None\n",
    "steady_state_error = None\n",
    "\n",
    "# Maps description of k_values to (k_left, k_right)\n",
    "k_values = {\n",
    "    \"marginally stable\": (-0.3, 0.3),\n",
    "    \"stable, corrects error in one step\": (0.5, 0.5),\n",
    "    \"oscillatory, marginally stable\": (1, 1),\n",
    "    \"oscillatory, unstable\": (1.1, 1.1),\n",
    "    \"stable\": (0.2, 0.2)\n",
    "}\n",
    "\n",
    "for key in k_values:\n",
    "    k_left, k_right = k_values[key]\n",
    "\n",
    "    titles = [\"Closed-loop control with perfect model\",\n",
    "              \"Closed-loop control with model mismatch, kL={}, kR={}\".format(k_left, k_right),\n",
    "             \"Closed-loop control with model mismatch + noise, kL={}, kR={}\".format(k_left, k_right)]\n",
    "    _, delta = utils.two_sims(titles, simulator, v_star, drive_straight_left_cl, drive_straight_right_cl,sim_length=sim_length)\n",
    "    utils.plot_car_traj(titles[1], simulator, v_star, drive_straight_left_cl, drive_straight_right_cl,mismatch_error=0.1,sim_length=sim_length)\n",
    "    utils.plot_car_traj(titles[2], simulator, v_star, drive_straight_left_cl, drive_straight_right_cl,mismatch_error=0.1,sim_length=sim_length,u_noise_factor=0.05)\n",
    "\n",
    "    print(\"kL={}, kR={}\".format(k_left, k_right))\n",
    "    print(\"Eigenvalue of system: 1-kL-kR={:.2g}; {}\".format(1-k_left-k_right, key))\n",
    "    plt.show()\n",
    "    steady_state_error = delta[-1]"
   ]
  },
  {
   "cell_type": "markdown",
   "metadata": {},
   "source": [
    "**<span style=\"color:#075a04\">13. What is the steady-state error for the marginally stable case when there is no mismatch in the model? Enter the numerical value as displayed in the script. </span>** < YOUR ANSWER ON GRADESCOPE >"
   ]
  },
  {
   "cell_type": "markdown",
   "metadata": {},
   "source": [
    "**<span style=\"color:#075a04\">14. What is the steady-state error for the \"stable, corrects error in one step\" case when mismatch is included in the model? Enter the numerical value as displayed in the script. </span>** < YOUR ANSWER ON GRADESCOPE >"
   ]
  },
  {
   "cell_type": "markdown",
   "metadata": {},
   "source": [
    "**<span style=\"color:#075a04\">15. What is the steady-state error for the \"stable\" case when mismatch is included in the model? Enter the numerical value as displayed in the script. </span>** < YOUR ANSWER ON GRADESCOPE >"
   ]
  },
  {
   "cell_type": "markdown",
   "metadata": {
    "collapsed": true
   },
   "source": [
    "<a id='part23'></a>\n",
    "## Closed Loop Implementation\n",
    "\n",
    "Now implement the controller on the Arduino. The sketch **`closed_loop.ino`** contains some code that implements the closed loop control. \n",
    "\n",
    "- Fill out `CODE BLOCK CON1` with the control gains **`k_left`** and **`k_right`** for the \"stable\" case as well as your theta, beta, and v_star values from System ID.\n",
    "- Fill out `CODE BLOCK CON2` with your closed-loop control scheme.\n",
    "- Fill out `CODE BLOCK CON0` in the body of the loop function to calculate the control inputs. Inspect this code to see how the control system is implemented. For now, ignore the term `delta_ss`, as it's currently set to 0.\n",
    "- Upload the sketch to your Arduino.\n"
   ]
  },
  {
   "cell_type": "markdown",
   "metadata": {},
   "source": [
    "**<span style=\"color:#075a04\">16. Run the code in TinkerCAD and observe the output in the serial monitor. How many steps does it take for the control system to correct the initial mismatch in positions? Enter the number of steps where you see a non-zero value for delta ($\\delta$) at the beginning. This simulation could take 10-15 seconds, so be patient. If simulation runs very slowly, consider disconnecting the oscilloscopes and running it without them connected.</span>** < YOUR ANSWER ON GRADESCOPE >"
   ]
  },
  {
   "cell_type": "markdown",
   "metadata": {},
   "source": [
    "<a id='part24'></a>\n",
    "## K-Value Tuning\n",
    "\n",
    "In order to find the \"right\" k values, we will need to analyze the behavior of our car. Recall in lecture that we learned about how the control values will affect the convergence of a system.\n",
    "\n",
    "\n",
    "![](https://upload.wikimedia.org/wikipedia/commons/c/c0/Change_with_Ki.png)\n",
    "\n",
    "The above plot can be summarized as:\n",
    "- if k is too small, it takes a long time to converge to our desired solution\n",
    "- if k is too big, oscillations happen\n",
    "\n",
    "We can use this information to help guide us to k values that get our car going straight. Check out [this youtube playlist](https://www.youtube.com/playlist?list=PLQ1OVCqw6RUPgCmv8H6y9qbcMBT8lotDt) if you need some examples of what each case could look like.\n",
    "\n",
    "Use the script below to answer the following 2 questions.\n"
   ]
  },
  {
   "cell_type": "code",
   "execution_count": null,
   "metadata": {
    "collapsed": true,
    "scrolled": false
   },
   "outputs": [],
   "source": [
    "k_left, k_right = None, None\n",
    "steady_state_error = None\n",
    "\n",
    "# Maps description of k_values to (k_left, k_right)\n",
    "k_values = {\n",
    "    \"chosen k values\": (0.5, 0.5)  # TODO: record your chosen k-values here\n",
    "}\n",
    "\n",
    "for key in k_values:\n",
    "    k_left, k_right = k_values[key]\n",
    "\n",
    "    titles = [\"Closed-loop control with perfect model\",\n",
    "              \"Closed-loop control with model mismatch, kL={}, kR={}\".format(k_left, k_right),\n",
    "             \"Closed-loop control with model mismatch + noise, kL={}, kR={}\".format(k_left, k_right)]\n",
    "    _, delta = utils.two_sims(titles, simulator, v_star, drive_straight_left_cl, drive_straight_right_cl,sim_length=sim_length)\n",
    "    utils.plot_car_traj(titles[1], simulator, v_star, drive_straight_left_cl, drive_straight_right_cl,mismatch_error=0.1,sim_length=sim_length)\n",
    "    utils.plot_car_traj(titles[2], simulator, v_star, drive_straight_left_cl, drive_straight_right_cl,mismatch_error=0.1,sim_length=sim_length,u_noise_factor=0.05)\n",
    "\n",
    "    print(\"kL={}, kR={}\".format(k_left, k_right))\n",
    "    print(\"Eigenvalue of system: 1-kL-kR={:.2g}; {}\".format(1-k_left-k_right, key))\n",
    "    plt.show()\n",
    "    steady_state_error = delta[-1]"
   ]
  },
  {
   "cell_type": "markdown",
   "metadata": {},
   "source": [
    "**<span style=\"color:#075a04\">17. Set both k values to 0.5 and observe the car's behavior and it's wheel distances ($\\delta$). At which step number does $\\delta$ stabilize? Only enter the numerical value. </span>** < YOUR ANSWER ON GRADESCOPE >"
   ]
  },
  {
   "cell_type": "markdown",
   "metadata": {},
   "source": [
    "**<span style=\"color:#075a04\">18. In the python code space provided above, set both k values to 0.7 and observe the car's behavior and it's wheel distances ($\\delta$). What is the steady state error in this case for a model that only includes mismatch? Only enter the numerical value as displayed by the script. </span>** < YOUR ANSWER ON GRADESCOPE >"
   ]
  },
  {
   "cell_type": "markdown",
   "metadata": {},
   "source": [
    "<a id='part25'></a>\n",
    "\n",
    "## Steady State Error Correction\n",
    "\n",
    "Set both k values to 0.5 again.\n",
    "\n",
    "Lastly, what if we want the car to travel in (approximately) the same direction as when it starts moving? We can manually add the known steady state error $\\delta_{ss}$ to each calculation of the error $\\delta$. Accounting for the known $\\delta_{ss}$ helps the model better respond to unexpected pertubations affecting $\\delta$ which increases the model's control strength.\n",
    "\n",
    "We now calculate $\\delta[k]=d_L - d_R + \\delta_{ss}$.\n"
   ]
  },
  {
   "cell_type": "code",
   "execution_count": null,
   "metadata": {
    "collapsed": true,
    "scrolled": false
   },
   "outputs": [],
   "source": [
    "k_left, k_right = [0.5, 0.5]\n",
    "plt.figure(figsize=(5, 7))\n",
    "plt.subplot(211)\n",
    "title = [(\"Closed loop control with model mismatch and\\nsteady state error correction, kL={}, kR={}\").format(k_left, k_right),\n",
    "         (\"Closed loop control with model mismatch+noise and\\nsteady state error correction, kL={}, kR={}\").format(k_left, k_right)]\n",
    "# Simulate using steady_state_error\n",
    "d = simulator.simulate(\n",
    "    v_star, drive_straight_left_cl, drive_straight_right_cl, mismatch_error=0.1, offset=steady_state_error)\n",
    "delta = simulator.plot(d)\n",
    "\n",
    "plt.title(title[0])\n",
    "plt.subplot(212)\n",
    "plt.plot(delta, 'r')\n",
    "plt.ylabel('delta')\n",
    "utils.plot_car_traj(title[0], simulator, v_star, drive_straight_left_cl, drive_straight_right_cl, offset=-steady_state_error, mismatch_error=0.1,sim_length=sim_length)\n",
    "utils.plot_car_traj(title[1], simulator, v_star, drive_straight_left_cl, drive_straight_right_cl, offset=-steady_state_error, mismatch_error=0.1,sim_length=sim_length,u_noise_factor=0.05)\n",
    "\n"
   ]
  },
  {
   "cell_type": "markdown",
   "metadata": {},
   "source": [
    "**<span style=\"color:#075a04\">19. (Set both k values to 0.5!) After the correction, what is the final steady-state error for a noiseless system with 10% mismatch? Only enter the numerical value as displayed by the script. </span>** < YOUR ANSWER ON GRADESCOPE >"
   ]
  },
  {
   "cell_type": "markdown",
   "metadata": {},
   "source": [
    "<img width='30px' align='left' src=\"http://inst.eecs.berkeley.edu/~ee16b/sp16/lab_pics/check.png\">\n",
    "\n",
    "## <span style=\"color:green\">CHECKOFF</span>\n",
    " <span style=\"color:green\">** Save this Jupyter notebook and complete the assignment on Gradescope.</span>"
   ]
  }
 ],
 "metadata": {
  "anaconda-cloud": {},
  "kernelspec": {
   "display_name": "Python 3",
   "language": "python",
   "name": "python3"
  },
  "language_info": {
   "codemirror_mode": {
    "name": "ipython",
    "version": 3
   },
   "file_extension": ".py",
   "mimetype": "text/x-python",
   "name": "python",
   "nbconvert_exporter": "python",
   "pygments_lexer": "ipython3",
   "version": "3.6.1"
  }
 },
 "nbformat": 4,
 "nbformat_minor": 1
}
