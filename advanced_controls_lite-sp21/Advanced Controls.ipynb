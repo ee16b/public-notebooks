{
 "cells": [
  {
   "cell_type": "markdown",
   "metadata": {},
   "source": [
    "# SIXT33N Project\n",
    "## Phase 6: Advanced Controls (and more!)\n",
    "\n",
    "### EE16B: Designing Information Devices and Systems II, Spring 2021\n",
    "\n",
    "Written by Vivek Athalye and Andrew Blatner (2017). Revised by Peter Schafhalter (2019). Revised by Hossein Najafi (2021)."
   ]
  },
  {
   "cell_type": "markdown",
   "metadata": {},
   "source": [
    "## Table of Contents\n",
    "\n",
    "* [Introduction](#intro)\n",
    "* [Part 1: Analyzing a Turn](#part1)\n",
    "* [Part 2: Implementing Turns](#part2)\n",
    "* [Part 3: Correcting Mechanical Errors](#part3)\n",
    "* [Part 4: Arduino Implementation of PCA Classify](#part4)"
   ]
  },
  {
   "cell_type": "markdown",
   "metadata": {},
   "source": [
    "<a id='intro'></a>\n",
    "## Introduction\n",
    "\n",
    "This week, we will first implement port our PCA classifier from the iPython notebook to a file that can be run on the Arduino. This will allow us to integrate PCA with the rest of the project.\n",
    "\n",
    "Then, we will revisit controls. Recall that our control scheme for SIXT33N modeled each wheel in the following way:\n",
    "\n",
    "$$d_R[n+1] = d_R[n] + \\theta_R u_R[n] - \\beta_R$$\n",
    "\n",
    "The open loop model has an input $u[n]$, corresponding to the PWM level, and outputs the distance for that wheel. We implemented a closed-loop controller by using the desired velocity and the difference between the wheel distances, $$\\delta[n] = d_L[n] - d_R[n]$$\n",
    "\n",
    "In this phase, we will implement turns by modifying the closed loop control scheme we developed to make SIXT33N move straight."
   ]
  },
  {
   "cell_type": "markdown",
   "metadata": {},
   "source": [
    "<a id='part1'></a>\n",
    "## <span style=\"color:navy\">Part 1: Analyzing a Turn</span>\n",
    "\n",
    "### Materials\n",
    "- SIXT33N Module in TinkerCAD\n",
    "Model Link to be used in ths entire lab: [TinkerCAD Model](https://www.tinkercad.com/things/41tMTPoH7w7) \n",
    "- Closed-loop control scheme"
   ]
  },
  {
   "cell_type": "markdown",
   "metadata": {},
   "source": [
    "### We want to turn with a specific radius.  What open-loop control input would lead to turning?  \n",
    "During open-loop control, we sought to drive the car straight at our desired velocity $v^*$.  \n",
    "\n",
    "We used our model of the car ($\\theta$, $\\beta$) to calculate the open-loop control input which drives the car straight in the absence of perturbations:  \n",
    "\n",
    "$$u^{OL}_L = \\frac{v^*+\\beta_L}{\\theta_L} $$\n",
    "$$u^{OL}_R = \\frac{v^*+\\beta_R}{\\theta_R} $$\n",
    "\n",
    "Is it possible to calculate an open-loop control input which would result in turning with a desired radius?\n"
   ]
  },
  {
   "cell_type": "markdown",
   "metadata": {},
   "source": [
    "### We have been turning during Closed-loop Control\n",
    "We can get a clue about turning by considering how we did closed-loop control. We perform feedback control of SIXT33N in order to minimize the difference between the two wheels ($\\delta[n] = d_L[n] - d_R[n]$). When perturbations cause one wheel to get ahead of the other resulting in non-zero $\\delta$, feedback control turns the car to correct the error.  \n",
    "\n",
    "Let's walk through this.  \n",
    "\n",
    "Our feedback control policy is: \n",
    "$$u_L[n] = u_L^{OL} + \\frac{k_L}{\\theta_L}\\delta[n]$$\n",
    "\n",
    "$$u_R[n] = u_R^{OL} + \\frac{k_R}{\\theta_R}\\delta[n]$$\n",
    "\n",
    "\n",
    "Let's say the right wheel has moved further than the left ($d_R[n] > d_L[n]$), resulting in a negative $\\delta[n]$. A negative $\\delta[n]$ results in a reduction of $u_R[n]$, and an increase of $u_L[n]$. But what does this mean physically?\n",
    "\n",
    "If the right wheel is getting ahead of the left one, the left wheel will need to move a little faster and the right wheel a little slower for the wheels to even back out. Thus, feedback control corrects errors by turning to compensate for them.  \n",
    "\n",
    "So $\\delta \\ne 0$ can be used to turn the car. Let's get more precise.  \n"
   ]
  },
  {
   "cell_type": "markdown",
   "metadata": {},
   "source": [
    "### Turning via reference tracking\n",
    "\n",
    "We would like the car to turn with a specified radius $r$ and speed $v^*$. The controller's unit for distance is encoder ticks, but each tick is approximately 1 cm of wheel circumference.\n",
    "\n",
    "To turn, we want $\\delta$ to change at a particular rate. Without loss of generality, we'll analyze a right turn, corresponding to increasing $\\delta$. For a left turn, we simply negate $\\delta$. Our goal is to generate a reference from the desired $r$ and $v^*$ for the controller to follow. This reference will be a function of the controller's time-step.\n",
    "\n",
    "Use the following variables:\n",
    "- $n$ - time-step\n",
    "- $r$ [cm] - turn radius of the center of the car; 1 cm ~ 1 encoder tick\n",
    "- $d$ [ticks] - distance traveled by the center of the car\n",
    "- $l$ [cm] - distance between the centers of the wheels; 1 cm ~ 1 encoder tick\n",
    "- $\\omega$ [rad/tick] - angular velocity\n",
    "- $\\theta$ [rad] - angle traveled\n",
    "\n",
    "Inspect the following diagram:\n",
    "\n",
    "<center>\n",
    "<img width=\"400px\" src=\"images/turning_figure.png\">\n",
    "</center>\n",
    "\n",
    "\n",
    "\n",
    "From this geometry, can you write $\\delta[n]$ in the following form?\n",
    "$$\\delta[n] = f(r,v^*,l,n)$$\n"
   ]
  },
  {
   "cell_type": "markdown",
   "metadata": {},
   "source": [
    "Derive your answer here:\n"
   ]
  },
  {
   "cell_type": "markdown",
   "metadata": {},
   "source": [
    "<span style=\"color:#075a04\"> **1. What is the relationship between $\\delta[n]$ and $v^*$ if $l$ and the turning radius $r$ are constant? <span style=\"color:#ba190f\">**\n",
    "\n",
    "< YOUR ANSWER ON GRADESCOPE >    "
   ]
  },
  {
   "cell_type": "markdown",
   "metadata": {},
   "source": [
    "<span style=\"color:#075a04\"> **2. How does $\\delta[n]$ changes as a function of the number of time-steps ($n$) if the car is driving at a constant $v^*$ if $l$ and the turning radius $r$ are kept constant? <span style=\"color:#ba190f\">**\n",
    "\n",
    "< YOUR ANSWER ON GRADESCOPE >    "
   ]
  },
  {
   "cell_type": "markdown",
   "metadata": {},
   "source": [
    "<span style=\"color:#075a04\"> **3. If the car's speed doubles and its turning radius is also increased by 50%, how does the rate of $\\delta[n]$ compare to before? Find the ratio of $\\LARGE \\frac{\\delta_{new   }[n]}{\\delta_{old   }[n]}$.<span style=\"color:#ba190f\">**\n",
    "\n",
    "< YOUR ANSWER ON GRADESCOPE >    "
   ]
  },
  {
   "cell_type": "markdown",
   "metadata": {},
   "source": [
    "<a id='part2'></a>\n",
    "## <span style=\"color:navy\">Part 2: Implementing Turns</span>\n",
    "\n",
    "### Materials\n",
    "- TinkerCAD Module\n",
    "- Closed-loop control scheme\n",
    "- Plan from Task 1"
   ]
  },
  {
   "cell_type": "markdown",
   "metadata": {},
   "source": [
    "### Sampling periods \n",
    " \n",
    "In our implementation, the control loop and the data collection have different periods, $T_c$ and $T_d$ respectively.  $T_d$ is an integer multiple of $T_c$: $m=\\frac{T_d}{T_c} \\in \\mathbb{Z}^{+}$\n",
    " \n",
    "The units of $v^*$ are [ticks/$T_d$] and the units of $n$ are [seconds/$T_c$]\n",
    " \n",
    "We use $T_c=100$ms, $T_d=500ms$, so $m=5$.\n",
    "\n",
    "**<span style='color:red'> Replace $v^*$ with $\\frac{v^*}{m}$ [ticks/$T_c$]</span>**"
   ]
  },
  {
   "cell_type": "markdown",
   "metadata": {},
   "source": [
    "### Implementation\n",
    "- Open `turning.ino`.\n",
    "- Copy the required code from `closed_loop.ino` into **`CODE BLOCK CON1/2/3`**\n",
    "    - Copy the beta/theta values as well as the left and right jolt values.\n",
    "    - you don't need to copy the k values and v_star as they will be specified explicitly in the checkoff questions.\n",
    "    - Make sure to update pin numbers if you've made changes.\n",
    "    - Setting `delta_ss` helps your car's driving converge to straight sooner!\n",
    "- **Complete the function `delta_reference` in `CODE BLOCK CON4`, under `PREPROGRAMMED PATH`**.\n",
    "    - Look at `CODE BLOCK CON0` to see how this is used!\n",
    "    - Use the variables `TURN_RADIUS`, `v_star`, `CAR WIDTH`, and `n`.\n",
    "    - `delta_ss` is used in `CODE BLOCK CON0`, so don't include it here.\n",
    "\n",
    "When you're done, try it out! SIXT33N should go straight, turn left, go straight, and turn right. To show how the car moves in TinkerCAD, observe the two waveforms being plotted in the serial plotter. The blue curve corresponds to the x-position of the car, and the orange line corresponds to the y-position of the car. The trajectory being represented is the shape below. The x and y positions of this trajectory are also shown over time. You should observe a similar trajectory in the serial plotter in TinkerCAD.\n",
    "\n",
    "In the Serial plotter, the BLUE line corresponds to the X position of the car and the yellow line to the Y position of the car.\n",
    "\n",
    "<img width=700px src=\"images/car.png\">\n",
    "<img width=700px src=\"images/car2.png\">"
   ]
  },
  {
   "cell_type": "markdown",
   "metadata": {},
   "source": [
    "<span style=\"color:#075a04\"> **4. If the car's speed $v^*$ is set to be $201.759$, and both $k_{left}$ and $k_{right}$ are set to 0.2, what is the final value of X position of the car? The coordinates being printed in the serial plotter are formatted as (X position, Y position).<span style=\"color:#ba190f\">**\n",
    "\n",
    "< YOUR ANSWER ON GRADESCOPE >    "
   ]
  },
  {
   "cell_type": "markdown",
   "metadata": {},
   "source": [
    "<span style=\"color:#075a04\"> **5. In the same case for Q4, what is the final value of Y position of the car.<span style=\"color:#ba190f\">**\n",
    "\n",
    "< YOUR ANSWER ON GRADESCOPE >    "
   ]
  },
  {
   "cell_type": "markdown",
   "metadata": {},
   "source": [
    "<span style=\"color:#075a04\"> **6. Change the length of the 3rd command from 8000 to 4000. You can do so by changing the line `int run_times[NUM_COMMANDS] = {8000, 12600, 8000, 12600};` to `int run_times[NUM_COMMANDS] = {8000, 12600, 4000, 12600};`. If the car's speed $v^*$ is set to be $201.759$, and both $k_{left}$ and $k_{right}$ are set to 0.2, what is the final value of the X position of the car.<span style=\"color:#ba190f\">**\n",
    "\n",
    "< YOUR ANSWER ON GRADESCOPE >    "
   ]
  },
  {
   "cell_type": "markdown",
   "metadata": {},
   "source": [
    "<span style=\"color:#075a04\"> **7. In the same case as Q6, what is the final value of the Y position of the car? <span style=\"color:#ba190f\">**\n",
    "\n",
    "< YOUR ANSWER ON GRADESCOPE >    "
   ]
  },
  {
   "cell_type": "markdown",
   "metadata": {},
   "source": [
    "<span style=\"color:#075a04\"> **8. Change the length of the 2nd and 4th command from 12600 to 25200. You can do so by changing the line `int run_times[NUM_COMMANDS] = {8000, 12600, 8000, 12600};` to `int run_times[NUM_COMMANDS] = {8000, 25200, 8000, 25200};`. If the car's speed $v^*$ is set to be $201.759$, and both $k_{left}$ and $k_{right}$ are set to 0.2, what do you observe in the trajectory of the car? Which of the following applies to the trajectory the car is taking?<span style=\"color:#ba190f\">**\n",
    "\n",
    "< YOUR ANSWER ON GRADESCOPE >    "
   ]
  },
  {
   "cell_type": "markdown",
   "metadata": {},
   "source": [
    "<span style=\"color:#075a04\"> **9. In Q8, what is the final value of the X position of the car?<span style=\"color:#ba190f\">**\n",
    "\n",
    "< YOUR ANSWER ON GRADESCOPE >    "
   ]
  },
  {
   "cell_type": "markdown",
   "metadata": {},
   "source": [
    "<span style=\"color:#075a04\"> **10. In Q8, what is the final value of the Y position of the car?<span style=\"color:#ba190f\">**\n",
    "\n",
    "< YOUR ANSWER ON GRADESCOPE >    "
   ]
  },
  {
   "cell_type": "markdown",
   "metadata": {},
   "source": [
    "<a id='part4'></a>\n",
    "## <span style=\"color:navy\">Part 3: Recording Your Test Word</span>\n",
    "\n",
    "\n",
    "### Materials\n",
    "- Microphone\n"
   ]
  },
  {
   "cell_type": "markdown",
   "metadata": {},
   "source": [
    "This section will walk you through implementing your classification algorithm on the Arduino. In addition, you will need to transfer the PCA vectors and mean to the microcontroller. Re-visit your PCA lab Jupyter notebook and use the next few lines to print and format your PCA vectors to have them ready to be copied into the TinkerCAD environment and initialize the PCA vector variables on the microcontroller. You should copy and paste the following lines in the appropriate place in your PCA Jupyter notebook (right after you did SVD) and initialize the variable `pca_num` properly to print the first and then the second PCA vector. The following code for instance prints the first PCA vector, assuming `Vt` is  the `Vt` of the SVD decomposition during PCA:"
   ]
  },
  {
   "cell_type": "code",
   "execution_count": null,
   "metadata": {
    "collapsed": true,
    "scrolled": true
   },
   "outputs": [],
   "source": [
    "a = '={'\n",
    "v = Vt\n",
    "pca_num = 0\n",
    "\n",
    "for i in v[pca_num,:].T:    # change pca_num to print the corresponding vector\n",
    "    a += str(float(int(i*10000))/10000) + ', '\n",
    "a = a[:-2]+\"};\"\n",
    "print(\"PCA vector\")\n",
    "print(a)"
   ]
  },
  {
   "cell_type": "markdown",
   "metadata": {},
   "source": [
    "<a id='part2'></a>\n",
    "**Use the next section to record your own test word (only one word, not 30 words like before!) and process it using the following code. The last part of the code formats the audio vector ready to be copied and pasted in TinkerCAD to initialize the relevant variable (`result`). You will need it for Part 5.**\n",
    "\n",
    "\n",
    "you are going to **record your own `wav` files with one of the four words you chose in PCA\".** \n",
    "\n",
    "\"Good\" Audio data has a high signal to noise ratio. Recording words while far away from the microphone may cause your intended word to blend in with background noise. However \"oversaturation\" of the audio signal (speaking too loudly and/or too closely into the mic) will distort the signal. \n",
    "\n",
    "To record your own `wav` files, we suggest you use the [online recorder](https://online-voice-recorder.com). \n",
    "\n",
    "**For each chosen word, do the following:**\n",
    "1. Click on record button on the webpage, and come back to this page. \n",
    "2. **Run the following script, when you see the numbers 1 appear, say the word you want to record.**\n",
    "    - The recording window is 2 second. You want to finish the word in this period.\n",
    "    - **Pronounce the word as you did in the PCA lab.** This will result in better classification.\n",
    "    \n",
    "    \n",
    "3. Once you've recorded the word, the script will stop automatically. **Then go back the  webpage and stop the recording.** Your window should appear like the following:\n",
    "\n",
    "<center>\n",
    "<img width=\"800px\" src=\"images/recording.png\">\n",
    "</center>\n",
    "\n",
    "4. Change the start time to be near your sample and near the end time. **You want to remove the noise singnals before and after the sample.** The total recording time should be around 2 seconds.\n",
    "\n",
    "5. When you save the file, it is the `mp3` type. Use the [audio converter](https://online-audio-converter.com) to convert it to `wav` file with the options shown as below.\n",
    "\n",
    "<center>\n",
    "<img width=\"600px\" src=\"images/convert_to_wav.png\">\n",
    "</center>\n",
    "\n",
    "6. Change the file path in section 1.1 of the `read_wav` function and re-run the whole procedure again. Tweak `length`, `pre_length` and `threshold` to make sure they are aligned and distinguishable in time waveforms.\n",
    "\n",
    "If you cannot get access to the website, you can record with your phone. However, you'll need to convert your recording to a `wav` file. You also need to clip it to remove the noise signals before the first sample and after the last sample. Another website to convert the audio files are [Audio Converter](https://www.freeconvert.com/audio-converter) and a website to trim the `wav` file is [mp3cutter](https://www.mp3cutter.com). You may also find other useful websites to do this.\n",
    "\n",
    "The following code will allow you to time two seconds to record your word:\n"
   ]
  },
  {
   "cell_type": "code",
   "execution_count": 1,
   "metadata": {},
   "outputs": [
    {
     "name": "stdout",
     "output_type": "stream",
     "text": [
      "Start recording ...\n",
      "1\n",
      "Recording is done.\n"
     ]
    }
   ],
   "source": [
    "import utils\n",
    "counts = 1 # number of words to record\n",
    "record_time = 2   # record time for each sample of the word\n",
    "\n",
    "utils.recording_timer(counts, record_time)"
   ]
  },
  {
   "cell_type": "markdown",
   "metadata": {},
   "source": [
    "Make sure to replace `word_raw_test` with your own word below."
   ]
  },
  {
   "cell_type": "code",
   "execution_count": 29,
   "metadata": {
    "scrolled": true
   },
   "outputs": [
    {
     "data": {
      "image/png": "[encoded data removed]",
      "text/plain": [
       "<Figure size 432x288 with 1 Axes>"
      ]
     },
     "metadata": {
      "needs_background": "light"
     },
     "output_type": "display_data"
    },
    {
     "name": "stdout",
     "output_type": "stream",
     "text": [
      "={0.0005, 0.0004, 0.0006, 0.0013, 0.0139, 0.0489, 0.0513, 0.0867, 0.0684, 0.0925, 0.0687, 0.0739, 0.05, 0.0513, 0.0459, 0.0417, 0.0474, 0.0447, 0.0454, 0.0366, 0.0227, 0.0066, 0.0034, 0.0049, 0.0068, 0.0113, 0.0237, 0.0108, 0.0056, 0.0047, 0.0047, 0.0042, 0.0049, 0.0053, 0.0055, 0.0021, 0.0001, 0.0001, 0.0001, 0.0001};\n"
     ]
    },
    {
     "data": {
      "text/plain": [
       "<Figure size 432x288 with 0 Axes>"
      ]
     },
     "metadata": {},
     "output_type": "display_data"
    }
   ],
   "source": [
    "import numpy as np\n",
    "import matplotlib.pyplot as plt\n",
    "import scipy.io\n",
    "import csv\n",
    "from mpl_toolkits.mplot3d import Axes3D\n",
    "%matplotlib inline\n",
    "\n",
    "def get_snippets(data, length, pre_length, threshold):\n",
    "    \"\"\"Attempts to align audio samples in data.\n",
    "    \n",
    "    Args:\n",
    "        data (np.ndarray): Matrix where each row corresponds to a recording's audio samples.\n",
    "        length (int): The length of each aligned audio snippet.\n",
    "        pre_length (int): The number of samples to include before the threshold is first crossed.\n",
    "        threshold (float): Used to find the start of the speech command. The speech command begins where the\n",
    "            magnitude of the audio sample is greater than (threshold * max(samples)).\n",
    "    \n",
    "    Returns:\n",
    "        Matrix of aligned recordings.\n",
    "    \"\"\"\n",
    "    assert isinstance(data, np.ndarray) and len(data.shape) == 2, \"'data' must be a 2D matrix\"\n",
    "    assert isinstance(length, int) and length > 0, \"'length' of snippet must be an integer greater than 0\"\n",
    "    assert 0 <= threshold <= 1, \"'threshold' must be between 0 and 1\"\n",
    "    snippets = []\n",
    "\n",
    "    # Iterate over the rows in data\n",
    "    for recording in data:\n",
    "        # Find the threshold\n",
    "        recording_threshold = threshold * np.max(recording)\n",
    "\n",
    "        # Figure out when interesting snippet starts\n",
    "        i = pre_length\n",
    "        while recording[i] < recording_threshold:\n",
    "            i += 1\n",
    "            \n",
    "        snippet_start = min(i - pre_length, len(recording) - length)\n",
    "        snippet = recording[snippet_start:snippet_start + length]\n",
    "\n",
    "        # Normalization\n",
    "        snippet = snippet / np.sum(snippet)\n",
    "        \n",
    "        snippets.append(snippet)\n",
    "\n",
    "    return np.vstack(snippets)\n",
    "\n",
    "\n",
    "# Load data from wav\n",
    "word_raw_test = utils.read_wav(\"test_word/test_word.wav\", counts)\n",
    "\n",
    "\n",
    "# Get snippets\n",
    "length = 40      # Default: 40     # Keep for example wav files, adjust this with your recordings\n",
    "pre_length = 5   # Default: 5      # Keep for example wav files, adjust this with your recordings\n",
    "threshold = 0.5  # Default:  0.5   # Keep for example wav files, adjust this with your recordings\n",
    "\n",
    "word_processed_test = get_snippets(word_raw_test, length, pre_length, threshold)\n",
    "plt.plot(word_processed_test.T)\n",
    "plt.show()\n",
    "plt.figure()\n",
    "\n",
    "a = '={'\n",
    "v = word_processed_test[0,:]\n",
    "\n",
    "\n",
    "for i in v.T:\n",
    "    a += str(float(int(i*10000))/10000) + ', '\n",
    "a = a[:-2]+\"};\"\n",
    "print(a)"
   ]
  },
  {
   "cell_type": "markdown",
   "metadata": {},
   "source": [
    "##### <a id='part4'></a>\n",
    "## <span style=\"color:navy\">Part 4: Arduino Implementation of PCA Classifier</span>\n",
    "\n",
    "\n",
    "### Materials\n",
    "- Recorded word\n",
    "- TinkerCAD Model\n"
   ]
  },
  {
   "cell_type": "markdown",
   "metadata": {},
   "source": [
    "Your last step will be to implement your <b>data processing</b> and <b>classification</b> (just the projection, not the PCA) in the Arduino sketch <b>`classify.ino`</b>. Since the Arduino environment does not have as many in-built functions as Python, you might have to write out the functions yourself. For example, a dot product should be written as:\n",
    "\n",
    "`float result = 0;`<br/>\n",
    "`for (i=0; i<LENGTH; i++){`<br/>\n",
    "&emsp; `result += vector1[i]*vector2[i];`<br/>\n",
    "`}`\n",
    "\n",
    "For debugging purposes, printing to the serial plotter looks like the line below.\n",
    "\n",
    "<code>Serial.println(\"I'm being printed!\");</code>\n",
    "\n",
    "There are 3 code blocks (`PCA1/2/3`) that you need to modify. <b>You should not have to change anything else outside these marked code blocks.</b> \n",
    "\n",
    "**`CODE BLOCK PCA1`**\n",
    "- Copy `SNIPPET_SIZE`, `PRELENGTH` and `THRESHOLD` from the PCA/SVD Ipython notebook.\n",
    "- Read the following to set `KMEANS_THRESHOLD` and `LOUDNESS_THRESHOLD`.\n",
    "\n",
    "**`KMEANS_THRESHOLD` filters the classification depending on a sample's distance from the closest centroid.** If the L2 norm (distance) is larger than the threshold, your classification algorithm should simply ignore it and wait for the next sample. Look at the plot of sample data and the centroids from the PCA Notebook and approximate a radius around the centroids that capture most of the data. **Try to be conservative - it's better to not classify than to misclassify.**\n",
    "\n",
    "**`LOUDNESS_THRESHOLD` filters the classification depending on the amplitude of the recorded data.** If the recorded data is too soft, we do not want to classify it as it is probably noise. Since the loudness unit is arbitrary, start by using `700`. Later, if the Arduino classifies noise, increase this constant. If it misses a lot of speech (i.e. thinks your word is noise), decrease this constant. This variable is used internally in the enveloping function.\n",
    "\n",
    "**`CODE BLOCK PCA2`**\n",
    "- Copy the PCA vectors, mean, and centroids from the PCA/SVD Ipython Notebook.\n",
    "- If you need more than 2 principal components, add a new `pca_vec3` array. \n",
    "- Using more principal components increases the dimensionality of the centroids and projections.\n",
    "\n",
    "**`CODE BLOCK PCA3`**\n",
    "- This is the actual classification algorithm.\n",
    "- Initialize the variable `result` with the processed audio of your word of choice, or use one of the samples already included in the code.\n",
    "- Project this data onto your new PCA basis.\n",
    "    - Remember to subtract the mean vector, before doing a dot product for each basis.\n",
    "    - Use the variables `proj1` and `proj2` to store the projection results.\n",
    "- Classify the projections using the centroids.\n",
    "    - Find the distance between the projected data point and each centroid using the function `l2_norm` (for 2 principal components) or `l2_norm3` (for 3 principal components). Look up the function definition in the sketch.\n",
    "    - Out of the 4 centroids, find the one with the smallest L2 norm.\n",
    "    - Verify this distance is less than `KMEANS_THRESHOLD`.\n",
    "- Print the classification to the serial monitor.\n",
    "\n",
    "Now upload the sketch, open the serial monitor, and run. And observe how the Arduino classifies your word.\n",
    "\n",
    "**<span style=\"color:red\">If the Arduino does not classify as well as you think it should, remember to play with the `KMEANS_THRESHOLD` and `LOUDNESS_THRESHOLD` variables.</span>** To debug the sketch, you can also print out any of the variables you have used. \n",
    "\n",
    "Voila! Your SIXT33N can recognize your words!"
   ]
  },
  {
   "cell_type": "markdown",
   "metadata": {},
   "source": [
    "**<span style=\"color:red\">Summary TO DO</span>** \n",
    "- **<span style=\"color:red\">Fill in `CODE BLOCK PCA1`: Fill out `SNIPPET_SIZE`, `PRELENGTH`, `THRESHOLD`, `KMEANS_THRESHOLD` and `LOUDNESS_THRESHOLD`</span>** \n",
    "- **<span style=\"color:red\">Fill in `CODE BLOCK PCA2`: Copy the principal components, mean vector and centroids from the IPython notebook</span>**\n",
    "- **<span style=\"color:red\">Fill in `CODE BLOCK PCA3`: Do the actual classification.</span>**"
   ]
  },
  {
   "cell_type": "markdown",
   "metadata": {},
   "source": [
    "**Try all 4 words as your test word and make sure you are able to get enough accuracy on the Arduino when classifying those words.**"
   ]
  }
 ],
 "metadata": {
  "anaconda-cloud": {},
  "kernelspec": {
   "display_name": "Python 3",
   "language": "python",
   "name": "python3"
  },
  "language_info": {
   "codemirror_mode": {
    "name": "ipython",
    "version": 3
   },
   "file_extension": ".py",
   "mimetype": "text/x-python",
   "name": "python",
   "nbconvert_exporter": "python",
   "pygments_lexer": "ipython3",
   "version": "3.6.1"
  }
 },
 "nbformat": 4,
 "nbformat_minor": 1
}
