{
 "cells": [
  {
   "cell_type": "markdown",
   "metadata": {},
   "source": [
    "# Analog-Digital Circuit Interfaces\n",
    "\n",
    "### EECS 16B: Designing Information Devices and Systems II, Spring 2021\n",
    "\n",
    "Updated by Mia Mirkovic (2020)\n",
    "\n",
    "miamirkovic@berkeley.edu\n",
    "\n",
    "Updated by Rafael Calleja, Steven Lu (2021)\n",
    "\n",
    "-----"
   ]
  },
  {
   "cell_type": "markdown",
   "metadata": {},
   "source": [
    "## Table of Contents\n",
    "\n",
    "* [Part 0: Lab Note](#part0)\n",
    "* [Part 1: Digital to Analog Converters (DACs)](#part1)\n",
    "* [Part 2: Analog to Digital Converters (ADCs)](#part2)"
   ]
  },
  {
   "cell_type": "markdown",
   "metadata": {},
   "source": [
    "<a id='part0'></a>\n",
    "# <span style=\"color:navy\">Part 0: Lab Note</span>\n",
    "-----"
   ]
  },
  {
   "cell_type": "markdown",
   "metadata": {},
   "source": [
    "## Please read the [lab note](https://drive.google.com/file/d/1Kz6PAfEFrrnzeAcLuIdTGXDHwylpswip/view?usp=sharing) which covers:\n",
    "1. Digital-to-Analog Converters (DACs)\n",
    "    - Thevenin's Theorem\n",
    "- Analog-to-Digital Converters (ADC)\n",
    "    - The SAR ADC Algorithm\n",
    "- Potentiometers\n",
    "- Op-Amp Configuration: Comparators\n",
    "\n",
    "## This [additional note](https://drive.google.com/file/d/1ZlxYV12VeXjoTXarGHIv6gVpHGtjktZx/view?usp=sharing) contains:\n",
    "1. A very descriptive derivation of the R-2R Ladder used in the DAC\n",
    "- An intuitive description of how the SAR ADC algorithm works"
   ]
  },
  {
   "cell_type": "markdown",
   "metadata": {},
   "source": [
    "<a id='part1'></a>\n",
    "# <span style=\"color:navy\">Part 1: Digital to Analog Converters (DACs)</span>\n",
    "-----"
   ]
  },
  {
   "cell_type": "markdown",
   "metadata": {},
   "source": [
    "### 1.0. Please read Part 1 of the [lab note](https://drive.google.com/file/d/1Kz6PAfEFrrnzeAcLuIdTGXDHwylpswip/view?usp=sharing)."
   ]
  },
  {
   "cell_type": "markdown",
   "metadata": {},
   "source": [
    "<img style=\"width: 400px\" src=\"imgs/lab2_r_2r.png\">"
   ]
  },
  {
   "cell_type": "markdown",
   "metadata": {},
   "source": [
    "## Questions\n",
    "\n",
    "For the questions below, we assume we have an $n = 3$ bit DAC. Don't forget to show your GSI your work! (Hint: Superposition)\n",
    "\n",
    "**<span style=\"color:#ba190f\">Please do not spend too long on these questions. If you get stuck, ask for help.</span>**"
   ]
  },
  {
   "cell_type": "markdown",
   "metadata": {},
   "source": [
    "**<span style=\"color:#075a04\">1. Assuming [$V_0, V_1, V_2$] = [0,1,0], what is $V_{out}$?</span>**"
   ]
  },
  {
   "cell_type": "markdown",
   "metadata": {},
   "source": [
    "< YOUR ANSWER HERE >"
   ]
  },
  {
   "cell_type": "markdown",
   "metadata": {},
   "source": [
    "**<span style=\"color:#075a04\">2. Assuming [$V_0, V_1, V_2$] = [1,1,1], what is $V_{out}$?</span>**\n"
   ]
  },
  {
   "cell_type": "markdown",
   "metadata": {},
   "source": [
    "< YOUR ANSWER HERE >"
   ]
  },
  {
   "cell_type": "markdown",
   "metadata": {},
   "source": [
    "## TinkerCad\n",
    "---"
   ]
  },
  {
   "cell_type": "markdown",
   "metadata": {},
   "source": [
    "Now that we have an idea of what the outputs of an **R-2R Ladder** are, we will now build it in TinkerCad!\n",
    "\n",
    "Open the starter circuit, which can be found at: [Lab 3: DAC/ADC Starter Circuit](https://www.tinkercad.com/things/hqHT3eGKhTq).\n",
    "\n",
    "### (Virtual) Materials\n",
    "\n",
    "- Breadboard\n",
    "- 9V Battery\n",
    "- 1 $k\\Omega$ Resistors\n",
    "- 2 $k\\Omega$ Resistors\n",
    "- Arduino (similar to your MSP430 Launchpad)\n",
    "- Multimeter"
   ]
  },
  {
   "cell_type": "markdown",
   "metadata": {},
   "source": [
    "### 1.1. Review the 3-bit DAC\n",
    "\n",
    "Compare the diagram below with the skeleton for the 3-bit DAC in the Starter Circuit which uses the $1K\\Omega$ and $2 K\\Omega$ resistors. Note the jumper wires connecting the Arduino to the circuit. For example `8` below tells you that node on the breadboard is connected to pin `8` on the Arduino. In this circuit, the Arduino will act as a signal generator.\n",
    "\n",
    "<img style=\"width: 400px\" src=\"imgs/lab2_r_2r_pins_tinkercad.png\">"
   ]
  },
  {
   "cell_type": "markdown",
   "metadata": {},
   "source": [
    "### 1.2. Running the 3-bit DAC\n",
    "\n",
    "#### Tasks\n",
    "\n",
    "##### 1.2.1 \n",
    "- Open the file `dac_input_tinkercad.ino` in any text editor and skim the code.\n",
    "    - This program allows you to directly load a bit value onto the inputs of your DAC\n",
    "- Copy everything from `dac_input_tinkercad.ino` to the `Code` section in TinkerCad.\n",
    "    - Make sure to change the `Code` type from `Block` to `Text`.\n",
    "- Connect pin `A0` to $V_{OUT}$.\n",
    "- Open the serial monitor by clicking on `Code > Serial Monitor`.\n",
    "    - Input some bit string.\n",
    "- **Hit `Start Simulation`.**\n",
    "\n",
    "1. Does the value you see at the output of the DAC match your calculated values from Part 1.0? If not, why might there be a discrepancy?\n",
    "\n",
    "##### 1.2.2\n",
    "- Open the file `dac_data_tinkercad.ino` in any text editor and skim the code.\n",
    "    - **What do you expect the output of the DAC to be?** This understanding is **vital** to the debugging process. _If you don't know what you're looking for, how can you know if your result is correct or not?_\n",
    "- Copy everything from `dac_data_tinkercad.ino` to the `Code` section in TinkerCad. \n",
    "    - Make sure to change the `Code` type from `Block` to `Text`.\n",
    "    - The code outputs an increasing and decreasing binary number in pins `8`, `12`, `13`, where pin `13` is the least significant bit (LSB).\n",
    "- Connect pin `A0` to $V_{OUT}$.\n",
    "- **Hit `Start Simulation`.**\n",
    "- Open the serial plotter by clicking on `Code > Serial Monitor > Graph`\n",
    "    - Does the output look like what you expect (it should look like a quantized triangle wave)?\n",
    "- Take a screenshot of your serial monitor once it has stopped updating. **Be ready to show and explain these results to lab staff during checkoff!**\n"
   ]
  },
  {
   "cell_type": "markdown",
   "metadata": {},
   "source": [
    "### 1.3. Build the 4-bit DAC\n",
    "- **Modify both your circuit and the Arduino code** to extend the 3-bit DAC to 4 bits.\n",
    "    - **You should use pin `7` for the new most significant bit (MSB). Keep using pin A0 for the output of the DAC**.\n",
    "    - All you have to do to the code is change `BITS` to 4.\n",
    "- Repeat the steps in 1.2 for the 4-bit DAC."
   ]
  },
  {
   "cell_type": "markdown",
   "metadata": {},
   "source": [
    "## Physical Circuit\n",
    "---"
   ]
  },
  {
   "cell_type": "markdown",
   "metadata": {},
   "source": [
    "### Materials\n",
    "- MSP430 Launchpad + USB cable\n",
    "- Jumper wires\n",
    "- 1 k$\\Omega$ Resistors\n",
    "- 2 k$\\Omega$ Resistors\n",
    "- Breadboard\n",
    "- Multimeter"
   ]
  },
  {
   "cell_type": "markdown",
   "metadata": {},
   "source": [
    "### 1.4. Build the physical 3-bit DAC \n",
    "\n",
    "Use the diagram below to build the 3-bit DAC using the $1K\\Omega$ and $2 K\\Omega$ resistors. Use the jumper wires to connect the Launchpad to the circuit. For example `P4.1` below tells you to connect that node on the breadboard to pin `4.1` on the Launchpad. In this circuit, the Launchpad will act as a signal generator.\n",
    "\n",
    "**Make sure to connect the ground of your Launchpad with the ground of your circuit!**\n",
    "\n",
    "<img style=\"width: 400px\" src=\"imgs/lab2_r_2r_pins_noled.png\">"
   ]
  },
  {
   "cell_type": "markdown",
   "metadata": {},
   "source": [
    "**[Here is a helpful link to the Piazza Energia master thread (@323)](https://piazza.com/class/kj9duntmc4w7ib?cid=323).  Please look through this thread for help with debugging Energia issues**"
   ]
  },
  {
   "cell_type": "markdown",
   "metadata": {},
   "source": [
    "### 1.5. Running the physical 3-bit DAC\n",
    "\n",
    "**Make sure to connect the ground of your Launchpad with the ground of your circuit!**\n",
    "\n",
    "- Open the files `dac_data.ino` and `dac_input.ino` in Energia and skim the code.\n",
    "- Connect pin `6.0` to $V_{OUT}$.\n",
    "- dac_input.ino lets you load bit values onto your DAC. Feel free to upload this and input various bitstrings to test different DAC outputs.\n",
    "- Upload the dac_data.ino to your Launchpad.\n",
    "- **Press the `RST` button on your Launchpad.**\n",
    "- Open the serial plotter/monitor and **set the Baud to 9600**. Does the output look like what you expect?\n"
   ]
  },
  {
   "cell_type": "markdown",
   "metadata": {},
   "source": [
    "### 1.6. Build the 4-bit DAC\n",
    "- **Modify both your circuit and the Launchpad code** to extend the 3-bit DAC to 4 bits.\n",
    "    - **You should use pin `3.2` for the new most significant bit (MSB)**.\n",
    "    - All you have to do to the code is change `BITS` to 4.\n",
    "- Repeat the steps in 1.5 for the 4-bit DAC."
   ]
  },
  {
   "cell_type": "markdown",
   "metadata": {},
   "source": [
    "<a id='part2'></a>\n",
    "# <span style=\"color:navy\">Part 2: Analog to Digital Converters (ADCs)</span>\n",
    "-----"
   ]
  },
  {
   "cell_type": "markdown",
   "metadata": {},
   "source": [
    "### 2.0. Please read Part 2 of the [lab note](https://drive.google.com/file/d/1Kz6PAfEFrrnzeAcLuIdTGXDHwylpswip/view?usp=sharing) to learn about:\n",
    "    - SAR ADC Algorithm\n",
    "    - Potentiometers\n",
    "    - Comparators"
   ]
  },
  {
   "cell_type": "markdown",
   "metadata": {},
   "source": [
    "## Physical Circuit\n",
    "---"
   ]
  },
  {
   "cell_type": "markdown",
   "metadata": {},
   "source": [
    "\n",
    "\n",
    "### Materials\n",
    "- MSP430 Launchpad + USB cable\n",
    "- 1 k$\\Omega$ resistors\n",
    "- 2 k$\\Omega$ resistors\n",
    "- LMC6482 Op-amp\n",
    "- Potentiometer\n",
    "- Breadboard\n",
    "- Multimeter\n"
   ]
  },
  {
   "cell_type": "markdown",
   "metadata": {},
   "source": [
    "### 2.1. Build the ADC\n",
    "\n",
    "1. You should be using your voltage regulators (powered by your wall adapter) from lab 2 for all voltage sources (i.e. $V_{DD}$ and $V_{SS}$)!\n",
    "\n",
    "2. Build the analog input circuit using the potentiometer (pinout found below). \n",
    "    - The MSP430 Launchpad uses 3.3V pin logic (HIGH: 3.3V, Low: GND), and can only handle voltages between 0 and 3.3V. _What should $V_{DD}$ be for the potentiometer?_\n",
    "    \n",
    "3. Use the diagram shown below to turn your 4-bit DAC into a 4-bit ADC using the op-amp.\n",
    "    - The pinout of the LMC6482 or TLC277 op-amp in your lab kit is given as reference. _What should $V_{DD}$ and $V_{SS}$ be for this op-amp?_\n",
    "\n",
    "|Potentiometer:|Op-Amp:|\n",
    "|:-----:|:---------------:|\n",
    "|<img width=\"200px\" src=\"imgs/pot_kit_pinout.jpg\"><img width=\"200px\" src=\"imgs/pot_pinout1.jpg\">|<img width=\"400px\" src=\"imgs/op_amp_pinout.png\">| \n",
    "\n",
    "<center>\n",
    "    <img style=\"width: 475px\" src=\"imgs/lab2_adc.png\">\n",
    "</center>"
   ]
  },
  {
   "cell_type": "markdown",
   "metadata": {},
   "source": [
    "### 2.2. Run the ADC\n",
    "\n",
    "- Open the file `sar_adc_plot.ino` and skim the code. It reads the output of the comparator from pin `6.5` and outputs the approximated digital result in pins `3.2`, `2.7`, `4.2`, `4.1` with pin `4.1` as the LSB.\n",
    "- **Connect the DAC output to pin `6.0` on the Launchpad.**\n",
    "- Use the potentiometer to control the analog input voltage (which ranges from 0V to 3.3V).\n",
    "- Probe the analog input voltage with the multimeter and record it below.\n",
    "- Let's plot what's happening as we step through the SAR algorithm. Upload the file to your Launchpad.\n",
    "\n",
    "#### Tasks\n",
    "1. Hit the `RST` button and open the serial plotter. \n",
    "    - What do you see? \n",
    "- Try turning the potentiometer to change the analog input voltage. \n",
    "    - What happens?\n",
    "    - Why does the `DAC` plot change in the way that it does?\n",
    "    - What is the `Comparator` plot showing?\n",
    "    - Why does it converge to some specific value at the end of a period?\n",
    "- For an analog input voltage of $1.4V$, the graph should show an output similar to the image below. Think about what your output should look like for other input voltages.\n",
    "\n",
    "<center>\n",
    "<img style=\"width:600px\" src=\"imgs/sar_adc_1_4V.png\"/>\n",
    "</center>"
   ]
  },
  {
   "cell_type": "markdown",
   "metadata": {},
   "source": [
    "## Questions"
   ]
  },
  {
   "cell_type": "markdown",
   "metadata": {},
   "source": [
    "**<span style=\"color:#075a04\">1. For some digital HIGH voltage, $V_{HIGH}$, what is the maximum voltage an n-bit DAC can output? Give your answer in terms of $V_{HIGH}$ and $n$.</span>**"
   ]
  },
  {
   "cell_type": "markdown",
   "metadata": {},
   "source": [
    "< YOUR ANSWER HERE >"
   ]
  },
  {
   "cell_type": "markdown",
   "metadata": {},
   "source": [
    "**<span style=\"color:#075a04\">2. If we want to build a 4-bit ADC with a sampling frequency of 1kHz (read the input voltage 1000 times per second), what is the minimum clock frequency the ADC has to run at assuming it takes one clock cycle to set each bit in the ADC's register?</span>**"
   ]
  },
  {
   "cell_type": "markdown",
   "metadata": {},
   "source": [
    "< YOUR ANSWER HERE >"
   ]
  },
  {
   "cell_type": "markdown",
   "metadata": {},
   "source": [
    "**<span style=\"color:#075a04\">3. What does the \"SAR\" in SAR ADC stand for? How does this relate to how the SAR ADC algorithm work? Explain in 4 sentences or less.</span>**"
   ]
  },
  {
   "cell_type": "markdown",
   "metadata": {},
   "source": [
    "< YOUR ANSWER HERE >"
   ]
  },
  {
   "cell_type": "markdown",
   "metadata": {},
   "source": [
    "**<span style=\"color:#075a04\">4. What would happen if we gave an SAR ADC an input analog voltage greater than the voltage you gave in Q1?</span>**"
   ]
  },
  {
   "cell_type": "markdown",
   "metadata": {},
   "source": [
    "< YOUR ANSWER HERE >"
   ]
  },
  {
   "cell_type": "markdown",
   "metadata": {},
   "source": [
    "**Take a look at the <a href=\"https://www.ti.com/lit/ds/symlink/tlc7524.pdf?HQS=TI-null-null-mousermode-df-pf-null-wwe&ts=1592345736692&ref_url=https%253A%252F%252Fwww.mouser.com%252F\">datasheet</a> for the TLC7524 8-bit DAC.** (This datasheet only pertains to Q5&6)."
   ]
  },
  {
   "cell_type": "markdown",
   "metadata": {},
   "source": [
    "**<span style=\"color:#075a04\">5. Look at the table of recommended operating conditions. Could we use this DAC with the Launchpad pins as the inputs? Why or why not? _Hint: what is the minimum voltage for a logical high on this DAC?_ </span>**"
   ]
  },
  {
   "cell_type": "markdown",
   "metadata": {},
   "source": [
    "< YOUR ANSWER HERE >"
   ]
  },
  {
   "cell_type": "markdown",
   "metadata": {},
   "source": [
    "**<span style=\"color:#075a04\">6. With this 8 bit DAC we can make a more precise ADC than the 4 bit ADC we made in this lab. By adding more bits we can represent the input voltage more accurately, increasing our precision by a factor of 2 for every bit we add. If this is the case, should we just keep adding bits into our DAC and ADC to get finer and finer precision? Why or why not? </span>**"
   ]
  },
  {
   "cell_type": "markdown",
   "metadata": {},
   "source": [
    "< YOUR ANSWER HERE >"
   ]
  },
  {
   "cell_type": "markdown",
   "metadata": {},
   "source": [
    "# <span style=\"color:#ba190f\">CHECKOFF</span>\n",
    "-----\n",
    "- Have your ADC running and be ready to explain how it works.\n",
    "- Have all of the plots and <span style=\"color:#075a04\"> green questions in the notebook completed</span>.\n",
    "\n",
    "Don't forget to save this notebook somewhere all your group members can access it!"
   ]
  },
  {
   "cell_type": "code",
   "execution_count": null,
   "metadata": {
    "collapsed": true
   },
   "outputs": [],
   "source": []
  }
 ],
 "metadata": {
  "anaconda-cloud": {},
  "kernelspec": {
   "display_name": "Python 3",
   "language": "python",
   "name": "python3"
  },
  "language_info": {
   "codemirror_mode": {
    "name": "ipython",
    "version": 3
   },
   "file_extension": ".py",
   "mimetype": "text/x-python",
   "name": "python",
   "nbconvert_exporter": "python",
   "pygments_lexer": "ipython3",
   "version": "3.7.4"
  }
 },
 "nbformat": 4,
 "nbformat_minor": 1
}
