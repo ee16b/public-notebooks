{
 "cells": [
  {
   "cell_type": "markdown",
   "metadata": {},
   "source": [
    "# SIXT33N&#8482; Project Part 1: Front End Circuits\n",
    "\n",
    "### EECS 16B: Designing Information Devices and Systems II, Fall 2021\n",
    "\n",
    "Written by Nathaniel Mailoa and Emily Naviasky (2016).\n",
    "\n",
    "Updated by Peter Schafhalter and Zain Zaidi (2019), Mia Mirkovic (2020), Rafael Calleja (2020), Steven Lu and Kaityln Chan (2021)\n",
    "\n",
    "----"
   ]
  },
  {
   "cell_type": "markdown",
   "metadata": {},
   "source": [
    "\n",
    "# Table of Contents\n",
    "\n",
    "* [Part 0: Lab Note](https://drive.google.com/file/d/1jAmXOQvoshxf0X4_fsG-Uo43tbj622z0/view?usp=sharing)\n",
    "* [Part 1: Circuit Layout and Power](#part1)\n",
    "* [Part 2: Audio Front End Circuitry](#part2)\n",
    "* [Part 3: Motor Controller Circuits](#part3)\n",
    "* [Part 4: SIXT33N&#8482; Car Assembly Instructions](#part4)\n"
   ]
  },
  {
   "cell_type": "markdown",
   "metadata": {},
   "source": [
    "\n",
    "\n",
    "<a id='part0'></a>\n",
    "# <span style=\"color:navy\">Part 0: Lab Note</span>\n",
    "-----\n",
    "\n",
    "## Please read the [lab note](https://drive.google.com/file/d/1jAmXOQvoshxf0X4_fsG-Uo43tbj622z0/view?usp=sharing).\n",
    "\n",
    "Optional: Here is some [extra lab note reading](https://drive.google.com/file/d/1PLNtq-vZDeBLlC7X-7aVkHSRFKZKpz1q/view?usp=sharing) for after you've completed the lab if you are interested in learning more about BJTs and diodes.\n"
   ]
  },
  {
   "cell_type": "markdown",
   "metadata": {},
   "source": [
    "<a id='part1'></a>\n",
    "# <span style=\"color:navy\">Part 1: Circuit Layout and Power</span>\n",
    "\n",
    "Since our 16B car can't drive very far if tethered to the normal lab power supply, we will be using voltage regulators to supply 3.3V and 5V to different circuits throughout the course of the SIXT33N&#8482; project. These voltage regulators will be supplied with 9V from first the lab power supply, and then eventually 9V batteries.\n",
    "\n",
    "The voltage regulators we will be using are the [LM317KCT](https://www.digikey.com/product-detail/en/texas-instruments/LM317KCT/296-35739-5-ND/3929530) and the [LM340T5](https://www.ti.com/product/LM340?qgpn=lm340). Please take a look at the links as well as their datasheets ([LM317's datasheet](https://www.ti.com/lit/ds/symlink/lm317.pdf?HQS=TI-null-null-digikeymode-df-pf-null-wwe&ts=1592346480922), [LM340T5's datasheet](https://www.ti.com/lit/ds/symlink/lm340.pdf)) to get familiarized with some of their limits (i.e. $V_{\\text{out}}$ and $V_{\\text{in}}$ range, current limits) and capabilities. The datasheets also come with some very helpful example circuits, along with their expected outputs, which we will be making now!\n",
    "\n",
    "## Materials:\n",
    "- Breadboard\n",
    "- Power supply cables, oscilloscope cables\n",
    "- 1x LM317KCT (9V-to-3.3V) voltage regulator\n",
    "- 1x LM340T5 (9V-to-5V) voltage regulator\n",
    "- 2x 1 k$\\Omega$ Resistor (brown, black, red, gold)\n",
    "- 1x 1.5 k$\\Omega$ Resistor (brown, green, red, gold)\n",
    "- 1x 2 k$\\Omega$ Resistor (red, black, red, gold)\n",
    "- 2x 100 nF Capacitor <span style=\"color:red\"> (Code: 104) </span>"
   ]
  },
  {
   "cell_type": "markdown",
   "metadata": {},
   "source": [
    "## Tasks\n",
    "\n",
    "### Read <a href=\"https://drive.google.com/file/d/1jAmXOQvoshxf0X4_fsG-Uo43tbj622z0/view?usp=sharing\">Part 1</a> of the lab note before you begin this part!\n",
    "\n",
    "### 1.0 Breadboard Layout\n",
    "- Plan ahead how you will build each circuit to minimize space usage on your breadboard. \n",
    "    - The layout below is a **strong** suggestion of where each circuit should be placed and how much space they should be taking up.\n",
    "    - <span style=\"color: red\"> **Do NOT plug in the 9V supply into the positive rails!!!** </span> It should ONLY ever be connected to the 9V rails reserved on your breadboard.\n",
    "    - All circuits from here on out will be used for the duration of the lab course. **Do not dismantle anything!**\n",
    "    \n",
    "<img style=\"width:700px\" src=\"images/suggested_layout.jpg\">\n",
    "\n",
    "- <span style=\"color:blue\"> **Unit Test! Unit Test! Unit Test!** </span> Many of your circuit elements (like your op-amps and regulators) are not very expendable so unit tests can be invaluable.\n",
    "- **Before** connecting any of your circuits to power, always:\n",
    "    1. Double check that your circuit was built correctly \n",
    "    2. Check that all the relevant nodes are connected properly\n",
    "    3. Check that none of your circuit elements are shorted (i.e. are connected in some way they shouldn't be)\n",
    "    4. Check that everything that should be grounded _is connected to the negative rail (-) of your breadboard_ (i.e. Launchpad, lab equipment, voltage regulators, op-amps)!\n",
    "    5. <span style=\"color:red\">**Make sure the 3V3 pin and the 5V pin on the Launchpad are NOT connected to anything**\n",
    "- After connecting any of your circuits to power always:\n",
    "    1. Check that the output is in a range that you expect\n",
    "    2. **Check that none of your circuit elements (i.e. voltage regulators, Launchpad, op-amps) are getting hot, which is a clear sign of a short**"
   ]
  },
  {
   "cell_type": "markdown",
   "metadata": {},
   "source": [
    "### 1.1 Build your voltage regulators.\n",
    "\n",
    "Your **SIXT33N&trade;** car will run on a 9V battery when it is driving around. For this lab, use the DC power supply generate the 9V that you will connect to the Regulator 9V Rail instead. \n",
    "- A voltage regulator regulates this 9V down to 5V\n",
    "- The Launchpad will eventually take 5V from the voltage regulator in future labs. **<span style=\"color:red\">DO NOT PLUG IN THE 5V TO YOUR LAUNCHPAD FOR THIS LAB.</span>**\n",
    "\n",
    "\n",
    "#### Tasks:\n",
    "0. <span style=\"color:red; font-weight:bold\"> IMPORTANT INSTRUCTIONS!</span> \n",
    " - **Make sure you leave space in between your 3.3V and 5V regulators as the metal tabs on the top of the regulator chips are conductive. If these two metal tabs touch, it will cause a short circuit**\n",
    " - **Use the +25V channel on the power supply to supply 9V. Do NOT use your batteries as you have only a finite amount of charge on them.**\n",
    " - As a helpful tip throughout your labs: **KEEP YOUR CIRCUIT NEAT!** This means you should be reasonably minimizing the space that wires and other electrical components take up on your breadboard!\n",
    "\n",
    "1. **Layout the following circuit using the LM317KCT (3.3V) regulator.** Top view means that the regulator lays flat on your hand with the metal tab touching your palm. **Note that the metal tab on the 3.3V regulator has notches.**\n",
    "\n",
    "\n",
    "|Pinout:|Circuit:|\n",
    "|:-----:|:---------------:|\n",
    "|<img width=\"400px\" src=\"images/LM317_po.png\">|<img width=\"500px\" src=\"images/LM317KCT_circuit_diagram_1.png\">|\n",
    "\n",
    "\n",
    "2. **Build the following circuit with the LM340T5 (5V) regulator. Note that the metal tab on the 5V regulator does not have notches.**\n",
    "\n",
    "\n",
    "|Pinout:|Circuit:|\n",
    "|:-----:|:---------------:|\n",
    "|<img width=\"400px\" src=\"images/LM340T5_po.png\">|<img width=\"500px\" src=\"images/LM340T5_circuit_diagram.png\">| \n",
    "    \n",
    "3. Check that the outputs of your 3.3V and 5V regulator are what you expect them to be.\n",
    "\n",
    "4. **<span style=\"color:red\">Connect the output of your 3.3V regulator to your breadboard positive rail.</span>**\n",
    "\n",
    "5. Connect the negative and positive rails on both sides of your breadboard such that:\n",
    "    - Both positive rails carry 3.3V\n",
    "    - Both negative rails are GND\n",
    "\n",
    "6. Create another 9V rail (which we will call `Motor 9V Rail`) centrally located on your breadboard.\n",
    "- Using the oscilloscope, verify:\n",
    "    - output of your 5V regulator is 5V\n",
    "    - output of the 3.3V regulator is about 3.3V\n",
    "    - both your `Regulator 9V Rail` and `Motor 9V Rail` both measure 9V (as they should be connected to the power supply). \n",
    "\n",
    "#### Notes/Tips:\n",
    "- We are differentiating between `Regulator 9V Rail` and `Motor 9V Rail` in order to transition from using our 9V power supply to two separate 9V batteries in the future.\n",
    "- We will NOT be using the 9V batteries until the next lab!"
   ]
  },
  {
   "cell_type": "markdown",
   "metadata": {},
   "source": [
    "<a id='part2'></a>\n",
    "# <span style=\"color:navy\">Part 2: Audio Front End Circuitry</span>\n",
    "----"
   ]
  },
  {
   "cell_type": "markdown",
   "metadata": {},
   "source": [
    "Recall from the color organ labs that the frequency range for the human voice is about 180-20000Hz (female voice: 300 Hz-17kHz; male voice: 150Hz-8kHz), but most speech falls between **250Hz** and **2500Hz**. In order to minimize noise, we want to only collect data inside this frequency range. Additionally, the mic board has a bandpass transfer function, as you've seen in the previous lab. However, the lowpass cutoff frequency in that bandpass filter is a bit too high for our liking, so we'll modify your lowpass filter from last lab to bring the cutoff frequency down to about 2.5 kHz (+- 500 Hz).\n",
    "\n",
    "Hint: You can combine your resistors in parallel/series to get more values."
   ]
  },
  {
   "cell_type": "markdown",
   "metadata": {},
   "source": [
    "<a id='tuning'></a>\n",
    "### 2.0.  Read <a href=\"https://drive.google.com/file/d/1jAmXOQvoshxf0X4_fsG-Uo43tbj622z0/view?usp=sharing\">Part 2</a> of the note before you begin this part!\n",
    "\n",
    "### 2.1. Tune Your Mic Board \\[Review\\]\n",
    "\n",
    "#### Materials:\n",
    "- Phone speaker or headphones\n",
    "- Oscilloscope probes\n",
    "\n",
    "#### Setup:\n",
    "1. Connect the mic board VDD to the 5V rail, which is powered by the 5V voltage regulator. **Note that this is different from the color organ labs, where we powered the micboard VDD with 3.3 V. Make sure you disconnect the pin from the 3.3V rail first before connecting it to 5V.**\n",
    "2. Connect an oscilloscope cable to the output of the micboard.\n",
    "4. Display a peak-to-peak measurement for the current channel on the oscilloscope.\n",
    "    - Press \"Meas\", select \"$V_{p-p}$\", and press \"Add measurement\"\n",
    "5. Display an average measurement for the current channel on the oscilloscope.\n",
    "    - Press \"Meas\", select \"$V_{avg}$\", and press \"Add measurement\"\n",
    "\n",
    "#### Now you are ready to tune your micboard!\n",
    "- In the project, you will be using your *voice*, not tones, with the mic board.\n",
    "- While tuning, talk into the microphone from a comfortable distance (2-3 feet).\n",
    "- This circuit will end up on your car on the ground, and you don't want to have your face on the ground to control it!\n",
    "\n",
    "\n",
    "#### Tuning Overview\n",
    "1. Lower the gain: Turn the potentiometer on your mic board **clockwise**.\n",
    "2. Increase the gain: Turn the gain potentiometer on the mic board **counter-clockwise** until you see a signal with $\\approx2.5\\mathrm{V}_{pp}$ amplitude centered near $1.65\\mathrm{V}$\n",
    "\n",
    "Congratulations! You have successfully tuned your micboard.    "
   ]
  },
  {
   "cell_type": "markdown",
   "metadata": {},
   "source": [
    "<a id=\"lp_filter\"></a>\n",
    "### 2.2 Build/Modify your low-pass filter. \n",
    "In order to capture just the range of normal conversational voices, we will adjust the cutoff frequency of the low-pass filter you built in Color Organ Part 1.\n",
    "\n",
    "#### Materials\n",
    "1. Resistors\n",
    "2. 10 nF Capacitor (Code 103)\n",
    "3. Op-amp\n",
    "\n",
    "#### Tasks:\n",
    "\n",
    "1. Adjust your low-pass filter's cutoff frequency, $f_c$, to roughly 2500 (+-500) Hz. Hint: You can combine your resistors in parallel/series to get more values. Use a 10nF Capacitor (Code 103), and combine the resistors in your kit for a resistance of approximately 6000 Ohms.\n",
    "- The filter's input should be the output of the mic board (`MIC_OUT`). \n",
    "    \n",
    "- You will most likely have to connect your low-pass filter to a non-inverting amplifier with at least a gain of 2. _Why?_\n",
    "    - As always, power your op amp with 3.3V and gnd for the op amp's VDD and VSS rails, respectively.\n",
    "    - If it turns out you don't need any extra gain, you can change the non-inverting amplifier into a unity gain buffer.\n",
    "    \n",
    "    \n",
    "- Once you have built the circuit, check that the DC offset at each node is what you expect.\n",
    "- Use the waveform generator and oscilloscope to test that your filter is working as expected. \n",
    "    - Connect the waveform generator to the node labelled `MIC_OUT` (make sure the micboard output is disconnected when you do this). Connect your oscilloscope probe to the output of your filter.\n",
    "    - The waveform generator should be set to output a sinusoid with an offset of 1.65V. Make sure you set the output load to High-Z!!\n",
    "    - Sweep the frequency from low to high and observe the Vpp of the output of your filter.\n",
    "    - At the output of the filter, you should expect to see a peak to peak of $\\frac{1}{\\sqrt{2}}$ times the input waveform's peak to peak at the cutoff frequency.\n",
    "- Disconnect the waveform generator and connect the input of your filter back to the output of your micboard. Verify that the output of the amplifier in this circuit is working as expected when you speak.\n",
    "\n",
    "<img style=\"width:750px\" src=\"images/sp21_low_pass.png\">\n",
    "\n",
    "**<span style=\"color:#ba190f\">Record your choice of R and C for the project report!</span>**"
   ]
  },
  {
   "cell_type": "code",
   "execution_count": null,
   "metadata": {},
   "outputs": [],
   "source": [
    "import math\n",
    "### YOUR CODE HERE\n",
    "f_cutoff_low_pass = ...\n",
    "C_low_pass = ...\n",
    "R_low_pass = ... #calculate this value with code\n",
    "\n",
    "\n",
    "print(\"Low-pass filter:\")\n",
    "print(\"================\")\n",
    "print(f\"Cutoff frequency: {f_cutoff_low_pass} Hz\")\n",
    "print(f\"Capacitor: {C_low_pass} farads\")\n",
    "print(f\"Resistor: {R_low_pass:.2f} ohms\")"
   ]
  },
  {
   "cell_type": "markdown",
   "metadata": {},
   "source": [
    "<a id='part3'></a>\n",
    "# <span style=\"color:navy\">Part 3: Motor Controller Circuits</span>\n",
    "\n",
    "-----"
   ]
  },
  {
   "cell_type": "markdown",
   "metadata": {},
   "source": [
    "### 3.0 Read <a href=\"https://drive.google.com/file/d/1jAmXOQvoshxf0X4_fsG-Uo43tbj622z0/view?usp=sharing\">Part 3</a> of the note before you begin this part!"
   ]
  },
  {
   "cell_type": "markdown",
   "metadata": {},
   "source": [
    "<a id=\"motor_circuit\"></a>\n",
    "### 3.1 Build the motor controller circuits.\n",
    "\n",
    "#### Materials\n",
    "- 2 C2690A NPN BJTs (Bipolar Junction Transistor)\n",
    "- 2 IN4001 Diodes\n",
    "- 2 Motors\n",
    "- 2 1.5k$\\Omega$ resistors (Brown, Green, Red, Gold)\n",
    "- 1 3-terminal switch\n",
    "- TI MSP430 Launchpad\n",
    "\n",
    "#### Tasks:\n",
    "1.  **Construct the circuit below for each wheel using the <a href=\"https://www.mouser.com/datasheet/2/308/1/KSC2690A_D-2314385.pdf\">C2690A</a> NPN BJT on the breadboard**. You will be building this circuit twice, one for the left motor, and one for the right motor. See below for the pinouts and diagrams of the different components. <img width=\"250px\" src=\"images/motor-drive-with-switch.jpg\">\n",
    "    - The pin diagram of the BJT is reproduced below. <span style=\"color:#ba190f\">**Make sure to match the Base, Emitter, and Collector properly to the schematic. Note the diagram shows 3 circles facing up.**</span>\n",
    "    <img width=\"250px\" src=\"images/proj-bjt.png\">\n",
    "    - A <a href=\"https://www.allaboutcircuits.com/textbook/semiconductors/chpt-3/introduction-to-diodes-and-rectifiers/\">diode</a> is a component that only conducts current one way. This diode is needed because of the inductive characteristics of the motor. If the motor is on and we turn it off, the inductive behavior of the motor generates a back emf that maintains the current and we need a way to dissipate it when the switch is off. The diode provides the pathway to do so. The diagram for the diode is shown below. **Note that the diode has a direction** - be careful which terminal is attached to the 9V power supply.\n",
    "<img width=\"300px\" src=\"images/proj-diode.png\">\n",
    "\n",
    "2. Connect both your motors to the `9V Motor Rail` through a switch. This is the 9V rail for the motors, separate from the 9V rail for the voltage regulators. You only need **ONE** switch!\n",
    "    - We are using this switch as a way to control whether your motors are powered or not.\n",
    "    - At any given time, two of the three pins below are connected depending on which side the switch is flipped to.\n",
    "    - The orientation of the switch does not matter.\n",
    "    <img width=\"300px\" src=\"images/switch.png\">\n",
    "    1. Place the switch somewhere fairly central (with respect to the long side) on your breadboard.\n",
    "    2. Connect the `9V Motor Rail` to `pin 1`\n",
    "    3. Connect the other motor wire (the one not connected to the collector pin of the BJT) of **BOTH** motors to `pin 2`.\n",
    "    4. Connect `pin 3` to ground.\n",
    "\n",
    "\n",
    "#### Notes/Tips:\n",
    "- The motor is reversible so connect it any direction for now. If it turns out to go backwards later, just exchange the two wires of the motor.\n",
    "    "
   ]
  },
  {
   "cell_type": "markdown",
   "metadata": {},
   "source": [
    "    \n",
    "    \n",
    "### 3.2 Test the motor controller circuits\n",
    "\n",
    "#### Uploading Energia code review:\n",
    "\n",
    "0. Download motor_test.ino and open it up in Energia. Connect your Launchpad to the back USB port of the computer tower using the micro-USB cable.\n",
    "1. Hit the window key and open up \"device manager\" on your computer. Under the ports tab, you should see a device called MSP Application UART. Note the COM port number (```COM###```).\n",
    "2. In Energia, under Tools -> Port, make sure to select the COM port you have just identified.\n",
    "3. In Energia, under Tools -> Board -> Boards Manager, make sure Energia MSP430 boards has version 1.0.7 installed.\n",
    "4. Press the upload button (the right pointing arrow, **not** the checkmark) and make sure the terminal says \"success\".\n",
    "5. Press the RST button on the Launchpad whenever you want to rerun the program.\n",
    "6. If you open up the serial monitor (Tools -> Serial Monitor), make sure to set the specified baud rate in the code. You'll see the baud rate under something like ```Serial.begin(38400)```, where 38400 is the baud rate.\n",
    "\n",
    "\n",
    "#### Tasks:\n",
    "\n",
    "Here, we will be testing each motor circuit one at a time.\n",
    "\n",
    "**0. Set the current limit of the 9V supply from the power supply to <span style=\"color:#ba190f\">0.3 A</span>. The motors can each draw 100-200mA of current, so we need to increase the limit from our usual 0.1 A.**\n",
    "\n",
    "**1. Connect the node labeled <span style=\"color:#ba190f\">MSP430 Pin 2.0</span> in one of the motor controller circuits to <span style=\"color:#ba190f\">pin 2.0</span> on your Launchpad. Make sure to ground your Launchpad (connect any Launchpad GND pin to negative rail of breadboard)!** There should be **no** other connections between your breadboard and the Launchpad aside from Pin 2.0 and GND.\n",
    "\n",
    "**2. Upload `motor_test.ino` to your Launchpad and hit `RST`.**\n",
    "\n",
    "**3. Open the serial monitor (`CTRL-SHIFT-L` / `CMD-SHIFT-L`). Set the baud rate to 38400.**\n",
    "    As the program runs, you should see the \"Duty Cycle\" reading change in the serial monitor. Your motor should speed up as the duty cycle increases, and slow down as it decreases. \n",
    "  \n",
    "<span style=\"color:#ba190f\">**4. Repeat for the *other motor circuit*. Make sure that both motors drive as expected. They might not go at the same speed - our control scheme will fix that later in the project.**</span>"
   ]
  },
  {
   "cell_type": "markdown",
   "metadata": {},
   "source": [
    "<a id='part4'></a>\n",
    "# <span style=\"color:navy\">Part 4: SIXT33N&#8482; Car Assembly Instructions</span>\n",
    "\n",
    "-----"
   ]
  },
  {
   "cell_type": "markdown",
   "metadata": {},
   "source": [
    "## Car Assembly\n",
    "\n",
    "### <span style=\"color:red\">Assemble your car by the start of the next lab (Project Part 2: System ID)!</span>\n",
    "\n",
    "[Assembly Instructions](https://drive.google.com/file/d/13Mokqk5kPcWg4J2nQpU-MfoXxFHDuTuW/view?usp=sharing)\n",
    "\n",
    "[Assembly Video Guide](https://youtu.be/P16ziUDR3GQ)"
   ]
  },
  {
   "cell_type": "markdown",
   "metadata": {},
   "source": [
    "### **DO NOT try to remove the wheels once you attach them to the axles.** \n",
    "### NOTE: The video says to scrape the inside of the wheels if you're having trouble attaching them. Be careful not to scrape too much, or the wheels may become too loose and not stay on the axle."
   ]
  },
  {
   "cell_type": "markdown",
   "metadata": {},
   "source": [
    "# <span style=\"color:#ba190f\">CHECKOFF</span>\n",
    "-----\n",
    "\n",
    "- Show your GSI your working circuits:\n",
    "    - Demonstrate your working filter circuitry.\n",
    "    - Demonstrate that both of your motors work properly.\n",
    "    - Build your car before next week's lab! If you have time during this lab, get a head start during your section.\n",
    "- ### <span style=\"color:red\">DO NOT DISMANTLE ANY CIRCUITS FROM YOUR BREADBOARD! You will need them for the rest of the project!</span>\n",
    "- **Remember what each part of your circuit is for (Record this in a Google doc or somewhere else safe). You will need to write a summary for your final report.**\n",
    "- **Back up this document (e.g. to Google Drive or Github).**\n",
    "- If you're interested in learning more about the components we used in this lab, read the [extra reading lab note](https://drive.google.com/file/d/1PLNtq-vZDeBLlC7X-7aVkHSRFKZKpz1q/view?usp=sharing)."
   ]
  },
  {
   "cell_type": "code",
   "execution_count": null,
   "metadata": {},
   "outputs": [],
   "source": []
  }
 ],
 "metadata": {
  "anaconda-cloud": {},
  "kernelspec": {
   "display_name": "Python 3",
   "language": "python",
   "name": "python3"
  },
  "language_info": {
   "codemirror_mode": {
    "name": "ipython",
    "version": 3
   },
   "file_extension": ".py",
   "mimetype": "text/x-python",
   "name": "python",
   "nbconvert_exporter": "python",
   "pygments_lexer": "ipython3",
   "version": "3.7.4"
  }
 },
 "nbformat": 4,
 "nbformat_minor": 4
}
