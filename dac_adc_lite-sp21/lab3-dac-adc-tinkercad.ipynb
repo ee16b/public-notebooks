{
 "cells": [
  {
   "cell_type": "markdown",
   "metadata": {},
   "source": [
    "# Analog-Digital Circuit Interfaces\n",
    "\n",
    "### EE 16B: Designing Information Devices and Systems II, Spring 2021\n",
    "\n",
    "Updated by Hossein Najafi (2021)\n",
    "\n",
    "Updated by Mia Mirkovic (2020)\n",
    "\n",
    "miamirkovic@berkeley.edu\n",
    "\n",
    "Updated by Rafael Calleja, Steven Lu (2020)\n",
    "\n",
    "-----"
   ]
  },
  {
   "cell_type": "markdown",
   "metadata": {},
   "source": [
    "## Table of Contents\n",
    "\n",
    "* [Part 1: Digital to Analog Converters (DACs)](#part1)\n",
    "* [Part 2: Analog to Digital Converters (ADCs)](#part2)"
   ]
  },
  {
   "cell_type": "markdown",
   "metadata": {},
   "source": [
    "<a id='part1'></a>\n",
    "# <span style=\"color:navy\">Part 1: Digital to Analog Converters (DACs)</span>\n",
    "-----"
   ]
  },
  {
   "cell_type": "markdown",
   "metadata": {},
   "source": [
    "### 1.0. Please read Part 1 of the [lab note](https://drive.google.com/file/d/1hNWjXvN4-kv0orfwybPB8-KQ-fdaBEMD/view?usp=sharing).\n"
   ]
  },
  {
   "cell_type": "markdown",
   "metadata": {},
   "source": [
    "<img style=\"width: 400px\" src=\"imgs/lab2_r_2r.png\">"
   ]
  },
  {
   "cell_type": "markdown",
   "metadata": {},
   "source": [
    "## Questions\n",
    "\n",
    "For the questions below, we assume we have an $n = 3$ bit DAC. Don't forget to show your GSI your work! (Hint: Superposition)\n",
    "\n",
    "\n",
    "\n",
    "**<span style=\"color:#075a04\">1. Assuming [$V_0, V_1, V_2$] = [0,0,0] (all in volts), what is $V_{out}$?</span>**\n"
   ]
  },
  {
   "cell_type": "markdown",
   "metadata": {},
   "source": [
    "< YOUR ANSWER ON GRADESCOPE >"
   ]
  },
  {
   "cell_type": "markdown",
   "metadata": {},
   "source": [
    "**<span style=\"color:#075a04\">2. Assuming [$V_0, V_1, V_2$] = [5,0,0] (volts), what is $V_{out}$? (remember $V_0$ is LSB and $V_2$ is MSB)</span>**"
   ]
  },
  {
   "cell_type": "markdown",
   "metadata": {},
   "source": [
    "< YOUR ANSWER ON GRADESCOPE >"
   ]
  },
  {
   "cell_type": "markdown",
   "metadata": {},
   "source": [
    "(No need to check off the following 2 questions on Gradescope, but very useful exercises nonetheless)\n",
    "\n",
    "\n",
    "**<span style=\"color:#ba190f\">Please do not spend too long on these questions. Just make sure you understand how  the DAC works.</span>**"
   ]
  },
  {
   "cell_type": "markdown",
   "metadata": {},
   "source": [
    "**<span style=\"color:#075a04\"> Think about what the voltage $V_{out}$ would be if [$V_0, V_1, V_2$] = [5,5,5] (volts)?</span>**\n"
   ]
  },
  {
   "cell_type": "markdown",
   "metadata": {},
   "source": [
    "< YOUR ANSWER HERE > "
   ]
  },
  {
   "cell_type": "markdown",
   "metadata": {},
   "source": [
    "**<span style=\"color:#075a04\"> Assuming [$V_0, V_1, V_2$] = [0,5,5] (volts), what is $V_{out}$?</span>**\n"
   ]
  },
  {
   "cell_type": "markdown",
   "metadata": {},
   "source": [
    "< YOUR ANSWER HERE > "
   ]
  },
  {
   "cell_type": "markdown",
   "metadata": {},
   "source": [
    "## TinkerCad\n",
    "---"
   ]
  },
  {
   "cell_type": "markdown",
   "metadata": {},
   "source": [
    "Before starting to build the DAC and the ADC, it would be helpful to take a look at this note to familiarize yourself with both concepts. \n",
    "[Lab 3: DAC/ADC note](https://drive.google.com/file/d/1ZlxYV12VeXjoTXarGHIv6gVpHGtjktZx/view?usp=sharing)\n",
    "\n",
    "Now that we have an idea of what the outputs of an **R-2R Ladder** are, we will build it in TinkerCad!\n",
    "\n",
    "Open the starter circuit, which can be found at: [Lab 3: DAC/ADC Starter Circuit](https://www.tinkercad.com/things/3BJTE0uNJgM).\n",
    "\n",
    "### (Virtual) Materials\n",
    "\n",
    "- Breadboard\n",
    "- 9V Battery\n",
    "- 1 $k\\Omega$ Resistors\n",
    "- 2 $k\\Omega$ Resistors\n",
    "- Arduino (similar to your MSP430 Launchpad)\n",
    "- Multimeter"
   ]
  },
  {
   "cell_type": "markdown",
   "metadata": {},
   "source": [
    "### 1.1. Build the 3-bit DAC\n",
    "\n",
    "Use the diagram below to build a 3-bit DAC using the $1K\\Omega$ and $2 K\\Omega$ resistors. Use the jumper wires to connect the Arduino to the circuit. For example `8` below tells you to connect that node on the breadboard to pin `8` on the Arduino. In this circuit, the Arduino will act as a signal generator.\n",
    "\n",
    "<img style=\"width: 400px\" src=\"imgs/lab2_r_2r_pins_tinkercad.png\">"
   ]
  },
  {
   "cell_type": "markdown",
   "metadata": {},
   "source": [
    "### 1.2. Running the 3-bit DAC\n",
    "\n",
    "**Make sure to connect the ground of your Launchpad with the ground of your circuit!**\n",
    "\n",
    "- Open the file `dac_data_tinkercad.ino` in any text editor and skim the code.\n",
    "    - **What do you expect the output of the DAC to be?** This understanding is **vital** to the debugging process: _if you don't know what you're looking for, how can you know if your result is correct or not?_\n",
    "- Copy everything from `dac_data_tinkercad.ino` to the `Code` section in TinkerCad. \n",
    "    - Make sure to change the `Code` type from `Block` to `Text`.\n",
    "    - The code outputs an increasing and decreasing binary number in pins `8`, `12`, `13`, where pin `13` is the least significant bit (LSB).\n",
    "- Connect pin `A0` to $V_{OUT}$.\n",
    "- **Hit `Start Simulation`.**\n",
    "- Open the serial plotter by clicking on `Code > Serial Monitor > Graph`. Does the output look like what you expect?\n"
   ]
  },
  {
   "cell_type": "markdown",
   "metadata": {},
   "source": [
    "**<span style=\"color:#075a04\">3. How many distinct levels do you observe in the serial outputs being printed? Alternatively you can also look at the graph mode view in the serial monitor. (Hint: increase the DELAY variable in the code (i.e. to 2000ms) to help with observation and easy monitoring of the values) </span>**"
   ]
  },
  {
   "cell_type": "markdown",
   "metadata": {},
   "source": [
    "< YOUR ANSWER ON GRADESCOPE >"
   ]
  },
  {
   "cell_type": "markdown",
   "metadata": {},
   "source": [
    "**<span style=\"color:#075a04\">4. In DACs, it is very important that the output have a consistent step/increment. What is the height of the second step (going from code '000' to '001') as observed in the serial monitor (in V)? (Hint: adjust the DELAY variable in the code (i.e. to 2000ms) to help with observation and easy monitoring of the values) </span>**"
   ]
  },
  {
   "cell_type": "markdown",
   "metadata": {},
   "source": [
    "< YOUR ANSWER ON GRADESCOPE >"
   ]
  },
  {
   "cell_type": "markdown",
   "metadata": {},
   "source": [
    "**<span style=\"color:#075a04\">5. The first step you just calculated in Q4 is the exact same scenario presented in Q2. Is the value obtained in Q4 the same as the value obtained in Q2? If not, which of the following explanations could be the reason for the discrepancy? Check all that apply (on Gradescope).</span>**"
   ]
  },
  {
   "cell_type": "markdown",
   "metadata": {},
   "source": [
    "< YOUR ANSWER ON GRADESCOPE >"
   ]
  },
  {
   "cell_type": "markdown",
   "metadata": {},
   "source": [
    "### 1.3. Build the 4-bit DAC\n",
    "- **Modify both your circuit and the Arduino code** to extend the 3-bit DAC to 4 bits.\n",
    "    - **You should use pin `7` for the new most significant bit (MSB). Keep using pin A0 for the output of the DAC**.\n",
    "    - All you have to do to the code is change `BITS` to 4.\n",
    "- Repeat the steps in 1.2 for the 4-bit DAC."
   ]
  },
  {
   "cell_type": "markdown",
   "metadata": {},
   "source": [
    "**<span style=\"color:#075a04\">6. How many distinct levels do you observe in the serial outputs being printed? Alternatively you can also look at the graph mode view in the serial monitor. (Hint: adjust the DELAY variable in the code (i.e. to 2000ms) to help with observation and easy monitoring of the values)</span>**"
   ]
  },
  {
   "cell_type": "markdown",
   "metadata": {},
   "source": [
    "< YOUR ANSWER ON GRADESCOPE >"
   ]
  },
  {
   "cell_type": "markdown",
   "metadata": {},
   "source": [
    "**<span style=\"color:#075a04\">7. What is the height of the first step (going from code '0000' to '0001') as observed in the serial monitor (in V)? (Hint: adjust the DELAY variable in the code (i.e. to 2000ms) to help with observation and easy monitoring of the values)</span>**"
   ]
  },
  {
   "cell_type": "markdown",
   "metadata": {},
   "source": [
    "< YOUR ANSWER ON GRADESCOPE >"
   ]
  },
  {
   "cell_type": "markdown",
   "metadata": {},
   "source": [
    "**<span style=\"color:#075a04\">8. What is the height of the second step (going from code '0001' to '0010') as observed in the serial monitor (in V)? (Hint: adjust the DELAY variable in the code (i.e. to 2000ms) to help with observation and easy monitoring of the values) </span>**"
   ]
  },
  {
   "cell_type": "markdown",
   "metadata": {},
   "source": [
    "< YOUR ANSWER ON GRADESCOPE >"
   ]
  },
  {
   "cell_type": "markdown",
   "metadata": {},
   "source": [
    "<a id='part2'></a>\n",
    "# <span style=\"color:navy\">Part 2: Analog to Digital Converters (ADCs)</span>\n",
    "-----"
   ]
  },
  {
   "cell_type": "markdown",
   "metadata": {},
   "source": [
    "### 2.0. Please read Part 2 of the [lab note](https://drive.google.com/file/d/1hNWjXvN4-kv0orfwybPB8-KQ-fdaBEMD/view?usp=sharing)."
   ]
  },
  {
   "cell_type": "markdown",
   "metadata": {},
   "source": [
    "## TinkerCad\n",
    "---"
   ]
  },
  {
   "cell_type": "markdown",
   "metadata": {},
   "source": [
    "### (Virtual) Materials\n",
    "- 4-bit DAC\n",
    "- Op-amp\n",
    "- Potentiometer"
   ]
  },
  {
   "cell_type": "markdown",
   "metadata": {},
   "source": [
    "### 2.1. Build the ADC (TinkerCad)\n",
    "\n",
    "While we've already written the code for the ADC, you'll still need to make some changes to your circuit. Specifically, **you will need to build the analog input** and the part that compares the output of the DAC to the analog input and feeds the result of the comparison back to pin `A1` on the Arduino (Hint: it's the comparator). \n",
    "\n",
    "\n",
    "1. In TinkerCad, build the analog input circuit shown below using the potentiometer.\n",
    "    - The TinkerCad Arduino uses 5V pin logic (HIGH: 5V, Low: GND) for its input A1. _What should your $V_{DD}$ be for this circuit?_\n",
    "    - When you turn the knob on the potentiometer, the voltage at the node labeled \"analog input\" should change. Probe that node with a multimeter and watch the voltage change as you turn the knob.\n",
    "    - On the Tinkercad potentiometer, connect \"Terminal 1\" to VDD, \"Terminal 2\" to GND, and \"Wiper\" will be \"analog input\".\n",
    "    \n",
    "<img style=\"width: 200px\" src=\"imgs/analog_input_circuit.png\">\n",
    "    \n",
    "**You've already built the 4-bit DAC, so just build the rest of the ADC around that.**\n",
    "\n",
    "2. Use the diagram shown below to turn your 4-bit DAC into a 4-bit ADC using the op-amp.\n",
    "    - The pinout of TinkerCad's LM741 op-amp is given as reference. Ignore NC and Offset Null. _What should $V_{dd}$ and $V_{ss}$ be for this op-amp?_\n",
    "\n",
    "<img style=\"width: 400px\" src=\"imgs/lab2_adc_tinkercad.png\">\n",
    "<img style=\"width: 400px\" src=\"imgs/LM741_pinout_updated.png\">"
   ]
  },
  {
   "cell_type": "markdown",
   "metadata": {},
   "source": [
    "### 2.2. Run the ADC (TinkerCad)\n",
    "\n",
    "- Open the file `sar_adc_data_tinkercad.ino` and skim the code. It reads from pin `A1` and outputs the approximated result in pins `7`, `8`, `12`, `13` with pin `13` as the LSB.\n",
    "- Copy and paste the entire file into the Tinkercad code window. Again, make sure you're on Text, not Block.\n",
    "- Use the potentiometer to control the input voltage (which ranges from 0V to your potentiometer's VDD).\n",
    "- Probe the input voltage with the multimeter and record it below.\n",
    "- Check the binary output! To check the output, open the Serial Monitor (bottom of the coding window).\n",
    "    - Try turning the potentiometer and see what changes!\n",
    "- Does the output make sense given your input voltage? How does the output change when the input increases/decreases?\n"
   ]
  },
  {
   "cell_type": "markdown",
   "metadata": {},
   "source": [
    "**<span style=\"color:#075a04\">9. Set the input voltage to a value between 2.48V and 2.69V using the potentiometer. What is the binary output of the ADC? (i.e. enter it as \"XXXX\" without the quotations where X is either 0 or 1) </span>**"
   ]
  },
  {
   "cell_type": "markdown",
   "metadata": {},
   "source": [
    "< YOUR ANSWER ON GRADESCOPE >"
   ]
  },
  {
   "cell_type": "markdown",
   "metadata": {},
   "source": [
    "**<span style=\"color:#075a04\">10. Set the input voltage to a value between 1.88V and 2V using the potentiometer. What is the binary output of the ADC? (i.e. enter it as \"XXXX\" without the quotations where X is either 0 or 1) </span>**"
   ]
  },
  {
   "cell_type": "markdown",
   "metadata": {},
   "source": [
    "< YOUR ANSWER ON GRADESCOPE >"
   ]
  },
  {
   "cell_type": "markdown",
   "metadata": {},
   "source": [
    "### 2.3. Diving deeper into SAR ADC\n",
    "\n",
    "- Use the potentiometer to control the input voltage and set it to  value between 1.88V and 2V.\n",
    "- Probe the input voltage with the multimeter and make sure it is correct.\n",
    "- Instantiate an oscilloscope and probe the negative input pin of the opamp, which is also the output of the DAC. Use \"5ms\" time division for the oscilloscope.\n",
    "- What do you see?\n",
    "  - **<span style=\"color:#ba190f\">The graph should show something like this. Think about why the signal steps up and down when it does, and why it converges to this specific voltage (~1.88V).</span>**\n",
    "- Seen in the figure below, you can see the phases of the DAC output signal. The large voltage jump positioned in the middle of your oscilloscope screen marks the beginning of the ADC conversion, which corresponds to the MSB being set. Phase (A) is when the comparator compares the input to the DAC output, with the latest bit being set to 1. During the following phase, phase (B), the latest bit gets set to the correct value (either 0 or 1), depending on the comparator's output.\n",
    "- Try turning the potentiometer to change the analog input voltage. What happens when the input increases? \n",
    "- Experiment with different input values, especially the two extreme cases, meaning 0V and 5V and observe the DAC output waveforms.\n",
    "\n",
    "\n",
    "\n",
    "<center>\n",
    "<img style=\"width:600px\" src=\"imgs/scope_sar.jpg\"/>\n",
    "</center>\n"
   ]
  },
  {
   "cell_type": "markdown",
   "metadata": {},
   "source": [
    "## Questions\n",
    "\n",
    "**<span style=\"color:#075a04\">11. What are the DAC output levels for an input in the range 2.48V and 2.69V? Represent the waveform with \"L\" (short for LOW) when the waveform has a downward jump, and \"H\" (short for HIGH) otherwise. Include the levels for all phases, A and B, i.e. \"HLHHHHHL\" is how the waveform from the figure above is represented, to be entered without the quotations. </span>**\n",
    "\n"
   ]
  },
  {
   "cell_type": "markdown",
   "metadata": {},
   "source": [
    "< YOUR ANSWER ON GRADESCOPE >"
   ]
  },
  {
   "cell_type": "markdown",
   "metadata": {},
   "source": [
    "**<span style=\"color:#075a04\">12. If we want to build a 4-bit ADC with a sampling frequency of 1kHz (read the input voltage 1000 times per second), what is the minimum clock frequency the ADC has to run at assuming it takes one clock cycle to set each bit in the ADC's register (in kHz)?</span>**\n",
    "\n"
   ]
  },
  {
   "cell_type": "markdown",
   "metadata": {},
   "source": [
    "< YOUR ANSWER ON GRADESCOPE >"
   ]
  },
  {
   "cell_type": "markdown",
   "metadata": {},
   "source": [
    "**Here we will consider a more realistic case, where elements are not ideal and have inherent delays, such as settling time. Settling time is the amount of time that passes between an input value being applied and the output reaching its final value while remaining within some error bound. It encompasses the propagation delay, which is the amount of time it takes for a signal to reach its final destination, as well as some other delays resulting from nonidealities.**\n",
    "\n",
    "- Let's say we want to build a SAR ADC using this resistor ladder DAC and some microprocessor. Assume the time between the microprocessor setting a bit value and the voltage actually appearing at the output of the DAC is at worst 100ns. Similarly, assume that the time it takes for the DAC output signal to travel through the comparator and be read into the microprocessor is at worst 150ns. Also assume that it takes no time for the microprocessor to determine whether to keep the bit on or turn it off based on the comparator output.**\n",
    "\n",
    "**<span style=\"color:#075a04\">13. What is the worst-case time required to determine the final value of any single bit in the ADC's register (in ns)? </span>**"
   ]
  },
  {
   "cell_type": "markdown",
   "metadata": {},
   "source": [
    "< YOUR ANSWER ON GRADESCOPE >"
   ]
  },
  {
   "cell_type": "markdown",
   "metadata": {},
   "source": [
    "**<span style=\"color:#075a04\">14. How long would it take in the worst case to see the correct ADC output (in ns)? </span>**"
   ]
  },
  {
   "cell_type": "markdown",
   "metadata": {},
   "source": [
    "< YOUR ANSWER ON GRADESCOPE >"
   ]
  },
  {
   "cell_type": "markdown",
   "metadata": {},
   "source": [
    "# <span style=\"color:#ba190f\">CHECKOFF</span>\n",
    "-----\n",
    "- Complete the Lab 3 assignment on Gradescope.\n",
    "\n",
    "Don't forget to save this notebook somewhere all your group members can access it!"
   ]
  }
 ],
 "metadata": {
  "anaconda-cloud": {},
  "kernelspec": {
   "display_name": "Python 3",
   "language": "python",
   "name": "python3"
  },
  "language_info": {
   "codemirror_mode": {
    "name": "ipython",
    "version": 3
   },
   "file_extension": ".py",
   "mimetype": "text/x-python",
   "name": "python",
   "nbconvert_exporter": "python",
   "pygments_lexer": "ipython3",
   "version": "3.7.4"
  }
 },
 "nbformat": 4,
 "nbformat_minor": 1
}
