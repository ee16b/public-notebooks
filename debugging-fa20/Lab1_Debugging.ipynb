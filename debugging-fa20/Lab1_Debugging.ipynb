{
 "cells": [
  {
   "cell_type": "markdown",
   "metadata": {},
   "source": [
    "\n",
    "# Lab 1: Op-Amp Basics\n",
    "### EE16B: Designing Information Devices and Systems II, Fall 2020\n",
    "\n",
    "\n",
    "Updated by Rafael Calleja (2020)\n",
    "\n",
    "rafael.calleja@berkeley.edu\n",
    "\n",
    "Updated by Miki Lustig (2020)\n",
    "\n",
    "-----"
   ]
  },
  {
   "cell_type": "markdown",
   "metadata": {},
   "source": [
    "**Name 1**: \n",
    "\n",
    "**Login**: ee16b-\n",
    "\n",
    "\n",
    "**Name 2**:\n",
    "\n",
    "**Login**: ee16b-"
   ]
  },
  {
   "cell_type": "markdown",
   "metadata": {},
   "source": [
    "<a id='part0'></a>\n",
    "## <span style=\"color:#075a04\">NOTE: All questions in green are required for checkoff! </span>\n",
    "\n"
   ]
  },
  {
   "cell_type": "markdown",
   "metadata": {},
   "source": [
    "<a id='part0'></a>\n",
    "# <span style=\"color:navy\">Part 0: Introduction </span>\n",
    "-----"
   ]
  },
  {
   "cell_type": "markdown",
   "metadata": {},
   "source": [
    "<center>\n",
    "    <img width=\"400px\" src=\"images/2nd.gif\">\n",
    "</center>\n",
    "<center> Students who read all the instructions carefully vs those who don't </center>\n",
    "\n",
    "## Materials:\n",
    "- Lab notes\n",
    "- Debugging guide\n",
    "- Guide for TinkerCad\n",
    "- (Headphones) \n",
    "\n",
    "## Tasks:\n",
    "\n",
    "### 1. The art of debugging\n",
    "[Debugging Guide](https://drive.google.com/file/d/1ECoEx9CxgTZhHbp_W8SlqgQSV9eoKUW_/view?usp=sharing)\n",
    "\n",
    "- Read over the debugging guide and watch the linked videos. They will introduce you to the tools of the lab which will help you build and debug the circuits in EE16B.\n",
    "\n",
    "- Read over and follow the Getting Started with Tinkercad guide, which the tool we'll use to virtually construct circuits and simulate them on a breadboard.\n",
    "\n",
    "### 2. Review\n",
    "[Lab Note](https://drive.google.com/file/d/1xNyw8jIVWo3GzBXerU0GPxZbrpzpHiR5/view?usp=sharing)\n",
    "\n",
    "- Review the lab notes. Every lab will come with notes that provide a technical review of the concepts covered in lab as well as theoretical connections. **You should read the notes before lab.** The notes serve as review and may help you as a reference during lab section.\n",
    "\n",
    "\n",
    "### 3. Equipment\n",
    "- Make sure you have received the EE16B lab kit!"
   ]
  },
  {
   "cell_type": "markdown",
   "metadata": {},
   "source": [
    "<a id='part1'></a>\n",
    "# <span style=\"color:navy\">Part 1: TinkerCad </span>\n",
    "-----"
   ]
  },
  {
   "cell_type": "markdown",
   "metadata": {},
   "source": [
    "[Introduction to TinkerCad](https://drive.google.com/file/d/1H17FhteNScM3AFFvAre_HkWQQZOpKLgC/view?usp=sharing)\n",
    "\n",
    "- Walk through the TinkerCad introduction and familiarize yourself with the software. **We will be using TinkerCad in many labs throughout the semester.**\n",
    "\n",
    "TinkerCad is a virtual tool you can use to build and simulate circuits with various different components. It's a useful tool for prototyping circuits before building them physically, allowing you to plan and test the placement of parts and wires. It also makes it much easier for lab staff to help debug your circuits, so we very strongly encourage using it for future labs as well.\n",
    "\n",
    "A small downside is that TinkerCad does not have the exact parts that we have in our kits, and there are tiny differences in the labeled coordinate on the breadboards. So, it will be necessary to make small adjustments between the TinkerCad circuits and the physical implementation.  We will point this out to you when we encounter such discrepancies. \n",
    "\n",
    "\n",
    "\n",
    "Our first task would be creating an op-amp circuit with LED lighting, which is driven by a simulated Arduino microprocessor board. \n",
    "\n",
    "\n",
    "## Starter Circuit\n",
    "\n",
    "Make sure you have created a TinkerCad account, the steps to which are in the Getting Started with TinkerCad guide.\n",
    "\n",
    "Open the starter circuit, which can be found at: [Lab 1 Starter Circuit](https://www.tinkercad.com/things/fF7akMrmPf6)\n",
    "\n",
    "(Virtual) Materials:\n",
    "- Breadboard\n",
    "- 9V battery\n",
    "- 1 capacitor\n",
    "- 6 resistors\n",
    "- 2 LEDs\n",
    "- Arduino (similar to your MSP430 Launchpad)\n",
    "- Multimeter\n",
    "- 3.3V and 5V regulators\n",
    "- Op amp\n",
    "\n",
    "\n",
    "### Breadboard and layout\n",
    "To help you organize, look at the figure below. It shows the diagram of the board, and places for utilizing important components and reserved rails. \n",
    "\n",
    "<center>\n",
    "    <img width=\"700px\" src=\"images/Tinker_layout.png\">\n",
    "</center>\n",
    "\n",
    "We will organize the breadboard in the following way:\n",
    "-  Block A12-E22 will be used for the voltage regulators to convert the battery 9V to the desired 3.3V and 5V respectively. \n",
    "- The top and bottom + power rails will be 3.3V, while the - rails will be gnd.\n",
    "- Colmn A25-E25 will be the 5V rail\n",
    "- Block A33-J38 will be reserved for the opamp chip. We will explain the pinout and wire routing later, but the rationale is that the TinkerCad opamp has a slightly different pinout than the one in your lab kit. So the rails we chose will help you implement the real circuit using your lab kit with minor changes from your TinkerCad layout.\n",
    "\n",
    "Note that the breadboard you got in your lab kit has DIFFERENT labelling, but it's the relative positioning that matters, so there's no need to copy the absolute positioning of the above figure.\n",
    "\n",
    "### Circuit Guidelines\n",
    "- Make sure you use consistent colors for ground, power voltages, etc. Black is usually reserved for gnd, and red for power.\n",
    "- For easier readability of your layout, when creating wires it is possible to \"bend\" them by \"clicking their path\". Try to avoid crossing wires as much as you can for better visualization.\n",
    "- In general, it's better to have shorter wires, so that it's easier to follow.\n",
    "- The + and - rails are reserved for power and gnd, respectively. Avoid connecting any other signals to those rails.\n",
    "\n",
    "### Tasks: \n",
    "\n",
    "#### Voltage Regulators\n",
    "Voltage regulators are important circuit components in modern circuit design. They enable the use of a range of input voltages, and output very stable desired voltages, even with varying loading conditions or varying source conditions (within a certain spec of course). Voltage/current regulator ICs usually also have built in protections, such as current limit or thermal shutdown to prevent damage to your circuit.\n",
    "\n",
    "Our circuit for this lab will take 9V from the battery and feed it through regulators that output 3.3V and 5V. We already placed the regulators for you on the breadboard, now you have to wire them up.\n",
    "#### 3.3V voltage regulator\n",
    "TinkerCad simulates the [LD1117V33](https://www.sparkfun.com/datasheets/Components/LD1117V33.pdf) device. Take a look at its data-sheet. Unfortunately, it is different from the [LM317KCT](https://www.digikey.com/product-detail/en/texas-instruments/LM317KCT/296-35739-5-ND/3929530), which you have in your kit (more info later).\n",
    "\n",
    "- Connect the 9V rail to the input of the 3.3V regulator (you can see the pinout by hovering over the device pins)\n",
    "- Connect the output of the 3.3V regulator to the top positive (+) power rail.\n",
    "- Connect the ground pin of the 3.3V regulator to the top negative (-) power rail.\n",
    "- Use the multimeter to verify that the voltage on the power rail is indeed 3.3V.\n",
    "\n",
    "\n",
    "#### Connect the 5V voltage regulator\n",
    "TinkerCad simulates the [LM7805](https://www.mouser.com/datasheet/2/149/LM7805-1010961.pdf) 5V voltage regulator. This one has similar pinout and usage as our [LM340T5](https://www.ti.com/product/LM340?qgpn=lm340) in the lab kit (Yay!)\n",
    "\n",
    "- Connect the rail carying 9V(+) to the rail connected to the input pin of the 5V voltage regulator.\n",
    "- Connect the ground of the 5V regulator to the top negative (-) power rail.\n",
    "- Connect the output of the 5V regulator to the 5V power rail (A25).\n",
    "- Use the multimeter to verify the voltage on the 5V rail is indeed 5V.\n",
    "\n",
    "#### Wiring the op-amp as an inverter\n",
    "TinkerCad simulates the [LM741](http://www.learningaboutelectronics.com/Articles/LM741-op-amp-pinout-connections) operational amplifier. It is an 8 legged component with the pinout shown below:\n",
    "\n",
    "<center>\n",
    "    <img width=\"400px\" src=\"images/LM741_pinout_updated.png\">\n",
    "</center>\n",
    "\n",
    "The op amp has different pins from the dual op amp in your kit. In particuilar, it only has one amplifier and it has two offset pins. You can read about the function of the offset pins in the data-sheet, but here we will ignore them. In order to make the transition to the physical circuit easier, we've placed the op amp for you and made some wire connections in white colored wires. These white connections are what you will need to ignore when physically building the circuit later. Notably:\n",
    "- The op-amp positive power rail ($V_{dd}$) needs to be connected to the top 3.3V rail in row #33 via a white wire. Add this wire in.\n",
    "- The op-amp output is connected to the entire rail #30 via white wires.\n",
    "\n",
    "Please use these rails for $V_{dd}$ and $V_{out}$ respectively. You can ignore the Offset Null and NC pins on the op amp.\n",
    "\n",
    "\n",
    "Implement the circuit below by using the resistors and LEDs in your workspace. Hold off connecting V+ (Vdd) and V- (Vss)\n",
    "<center>\n",
    "<img width='500px'\n",
    "src=\"images/blink_inverting_circuit_diagram_tinkercad.png\">\n",
    "</center>\n",
    "\n",
    "\n",
    "\n",
    "#### Testing your circuit\n",
    "\n",
    "TinkerCad can simulate an Arduino microprocessor board, which is similar to the MSP430 Launchpad. We will use the Arduino to generate a voltage square wave. You can click on the Code button to see the Scratch code the Arduino will be running. The code will turn on pin 13 for two seconds, and then turn it off for 2 seconds. \n",
    "\n",
    "There's a small difference between the Arduino, and your MSP430 Launchpad. The Arduino has 5V logic, while the MSP430 has 3.3V logic. Fortunately, the Arduino has a 3.3V pin. We will use the logic Pin13 to drive a CMOS inverter switch that is powered by 3.3V. This way, when pin 13 on the arduino is high, the CMOS inverter will output 0V. When pin 13 is low, the CMOS inverter will output 3.3V.  This way, our TinkerCad simulatition will mimic the Launchpad better. \n",
    "\n",
    "The CMOS inverter, driven by the. Arduino pin 13  generates a square wave with the following properties:\n",
    "\n",
    "<center>\n",
    "<img width='700px'\n",
    "src=\"images/sqWave.png\">\n",
    "</center>\n",
    "\n",
    "\n",
    "    - 0.25 Hz frequency (4 seconds cycle)\n",
    "    - 50% duty cycle (1/2 time on, 1/2 time on during a cycle)\n",
    "    - 3.3 volts peak-to-peak (Vpp). Peak-to-peak means the difference between the maximum and the minimum of the wave.\n",
    "    - 1.65V offset\n",
    "\n",
    "- Connect the Arduino's 3.3V regulator output pin to the P3.2 labeled node in the circuit.\n",
    "- Connect the ground of the Arduino to the 3.3V negative power rail (-), so that the Arduino uses the same voltage reference as the 9V battery. \n",
    "\n",
    "- <span style=\"color:#075a04\">**Sanity Check Question: What should $V_{dd}$ and $V_{ss}$ be?**</span> Hint: what is the range of the input square wave signal? What is our gain? What will the range of the output signal be? \n",
    "\n",
    "< _YOUR ANSWER HERE_ >\n",
    "\n",
    "- Connect the correct DC voltages to $V_{\\text{dd}}$ and $V_{\\text{ss}}$.\n",
    "\n",
    "\n",
    "- Connect the Multimeter to the output of the op-amp to measure its voltage\n",
    "- Run the simulation\n",
    "\n"
   ]
  },
  {
   "cell_type": "markdown",
   "metadata": {},
   "source": [
    "####  Behavior of the circuit\n",
    "\n",
    "- What voltage is the non-inverting input ($V_+$) terminal of the op amp connected to? Why do we need it to be connected to this voltage value?\n",
    "\n",
    "< _YOUR ANSWER HERE_ >\n",
    "\n",
    "- What does the circuit do? Hint: what is the expected behavior of LED1 and LED2 for a square wave input?\n",
    "\n",
    "< _YOUR ANSWER HERE_ >\n",
    "\n",
    "- Make sure to understand what the input and output of the op-amp are and show the circuit behavior during checkoff."
   ]
  },
  {
   "cell_type": "markdown",
   "metadata": {},
   "source": [
    "<a id='part2'></a>\n",
    "## <span>Questions:</span>"
   ]
  },
  {
   "cell_type": "markdown",
   "metadata": {},
   "source": [
    "#### <span style=\"color:#075a04\"> 1. What is the circuit?  What does it do to the input signal?"
   ]
  },
  {
   "cell_type": "markdown",
   "metadata": {},
   "source": [
    "< _YOUR ANSWER HERE_ >"
   ]
  },
  {
   "cell_type": "markdown",
   "metadata": {},
   "source": [
    "#### <span style=\"color:#075a04\"> 2. What is the gain of the circuit?"
   ]
  },
  {
   "cell_type": "markdown",
   "metadata": {},
   "source": [
    "< _YOUR ANSWER HERE_ >"
   ]
  },
  {
   "cell_type": "markdown",
   "metadata": {},
   "source": [
    "#### <span style=\"color:#075a04\"> 3. How can you change the gain?\n",
    "\n"
   ]
  },
  {
   "cell_type": "markdown",
   "metadata": {},
   "source": [
    "< _YOUR ANSWER HERE_ >"
   ]
  },
  {
   "cell_type": "markdown",
   "metadata": {},
   "source": [
    "#### <span style=\"color:#075a04\"> 4. What happens when you:\n",
    "\n",
    "#### <span style=\"color:#075a04\"> a) Flip the polarity (i.e. swap the inputs of the inverting and noninverting input terminals of the op-amp) ? Try it!\n",
    "< _YOUR ANSWER HERE_ >"
   ]
  },
  {
   "cell_type": "markdown",
   "metadata": {},
   "source": [
    "#### <span style=\"color:#075a04\"> b) Short \"+\" and \"-\" _input_ terminals (NOT VSS and VDD)? Try it!\n",
    "< _YOUR ANSWER HERE_ >"
   ]
  },
  {
   "cell_type": "markdown",
   "metadata": {},
   "source": [
    "#### <span style=\"color:#075a04\"> c) Increase Rf? Hint: what is the maximum amplitude the circuit can output? Try it!\n",
    "< _YOUR ANSWER HERE_ >"
   ]
  },
  {
   "cell_type": "markdown",
   "metadata": {},
   "source": [
    "#### <span style=\"color:#075a04\"> d) What happens if the op-amp's VSS = -1 V? Try it by using a power supply in TinkerCad\n",
    "< _YOUR ANSWER HERE_ >"
   ]
  },
  {
   "cell_type": "markdown",
   "metadata": {},
   "source": [
    "#### <span style=\"color:#075a04\"> e) Keeping $\\frac{R_f}{R_{in}}$ constant, do the resistors' values affect circuit output / performance (ex: $\\frac{20k \\Omega}{20k\\Omega}$ equivalent to $\\frac{100\\Omega}{100\\Omega}$)? Is it better to use large or small resistor values, and why?\n",
    "< _YOUR ANSWER HERE_ >"
   ]
  },
  {
   "cell_type": "markdown",
   "metadata": {},
   "source": [
    "#### <span style=\"color:#075a04\"> f)  Measure the current coming out of the battery for $\\frac{R_f}{R_{in}} =\\frac{20k \\Omega}{20k\\Omega}$. Replace the resistors with  $\\frac{R_f}{R_{in}} =\\frac{100 \\Omega}{100\\Omega}$. What is the current? This value is the total amount of current being pulled by the circuit, which includes the op amp power consumption.\n",
    "\n",
    "\n",
    "< _YOUR ANSWER HERE_ >"
   ]
  },
  {
   "cell_type": "markdown",
   "metadata": {},
   "source": []
  },
  {
   "cell_type": "markdown",
   "metadata": {},
   "source": [
    "<a id='part0.5'></a>\n",
    "# <span style=\"color:navy\">Part 1.5: Laying out Power Supplies in Tinkercad</span>\n",
    "-----"
   ]
  },
  {
   "cell_type": "markdown",
   "metadata": {},
   "source": [
    "As we mentioned before, the voltage regulators given in TinkerCad are not the same as the ones given in your lab kit. It is important to note that the 5V regulator has the same pinout as the one in your lab kit, but the 3.3V regulator is different. In order to get the correct outputs from both of our regulators we will need to build some extra circuitry.\n",
    "\n",
    "The voltage regulators we will be using are the [LM317KCT](https://www.digikey.com/product-detail/en/texas-instruments/LM317KCT/296-35739-5-ND/3929530) and the [LM340T5](https://www.ti.com/product/LM340?qgpn=lm340). Please take a look at the links as well as their datasheets ([LM317's datasheet](https://www.ti.com/lit/ds/symlink/lm317.pdf?HQS=TI-null-null-digikeymode-df-pf-null-wwe&ts=1592346480922), [LM340T5's datasheet](https://www.ti.com/lit/ds/symlink/lm340.pdf)), to get familiarized with some of their limits (i.e. $V_{\\text{out}}$ and $V_{\\text{in}}$ range, current limits) and capabilities. The datasheets also come with some very helpful example circuits, along with their expected outputs, which we will be making now!"
   ]
  },
  {
   "cell_type": "markdown",
   "metadata": {},
   "source": [
    "## Voltage Regulators Starter Circuit\n",
    "\n",
    "In order to ensure that the regulators circuits are built correctly, we will first lay them out in TinkerCad to help you plan your circuit. As we mentioned before, TinkerCad does not have the right component, but for the purposes of layout we can use any 3 legged component. The idea is that you look at the pinout of the real device (given below) and design your circuit around that pinout in TinkerCad, using the TinkerCad component as a placeholder. Unfortunately, you WON'T be able to simulate the circuit. Just do the layout. \n",
    "\n",
    "**Please open the starter circuit, which can be found at: [Lab 1 Regulator Circuit Starter](https://www.tinkercad.com/things/iIgy5lfJUVS).** This starter has the components necessary to build our regulator circuits: a breadboad, 9V battery, 5V regulator (representing the LM340T5), 3.3V regulator (Representing the LM317), resistors, and capacitors."
   ]
  },
  {
   "cell_type": "markdown",
   "metadata": {},
   "source": [
    "### Layout and Circuits"
   ]
  },
  {
   "cell_type": "markdown",
   "metadata": {},
   "source": [
    "Below is the breadboard layout for the regulator circuits you will be building. You can see that it is similar to the one you used before for simulating the opamp circuit.\n",
    "<center>\n",
    "    <img width=\"800px\" src=\"images/breadboard_layout_tinkercad_1.png\">\n",
    "</center>\n"
   ]
  },
  {
   "cell_type": "markdown",
   "metadata": {},
   "source": [
    "### Tasks"
   ]
  },
  {
   "cell_type": "markdown",
   "metadata": {},
   "source": [
    "As a helpful tip throughout your labs: **KEEP YOUR CIRCUIT NEAT!** This means you should be reasonably minimizing the space that wires and other electrical components take up on your breadboard!\n",
    "\n",
    "\n",
    "1. **Layout the following circuit in TinkerCad using the 3.3V regulator device to emulate the LM317KCT regulator. The correct pinout you should assume is below (ignore the pin names on the TinkerCad component).**\n",
    "\n",
    "\n",
    "|Pinout:|Circuit:|\n",
    "|:-----:|:---------------:|\n",
    "|<img width=\"400px\" src=\"images/LM317_po.png\">|<img width=\"500px\" src=\"images/LM317KCT_circuit_diagram_1.png\">|\n",
    "\n",
    "Note: The LM317 is a multi-use device. It can be used to regulate current (current source) or voltages with different values. We will use it as a voltage source for $3.3V$ -- but that can be easily changed by using different resistors. The way the LM317 works is that it has internal circuitry (using opamps as well!) that keeps a stable $1.2V$ between the adjust pin and the output.  The resistance of $R_1 || R_2  = 0.500 k\\Omega$, so the total current through them will sum to $\\frac{1.2V}{0.5 k\\Omega} = 2.4mA$. That is also the total current going through $R_3 || R_4=0.86 k\\Omega$. So the voltage across $R_3$ and $R_4$ will be $2.06V$. This also means that the voltage at the output will be  $2.06V + 1.2V = 3.26V$ ~ $3.3V$  (Remember that resistors have variation and are not exact in practice).\n",
    "\n",
    "2. **Build the following circuit with the LM340T5 regulator.**\n",
    "\n",
    "\n",
    "|Pinout:|Circuit:|\n",
    "|:-----:|:---------------:|\n",
    "|<img width=\"400px\" src=\"images/LM340T5_po.png\">|<img width=\"500px\" src=\"images/LM340T5_circuit_diagram.png\">| \n",
    "\n",
    "Note: The LM340T5 is really just meant for 5V regulation (hence the 5 in LM340T5). So we use it as an input (9V) output (5V) device. Adding capacitors to the input and output is useful for removing all sorts of noise and interferences. You will see in class how capacitors are used as low-pass filters, which filter out high frequencies. \n",
    "    \n",
    "    \n",
    "3. **Add a decoupling capacitor (10 uF, code 106) between your 3.3 V rail and ground.** We are going to be working with some small signals, so we want to minimize any possible sources of noise (the power rails can be a large source of noise). Decoupling capacitors will reduce fluctuations on your rails (which can occur for example when the voltage source must supply a large amount of current across wires which actually have non-zero resistance and inductance) .  (https://en.wikipedia.org/wiki/Decoupling_capacitor) You should use them in every circuit you build <i>in the future for the rest of your life</i>.\n",
    "\n",
    "\n",
    "4. **Check with the lab staff that your TinkerCad circuit looks correct before moving on to the next steps.**"
   ]
  },
  {
   "cell_type": "markdown",
   "metadata": {},
   "source": [
    "<a id='part2'></a>\n",
    "# <span style=\"color:navy\">Part 2: From Simulation to Reality </span>\n",
    "-----"
   ]
  },
  {
   "cell_type": "markdown",
   "metadata": {},
   "source": [
    "In this section, we will take the layouts we made -- both the voltage regulator circuits and the op-amp circuit and lay them out on the physical breadboard you got with your lab kit. (Remember -- the location of the voltage regulators in the first simulation is the same as the location of the layout in the second TinkerCad layout)\n",
    "\n",
    "**Warning: The labeled coordinates on your physical breadboard and the label coordinates in TinkerCad may differ! Use a relative layout and --BE CAREFUL--**\n",
    "\n",
    "### Materials:\n",
    "- Breadboard\n",
    "- 9V wall adapter + cables\n",
    "- 1x LM317KCT (9V-to-3.3V) voltage regulator\n",
    "- 1x LM340T5 (9V-to-5V) voltage regulator\n",
    "- 2x 1 k$\\Omega$ Resistor\n",
    "- 1x 1.5 k$\\Omega$ Resistor\n",
    "- 1x 2 k$\\Omega$ Resistor\n",
    "- 2x 100 nF Capacitor <span style=\"color:red\"> (104) </span>\n",
    "- 1x 10 uF capacitors  <span style=\"color:red\"> (106) </span>\n",
    "- Digital Multimeter (DMM)\n",
    "\n",
    "### Tasks: \n",
    "\n",
    "1. For your reference, here is the what your breadboard layout should look like once your circuit is completed.\n",
    "\n",
    "<center>\n",
    "    <img width=\"800px\" src=\"images/breadboard_layout_tinkercad_1.png\">\n",
    "</center>\n",
    "\n",
    "\n",
    "#### 3.3V Regulator\n",
    "\n",
    "2. Build the 3.3V regulator using the LM317KCT based on the layout you made in part 1.5.\n",
    "\n",
    "3. Add the decoupling capacitor between your 3.3V rail and ground.\n",
    "\n",
    "4. Plug in the 9V battery / wall-adapter into the 9V rail.\n",
    "\n",
    "5. Use the multimeter to check that the output of your 3.3V regulator is around 3.3V. \n",
    "\n",
    "6. Disconnect the 9V battery / wall adapter.\n",
    "\n",
    "#### 5V Regulator\n",
    "\n",
    "7. Build the 5V regulator circuits using the LM340T5 based on the layout from part 1.5.\n",
    "\n",
    "8. Plug in the 9V battery / wall-adapter into the 9V rail.\n",
    "\n",
    "9. Check with your multimeter that the output of your 5V regulator is around 5V.\n",
    "\n",
    "#### Current Check\n",
    "\n",
    "10. Switch your multimeter to measuring current. Connect it in series with the 9V battery positive port. Measure and record the current. How much power is drawn out of the battery  when the circuit is idle? (i.e. nothing else connected to it)\n",
    "    - Your 9V battery should be connected to both regulator circuits!\n"
   ]
  },
  {
   "cell_type": "markdown",
   "metadata": {},
   "source": [
    "<a id='part2.5'></a>\n",
    "# <span style=\"color:navy\">Part 2.5: Inky, Pinky, ___________, and Clyde </span>\n",
    "-----"
   ]
  },
  {
   "cell_type": "markdown",
   "metadata": {
    "collapsed": true
   },
   "source": [
    "In this part, you will setup the MSP430 Lanchpad, and load a program which turns a pin on and off, similar to the Arduino in the TinkerCad simulation. \n",
    "\n",
    "\n",
    "## Tasks: \n",
    "\n",
    "### 1. Interacting with your Launchpad\n",
    "\n",
    "<br/>\n",
    "<center>\n",
    "<img width='500px'\n",
    "src=\"images/MSP430F5529.jpg\">\n",
    "</center>\n",
    "<br/>\n",
    "\n",
    "Throughout the lab curriculum, we will be relying on our MSP430 Launchpad to generate waveforms and display voltages as a function of time among other interesting and necessary functions in a lab. To load the programs that perform these functions and to get a sense of the code we writing to accomplish them, please install [TI's Energia IDE](https://energia.nu/download/). There are many helpful example programs in `Open > Examples` that will show you some of the basics of coding in C/C++ inside the Energia IDE.\n",
    "\n",
    "In general, to upload a program to your Launchpad, you will follow these steps:\n",
    "\n",
    "- Open the .ino file in Energia you wish to upload to your Launchpad.\n",
    "- Fill in any `#TODO` sections we may have left in the code for you to complete.\n",
    "- Click the Verify (Checkmark) button to make sure the program compiles correctly.\n",
    "- Fix any bugs that may have arisen.\n",
    "- Under `Tools > Ports` select the port that your MSP430 is connected to\n",
    "    - Windows: Open `Device Manager` and check under `Ports (COM & LPT)`\n",
    "    - Mac: Open `Terminal` and type the command `ls -ltrh /dev/cu.*` and choose the lower number of the device that includes \"uart\" or \"usbmodem\"\n",
    "- Click the Upload (Right-Arrow) button to upload the program to your Launchpad\n",
    "\n",
    "### Task:\n",
    "\n",
    "- Open `simple_square_wave.ino` in Energia. The Take a look at the code. This program will generate a square wave by switching pin p3.2 from 0V to 3.3V and from 3.3V back to 0V every 2 seconds. Make sure the delay is set to 2000 (ms). This waveform has the following formal properties:\n",
    "    - 0.25 Hz frequency -- on and off every 2 seconds\n",
    "    - 50% duty cycle  -- equal time between on and off\n",
    "    - 3.3Vpp -- Vpp means volts peak-to-peak. Peak-to-peak means the difference between the maximum and the minimum of the wave.\n",
    "    - 1.65V offset -- so oscilating between 0->3.3V\n",
    "    \n",
    "- Load the program to your MSP430 Launchpad.\n",
    "- Using the multimeter, measure the voltage between pin P3.2 and the grond pin. If everything is working correctly, the multimeter should change values from 0 to 3.3V every 2 seconds. "
   ]
  },
  {
   "cell_type": "markdown",
   "metadata": {},
   "source": [
    "<a id='part3'></a>\n",
    "# <span style=\"color:navy\">Part 3: Physical op-amp circuit .... for real! </span>\n",
    "-----"
   ]
  },
  {
   "cell_type": "markdown",
   "metadata": {},
   "source": [
    "In this part, you will realize the op-amp inverter circuit from the simlation in part 0. You will drive the circit with the Lanchpad and see the LEDs blinking out of sync. \n",
    "\n",
    "## Materials:\n",
    "- Breadboard\n",
    "- Wires\n",
    "- Op amp  <span style=\"color:red\"> LMC6482AIN </span> [data sheet](https://www.ti.com/general/docs/suppproductinfo.tsp?distId=10&gotoUrl=http%3A%2F%2Fwww.ti.com%2Flit%2Fgpn%2Flmc6482)\n",
    "- M-to-F jumper wires\n",
    "- 2x <span style=\"color:red\"> red </span> LEDs\n",
    "- 2x 10 $\\Omega$ resistor\n",
    "- 2x 1 k$\\Omega$ resistor\n",
    "- 2x 20 k$\\Omega$ resistor\n",
    "\n",
    "\n",
    "### 1. Build the circuit below.\n",
    "\n",
    "\n",
    "**NOTE: The op-amp pinout in TinkerCad is slightly different. Do not wire the white wires that we used to reroute the op-amp V+ and out. Instead, look at the pinout diagram below for the correct layout. The rest of the pins are the same as TinkerCad. So the layout should be similar!**\n",
    "\n",
    "<center>\n",
    "<img width='500px'\n",
    "src=\"images/blink_inverting_circuit_diagram_1.png\">\n",
    "</center>\n",
    "\n",
    "**NOTE:** The op-amps in your circuit kit are the 8-legged black components with a half-circle on one side. The pins (legs) correspond to the following nodes:\n",
    "<center>\n",
    "<img width='500px'\n",
    "src=\"images/op_amp_pinout.png\">\n",
    "</center>\n",
    "\n",
    "### 2. Test your amplifier.\n",
    "\n",
    "\n",
    "- Connect the correct DC voltages to $V_{\\text{dd}}$ and $V_{\\text{ss}}$.\n",
    "\n",
    "\n",
    "The program `simple_square_wave.ino` is already loaded in the MSP430 Launchpad. \n",
    "- Connect pin P3.2 on your launchpad to the corresponding node in the circuit.\n",
    "- Connect the GND pin on your launchpad to the ground rail on your breadboard.\n",
    "\n",
    "Do you see a similar behavior as the simulation?\n",
    "\n",
    "\n"
   ]
  },
  {
   "cell_type": "markdown",
   "metadata": {},
   "source": [
    "<a id='part4'></a>\n",
    "# <span style=\"color:#ba190f\">CHECKOFF </span> \n",
    "-----\n",
    "    \n",
    "\n",
    "\n",
    "### For Checkoff:\n",
    "\n",
    "- Show your GSI both LEDs when connected to the proper input.\n",
    "- Be prepared to answer some questions. <i> Hint: Go over the questions about op-amps in the TinkerCad section! </i>\n",
    "\n",
    "**After checkoff, please:**\n",
    "\n",
    "- Keep the voltage regulator circuits on your breadboard!\n",
    "- Dismantle the op-amp circuit.\n",
    "- Store all your electrical components in a neat and organized manner.\n",
    "- Make sure that all components that you received in your lab kit are stored safely for use in future labs.\n",
    "\n",
    "### Save this notebook somewhere you can access it! \n",
    "\n",
    "We recommend making a shared google drive with your lab partner, since github can be annoying with jupyter notebooks. You will **NOT** need this circuit for next week's lab, but it's good to start saving your jupyter notebooks now so that you will always have access to your lab work.\n",
    "\n",
    "Backups are always a good idea."
   ]
  },
  {
   "cell_type": "code",
   "execution_count": null,
   "metadata": {
    "collapsed": true
   },
   "outputs": [],
   "source": []
  }
 ],
 "metadata": {
  "anaconda-cloud": {},
  "kernelspec": {
   "display_name": "Python 3",
   "language": "python",
   "name": "python3"
  },
  "language_info": {
   "codemirror_mode": {
    "name": "ipython",
    "version": 3
   },
   "file_extension": ".py",
   "mimetype": "text/x-python",
   "name": "python",
   "nbconvert_exporter": "python",
   "pygments_lexer": "ipython3",
   "version": "3.6.1"
  }
 },
 "nbformat": 4,
 "nbformat_minor": 2
}
