{
 "cells": [
  {
   "cell_type": "markdown",
   "metadata": {},
   "source": [
    "\n",
    "# Lab 1: Op-Amp Basics\n",
    "### EE16B: Designing Information Devices and Systems II, Summer 2020\n",
    "\n",
    "\n",
    "Updated by Rafael Calleja (2020)\n",
    "\n",
    "rafael.calleja@berkeley.edu\n",
    "\n",
    "-----"
   ]
  },
  {
   "cell_type": "markdown",
   "metadata": {},
   "source": [
    "**Name 1**: \n",
    "\n",
    "**Login**: ee16b-\n",
    "\n",
    "\n",
    "**Name 2**:\n",
    "\n",
    "**Login**: ee16b-"
   ]
  },
  {
   "cell_type": "markdown",
   "metadata": {},
   "source": [
    "<a id='part0'></a>\n",
    "## <span style=\"color:#075a04\">NOTE: All questions in green are required for checkoff! </span>\n",
    "\n"
   ]
  },
  {
   "cell_type": "markdown",
   "metadata": {},
   "source": [
    "<a id='part0'></a>\n",
    "# <span style=\"color:navy\">Part 0: Introduction </span>\n",
    "-----"
   ]
  },
  {
   "cell_type": "markdown",
   "metadata": {},
   "source": [
    "## Materials:\n",
    "- Lab notes\n",
    "- Debugging guide\n",
    "- Headphones\n",
    "\n",
    "## Tasks:\n",
    "\n",
    "### 1. The art of debugging\n",
    "[Lab Note](https://drive.google.com/file/d/1dhjV0XQFIP8t7vyv1pzCdYv4qqi-D_8B/view?usp=sharing\n",
    ")\n",
    "- Read over the debugging guide and watch the linked videos. They will introduce you to the tools of the lab which will help you build and debug the circuits in EE16B.\n",
    "\n",
    "### 2. Review\n",
    "- Review the lab notes. Every lab will come with notes that provide a technical review of the concepts covered in lab as well as theoretical connections. **You should read the notes before lab.** The notes serve as review and may help you as a reference during lab section.\n",
    "\n",
    "\n",
    "### 3. Equipment\n",
    "- Make sure you have received the EE16B lab kit!"
   ]
  },
  {
   "cell_type": "markdown",
   "metadata": {},
   "source": [
    "<a id='part1'></a>\n",
    "# <span style=\"color:navy\">Part 1: Our Power Supplies </span>\n",
    "-----"
   ]
  },
  {
   "cell_type": "markdown",
   "metadata": {},
   "source": [
    "\n",
    "For almost all of the circuits you will be building throughout lab, you will need a power supply. To achieve this you will be making a voltage regulator circuit. In general, a voltage regulator takes in some voltage $V_{\\text{in}}$, and outputs some stable voltage $V_{\\text{out}}$. Our circuit for this lab  will take as input the 9V batteries given to you in your lab kit and will output different voltages according to the electrical components we connect to our voltage regulators.\n",
    "\n",
    "\n",
    "### <span style=\"color:navy\">Voltage Regulator</span>\n",
    "\n",
    "\n",
    "The voltage regulator we will be using is the [LM317KCT](https://www.digikey.com/product-detail/en/texas-instruments/LM317KCT/296-35739-5-ND/3929530) and the [LM340T5](https://www.ti.com/product/LM340?qgpn=lm340). Please take a look at the previous links as well as their datasheets ([LM317's datasheet](https://www.ti.com/lit/ds/symlink/lm317.pdf?HQS=TI-null-null-digikeymode-df-pf-null-wwe&ts=1592346480922), [LM340T5's datasheet](https://www.ti.com/lit/ds/symlink/lm340.pdf)), to get familiarized with some of their limits (i.e. $V_{\\text{out}}$ and $V_{\\text{in}}$ range, current limits) and capabilities. The datasheets also come with some very helpful example circuits along with their expected outputs which we will be making now!\n",
    "\n",
    "\n",
    "<center>\n",
    "\n",
    "</center>\n",
    "\n",
    "-----\n",
    "\n",
    "### Materials:\n",
    "- 9V wall adapter + cables\n",
    "- 1x LM317KCT (9V-to-3.3V) voltage regulator\n",
    "- 1x LM340T5 (9V-to-5V) voltage regulator\n",
    "- 2x 1 k$\\Omega$ Resistor\n",
    "- 1x 1.5 k$\\Omega$ Resistor\n",
    "- 1x 2 k$\\Omega$ Resistor\n",
    "- 2x 100 nF Capacitor <span style=\"color:red\"> (104) </span>\n",
    "- 1x 10 uF capacitors  <span style=\"color:red\"> (106) </span>\n",
    "- Digital Multimeter (DMM)\n",
    "\n",
    "### Tasks: \n",
    "\n",
    "1. Once you've built the following circuits, your breadboard should look something like this:\n",
    "\n",
    "<center>\n",
    "    <img width=\"500px\" src=\"images/breadboard_layout.png\">\n",
    "</center>\n",
    "\n",
    "<span style=\"color:red\"> Miki Comment: change to voltage regulator circuits </span>\n",
    "- As a helpful tip throughout your labs: **KEEP YOUR CIRCUIT NEAT!** This means you should be reasonably minimizing the space that wires and other electrical components take up on your breadboard!\n",
    "\n",
    "2. **Build the following circuit with the LM317KCT regulator. <span style=\"color:red\"> Before wiring your 9V wall adapter to the voltage regulator, please make sure to check that the circuit is correct with the lab staff! </span>**\n",
    "\n",
    "\n",
    "|Pinout:|Circuit:|\n",
    "|:-----:|:---------------:|\n",
    "|<img width=\"400px\" src=\"images/LM317_po.png\">|<img width=\"500px\" src=\"images/LM317KCT_circuit_diagram.png\">|\n",
    "\n",
    "<span style=\"color:red\"> Miki Comment: better to show releif of the part,  so it is not connected in the wrong way. Also, is R3=1.5 Ohm or 1.5K Ohm? </span>\n",
    "\n",
    "3. **Build the following circuit with the LM340T5 regulator. <span style=\"color:red\"> Before wiring your 9V wall adapter to the voltage regulator, please make sure to check that the circuit is correct with the lab staff! </span>**\n",
    "\n",
    "\n",
    "|Pinout:|Circuit:|\n",
    "|:-----:|:---------------:|\n",
    "|<img width=\"400px\" src=\"images/LM340T5_po.png\">|<img width=\"500px\" src=\"images/LM340T5_circuit_diagram.png\">| \n",
    "    \n",
    "4. **Add a decoupling capacitor (10 uF, code 106) between your 3.3 V rail and ground.** We are going to be working with some small signals, so we want to minimize any possible sources of noise, and the power rails can be a large source of noise. Decoupling capacitors will reduce fluctuations on your rails (which can occur for example when the voltage source must supply a large amount of current across wires which actually have non-zero resistance and inductance) .  (https://en.wikipedia.org/wiki/Decoupling_capacitor) You should use them in every circuit you build <i>in the future for the rest of your life</i>.\n",
    "\n",
    "\n",
    "\n",
    "6. **<span style=\"color:red\">Use your digital multimeter to verify that $V_{\\text{out}}$ is ~3.45V and ~5V for the LM317KCT and LM340T5 respectively.</span>** "
   ]
  },
  {
   "cell_type": "markdown",
   "metadata": {},
   "source": [
    "<a id='part1'></a>\n",
    "# <span style=\"color:navy\">Part 2: Inky, Pinky, ___________, and Clyde </span>\n",
    "-----"
   ]
  },
  {
   "cell_type": "markdown",
   "metadata": {
    "collapsed": true
   },
   "source": [
    "## Materials:\n",
    "- Breadboard\n",
    "- Wires\n",
    "- Op amp  <span style=\"color:red\"> LMC6482AIN </span> [data sheet](https://www.ti.com/general/docs/suppproductinfo.tsp?distId=10&gotoUrl=http%3A%2F%2Fwww.ti.com%2Flit%2Fgpn%2Flmc6482)\n",
    "- M-to-F jumper wires\n",
    "- 2x <span style=\"color:red\"> red </span> LEDs\n",
    "- 2x 10 $\\Omega$ resistor\n",
    "- 2x 1 k$\\Omega$ resistor\n",
    "- 2x 20 k$\\Omega$ resistor\n",
    "\n",
    "\n",
    "## Tasks: \n",
    "\n",
    "### 1. Interacting with your Launchpad\n",
    "\n",
    "\n",
    "<center>\n",
    "<img width='500px'\n",
    "src=\"images/MSP430F5529.jpg\">\n",
    "</center>\n",
    "\n",
    "Throughout the lab curriculum, we will be relying on our MSP430 Launchpad to generate waveforms and display voltages as a function of time among other interesting and necessary functions in a lab. To load the programs that perform these functions and to get a sense of the code we writing to accomplish them, please install [TI's Energia IDE](https://energia.nu/download/). There are many helpful example programs in `Open > Examples` that will show you some of the basics of coding in C/C++ inside the Energia IDE.\n",
    "\n",
    "In general, to upload a program to your Launchpad, you will follow these steps:\n",
    "\n",
    "- Open the .ino file in Energia you wish to upload to your Launchpad.\n",
    "- Fill in any `#TODO` sections we may have left in the code for you to complete.\n",
    "- Click the Verify (Checkmark) button to make sure the program compiles correctly.\n",
    "- Fix any bugs that may have arisen.\n",
    "- Click the Upload (Right-Arrow) button to upload the program to your Launchpad\n",
    "\n",
    "### 2. Build the circuit below.\n",
    "\n",
    "<span style=\"color:red\"> Miki Comment: would be good to suggest where to build. </span>\n",
    "\n",
    "<center>\n",
    "<img width='500px'\n",
    "src=\"images/blink_inverting_circuit_diagram_1.png\">\n",
    "</center>\n",
    "\n",
    "**NOTE:** The op-amps in your circuit kit are the 8-legged black components with a half-circle on one side. The pins (legs) correspond to the following nodes:\n",
    "<center>\n",
    "<img width='500px'\n",
    "src=\"images/op_amp_pinout.png\">\n",
    "</center>\n",
    "\n",
    "### 3. Test your amplifier.\n",
    "\n",
    "- Load in `simple_square_wave.ino` to your MSP430 Launchpad. This program will generate a square wave with the following properties:\n",
    "    - 1 Hz frequency\n",
    "    - 50% duty cycle\n",
    "    - 3.3Vpp\n",
    "        - Vpp means volts peak-to-peak. Peak-to-peak means the difference between the maimum and the minimum of the sine wave (twice the amplitude).\n",
    "    - 1.65V offset\n",
    "\n",
    "- Connect pin P3.2 on your launchpad to the corresponding node in the circuit.\n",
    "- Connect $V_{\\text{ref}}$ to the 3.3V pin on your launchpad.\n",
    "\n",
    "<span style=\"color:red\">  Miki comment:  Vdd=V+,  Vss = V- , what about ground?????/</span>\n",
    "- **Sanity Check Question:** <span style=\"color:#ba190f\">**What should VDD and VSS be?**</span> Hint: what is the range of the input square wave signal? What is our gain? What will the range of the output signal be? \n",
    "\n",
    "- Connect the correct DC voltages to $V_{\\text{dd}}$ and $V_{\\text{ss}}$.\n",
    "\n",
    "< _YOUR ANSWER HERE_ >\n",
    "\n"
   ]
  },
  {
   "cell_type": "markdown",
   "metadata": {},
   "source": [
    "\n",
    "### 3. Behavior of the circuit\n",
    "\n",
    "- What voltage is the + terminal of the op amp connected to? Why do we need it to be connected to this voltage value?\n",
    "\n",
    "< _YOUR ANSWER HERE_ >\n",
    "\n",
    "- What does the circuit do? Hint: what is the expected behavior of LED1 and LED2 for a square wave input?\n",
    "\n",
    "< _YOUR ANSWER HERE_ >\n",
    "\n",
    "- Make sure to understand what the input and output of the op-amp are and show the circuit behavior during checkoff."
   ]
  },
  {
   "cell_type": "markdown",
   "metadata": {},
   "source": [
    "<a id='part2'></a>\n",
    "## <span>Questions:</span>\n",
    "\n",
    "#### <span style=\"color:#075a04\">Ex. Are you a human of action or thought?</span>  \n",
    "Answer: both."
   ]
  },
  {
   "cell_type": "markdown",
   "metadata": {},
   "source": [
    "#### <span style=\"color:#075a04\"> 1. What is the circuit?  What does it do to the input signal?"
   ]
  },
  {
   "cell_type": "markdown",
   "metadata": {},
   "source": [
    "< _YOUR ANSWER HERE_ >"
   ]
  },
  {
   "cell_type": "markdown",
   "metadata": {},
   "source": [
    "#### <span style=\"color:#075a04\"> 2. What is the gain of the circuit?"
   ]
  },
  {
   "cell_type": "markdown",
   "metadata": {},
   "source": [
    "< _YOUR ANSWER HERE_ >"
   ]
  },
  {
   "cell_type": "markdown",
   "metadata": {},
   "source": [
    "#### <span style=\"color:#075a04\"> 3. How can you change the gain?\n"
   ]
  },
  {
   "cell_type": "markdown",
   "metadata": {},
   "source": [
    "< _YOUR ANSWER HERE_ >"
   ]
  },
  {
   "cell_type": "markdown",
   "metadata": {},
   "source": [
    "#### <span style=\"color:#075a04\"> 4. What happens when you:\n",
    "\n",
    "#### <span style=\"color:#075a04\"> a) Flip the polarity (i.e. swap the inputs of the inverting and noninverting input terminals of the op-amp)?"
   ]
  },
  {
   "cell_type": "markdown",
   "metadata": {},
   "source": [
    "< _YOUR ANSWER HERE_ >"
   ]
  },
  {
   "cell_type": "markdown",
   "metadata": {},
   "source": [
    "#### <span style=\"color:#075a04\"> b) Short \"+\" and \"-\" _input_ terminals (NOT VSS and VDD)?"
   ]
  },
  {
   "cell_type": "markdown",
   "metadata": {},
   "source": [
    "< _YOUR ANSWER HERE_ >"
   ]
  },
  {
   "cell_type": "markdown",
   "metadata": {},
   "source": [
    "#### <span style=\"color:#075a04\"> c) Increase Rf? Hint: what is the maximum amplitude the circuit can output?"
   ]
  },
  {
   "cell_type": "markdown",
   "metadata": {},
   "source": [
    "< _YOUR ANSWER HERE_ >"
   ]
  },
  {
   "cell_type": "markdown",
   "metadata": {},
   "source": [
    "#### <span style=\"color:#075a04\"> d) What happens if the op-amp's VSS = -1 V?"
   ]
  },
  {
   "cell_type": "markdown",
   "metadata": {},
   "source": [
    "< _YOUR ANSWER HERE_ >"
   ]
  },
  {
   "cell_type": "markdown",
   "metadata": {},
   "source": [
    "#### <span style=\"color:#075a04\"> e) Keeping $\\frac{R_f}{R_{in}}$ constant, do the resistors' values affect circuit output / performance (ex: $\\frac{100k \\Omega}{10k\\Omega}$ equivalent to $\\frac{100\\Omega}{10\\Omega}$)? Is it better to use large or small resistor values, and why?"
   ]
  },
  {
   "cell_type": "markdown",
   "metadata": {},
   "source": [
    "< _YOUR ANSWER HERE_ >"
   ]
  },
  {
   "cell_type": "markdown",
   "metadata": {},
   "source": [
    "<a id='part4'></a>\n",
    "# <span style=\"color:#ba190f\">CHECKOFF </span> \n",
    "-----\n",
    "    \n",
    "\n",
    "\n",
    "### For Checkoff:\n",
    "\n",
    "- First take the checkoff quiz: http://tinyurl.com/debugLabQuiz\n",
    "- Show your GSI both LEDs when connected to the proper input.\n",
    "- Show your GSI your completed quiz.\n",
    "- Be prepared to answer some questions.\n",
    "\n",
    "**After checkoff, please:**\n",
    "\n",
    "- Keep the voltage regulator circuits on your breadboard!\n",
    "- Dismantle the op-amp circuit.\n",
    "- Store all your electrical components in a neat and organized manner.\n",
    "- Make sure that all components that you received in your lab kit are stored safely for use in future labs.\n",
    "\n",
    "### Save this notebook somewhere you can access it! \n",
    "\n",
    "We recommend making a shared google drive with your lab partner, since github can be annoying with jupyter notebooks. You will **NOT** need this circuit for next week's lab, but it's good to start saving your jupyter notebooks now so that you will always have access to your lab work.\n",
    "\n",
    "Backups are always a good idea."
   ]
  },
  {
   "cell_type": "code",
   "execution_count": null,
   "metadata": {
    "collapsed": true
   },
   "outputs": [],
   "source": []
  }
 ],
 "metadata": {
  "anaconda-cloud": {},
  "kernelspec": {
   "display_name": "Python 3",
   "language": "python",
   "name": "python3"
  },
  "language_info": {
   "codemirror_mode": {
    "name": "ipython",
    "version": 3
   },
   "file_extension": ".py",
   "mimetype": "text/x-python",
   "name": "python",
   "nbconvert_exporter": "python",
   "pygments_lexer": "ipython3",
   "version": "3.6.1"
  }
 },
 "nbformat": 4,
 "nbformat_minor": 2
}
