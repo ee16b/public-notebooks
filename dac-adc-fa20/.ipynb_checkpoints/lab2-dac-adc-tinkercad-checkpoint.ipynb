{
 "cells": [
  {
   "cell_type": "markdown",
   "metadata": {},
   "source": [
    "# Analog-Digital Circuit Interfaces\n",
    "\n",
    "### EE 16B: Designing Information Devices and Systems II, Summer 2020\n",
    "\n",
    "Updated by Mia Mirkovic (2020)\n",
    "\n",
    "miamirkovic@berkeley.edu\n",
    "\n",
    "Updated by Rafael Calleja, Steven Lu (2020)\n",
    "\n",
    "-----"
   ]
  },
  {
   "cell_type": "markdown",
   "metadata": {},
   "source": [
    "## Table of Contents\n",
    "\n",
    "* [Part 0: Lab Note](#part0)\n",
    "* [Part 1: Digital to Analog Converters (DACs)](#part1)\n",
    "* [Part 2: Analog to Digital Converters (ADCs)](#part2)"
   ]
  },
  {
   "cell_type": "markdown",
   "metadata": {},
   "source": [
    "#  <span style=\"color:navy\"> Lab 1 Check: Regulator Circuit </span>\n",
    "---"
   ]
  },
  {
   "cell_type": "markdown",
   "metadata": {},
   "source": [
    "As a helpful tip throughout your labs: **KEEP YOUR CIRCUIT NEAT!** This means you should be reasonably minimizing the space that wires and other electrical components take up on your breadboard!\n",
    "\n",
    "If you haven't already, use your TinkerCad layout for the regulator circuits in lab 1 to build the following circuits on your physical breadboard:\n",
    "\n",
    "#### 3.3V Regulator\n",
    "\n",
    "\n",
    "1. **Build the 3.3V regulator using the LM317KCT based on the layout you made in Lab 1 Part 1.5.**\n",
    "\n",
    "|Pinout:|Circuit:|\n",
    "|:-----:|:---------------:|\n",
    "|<img width=\"400px\" src=\"imgs/LM317_po.png\">|<img width=\"500px\" src=\"imgs/LM317KCT_circuit_diagram_1.png\">|\n",
    "\n",
    "\n",
    "2. Add the decoupling capacitor between your 3.3V rail and ground.\n",
    "\n",
    "3. Plug in the 9V battery / wall-adapter into the 9V rail.\n",
    "\n",
    "4. Use the multimeter to check that the output of your 3.3V regulator is around 3.3V. \n",
    "\n",
    "5. Disconnect the 9V battery / wall adapter.\n",
    "\n",
    "#### 5V Regulator\n",
    "\n",
    "6. **Build the 5V regulator circuits using the LM340T5 based on the layout from Lab 1 Part 1.5.**\n",
    "\n",
    "|Pinout:|Circuit:|\n",
    "|:-----:|:---------------:|\n",
    "|<img width=\"400px\" src=\"imgs/LM340T5_po.png\">|<img width=\"500px\" src=\"imgs/LM340T5_circuit_diagram.png\">|\n",
    "\n",
    "7. Plug in the 9V battery / wall-adapter into the 9V rail.\n",
    "\n",
    "8. Check with your multimeter that the output of your 5V regulator is around 5V.\n",
    "    \n",
    "9. **Add a decoupling capacitor (10 uF, code 106) between your 3.3 V rail and ground.**\n",
    "\n",
    "\n",
    "#### Current Check\n",
    "\n",
    "10. Switch your multimeter to measuring current. Connect it in series with the 9V battery positive port. Measure and record the current. How much power is drawn out of the battery  when the circuit is idle? (i.e. nothing else connected to it)\n",
    "    - Your 9V battery should be connected to both regulator circuits!"
   ]
  },
  {
   "cell_type": "markdown",
   "metadata": {},
   "source": [
    "<a id='part1'></a>\n",
    "# <span style=\"color:navy\">Part 1: Digital to Analog Converters (DACs)</span>\n",
    "-----"
   ]
  },
  {
   "cell_type": "markdown",
   "metadata": {},
   "source": [
    "### 1.0. Please read Part 1 of the [lab note](https://drive.google.com/file/d/11XFdF8O0T3PGzGejyiGF8z3hVolKgjos/view?usp=sharing).\n"
   ]
  },
  {
   "cell_type": "markdown",
   "metadata": {},
   "source": [
    "<img style=\"width: 400px\" src=\"imgs/lab2_r_2r.png\">"
   ]
  },
  {
   "cell_type": "markdown",
   "metadata": {},
   "source": [
    "## Questions\n",
    "\n",
    "For the questions below, we assume we have an $n = 3$ bit DAC. Don't forget to show your GSI your work! (Hint: Superposition)\n",
    "\n",
    "**<span style=\"color:#ba190f\">Please do not spend too long on these questions. If you get stuck, ask for help.</span>**\n",
    "\n",
    "**<span style=\"color:#075a04\">1. Assuming [$V_0, V_1, V_2$] = [0,0,0] (all in volts), what is $V_{out}$?</span>**\n"
   ]
  },
  {
   "cell_type": "markdown",
   "metadata": {},
   "source": [
    "< YOUR ANSWER HERE >"
   ]
  },
  {
   "cell_type": "markdown",
   "metadata": {},
   "source": [
    "**<span style=\"color:#075a04\">2. Assuming [$V_0, V_1, V_2$] = [0,1,0], what is $V_{out}$?</span>**"
   ]
  },
  {
   "cell_type": "markdown",
   "metadata": {},
   "source": [
    "< YOUR ANSWER HERE >"
   ]
  },
  {
   "cell_type": "markdown",
   "metadata": {},
   "source": [
    "**<span style=\"color:#075a04\">3. Assuming [$V_0, V_1, V_2$] = [1,1,1], what is $V_{out}$?</span>**\n"
   ]
  },
  {
   "cell_type": "markdown",
   "metadata": {},
   "source": [
    "< YOUR ANSWER HERE >"
   ]
  },
  {
   "cell_type": "markdown",
   "metadata": {},
   "source": [
    "**<span style=\"color:#075a04\">4. Assuming [$V_0, V_1, V_2$] = [0,0,1], what is $V_{out}$?</span>**\n"
   ]
  },
  {
   "cell_type": "markdown",
   "metadata": {},
   "source": [
    "< YOUR ANSWER HERE >"
   ]
  },
  {
   "cell_type": "markdown",
   "metadata": {},
   "source": [
    "## TinkerCad\n",
    "---"
   ]
  },
  {
   "cell_type": "markdown",
   "metadata": {},
   "source": [
    "Now that we have an idea of what the outputs of an **R-2R Ladder** are, we will now build it in TinkerCad!\n",
    "\n",
    "Open the starter circuit, which can be found at: [Lab 2: DAC/ADC Starter Circuit](https://www.tinkercad.com/things/iADH15SUs2T).\n",
    "\n",
    "### (Virtual) Materials\n",
    "\n",
    "- Breadboard\n",
    "- 9V Battery\n",
    "- 1 $k\\Omega$ Resistors\n",
    "- 2 $k\\Omega$ Resistors\n",
    "- Arduino (similar to your MSP430 Launchpad)\n",
    "- Multimeter"
   ]
  },
  {
   "cell_type": "markdown",
   "metadata": {},
   "source": [
    "### 1.1. Build the 3-bit DAC\n",
    "\n",
    "Use the diagram below to build a 3-bit DAC using the $1K\\Omega$ and $2 K\\Omega$ resistors. Use the jumper wires to connect the Arduino to the circuit. For example `8` below tells you to connect that node on the breadboard to pin `8` on the Arduino. In this circuit, the Arduino will act as a signal generator.\n",
    "\n",
    "<img style=\"width: 400px\" src=\"imgs/lab2_r_2r_pins_tinkercad.png\">"
   ]
  },
  {
   "cell_type": "markdown",
   "metadata": {},
   "source": [
    "### 1.2. Running the 3-bit DAC\n",
    "\n",
    "**Make sure to connect the ground of your Launchpad with the ground of your circuit!**\n",
    "\n",
    "- Open the file `dac_data_tinkercad.ino` in any text editor and skim the code.\n",
    "    - **What do you expect the output of the DAC to be?** This understanding is **vital** to the debugging process: _if you don't know what you're looking for, how can you know if your result is correct or not?_\n",
    "- Copy everything from `dac_data_tinkercad.ino` to the `Code` section in TinkerCad. \n",
    "    - Make sure to change the `Code` type from `Block` to `Text`.\n",
    "    - The code outputs an increasing and decreasing binary number in pins `8`, `12`, `13`, where pin `13` is the least significant bit (LSB).\n",
    "- Connect pin `A0` to $V_{OUT}$.\n",
    "- **Hit `Start Simulation`.**\n",
    "- Open the serial plotter by clicking on `Code > Serial Monitor > Graph`. Does the output look like what you expect?\n",
    "- Take a screenshot of your serial monitor once it has stopped updating. **Be ready to show and explain these results to lab staff during checkoff!**\n"
   ]
  },
  {
   "cell_type": "markdown",
   "metadata": {},
   "source": [
    "### 1.3. Build the 4-bit DAC\n",
    "- **Modify both your circuit and the Arduino code** to extend the 3-bit DAC to 4 bits.\n",
    "    - **You should use pin `7` for the new most significant bit (MSB). Keep using pin A0 for the output of the DAC**.\n",
    "    - All you have to do to the code is change `BITS` to 4.\n",
    "- Repeat the steps in 1.2 for the 4-bit DAC."
   ]
  },
  {
   "cell_type": "markdown",
   "metadata": {},
   "source": [
    "## Physical Circuit\n",
    "---"
   ]
  },
  {
   "cell_type": "markdown",
   "metadata": {},
   "source": [
    "### Materials\n",
    "- MSP430 Launchpad + USB cable\n",
    "- Jumper wires\n",
    "- 1 k$\\Omega$ Resistors\n",
    "- 2 k$\\Omega$ Resistors\n",
    "- Breadboard\n",
    "- Multimeter"
   ]
  },
  {
   "cell_type": "markdown",
   "metadata": {},
   "source": [
    "### 1.3. Build the 3-bit DAC\n",
    "\n",
    "Use the diagram below to build the 3-bit DAC using the $1K\\Omega$ and $2 K\\Omega$ resistors. Use the jumper wires to connect the Launchpad to the circuit. For example `P4.1` below tells you to connect that node on the breadboard to pin `4.1` on the Launchpad. In this circuit, the Launchpad will act as a signal generator.\n",
    "\n",
    "<img style=\"width: 400px\" src=\"imgs/lab2_r_2r_pins_noled.png\">"
   ]
  },
  {
   "cell_type": "markdown",
   "metadata": {},
   "source": [
    "### 1.4. Running the 3-bit DAC\n",
    "\n",
    "**Make sure to connect the ground of your Launchpad with the ground of your circuit!**\n",
    "\n",
    "- Open the file `dac_data.ino` in Energia and skim the code.\n",
    "- Upload the code to your Launchpad.\n",
    "- Connect pin `6.0` to $V_{OUT}$.\n",
    "- **Press the `RST` button on your Launchpad.**\n",
    "- Open the serial plotter and **set the Baud to 9600**. Does the output look like what you expect?\n"
   ]
  },
  {
   "cell_type": "markdown",
   "metadata": {},
   "source": [
    "### 1.4. Build the 4-bit DAC\n",
    "- **Modify both your circuit and the Launchpad code** to extend the 3-bit DAC to 4 bits.\n",
    "    - **You should use pin `3.2` for the new most significant bit (MSB)**.\n",
    "    - All you have to do to the code is change `BITS` to 4.\n",
    "- Repeat the steps in 1.4 for the 4-bit DAC."
   ]
  },
  {
   "cell_type": "markdown",
   "metadata": {},
   "source": [
    "<a id='part2'></a>\n",
    "# <span style=\"color:navy\">Part 2: Analog to Digital Converters (ADCs)</span>\n",
    "-----"
   ]
  },
  {
   "cell_type": "markdown",
   "metadata": {},
   "source": [
    "### 2.0. Please read Part 2 of the [lab note](https://drive.google.com/file/d/11XFdF8O0T3PGzGejyiGF8z3hVolKgjos/view?usp=sharing)."
   ]
  },
  {
   "cell_type": "markdown",
   "metadata": {},
   "source": [
    "## TinkerCad\n",
    "---"
   ]
  },
  {
   "cell_type": "markdown",
   "metadata": {},
   "source": [
    "### (Virtual) Materials\n",
    "- 4-bit DAC\n",
    "- Op-amp\n",
    "- Potentiometer"
   ]
  },
  {
   "cell_type": "markdown",
   "metadata": {},
   "source": [
    "### 2.1. Build the ADC (TinkerCad)\n",
    "\n",
    "While we've already written the code for the ADC, you'll still need to make some changes to your circuit. Specifically, **you will need to build the analog input** and the part that compares the output of the DAC to the analog input and feeds the result of the comparison back to pin `A1` on the Arduino (hint: it's the comparator). \n",
    "\n",
    "\n",
    "1. In TinkerCad, build the analog input circuit shown below using the potentiometer.\n",
    "    - The TinkerCad Arduino uses 5V pin logic (HIGH: 5V, Low: GND). _What should your $V_{DD}$ be for this circuit?_\n",
    "    - When you turn the knob on the potentiometer, the voltage at the node labeled \"analog input\" should change. Probe that node with a multimeter and watch the voltage change as you turn the knob.\n",
    "    - On the Tinkercad potentiometer, connect \"Terminal 1\" to VDD, \"Terminal 2\" to GND, and \"Wiper\" will be \"analog input\".\n",
    "    \n",
    "<img style=\"width: 200px\" src=\"imgs/analog_input_circuit.png\">\n",
    "    \n",
    "**You've already built the 4-bit DAC, so just build the rest of the ADC around that.**\n",
    "\n",
    "2. Use the diagram shown below to turn your 4-bit DAC into a 4-bit ADC using the op-amp.\n",
    "    - The pinout of TinkerCad's LM741 op-amp is given as reference. Ignore NC and Offset Null. _What should $V_{dd}$ and $V_{ss}$ be for this op-amp?_\n",
    "\n",
    "<img style=\"width: 400px\" src=\"imgs/lab2_adc_tinkercad.png\">\n",
    "<img style=\"width: 400px\" src=\"imgs/LM741_pinout_updated.png\">"
   ]
  },
  {
   "cell_type": "markdown",
   "metadata": {},
   "source": [
    "### 2.2. Run the ADC (TinkerCad)\n",
    "\n",
    "- Open the file `sar_adc_data_tinkercad.ino` and skim the code. It reads from pin `A1` and outputs the approximated result in pins `7`, `8`, `12`, `13` with pin `13` as the LSB.\n",
    "- Copy and paste the entire file into the Tinkercad code window. Again, make sure you're on Text, not Block.\n",
    "- Use the potentiometer to control the input voltage (which ranges from 0V to your potentiometer's VDD).\n",
    "- Probe the input voltage with the multimeter and record it below.\n",
    "- Check the binary output! To check the output, open the Serial Monitor (bottom of the coding window).\n",
    "    - Try turning the potentiometer and see what changes!\n",
    "- **Does the output make sense given your input voltage? Make sure you can explain the output for checkoff!**\n"
   ]
  },
  {
   "cell_type": "markdown",
   "metadata": {},
   "source": [
    "## Physical Circuit\n",
    "---"
   ]
  },
  {
   "cell_type": "markdown",
   "metadata": {},
   "source": [
    "\n",
    "\n",
    "### Materials\n",
    "- MSP430 Launchpad + USB cable\n",
    "- 1 k$\\Omega$ resistors\n",
    "- 2 k$\\Omega$ resistors\n",
    "- LMC6482 Op-amp\n",
    "- Breadboard\n",
    "- Multimeter"
   ]
  },
  {
   "cell_type": "markdown",
   "metadata": {},
   "source": [
    "### 2.3. Build the ADC\n",
    "\n",
    "1. Build the analog input circuit using the potentiometer. \n",
    "    - The MSP430 Launchpad uses 3.3V pin logic (HIGH: 3.3V, Low: GND). _What should $V_{DD}$ be for the potentiometer?_\n",
    "    \n",
    "    \n",
    "2. Use the diagram shown below to extend your 4-bit DAC to a 4-bit ADC using the op-amp.\n",
    "    - The pinout of the LMC6482 or TLC277 op-amp in your lab kit is given as reference. _What should $V_{dd}$ and $V_{ss}$ be for this op-amp?_\n",
    "\n",
    "<img style=\"width: 400px\" src=\"imgs/lab2_adc.png\">\n",
    "<img style=\"width: 400px\" src=\"imgs/op_amp_pinout.png\">"
   ]
  },
  {
   "cell_type": "markdown",
   "metadata": {},
   "source": [
    "### 2.4. Run the ADC\n",
    "\n",
    "- Open the file `sar_adc_plot.ino` and skim the code. It reads from pin `6.5` and outputs the approximated result in pins `3.2`, `2.7`, `4.2`, `4.1` with pin `4.1` as the LSB.\n",
    "- Connect the DAC output to pin `6.0` on the Launchpad.\n",
    "- Use the potentiometer to control the input voltage (which ranges from 0V to 3.3V).\n",
    "- Probe the input voltage with the multimeter and record it below.\n",
    "- Let's plot what's happening as we step through the SAR algorithm. Upload the file to your Launchpad.\n",
    "- Hit reset and open the serial plotter. What do you see? Try turning the potentiometer to change the analog input voltage. What happens?\n",
    "  - **<span style=\"color:#ba190f\">The graph should show something like this. Should your signal look exactly like this? Think about why the signal steps up and down when it does, and why it converges to this specific voltage (~1.4V).</span>**\n",
    "\n",
    "<center>\n",
    "<img style=\"width:600px\" src=\"http://inst.eecs.berkeley.edu/~ee16b/fa15/lab_pics/adc-4.png\"/>\n",
    "</center>\n",
    "\n",
    "### 2.5  Recording your data\n",
    "\n",
    "- Open the file `sar_adc_data.ino` in Energia. Upload it to your Launchpad and hit `RST` after the code finishes uploading.\n",
    "- Open the serial monitor (`Tools` > `Serial Monitor`) to read the voltage values at the output.\n",
    "    - If you don't see anything, change to the other (reasonable) port (`Tools` > `Ports` > your port)\n",
    "- Record the voltages for one full period in the cell below.\n",
    "- Change the analog input voltage and plot the resulting data in the second cell below.\n"
   ]
  },
  {
   "cell_type": "code",
   "execution_count": null,
   "metadata": {
    "collapsed": true
   },
   "outputs": [],
   "source": [
    "import numpy as np\n",
    "import matplotlib.pyplot as plt\n",
    "%matplotlib inline\n",
    "\n",
    "delay_ms = # your delay (in milliseconds) -- make it a value between 5 and 100\n",
    "\n",
    "analog_input =  # your input voltage here\n",
    "voltages = [] #fill in voltages here\n",
    "\n",
    "#Plot Outputs\n",
    "plt.figure(figsize=(10,5))\n",
    "plt.grid()\n",
    "plt.ylim((0,3.3))\n",
    "vplot = np.concatenate([np.repeat(v,delay_ms) for v in voltages])\n",
    "plt.plot(vplot)\n",
    "plt.xlabel(\"Time (ms)\")\n",
    "plt.ylabel(\"Voltage [V]\")\n",
    "plt.title(\"DAC Output of SAR ADC, input = \"+str(analog_input)+\"V\")\n",
    "plt.show()"
   ]
  },
  {
   "cell_type": "code",
   "execution_count": null,
   "metadata": {
    "collapsed": true
   },
   "outputs": [],
   "source": [
    "analog_input =  # your input voltage here\n",
    "voltages = [] #fill in voltages here\n",
    "\n",
    "#Plot Outputs\n",
    "plt.figure(figsize=(10,5))\n",
    "plt.grid()\n",
    "plt.ylim((0,3.3))\n",
    "vplot = np.concatenate([np.repeat(v,delay_ms) for v in voltages])\n",
    "plt.plot(vplot)\n",
    "plt.xlabel(\"Time (ms)\")\n",
    "plt.ylabel(\"Voltage [V]\")\n",
    "plt.title(\"DAC Output of SAR ADC, input = \"+str(analog_input)+\"V\")\n",
    "plt.show()"
   ]
  },
  {
   "cell_type": "markdown",
   "metadata": {},
   "source": [
    "## Questions\n",
    "\n",
    "**<span style=\"color:#075a04\">2.1. If we want to build a 4-bit ADC with a sampling frequency of 1kHz (read the input voltage 1000 times per second), what is the minimum clock frequency the ADC has to run at assuming it takes one clock cycle to set each bit in the ADC's register?</span>**\n",
    "\n"
   ]
  },
  {
   "cell_type": "markdown",
   "metadata": {},
   "source": [
    "< YOUR ANSWER HERE >"
   ]
  },
  {
   "cell_type": "markdown",
   "metadata": {},
   "source": [
    "**Take a look at the <a href=\"https://www.ti.com/lit/ds/symlink/tlc7524.pdf?HQS=TI-null-null-mousermode-df-pf-null-wwe&ts=1592345736692&ref_url=https%253A%252F%252Fwww.mouser.com%252F\">datasheet</a> for the TLC7524 8-bit DAC.**\n",
    "\n",
    "**<span style=\"color:#075a04\">2.2. Look at the table of recommended operating conditions. Could we use this DAC with the Launchpad pins as the inputs? Why or why not?</span>**"
   ]
  },
  {
   "cell_type": "markdown",
   "metadata": {},
   "source": [
    "< YOUR ANSWER HERE >"
   ]
  },
  {
   "cell_type": "markdown",
   "metadata": {},
   "source": [
    "**Look at the settling and propagation delay times given on page 1. Settling time is the amount of time that passes between an input value being applied and the output reaching its final value while remaining within some error bound. It encompasses the propagation delay, which is the amount of time it takes for a signal to reach its final destination, as well as some other delays resulting from nonidealities.**\n",
    "\n",
    "**Let's say we want to build a SAR ADC using this DAC and some microprocessor. Assume the time between the microprocessor setting a bit value and the voltage actually appearing at one of the inputs (DB0-7) is at worst 100ns. Similarly, assume that the time it takes for the DAC output signal to travel through the comparator and be read into the microprocessor is at worst 150ns. **\n",
    "\n",
    "**<span style=\"color:#075a04\">2.3. What is the worst-case time required to set a single bit in the ADC's register? </span>**"
   ]
  },
  {
   "cell_type": "markdown",
   "metadata": {},
   "source": [
    "< YOUR ANSWER HERE >"
   ]
  },
  {
   "cell_type": "markdown",
   "metadata": {},
   "source": [
    "**<span style=\"color:#075a04\">2.4. How long would it take in the worst case to see the correct ADC output? What is the maximum frequency at which we could sample the output voltage and still be absolutely certain that the value is correct? </span>**"
   ]
  },
  {
   "cell_type": "markdown",
   "metadata": {},
   "source": [
    "< YOUR ANSWER HERE >"
   ]
  },
  {
   "cell_type": "markdown",
   "metadata": {},
   "source": [
    "**<span style=\"color:#075a04\">2.5. With this 8 bit DAC we can make a more precise ADC than the 4 bit ADC we made in this lab. By adding more bits we can represent the input voltage more accurately, increasing our precision by a factor of 2 for every bit we add. If this is the case, should we just keep adding bits into our DAC and ADC to get finer and finer precision? Why or why not? </span>**"
   ]
  },
  {
   "cell_type": "markdown",
   "metadata": {},
   "source": [
    "< YOUR ANSWER HERE >"
   ]
  },
  {
   "cell_type": "markdown",
   "metadata": {},
   "source": [
    "# <span style=\"color:#ba190f\">CHECKOFF</span>\n",
    "-----\n",
    "- Complete <a href=\"https://forms.gle/Q5EM2x7suMKdAeVy7\">this quiz</a>.\n",
    "- Have your ADC running and be ready to explain how it works.\n",
    "- Have all of the plots and <span style=\"color:#075a04\"> green questions in the notebook completed</span>.\n",
    "\n",
    "Don't forget to save this notebook somewhere all your group members can access it!"
   ]
  },
  {
   "cell_type": "code",
   "execution_count": null,
   "metadata": {
    "collapsed": true
   },
   "outputs": [],
   "source": []
  }
 ],
 "metadata": {
  "anaconda-cloud": {},
  "kernelspec": {
   "display_name": "Python 3",
   "language": "python",
   "name": "python3"
  },
  "language_info": {
   "codemirror_mode": {
    "name": "ipython",
    "version": 3
   },
   "file_extension": ".py",
   "mimetype": "text/x-python",
   "name": "python",
   "nbconvert_exporter": "python",
   "pygments_lexer": "ipython3",
   "version": "3.6.1"
  }
 },
 "nbformat": 4,
 "nbformat_minor": 1
}
