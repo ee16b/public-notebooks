{
 "cells": [
  {
   "cell_type": "markdown",
   "metadata": {},
   "source": [
    "\n",
    "# Lab 2: Debugging\n",
    "### EECS 16B: Designing Information Devices and Systems II, Fall 2021\n",
    "\n",
    "Updated by Kaitlyn Chan, Steven Lu (2021)\n",
    "\n",
    "kaitlynjchan@berkeley.edu, stevenl@berkeley.edu\n",
    "\n",
    "\n",
    "Updated by Rafael Calleja (2021)\n",
    "\n",
    "rafael.calleja@berkeley.edu\n",
    "\n",
    "Updated by Miki Lustig (2020)\n",
    "\n",
    "-----"
   ]
  },
  {
   "cell_type": "markdown",
   "metadata": {},
   "source": [
    "<a id='part0'></a>\n",
    "## <span style=\"color:#075a04\">NOTE: All questions in green are required for checkoff! </span>\n",
    "\n"
   ]
  },
  {
   "cell_type": "markdown",
   "metadata": {},
   "source": [
    "<a id='part0'></a>\n",
    "# <span style=\"color:navy\">Part 0: Introduction </span>\n",
    "-----"
   ]
  },
  {
   "cell_type": "markdown",
   "metadata": {},
   "source": [
    "<center>\n",
    "    <img width=\"400px\" src=\"images/2nd.gif\">\n",
    "</center>\n",
    "<center> Students who read all the instructions carefully vs those who don't </center>\n",
    "\n",
    "## Materials:\n",
    "- [Lab note](https://drive.google.com/file/d/1NCUWULmUQWCLUwywlMPwd2VAHRpWHm2_/view?usp=sharing) \n",
    "\n",
    "- [Fa21 Debugging guide](https://docs.google.com/presentation/d/10SzGFKjA9y2EIZ708pvQBxXCVCnZZ1Y03cGl3MOoDk8/edit?usp=sharing)\n",
    "\n",
    "- [Lab equipment video tutorials](https://www.youtube.com/playlist?list=PLQ1OVCqw6RUMX2JzPw2G15s5mZovuav8-)\n",
    "\n",
    "- [Circuits Cookbook](https://inst.eecs.berkeley.edu/~ee16a/sp19/student-resources/circuits_cookbook.pdf) \n",
    "\n",
    "- (Headphones)\n",
    "\n",
    "## Tasks:\n",
    "\n",
    "### Review\n",
    "[Lab note](https://drive.google.com/file/d/1NCUWULmUQWCLUwywlMPwd2VAHRpWHm2_/view?usp=sharing) \n",
    "\n",
    "- Review the lab notes. Every lab will come with notes that provide a technical review of the concepts covered in lab as well as theoretical connections. **You should read the notes before lab.** The notes serve as review and may help you as a reference during lab section.\n",
    "\n",
    "[Fa21 Debugging guide](https://docs.google.com/presentation/d/10SzGFKjA9y2EIZ708pvQBxXCVCnZZ1Y03cGl3MOoDk8/edit?usp=sharing)\n",
    "\n",
    "- Read through the debugging guide. It's not a fully comprehensive list of all the things you can do, but it provides tips and guidelines for debugging your circuit and quick checklists for your lab equipment setup.\n",
    "\n",
    "[Lab equipment video tutorials](https://www.youtube.com/playlist?list=PLQ1OVCqw6RUMX2JzPw2G15s5mZovuav8-)\n",
    "\n",
    "- Watch the video tutorials about the lab equipment you will be using throughout the semester. You can reference the videos anytime you're unsure how to use a particular function of any of the lab equipment, such as setting up the waveform generator to output a sinusoid.\n",
    "\n",
    "[Circuits Cookbook](https://inst.eecs.berkeley.edu/~ee16a/sp19/student-resources/circuits_cookbook.pdf) \n",
    "\n",
    "- Review op-amp circuits from EECS16A."
   ]
  },
  {
   "cell_type": "markdown",
   "metadata": {},
   "source": [
    "<a id='part1'></a>\n",
    "# <span style=\"color:navy\">Part 1: Physical Op-Amp Circuit .... For Real! </span>\n",
    "-----"
   ]
  },
  {
   "cell_type": "markdown",
   "metadata": {},
   "source": [
    "In this lab, you will build on the op-amp buffer circuit from Lab 1's Tinkercad to create an inverting amplifier circuit, with a twist. You will drive the circuit with the function generator, supply voltages using the DC power supply, measure the voltage of input and output signals using the oscilloscope, and see the LEDs blinking out of sync. \n",
    "\n",
    "## Materials:\n",
    "- Breadboard\n",
    "- Wires\n",
    "- Op-amp  <span style=\"color:red\"> LMC6482AIN </span> [data sheet](https://www.ti.com/general/docs/suppproductinfo.tsp?distId=10&gotoUrl=http%3A%2F%2Fwww.ti.com%2Flit%2Fgpn%2Flmc6482) (This is different from the one you used in Tinkercad!)\n",
    "- 2x oscilloscope probe\n",
    "- Function generator probe\n",
    "- Power supply leads\n",
    "- 2x LEDs (any color) \n",
    "    - long leg -> Anode (+)\n",
    "    - short leg -> Cathode (-)\n",
    "- 4x 1 k$\\Omega$ resistor (brown, black, red, gold)\n",
    "- 2x 20 k$\\Omega$ resistor (red, black, orange, gold)\n",
    "\n",
    "### Circuit Guidelines\n",
    "- Make sure you use consistent colors for ground, power voltages, etc. Black is usually reserved for GND, and red for power.\n",
    "- In general, it's better to have shorter wires, so that it's easier to follow. Your lab kits come with pre-stripped wires of different length, but if you need, feel free to use the wire strippers.\n",
    "- The + and - rails are reserved for power and GND, respectively. Avoid connecting any other signals to those rails. You will be connecting the power supply leads to your breadboard rails.\n",
    "- Make sure you connect all of your grounds, including the lab equipment's grounds, to the negative (-) rails on your breadboards. Add a wire between the two - rails so that everything in your circuit references the same ground.\n",
    "\n",
    "### Voltage Gain\n",
    "\n",
    "The __Voltage Amplification (Av)__ or __Gain__ of a voltage amplifier is given by:\n",
    "\n",
    "$$A_v = \\frac{\\Delta V_{out}}{\\Delta V_{in}} = \\frac{Vout(Vin_{max})-Vout(Vin_{min})}{Vin_{max}-Vin_{min}}$$\n",
    "\n",
    "Av is a ratio of how much bigger is the output than the input, and so has no units. Note that if the input is inverted, the gain is a __negative__ number.\n",
    "\n",
    "\n",
    "### 1. Build the circuit below.\n",
    "\n",
    "\n",
    "**NOTE: The op-amp pinout is different from the one in Tinkercad that you used in the last lab. Look at the pinout diagram below for the correct layout. **\n",
    "\n",
    "<center>\n",
    "<img width='500px'\n",
    "src=\"images/blink_inverting_circuit_diagram_both.png\">\n",
    "</center>\n",
    "\n",
    "**NOTE:** The op-amps in your circuit kit are the 8-legged black components with a half-circle on one side. The pins (legs) correspond to the following nodes:\n",
    "\n",
    "|LMC6482:|Pinout:|\n",
    "|:-----:|:---------------:|\n",
    "|<img width=\"300px\" src=\"images/LMC6482.png\">|<img width=\"400px\" src=\"images/op_amp_pinout.png\">| \n",
    "\n",
    "As there are 2 op-amps within a single LMC6482 chip, you can use either one (A or B).\n",
    "\n",
    "### 2. Test your amplifier.\n",
    "- Generate a sinusoidal signal:\n",
    "  - 0.25 Hz Frequency\n",
    "  - 3.3 Vpp\n",
    "      - Peak-to-peak means the difference between the maximum and minimum values in the sine wave.\n",
    "  - 1.65 V offset (The sinusoid will be centered around this offset.) - **think about what this means for the min and max voltages.**\n",
    "  - *Remember to set the function generator's output load to \"High Z\"*. You can do this by pressing (1) under Channel Setup, and then selecting \"Output Load\".\n",
    "- Power your op-amp by connecting the correct DC voltages to $V_{\\text{dd}}$ and $V_{\\text{ss}}$.\n",
    "    - **Sanity Check Question:** <span style=\"color:#ba190f\">**What should $V_{\\text{dd}}$ and $V_{\\text{ss}}$ be?**</span> Hint: what is the range of the input sinusoidal signal? What is our gain? What will the range of the output signal be? Use your answers to these 3 questions to determine what voltages to connect to $V_{\\text{dd}}$ and $V_{\\text{ss}}$.\n",
    "- Connect the output of your waveform generator (the red lead) to $V_{in}$ and the ground (the black lead) to your ground rail.\n",
    "- Use your power supply to supply 3.3V to your circuit. Don't forget to set your voltage limit properly, and **make sure you set the current limit to 0.1A!**\n",
    "- Connect $V_{ref}$ to your 3.3V.\n",
    "- Use the oscilloscope to probe $V_{in}$ and $V_{out}$ simultaneously. **DO NOT insert the oscilloscope probe directly into the breadboard** - make sure you use the hook attachment connected to a wire, and probe with the wire. Make sure that the black lead of the oscilloscope probe is connected to your ground rail as well!\n",
    "\n",
    "\n",
    "\n",
    "### 3. Behavior of the circuit\n",
    "\n",
    "- What voltage is the non-inverting input ($V_+$) terminal of the op-amp connected to? Why do we need it to be connected to this voltage value?\n",
    "\n",
    "< _YOUR ANSWER HERE_ >\n",
    "\n",
    "- What does the circuit do? Hint: what is the expected behavior of LED1 and LED2 for a sinusoidal input?\n",
    "\n",
    "< _YOUR ANSWER HERE_ >\n",
    "\n",
    "- Make sure to understand what the input and output of the op-amp are and show the circuit behavior during checkoff.\n",
    "\n",
    "\n",
    "### 4. KEEP this circuit on your breadboard!\n",
    "- Show the circuit and probe its input and output on the oscilloscope during checkoff.\n"
   ]
  },
  {
   "cell_type": "markdown",
   "metadata": {},
   "source": [
    "<a id='part4'></a>\n",
    "# <span style=\"color:#ba190f\">CHECKOFF </span> \n",
    "-----"
   ]
  },
  {
   "cell_type": "markdown",
   "metadata": {},
   "source": [
    "### For Checkoff:\n",
    "<a id='part2'></a>\n",
    "- Show your GSI both the input and output signals on your oscilloscope at the same time.\n",
    "- Show your GSI both LEDs when connected to the proper input.\n",
    "- Be prepared to answer some questions.\n",
    "\n",
    "**After checkoff, please:**\n",
    "\n",
    "- Dismantle the op-amp circuit.\n",
    "- Turn off all lab equipment\n",
    "- Clean up your station!!\n",
    "- Store all your electrical components in a neat and organized manner.\n",
    "- Make sure that all components that you received in your lab kit are stored safely for use in future labs.\n",
    "\n",
    "#### <span>Checkoff Questions:</span>\n",
    "\n",
    "Most of these questions can be answered simply by thinking of the properties of each circuit element and performing circuit analysis. If you want to check what happens when you change part of the working circuit in a **potentially damaging** way (i.e. shorting two elements), TinkerCad is a great way to do this without risking your physical circuit components."
   ]
  },
  {
   "cell_type": "markdown",
   "metadata": {},
   "source": [
    "#### <span style=\"color:#075a04\"> 1. What is the circuit?  What does it do to the input signal?"
   ]
  },
  {
   "cell_type": "markdown",
   "metadata": {},
   "source": [
    "< _YOUR ANSWER HERE_ >"
   ]
  },
  {
   "cell_type": "markdown",
   "metadata": {},
   "source": [
    "#### <span style=\"color:#075a04\"> 2. What is the gain of the circuit?"
   ]
  },
  {
   "cell_type": "markdown",
   "metadata": {},
   "source": [
    "< _YOUR ANSWER HERE_ >"
   ]
  },
  {
   "cell_type": "markdown",
   "metadata": {},
   "source": [
    "#### <span style=\"color:#075a04\"> 3. How can you change the gain?\n",
    "\n"
   ]
  },
  {
   "cell_type": "markdown",
   "metadata": {},
   "source": [
    "< _YOUR ANSWER HERE_ >"
   ]
  },
  {
   "cell_type": "markdown",
   "metadata": {},
   "source": [
    "#### <span style=\"color:#075a04\"> 4. What happens when you (theoretically --- please don't physically try this):\n",
    "\n",
    "#### <span style=\"color:#075a04\"> a) Flip the polarity (i.e. swap the inputs of the inverting and noninverting input terminals of the op-amp) ?\n",
    "< _YOUR ANSWER HERE_ >"
   ]
  },
  {
   "cell_type": "markdown",
   "metadata": {},
   "source": [
    "#### <span style=\"color:#075a04\"> b) Short \"+\" and \"-\" _input_ terminals (NOT VSS and VDD)?\n",
    "< _YOUR ANSWER HERE_ >"
   ]
  },
  {
   "cell_type": "markdown",
   "metadata": {},
   "source": [
    "#### <span style=\"color:#075a04\"> c) Increase Rf? Hint: What limits the maximum amplitude the circuit can output?\n",
    "< _YOUR ANSWER HERE_ >"
   ]
  },
  {
   "cell_type": "markdown",
   "metadata": {},
   "source": [
    "#### <span style=\"color:#075a04\"> d) What happens if the op-amp's VSS = 0.5 V?\n",
    "< _YOUR ANSWER HERE_ >"
   ]
  },
  {
   "cell_type": "markdown",
   "metadata": {},
   "source": [
    "#### <span style=\"color:#075a04\"> e) Keeping $\\frac{R_f}{R_{in}}$ constant, do the resistors' values affect circuit output / performance (ex: $\\frac{20k \\Omega}{20k\\Omega}$ equivalent to $\\frac{100\\Omega}{100\\Omega}$)? Is it better to use large or small resistor values, and why?\n",
    "< _YOUR ANSWER HERE_ >"
   ]
  },
  {
   "cell_type": "markdown",
   "metadata": {},
   "source": [
    "### Save this notebook somewhere you can access it! \n",
    "\n",
    "We recommend making a shared Google Drive with your lab partner, since GitHub can be annoying with Jupyter notebooks. You will **NOT** need this circuit for next week's lab, but it's good to start saving your Jupyter notebooks now so that you will always have access to your lab work.\n",
    "\n",
    "Backups are always a good idea."
   ]
  }
 ],
 "metadata": {
  "anaconda-cloud": {},
  "kernelspec": {
   "display_name": "Python 3",
   "language": "python",
   "name": "python3"
  },
  "language_info": {
   "codemirror_mode": {
    "name": "ipython",
    "version": 3
   },
   "file_extension": ".py",
   "mimetype": "text/x-python",
   "name": "python",
   "nbconvert_exporter": "python",
   "pygments_lexer": "ipython3",
   "version": "3.7.4"
  }
 },
 "nbformat": 4,
 "nbformat_minor": 2
}
