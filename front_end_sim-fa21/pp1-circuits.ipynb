{
 "cells": [
  {
   "cell_type": "markdown",
   "metadata": {},
   "source": [
    "# SIXT33N Project Phase 1: Circuits\n",
    "\n",
    "### EECS 16B: Designing Information Devices and Systems II, Fall 2021\n",
    "\n",
    "Written by Nathaniel Mailoa and Emily Naviasky (2016).\n",
    "\n",
    "Updated by Peter Schafhalter and Zain Zaidi (2019), Mia Mirkovic (2020), Rafael Calleja (2020), Hossein Najafi (2021), Yi-Hsuan Shih (2021)\n",
    "\n",
    "nmailoa@berkeley.edu &emsp; enaviasky@berkeley.edu &emsp; pschafhalter@berkeley.edu &emsp; zzaidi@berkeley.edu &emsp; miamirkovic@berkeley.edu &esmp; rafael.calleja@berkeley.edu; hossein_najafi@berkeley.edu; yihsuan@berkeley.edu\n",
    "\n",
    "----"
   ]
  },
  {
   "cell_type": "markdown",
   "metadata": {},
   "source": [
    "\n",
    "# Table of Contents\n",
    "\n",
    "* [Part 0: Lab Note](https://drive.google.com/file/d/1t1mTDLE_2DEzZMWzRo1Zz_cqHjgmSl1w/view?usp=sharing)\n",
    "* [Part 1: Building the power voltages](#part1)\n",
    "* [Part 2: Motor Controller Circuits](#part2)"
   ]
  },
  {
   "cell_type": "markdown",
   "metadata": {},
   "source": [
    "\n",
    "\n",
    "<a id='part0'></a>\n",
    "# <span style=\"color:navy\">Part 0: Lab Note</span>\n",
    "-----\n",
    "\n",
    "## Please read the [lab note](https://drive.google.com/file/d/1t1mTDLE_2DEzZMWzRo1Zz_cqHjgmSl1w/view?usp=sharing). If you are interested in learning more about BJTs and diodes, please read the [extra lab note](https://drive.google.com/file/d/1EtRo9RjntQwsbm1ANyLK_wBvBjZOEH07/view?usp=sharing).\n",
    "\n",
    "\n",
    "\n"
   ]
  },
  {
   "cell_type": "markdown",
   "metadata": {},
   "source": [
    "<a id='part1'></a>\n",
    "# <span style=\"color:navy\">Part 1: Building the power voltages</span>\n",
    "-----\n",
    "\n",
    "Please use this [starter circuit](https://www.tinkercad.com/things/59dOApVLmnj) in TinkerCAD for the following lab.\n",
    "## (Virtual) Materials\n",
    "- 9V battery\n",
    "- 5V voltage regulator (which you have built in Lab 2)\n",
    "- 10uF capacitor\n",
    "- Multimeter"
   ]
  },
  {
   "cell_type": "markdown",
   "metadata": {},
   "source": [
    "First, we will build the 5V regulator. (Recall that 5V is used for Arduino logic.)\n",
    "\n",
    "\n",
    "\n",
    "## Tasks\n",
    "\n",
    "### 1.0 Plan Your Breadboard Layout\n",
    "\n",
    "Divide your breadboard into the following sections so that you have room for all circuits.\n",
    "- Two distinct power rails\n",
    "    - 9V from battery to the top power rail\n",
    "    - 5V from the output of voltage regulator to the bottom power rail\n",
    "- Connect the grounds of all your supplies, and connect the two (-) to create your ground rail.\n",
    "- The purple sections are where you will build your motor driver circuits.\n",
    "- You will not be using the regulator directly in this lab, but they may come in handy in the next ones, so it's worth making sure you are familiar with how to put them together. You can review the lab2 notebook for the pinout diagram of the regulator.\n",
    "\n",
    "<img style=\"width:700px\" src=\"images/floorplan.png\">\n",
    "\n",
    "### 1.1 Assemble the 5V regulator & test your voltage regulator. (Read Part 1 of the lab note)\n",
    "\n",
    "\n",
    "SIXT33N will run on a 9V battery when it is running around. \n",
    "- A voltage regulator convert 9V from the battery down to 5V.\n",
    "\n",
    "1. **Using the multimeter, verify that the output of your 5V regulator is 5V.**\n",
    "\n",
    "\n",
    "Now, you are going to work with some small signals. You don't want to be susceptible to voltage ripples and potential noise in the circuit, and the power rails can be a large source of noise. To keep some noise off of your power rails:\n",
    "\n",
    "### 1.2 Add a decoupling capacitor (10 uF) between your 5V rail and ground.\n",
    "\n",
    "Decoupling capacitors will reduce fluctuations on your rails (which can occur for example when the voltage source must supply a large amount of current across wires which actually have non-zero resistance and inductance) .  (https://en.wikipedia.org/wiki/Decoupling_capacitor) You should use them in every circuit you build <i>in the future for the rest of your life</i>.\n"
   ]
  },
  {
   "cell_type": "markdown",
   "metadata": {},
   "source": [
    "## Questions\n",
    "**<span style=\"color:#075a04\">1. Connect a 10k$\\Omega$ resistor from the output of the 5V regulator to ground. What is the current being drawn from the battery (in mA) (only enter the magnitude of the numerical value and round to two decimal places)? Hint: You may place an multimeter in series with the 9V battery to measure the current being drawn. </span>**\n",
    "\n",
    "< YOUR ANSWER ON GRADESCOPE >"
   ]
  },
  {
   "cell_type": "markdown",
   "metadata": {},
   "source": [
    "<a id='part2'></a>\n",
    "# <span style=\"color:navy\">Part 2: Motor Controller Circuits</span>\n",
    "\n",
    "-----"
   ]
  },
  {
   "cell_type": "markdown",
   "metadata": {},
   "source": [
    "## (Virtual)  Materials\n",
    "- 9V battery\n",
    "- 2 NPN BJTs (Bipolar Junction Transistor)\n",
    "- 2 Diodes\n",
    "- 2 1.5k$\\Omega$ resistors\n",
    "- 3-terminal switch\n",
    "- 2 Motors\n",
    "- Arduino\n",
    "- Multimeter\n",
    "- Oscilloscopes"
   ]
  },
  {
   "cell_type": "markdown",
   "metadata": {},
   "source": [
    "## Tasks\n",
    "\n",
    "### 2.0 Read <a href=\"https://drive.google.com/file/d/1t1mTDLE_2DEzZMWzRo1Zz_cqHjgmSl1w/view?usp=sharing\">Part 2</a> of the note before you begin this part!\n",
    "\n",
    "S1XT33N will require the 9V battery for both the regulator circuits and the motors. The $1.5\\mathrm{k}\\Omega$ resistor is used to limit the current flowing into the BJT to reduce the risk of the BJT burning out.\n",
    "\n",
    "\n",
    "### 2.1 Get familiar with the motor.\n",
    "\n",
    "1. **The motor has 6 pins.** The two leftmost pins are the driving pins that you are going to connect according to the motor controller schematic in part 2.2 to drive the motor. The other 4 pins are for the encoder module, which outputs a single pulse on channel A and B whenever the motor rotates for a specific amount. Channel A and B are identical, except for a quadrature phase difference which helps with identifying the direction of the rotation. Essentially, the two channels are the same waveform, except one is the delayed version of the other, and depending on which one is delayed, we can identify the directon of the rotation.\n",
    "By counting the number of pulses being output by the encoder, we can easily gauge how fast the motor is rotating and whether adjustments need to be made to the input signal.\n",
    "\n",
    "<img width=\"450px\" src=\"images/motor-with-encoder.jpg\">\n",
    "\n",
    "### 2.2 Build the motor controller circuits.\n",
    "1.  **Construct the circuit below for each wheel using the NPN BJT on the breadboard (same circuit for both left and right motor shown in breadboard layout in part 1)**. You may leave the encoder pins (all 4 of them) not connected for now (we will connect them in the next lab).\n",
    "\n",
    "<img width=\"450px\" src=\"images/motor-drive-with-switch.jpg\">\n",
    "\n",
    "- Connect the positive terminal of the motor to the switch and the negative terminal of the motor to the BJT. The motor is reversible between positive and negative terminal, i.e., if it is connected reversely, the motor would rotate in the opposite direction (negative number on the motor).\n",
    "- The pin diagram of the BJT is reproduced below. <span style=\"color:#ba190f\">**Make sure to match the Base, Emitter, and Collector properly to the schematic.**</span>\n",
    "\n",
    "<img width=\"450px\" src=\"images/proj-bjt.png\">\n",
    "\n",
    "- A <a href=\"https://www.allaboutcircuits.com/textbook/semiconductors/chpt-3/introduction-to-diodes-and-rectifiers/\">diode</a> is a component that only conducts current one way. This diode is needed because of the inductive characteristics of the motor. If the motor is on and we turn it off, the inductive behavior of the motor maintains the current and we need a way to dissipate it when the BJT is off. The diagram for the diode is shown below. **Note that the diode has a direction** - be careful which terminal is connected to the 9V power supply.\n",
    "<img width=\"300px\" src=\"images/proj-diode.png\">\n",
    "    \n",
    " **2. Add a switch between 9V and the motor drivers.** You only need **ONE** switch since both motors should be powered at the same time!\n",
    "- We are using this switch as a way to control whether your motors are powered or not. The switch shown below is a real life model of the component in TinkerCAD.\n",
    "- At any given time, two of the three pins below are connected depending on which side the switch is flipped to. If the switch is flipped to left, then the left pin would be connected to the common pin in the middle. On the other hand, if the switch is flipped to right, the right pin would be connected to the common pin in the middle.\n",
    "<img width=\"300px\" src=\"images/switch.png\">\n",
    "- Place the switch somewhere fairly central (with respect to the long side) on your breadboard.\n",
    "    - Connect the 9V to `Terminal 1`\n",
    "    - Connect the positive terminal of **BOTH** motors to `Common`. \n",
    "    - Connect `Terminal 2` to ground.\n",
    "- By sliding the switch to Terminal 1 (the switch can only be flipped after hitting `Start Simulation`), the motor is connected to the 9V supply. Otherwise, it is connected to ground and thus not powered.\n",
    "         \n",
    "\n",
    "         \n",
    "\n",
    "\n",
    "    \n",
    "    \n",
    "### 2.3 Test the motor controller circuits.\n",
    "\n",
    "**1. Connect the node labeled <span style=\"color:#ba190f\">Arduino output pin</span> in one of the motor controller circuit to <span style=\"color:#ba190f\">pin 9</span> of the Arduino and that of the other motor controller to ground. (Don't keep this node floating or your simulation could run very slowly!) Make sure to <span style=\"color:navy\">ground your Arduino</span> (connect gnd pin to negative rail)!**\n",
    "\n",
    "**2. Upload `motor_test.ino` to your code environment and open the serial monitor.**\n",
    "\n",
    "**3. Make sure the RPM of the DC motor is set to 12 (click the motor to see the setting) and start the simulation.**\n",
    "   - As the program runs, you should see the \"Duty Cycle\" reading change in the serial monitor. Your motor should speed up as the duty cycle increases, and slow down as it decreases. \n",
    "   - You might not see the motor spinning during the simulation, but **you should be able to read the speed written on the motor directly as shown below**.\n",
    "   \n",
    "<img width=\"300px\" src=\"images/motor_rpm.png\">\n",
    "    \n",
    "  \n",
    "<span style=\"color:#ba190f\">**4. Repeat for the other motor circuit. Make sure that both motors are drived as expected. In real life, they might not go at the same speed - our control scheme will make sure to account for this potential issue later in the project.**</span>\n",
    "\n",
    "<span style=\"color:#ba190f\">**HINT: If your simulation runs slow when trying to drive both motors at the same time, try disconnecting the PWM signal from one of the motor driver input (labeled \"Arduino output pin\" in the schematic) and connect that driver input to ground instead to turn it off.**</span>\n",
    "\n",
    "* Probe the Arduino output pin with an oscilloscope. Observe the waveform and see how the duty cycle changes. (Make sure the `Time Per Division` of the oscilloscope is set to `1ms`)\n"
   ]
  },
  {
   "cell_type": "markdown",
   "metadata": {},
   "source": [
    "## Questions\n",
    "**<span style=\"color:#075a04\">2. What is the range of the duty cycle that the Arduino is able to generate?</span>**\n",
    "\n",
    "< YOUR ANSWER ON GRADESCOPE >"
   ]
  },
  {
   "cell_type": "markdown",
   "metadata": {},
   "source": [
    "**<span style=\"color:#075a04\">3. Turn on the 9V switch to allow driving the motor. What is the rpm of the motor value for the lowest duty cycle achievable? (write your answer in units of rpm and only enter the magnitude of the numerical value, which should be an integer)</span>**\n",
    "\n",
    "< YOUR ANSWER ON GRADESCOPE >"
   ]
  },
  {
   "cell_type": "markdown",
   "metadata": {},
   "source": [
    "**<span style=\"color:#075a04\">4. Turn on the 9V switch to allow driving the motor. What is the rpm of the motor value for the highest duty cycle achievable? (write your answer in units of rpm and only enter the magnitude of the numerical value, which should be an integer)</span>**\n",
    "\n",
    "< YOUR ANSWER ON GRADESCOPE >"
   ]
  },
  {
   "cell_type": "markdown",
   "metadata": {},
   "source": [
    "**<span style=\"color:#075a04\">5. Turn on the 9V switch to allow driving the motor. What is the maximum current flowing into the base of the BJT? (write your answer in units of mA, and only enter the absolute numerical value rounded to two decimal places) Hint: You could connect the `Arduino output pin` in the circuit diagram to 5V rail and measure the current if you find the maximum value difficult to measure with the varying PWM signal</span>**\n",
    "\n",
    "< YOUR ANSWER ON GRADESCOPE >"
   ]
  },
  {
   "cell_type": "markdown",
   "metadata": {},
   "source": [
    "**<span style=\"color:#075a04\">6. Turn on the 9V switch to allow driving the motor. What is the maximum current flowing into the collector of the BJT? (write your answer in units of mA, and only enter the absolute numerical value rounded to two decimal places) Hint: You could connect the `Arduino output pin` in the circuit diagram to 5V rail and measure the current if you find the maximum value difficult to measure with the varying PWM signal</span>**\n",
    "\n",
    "< YOUR ANSWER ON GRADESCOPE >"
   ]
  },
  {
   "cell_type": "markdown",
   "metadata": {},
   "source": [
    "**<span style=\"color:#ba190f\">7. With the 9V switch turned on, probe the base and the collector of the BJT on two separate oscilloscopes. Make sure the `Time Per Division` of the oscilloscopes are set to `1ms`. Observe the two waveforms and answer the following questions.**\n",
    " \n",
    "**<span style=\"color:#075a04\">7.1. How are the two signals related? Are they in phase (meaning their HIGH and LOW happen at the same time) or are they inverted version of each other?</span>**\n",
    "- A. Signals are in phase (0 degree phase difference) because there is resistive voltage divider between the base, the collector, and the emitter.\n",
    "- B.  Signals have 180 degrees phase difference because when the input is HIGH, the BJT is on and the collector is short to ground; when the input is LOW, the BJT is off and form the open circuit where the collector is at logic HIGH.\n",
    "- C. Signals are not correlated because the transistor is off and only noise is being amplified. (phase difference cannot be determined)\n",
    "\n",
    "< YOUR ANSWER ON GRADESCOPE >"
   ]
  },
  {
   "cell_type": "markdown",
   "metadata": {},
   "source": [
    "**<span style=\"color:#075a04\">7.2. What is the voltage of logic HIGH at the collector of the BJT? Express the value in V with two decimal places. (Read the value from the oscilloscope, +-10% is accepted as correct answer. Note that the central horizontal line is 0V. If the voltage range is 20V shown on the oscillator, it should be -10V to 10V)**\n",
    "    \n",
    "< YOUR ANSWER ON GRADESCOPE >"
   ]
  },
  {
   "cell_type": "markdown",
   "metadata": {},
   "source": [
    "**<span style=\"color:#075a04\">7.3. What is the voltage of logic HIGH at the base of the BJT? Express the value in V with two decimal places. (Read the value from the oscilloscope, +-10% is accepted as correct answer. Note that the central horizontal line is 0V. If the voltage range is 20V shown on the oscillator, it should be -10V to 10V)**\n",
    "    \n",
    "< YOUR ANSWER ON GRADESCOPE >"
   ]
  },
  {
   "cell_type": "markdown",
   "metadata": {},
   "source": [
    "**<span style=\"color:#ba190f\">8. Now change the resistor value from 1.5k$\\Omega$ to 4k$\\Omega$ and answer the following questions.**\n",
    "    \n",
    "**<span style=\"color:#075a04\">8.1. Turn on the 9V switch to allow driving the motor. What is the rpm of the motor value for the highest duty cycle achievable? (write your answer in units of rpm, and only enter the magnitude of the numerical value, which should be an integer)**\n",
    "    \n",
    "< YOUR ANSWER ON GRADESCOPE >"
   ]
  },
  {
   "cell_type": "markdown",
   "metadata": {},
   "source": [
    "**<span style=\"color:#075a04\"> 8.2. How does the current flowing into the base of the BJT change with the resistor?**\n",
    "\n",
    "- A. The current at the base of the BJT increases\n",
    "- B. The current at the base of the BJT decreases\n",
    "- C. The current at the base of the BJT is about the same (difference of the current < 10%)\n",
    "                                                                                          \n",
    "< YOUR ANSWER ON GRADESCOPE >                                                                                  "
   ]
  },
  {
   "cell_type": "markdown",
   "metadata": {},
   "source": [
    "**<span style=\"color:#075a04\"> 8.3. How does the voltage of logic HIGH at the collector of the BJT change? (i.e. How would your answer to 7.2 change if we increase the value of the resistor from 1.5k$\\Omega$ to 4k$\\Omega$?)**\n",
    "\n",
    "- A. The voltage increases since the the collector current decreases with the base current.\n",
    "- B. The voltage decreases since the the collector current increases with the base current.\n",
    "- C. The voltage is about the same since the BJT is off and forms the open circuit.\n",
    "                                                                                          \n",
    "< YOUR ANSWER ON GRADESCOPE >"
   ]
  },
  {
   "cell_type": "markdown",
   "metadata": {},
   "source": [
    "# <span style=\"color:#ba190f\">CHECKOFF</span>\n",
    "-----\n",
    "\n",
    "- Complete the Project Sim: Front End assignment on Gradescope.\n",
    "- It is due on **Wednesday 10/20 at 11:59PM PT**. Like EECS 16B HW, the lab has a 24 hour grace period with no penalty to accomodate any technical difficulties. The lab can be submitted up to one week late (up until Wednesday 10/27 at 11:59PM PT, with no grace period) for 50% credit. After that, no late submissions will be accepted.\n",
    "\n",
    "- **Remember what each part of your circuit is for (Record this in a Google doc or somewhere else safe). You will need to write a summary for your final lab report.**\n",
    "- Make sure your circuits are saved properly in Tinkercad. You will need them in the next project phase!"
   ]
  },
  {
   "cell_type": "code",
   "execution_count": null,
   "metadata": {},
   "outputs": [],
   "source": []
  }
 ],
 "metadata": {
  "anaconda-cloud": {},
  "kernelspec": {
   "display_name": "Python 3",
   "language": "python",
   "name": "python3"
  },
  "language_info": {
   "codemirror_mode": {
    "name": "ipython",
    "version": 3
   },
   "file_extension": ".py",
   "mimetype": "text/x-python",
   "name": "python",
   "nbconvert_exporter": "python",
   "pygments_lexer": "ipython3",
   "version": "3.7.4"
  }
 },
 "nbformat": 4,
 "nbformat_minor": 4
}
