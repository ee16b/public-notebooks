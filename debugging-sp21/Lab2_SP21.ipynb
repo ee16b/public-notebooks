{
 "cells": [
  {
   "cell_type": "markdown",
   "metadata": {},
   "source": [
    "\n",
    "# Lab 2: Debugging\n",
    "### EE16B: Designing Information Devices and Systems II, Spring 2021\n",
    "\n",
    "\n",
    "Updated by Rafael Calleja (2021)\n",
    "\n",
    "rafael.calleja@berkeley.edu\n",
    "\n",
    "Updated by Miki Lustig (2020)\n",
    "\n",
    "-----"
   ]
  },
  {
   "cell_type": "markdown",
   "metadata": {},
   "source": [
    "<a id='part0'></a>\n",
    "## <span style=\"color:#075a04\">NOTE: All questions in green are required for checkoff! </span>\n",
    "\n"
   ]
  },
  {
   "cell_type": "markdown",
   "metadata": {},
   "source": [
    "<a id='part0'></a>\n",
    "# <span style=\"color:navy\">Part 0: Introduction </span>\n",
    "-----"
   ]
  },
  {
   "cell_type": "markdown",
   "metadata": {},
   "source": [
    "<center>\n",
    "    <img width=\"400px\" src=\"images/2nd.gif\">\n",
    "</center>\n",
    "<center> Students who read all the instructions carefully vs those who don't </center>\n",
    "\n",
    "## Materials:\n",
    "- Lab notes\n",
    "- Debugging guide\n",
    "- Guide for TinkerCad\n",
    "- (Headphones) \n",
    "\n",
    "## Review from Lab 1:\n",
    "\n",
    "1. [Sp21 Debugging Guide](https://drive.google.com/file/d/13xf4Nw8sBRxImZ1UCYhc9yPLdYdPuXHN/view?usp=sharing)\n",
    "\n",
    "2. [Lab Note](https://drive.google.com/file/d/1Ndcwq64tx6Gi3TIDe2FXFdWdtV9rMox6/view?usp=sharing)\n",
    "\n",
    "3. [Introduction to TinkerCad](https://drive.google.com/file/d/1H17FhteNScM3AFFvAre_HkWQQZOpKLgC/view?usp=sharing)"
   ]
  },
  {
   "cell_type": "markdown",
   "metadata": {},
   "source": [
    "<a id='part1'></a>\n",
    "# <span style=\"color:navy\">Part 1: Op-Amp Inverting Amplifier in TinkerCad </span>\n",
    "-----"
   ]
  },
  {
   "cell_type": "markdown",
   "metadata": {},
   "source": [
    "\n",
    "## Starter Circuit\n",
    "\n",
    "Open the starter circuit, which can be found at [Lab 2 Starter Circuit](https://www.tinkercad.com/things/9KR7jmTkKhc)\n",
    "\n",
    "(Virtual) Materials:\n",
    "- Breadboard\n",
    "- 1 capacitor\n",
    "- 6 resistors\n",
    "- 2 LEDs\n",
    "- Arduino (similar to your MSP430 Launchpad)\n",
    "- Multimeter\n",
    "- Op-amp\n",
    "\n",
    "### Circuit Guidelines\n",
    "- Make sure you use consistent colors for ground, power voltages, etc. Black is usually reserved for GND, and red for power.\n",
    "- For easy readability of your layout, \"bend\" your wires by double clicking them as you place them along. Try to avoid crossing wires as much as you can for better visualization.\n",
    "- In general, it's better to have shorter wires, so that it's easier to follow.\n",
    "- The + and - rails are reserved for power and GND, respectively. Avoid connecting any other signals to those rails.\n",
    "\n",
    "### Tasks: \n",
    "\n",
    "#### Wiring the op-amp as an inverting amplifier\n",
    "TinkerCad simulates the [LM741](http://www.learningaboutelectronics.com/Articles/LM741-op-amp-pinout-connections) operational amplifier. It is an 8 legged component with the pinout shown below:\n",
    "\n",
    "<center>\n",
    "    <img width=\"400px\" src=\"images/LM741_pinout_updated.png\">\n",
    "</center>\n",
    "\n",
    "**The op-amp has different pins from the dual op-amp in your kit.** In particular, it only has one amplifier, and it has two offset pins. You can read about the function of the offset pins in the datasheet, but here, we will ignore them. Lay out the circuit in TinkerCad according to this pinout, but keep in mind that the op-amp pinout for the physical circuit you will be building later on is different.\n",
    "\n",
    "\n",
    "Most of the circuit below has been completed for you in the starter circuit. Finish the circuit by using the resistors and LEDs in your workspace. Hold off connecting Power+(Vdd) and Power-(Vss) until you're ready to test your circuit.\n",
    "<center>\n",
    "<img width='500px'\n",
    "src=\"images/blink_inverting_circuit_diagram_both.png\">\n",
    "</center>\n",
    "\n",
    "\n",
    "\n",
    "#### Testing your circuit\n",
    "\n",
    "The CMOS inverter, driven by the Arduino pin 13, generates a square wave with the following properties:\n",
    "\n",
    "<center>\n",
    "<img width='700px'\n",
    "src=\"images/sqWave.png\">\n",
    "</center>\n",
    "\n",
    "    - 0.25 Hz frequency (4 seconds cycle)\n",
    "    - 50% duty cycle (1/2 time on, 1/2 time on during a cycle)\n",
    "    - 3.3 volts peak-to-peak (Vpp). Peak-to-peak means the difference between the maximum and the minimum of the wave.\n",
    "    - 1.65V offset\n",
    "\n",
    "- Connect $V_{dd}$ and $V_{ss}$ of the op-amp to 3.3V and GND respectively. \n",
    "- **<span style=\"color:green\"> Sanity question:** </span> Why are we setting the rails of the op-amp to these values?\n",
    "- **<span style=\"color:green\"> Sanity question:** </span> Why did we connect the Arduino GND to the negative power rail?\n",
    "\n",
    "- Use the multimeter to measure the voltage at the output of the op-amp.\n",
    "- Run the simulation.\n",
    "\n"
   ]
  },
  {
   "cell_type": "markdown",
   "metadata": {},
   "source": [
    "####  Behavior of the circuit\n",
    "\n",
    "- What voltage is the non-inverting input ($V_+$) terminal of the op-amp connected to? Why do we need it to be connected to this voltage value?\n",
    "\n",
    "< _YOUR ANSWER HERE_ >\n",
    "\n",
    "- What does the circuit do? Hint: what is the expected behavior of LED1 and LED2 for a square wave input?\n",
    "\n",
    "< _YOUR ANSWER HERE_ >\n",
    "\n",
    "- Make sure to understand what the input and output of the op-amp are and show the circuit behavior during checkoff."
   ]
  },
  {
   "cell_type": "markdown",
   "metadata": {},
   "source": [
    "<a id='part0.5'></a>\n",
    "# <span style=\"color:navy\">Part 2: Laying out Power Supplies</span>\n",
    "-----"
   ]
  },
  {
   "cell_type": "markdown",
   "metadata": {},
   "source": [
    "## Our Voltage Regulators\n",
    "\n",
    "As a replacement for a normal lab power supply, we will be using voltage regulators to supply 3.3V and 5V to different circuits throughout the course of the labs and project.\n",
    "\n",
    "The voltage regulators we will be using are the [LM317KCT](https://www.digikey.com/product-detail/en/texas-instruments/LM317KCT/296-35739-5-ND/3929530) and the [LM340T5](https://www.ti.com/product/LM340?qgpn=lm340). Please take a look at the links as well as their datasheets ([LM317's datasheet](https://www.ti.com/lit/ds/symlink/lm317.pdf?HQS=TI-null-null-digikeymode-df-pf-null-wwe&ts=1592346480922), [LM340T5's datasheet](https://www.ti.com/lit/ds/symlink/lm340.pdf)) to get familiarized with some of their limits (i.e. $V_{\\text{out}}$ and $V_{\\text{in}}$ range, current limits) and capabilities. The datasheets also come with some very helpful example circuits, along with their expected outputs, which we will be making now!"
   ]
  },
  {
   "cell_type": "markdown",
   "metadata": {},
   "source": [
    "### Materials:\n",
    "- Breadboard\n",
    "- 9V wall adapter + cables\n",
    "- 1x LM317KCT (9V-to-3.3V) voltage regulator\n",
    "- 1x LM340T5 (9V-to-5V) voltage regulator\n",
    "- 2x 1 k$\\Omega$ Resistor\n",
    "- 1x 1.5 k$\\Omega$ Resistor\n",
    "- 1x 2 k$\\Omega$ Resistor\n",
    "- 2x 100 nF Capacitor <span style=\"color:red\"> (Code: 104) </span>\n",
    "- 1x 10 uF capacitors  <span style=\"color:red\"> (Code: 106) </span>\n",
    "- Digital Multimeter (DMM)\n",
    "\n",
    "### Tasks: \n",
    "\n",
    "\n",
    "\n",
    "0. <span style=\"color:red; font-weight:bold\"> IMPORTANT INSTRUCTIONS!</span> \n",
    "     - **Make sure you leave space in between your 3.3V and 5V regulators as the metal tabs on the top of the regulator chips are conductive. If these two metal tabs touch, it will cause a short circuit**\n",
    "     - **Use your wall-adapter to supply 9V. Do NOT use your batteries as you have only a finite amount of charge on them.**\n",
    "        - Using your wall-adapter (with all of its intermediate connectors) will mean that your wires colors will correspond to:\n",
    "            - **<span style=\"color:red\">RED -> GND</span>**\n",
    "            - **BLACK -> 9V**\n",
    "        - Here is [a helpful video](https://www.youtube.com/watch?v=DPLfrsyz99w&list=PLhIxXDRJ9_VqxwlybfFHzihu1e3-Ll433&index=3) made by one of our wonderful lab TAs, explaining how to properly power your breadboard.\n",
    "\n",
    "For your reference, here is a rough layout of what your breadboard layout should look like once your circuits are built.\n",
    "<center>\n",
    "    <img width=\"800px\" src=\"images/breadboard_layout_regulator.png\">\n",
    "</center>\n",
    "\n",
    "As a helpful tip throughout your labs: **KEEP YOUR CIRCUIT NEAT!** This means you should be reasonably minimizing the space that wires and other electrical components take up on your breadboard!\n",
    "\n",
    "\n",
    "1. **Layout the following circuit using the LM317KCT regulator.**\n",
    "\n",
    "\n",
    "|Pinout:|Circuit:|\n",
    "|:-----:|:---------------:|\n",
    "|<img width=\"400px\" src=\"images/LM317_po.png\">|<img width=\"500px\" src=\"images/LM317KCT_circuit_diagram_1.png\">|\n",
    "\n",
    "\n",
    "2. **Build the following circuit with the LM340T5 regulator.**\n",
    "\n",
    "\n",
    "|Pinout:|Circuit:|\n",
    "|:-----:|:---------------:|\n",
    "|<img width=\"400px\" src=\"images/LM340T5_po.png\">|<img width=\"500px\" src=\"images/LM340T5_circuit_diagram.png\">| \n",
    "    \n",
    "3. Check that the outputs of your 3.3V and 5V regulator are what you expect them to be.\n",
    "\n",
    "#### Misc\n",
    "\n",
    "\n",
    "4. **Add a decoupling capacitor (10 uF, code 106) between your 3.3 V rail and ground.** We are going to be working with some small signals, so we want to minimize any possible sources of noise (the power rails can be a large source of noise). Decoupling capacitors will reduce fluctuations on your rails (which can occur, for example, when the voltage source must supply a large amount of current across wires which actually have non-zero resistance and inductance) .  (https://en.wikipedia.org/wiki/Decoupling_capacitor) You should use them in every circuit you build <i>in the future for the rest of your life</i>.\n",
    "\n",
    "\n",
    "5. Connect the negative and positive rails on both sides of your breadboard such that:\n",
    "    - Both positive rails carry 3.3V\n",
    "    - Both negative rails are GND"
   ]
  },
  {
   "cell_type": "markdown",
   "metadata": {},
   "source": [
    "## <span style=\"color:green\"> CHECKPOINT: Submit a help request and have someone on lab staff check your regulator circuits' outputs before using them to power your circuits! </span>"
   ]
  },
  {
   "cell_type": "markdown",
   "metadata": {},
   "source": [
    "<a id='part2.5'></a>\n",
    "# <span style=\"color:navy\">Part 2.5: Inky, Pinky, ___________, and Clyde </span>\n",
    "-----"
   ]
  },
  {
   "cell_type": "markdown",
   "metadata": {
    "collapsed": true
   },
   "source": [
    "In this part, you will setup the MSP430 Lanchpad, and load a program which turns a pin on and off, similar to the Arduino in the TinkerCad simulation. \n",
    "\n",
    "\n",
    "## Tasks: \n",
    "\n",
    "### 1. Interacting with your Launchpad\n",
    "\n",
    "<!-- <br/>\n",
    "<center>\n",
    "<img width='500px'\n",
    "src=\"images/MSP430F5529.jpg\">\n",
    "</center>\n",
    "<br/> -->\n",
    "\n",
    "\n",
    "|MSP430-F5529:|Pinmap:|\n",
    "|:-----:|:---------------:|\n",
    "|<img width=\"350px\" src=\"images/MSP430F5529.jpg\">|<img width=\"1000px\" src=\"images/MSP430F5529_pinmap.png\">| \n",
    "\n",
    "\n",
    "Throughout the lab curriculum, we will be relying on our MSP430 Launchpad to generate waveforms and display voltages as a function of time among other interesting and necessary functions in a lab. To load the programs that perform these functions and to get a sense of the code we writing to accomplish them, please install [TI's Energia IDE](https://energia.nu/download/). There are many helpful example programs in `Open > Examples` that will show you some of the basics of coding in C/C++ inside the Energia IDE.\n",
    "\n",
    "In general, to upload a program to your Launchpad, you will follow these steps:\n",
    "\n",
    "- Open the .ino file in Energia you wish to upload to your Launchpad.\n",
    "- Fill in any `#TODO` sections we may have left in the code for you to complete.\n",
    "- Click the Verify (Checkmark) button to make sure the program compiles correctly.\n",
    "- Fix any bugs that may have arisen.\n",
    "- Under `Tools > Ports` select the port that your MSP430 is connected to\n",
    "    - Windows: Open `Device Manager` and check under `Ports (COM & LPT)`\n",
    "    - Mac: Open `Terminal` and type the command `ls -ltrh /dev/cu.*` and choose the higher number of the device that includes \"uart\" or \"usbmodem\"\n",
    "- Click the Upload (Right-Arrow) button to upload the program to your Launchpad\n",
    "\n",
    "**[Here is a helpful link to the Piazza Energia master thread (@323). Please look through this thread for help with debugging Energia issues](https://piazza.com/class/kj9duntmc4w7ib?cid=323)**\n",
    "\n",
    "## <span style=\"color:red\">**Moving forward, avoid shorting the Launchpad's power (3.3V, 5V) and GND pins. You should be extra cautious of this when measuring ANYTHING with your multimeter!**</span>\n",
    "\n",
    "### Task:\n",
    "\n",
    "#### Grounding your Launchpad\n",
    "- **Test whether 9V and GND from your wall-adapter are where you expect them to be.** \n",
    "    - Use your multimeter to probe as follows:\n",
    "        - Red Probe -> 9V row\n",
    "        - Black Probe -> GND (or Negative Rail)\n",
    "    - This should yield a POSITIVE 9V showing up on your multimeter\n",
    "- After you make sure you have set your wall-adapter correctly, connect the Launchpad GND pin to the negative rail on your breadboard\n",
    "    - Any GND pin on the Launchpad will properly ground the entire microcontroller\n",
    "\n",
    "#### Testing simple_square_wave.ino\n",
    "- Open `simple_square_wave.ino` in Energia. Then take a look at the code. This program will generate a square wave by switching pin p3.2 from 0V to 3.3V and from 3.3V back to 0V every 2 seconds. Make sure the delay is set to 2000 (ms). This waveform has the following properties:\n",
    "    - 0.25 Hz frequency -- on and off every 2 seconds\n",
    "    - 50% duty cycle  -- equal time between on and off\n",
    "    - 3.3Vpp -- Vpp means volts peak-to-peak. Peak-to-peak means the difference between the maximum and the minimum of the wave.\n",
    "    - 1.65V offset -- so oscillating between 0->3.3V\n",
    "    \n",
    "- Upload the program to your MSP430 Launchpad. Press the `RST` button after the code upload.\n",
    "- Using the multimeter, measure the voltage between pin P3.2 and the GND pin. If everything is working correctly, the multimeter should change values from 0 to 3.3V (and vice versa) every 2 seconds. \n",
    "    - Do NOT probe the pins directly. Connect male-female jumper wires to them first and probe the male end of the jumper wires to avoid accidentally touching any other pins."
   ]
  },
  {
   "cell_type": "markdown",
   "metadata": {},
   "source": [
    "<a id='part3'></a>\n",
    "# <span style=\"color:navy\">Part 3: Physical Op-Amp Circuit .... For Real! </span>\n",
    "-----"
   ]
  },
  {
   "cell_type": "markdown",
   "metadata": {},
   "source": [
    "In this part, you will realize the op-amp inverting amplifier circuit from the simulation in part 1. You will drive the circuit with the Launchpad and see the LEDs blinking out of sync. \n",
    "\n",
    "## Materials:\n",
    "- Breadboard\n",
    "- Wires\n",
    "- Op-amp  <span style=\"color:red\"> LMC6482AIN </span> [data sheet](https://www.ti.com/general/docs/suppproductinfo.tsp?distId=10&gotoUrl=http%3A%2F%2Fwww.ti.com%2Flit%2Fgpn%2Flmc6482)\n",
    "- M-to-F jumper wires\n",
    "- 2x LEDs (any color) \n",
    "    - long leg -> Anode (+)\n",
    "    - short leg -> Cathode (-)\n",
    "- 2x 100 $\\Omega$ resistor\n",
    "- 2x 1 k$\\Omega$ resistor\n",
    "- 2x 20 k$\\Omega$ resistor\n",
    "\n",
    "\n",
    "### 1. Build the circuit below.\n",
    "\n",
    "\n",
    "**NOTE: The op-amp pinout in is different from the one in TinkerCad. Look at the pinout diagram below for the correct layout. **\n",
    "\n",
    "<center>\n",
    "<img width='500px'\n",
    "src=\"images/blink_inverting_circuit_diagram_both.png\">\n",
    "</center>\n",
    "\n",
    "**NOTE:** The op-amps in your circuit kit are the 8-legged black components with a half-circle on one side. The pins (legs) correspond to the following nodes:\n",
    "\n",
    "|LMC6482:|Pinout:|\n",
    "|:-----:|:---------------:|\n",
    "|<img width=\"300px\" src=\"images/LMC6482.png\">|<img width=\"400px\" src=\"images/op_amp_pinout.png\">| \n",
    "\n",
    "As there are 2 op-amps within a single LMC6482 chip, you can use either one.\n",
    "\n",
    "### 2. Test your amplifier.\n",
    "\n",
    "\n",
    "- Connect the correct DC voltages to $V_{\\text{dd}}$ and $V_{\\text{ss}}$.\n",
    "\n",
    "\n",
    "The program `simple_square_wave.ino` is already loaded in the MSP430 Launchpad. \n",
    "- Connect pin P3.2 on your Launchpad to the corresponding node in the circuit.\n",
    "- Connect the GND pin on your Launchpad to the ground rail on your breadboard.\n",
    "- Hit RST to start the program if needed.\n",
    "\n",
    "Do you see a similar behavior as the simulation?\n",
    "\n",
    "\n"
   ]
  },
  {
   "cell_type": "markdown",
   "metadata": {},
   "source": [
    "<a id='part4'></a>\n",
    "# <span style=\"color:#ba190f\">CHECKOFF </span> \n",
    "-----"
   ]
  },
  {
   "cell_type": "markdown",
   "metadata": {},
   "source": [
    "### For Checkoff:\n",
    "<a id='part2'></a>\n",
    "- Show your GSI both LEDs when connected to the proper input.\n",
    "- Be prepared to answer some questions.\n",
    "\n",
    "**After checkoff, please:**\n",
    "\n",
    "- **Keep the voltage regulator circuits on your breadboard!** You will be using these for every lab until the end of the semester!\n",
    "- Dismantle the op-amp circuit.\n",
    "- Store all your electrical components in a neat and organized manner.\n",
    "- Make sure that all components that you received in your lab kit are stored safely for use in future labs.\n",
    "\n",
    "#### <span>Preview Checkoff Questions:</span>\n",
    "\n",
    "Most of these questions can be answered simply by thinking of the properties of each circuit element and performing circuit analysis. If you want to check what happens when you change part of the working circuit in a **potentially damaging** way (i.e. shorting two elements), TinkerCad is a great way to do this without risking your physical circuit components."
   ]
  },
  {
   "cell_type": "markdown",
   "metadata": {},
   "source": [
    "#### <span style=\"color:#075a04\"> 1. What is the circuit?  What does it do to the input signal?"
   ]
  },
  {
   "cell_type": "markdown",
   "metadata": {},
   "source": [
    "< _YOUR ANSWER HERE_ >"
   ]
  },
  {
   "cell_type": "markdown",
   "metadata": {},
   "source": [
    "#### <span style=\"color:#075a04\"> 2. What is the gain of the circuit?"
   ]
  },
  {
   "cell_type": "markdown",
   "metadata": {},
   "source": [
    "< _YOUR ANSWER HERE_ >"
   ]
  },
  {
   "cell_type": "markdown",
   "metadata": {},
   "source": [
    "#### <span style=\"color:#075a04\"> 3. How can you change the gain?\n",
    "\n"
   ]
  },
  {
   "cell_type": "markdown",
   "metadata": {},
   "source": [
    "< _YOUR ANSWER HERE_ >"
   ]
  },
  {
   "cell_type": "markdown",
   "metadata": {},
   "source": [
    "#### <span style=\"color:#075a04\"> 4. What happens when you:\n",
    "\n",
    "#### <span style=\"color:#075a04\"> a) Flip the polarity (i.e. swap the inputs of the inverting and noninverting input terminals of the op-amp) ?\n",
    "< _YOUR ANSWER HERE_ >"
   ]
  },
  {
   "cell_type": "markdown",
   "metadata": {},
   "source": [
    "#### <span style=\"color:#075a04\"> b) Short \"+\" and \"-\" _input_ terminals (NOT VSS and VDD)?\n",
    "< _YOUR ANSWER HERE_ >"
   ]
  },
  {
   "cell_type": "markdown",
   "metadata": {},
   "source": [
    "#### <span style=\"color:#075a04\"> c) Increase Rf? Hint: what is the maximum amplitude the circuit can output?\n",
    "< _YOUR ANSWER HERE_ >"
   ]
  },
  {
   "cell_type": "markdown",
   "metadata": {},
   "source": [
    "#### <span style=\"color:#075a04\"> d) What happens if the op-amp's VSS = 0.5 V?\n",
    "< _YOUR ANSWER HERE_ >"
   ]
  },
  {
   "cell_type": "markdown",
   "metadata": {},
   "source": [
    "#### <span style=\"color:#075a04\"> e) Keeping $\\frac{R_f}{R_{in}}$ constant, do the resistors' values affect circuit output / performance (ex: $\\frac{20k \\Omega}{20k\\Omega}$ equivalent to $\\frac{100\\Omega}{100\\Omega}$)? Is it better to use large or small resistor values, and why?\n",
    "< _YOUR ANSWER HERE_ >"
   ]
  },
  {
   "cell_type": "markdown",
   "metadata": {},
   "source": [
    "### Save this notebook somewhere you can access it! \n",
    "\n",
    "We recommend making a shared Google Drive with your lab partner, since GitHub can be annoying with Jupyter notebooks. You will **NOT** need this circuit for next week's lab, but it's good to start saving your Jupyter notebooks now so that you will always have access to your lab work.\n",
    "\n",
    "Backups are always a good idea."
   ]
  }
 ],
 "metadata": {
  "anaconda-cloud": {},
  "kernelspec": {
   "display_name": "Python 3",
   "language": "python",
   "name": "python3"
  },
  "language_info": {
   "codemirror_mode": {
    "name": "ipython",
    "version": 3
   },
   "file_extension": ".py",
   "mimetype": "text/x-python",
   "name": "python",
   "nbconvert_exporter": "python",
   "pygments_lexer": "ipython3",
   "version": "3.7.4"
  }
 },
 "nbformat": 4,
 "nbformat_minor": 2
}
