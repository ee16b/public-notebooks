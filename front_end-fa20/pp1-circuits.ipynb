{
 "cells": [
  {
   "cell_type": "markdown",
   "metadata": {},
   "source": [
    "# SIXT33N Project Phase 1: Circuits\n",
    "\n",
    "### EE 16B: Designing Information Devices and Systems II, Fall 2020\n",
    "\n",
    "Written by Nathaniel Mailoa and Emily Naviasky (2016).\n",
    "\n",
    "Updated by Peter Schafhalter and Zain Zaidi (2019), Mia Mirkovic (2020), Rafael Calleja (2020)\n",
    "\n",
    "nmailoa@berkeley.edu &emsp; enaviasky@berkeley.edu &emsp; pschafhalter@berkeley.edu &emsp; zzaidi@berkeley.edu &emsp; miamirkovic@berkeley.edu &esmp; rafael.calleja@berkeley.edu\n",
    "\n",
    "----"
   ]
  },
  {
   "cell_type": "markdown",
   "metadata": {},
   "source": [
    "\n",
    "# Table of Contents\n",
    "\n",
    "* [Part 0: Lab Note](https://drive.google.com/file/d/1GIOIGWjLnxvUFizC8ihpnuKdn__g7LAx/view?usp=sharing)\n",
    "* [Part 1: Testing Your Existing Circuits](#part1)\n",
    "* [Part 2: Motor controller Circuits](#part2)\n",
    "* [Part 3: Audio Front End Circuitry (Optional)](#optional)\n"
   ]
  },
  {
   "cell_type": "markdown",
   "metadata": {},
   "source": [
    "\n",
    "\n",
    "<a id='part0'></a>\n",
    "# <span style=\"color:navy\">Part 0: Lab Note</span>\n",
    "-----\n",
    "\n",
    "## Please read the [lab note](https://drive.google.com/file/d/1GIOIGWjLnxvUFizC8ihpnuKdn__g7LAx/view?usp=sharing).\n",
    "\n",
    "\n",
    "\n"
   ]
  },
  {
   "cell_type": "markdown",
   "metadata": {},
   "source": [
    "<a id='part1'></a>\n",
    "# <span style=\"color:navy\">Part 1: Testing Your Existing Circuits</span>\n",
    "-----\n",
    "\n",
    "## Materials\n",
    "- Voltage regulator circuits from Lab 1\n",
    "- Multimeter\n",
    "- Launchpad"
   ]
  },
  {
   "cell_type": "markdown",
   "metadata": {},
   "source": [
    "Our circuit will need two sources of power: \n",
    "1. **5V (Will come from the 5V voltage regulator)**\n",
    "2. **3.3V (Will come from the 3.3V voltage regulator)**\n",
    "\n",
    "\n",
    "\n",
    "## Tasks\n",
    "\n",
    "### 1.0 Plan Your Breadboard Layout\n",
    "\n",
    "Divide your breadboard into the following sections so that you have room for them all.\n",
    "- Use both of your (+) rails for 3.3V because most of the circuit will use 3.3V. Plug in the output of your 3.3V regulator into these rails.\n",
    "- Plug your 5V output into a row close to your mic board (or somewhere in the middle of your breadboard if you're not using the mic board anymore)\n",
    "- Connect the ground of all your supplies, and connect the two (-) to create your ground rail.\n",
    "- The purple section is where you will build your mic board front end circuits if you want to do voice control later.\n",
    "- The blue sections are where you will build your motor driver circuits.\n",
    "\n",
    "<img style=\"width:700px\" src=\"images/circuit_outline_diagram_v2_with_voltage_reg_single_cap.png\">\n",
    "\n",
    "### <span style=\"color:#ba190f\">**The micboard/front end section of the breadboard is *optional* and should only be completed if you wish to integrate the voice-command aspect to the car.** </span>\n",
    "**Regardless, keep your circuit neat!**\n",
    "\n",
    "\n",
    "### 1.1 Test your voltage regulators.\n",
    "\n",
    "\n",
    "SIXT33N will run on a 9V battery when it is running around. \n",
    "- A voltage regulator regulates this 9V down to 5V.\n",
    "- The Launchpad will take 5V from the voltage regulator. DO NOT PLUG IN THE 5V TO YOUR LAUNCHPAD FOR THIS LAB.\n",
    "\n",
    "1. **Using the multimeter, verify that the output of your 5V regulator is 5V.**\n",
    "- **Then, verify that the output of the 3.3V regulator is about 3.3V.**\n",
    "\n",
    "\n",
    "Now, you are going to be working with some small signals. You don't want to introduce more noise than you need to, and the power rails can be a large source of noise. To keep some noise off of your power rails:\n",
    "\n",
    "### 1.2 Add a decoupling capacitor (10 uF, code 106) between your 3.3 V rail and ground (if you don't already have one).\n",
    "\n",
    "Decoupling capacitors will reduce fluctuations on your rails (which can occur for example when the voltage source must supply a large amount of current across wires which actually have non-zero resistance and inductance) .  (https://en.wikipedia.org/wiki/Decoupling_capacitor) You should use them in every circuit you build <i>in the future for the rest of your life</i>.\n"
   ]
  },
  {
   "cell_type": "markdown",
   "metadata": {},
   "source": [
    "<a id='part2'></a>\n",
    "# <span style=\"color:navy\">Part 2: Motor Controller Circuits</span>\n",
    "\n",
    "-----"
   ]
  },
  {
   "cell_type": "markdown",
   "metadata": {},
   "source": [
    "## Materials\n",
    "- 2 C2690A NPN BJTs (Bipolar Junction Transistor)\n",
    "- 2 IN4001 Diodes\n",
    "- 2 1.5k$\\Omega$ resistors\n",
    "- 1 3-terminal switch"
   ]
  },
  {
   "cell_type": "markdown",
   "metadata": {},
   "source": [
    "## Tasks\n",
    "\n",
    "### 2.0 Read <a href=\"https://drive.google.com/file/d/1GIOIGWjLnxvUFizC8ihpnuKdn__g7LAx/view?usp=sharing\">Part 3</a> of the note before you begin this part!\n",
    "\n",
    "S1XT33N will require two batteries: one for the regulator circuits, and one for the motors. The $1.5\\mathrm{k}\\Omega$ resistor is used to limit the current to minimize the risk of the BJT burning out.\n",
    "\n",
    "\n",
    "### 2.1 Test the motors individually.\n",
    "\n",
    "1. **Touch the ends of the motor wires to the battery leads. The motor should turn on. If you switch the polarity (switch the wires), it should turn the other direction.**\n",
    "\n",
    "\n",
    "\n",
    "### 2.2 Build the motor controller circuits.\n",
    "1.  **Construct the circuit below for each wheel using the <a href=\"https://www.fairchildsemi.com/datasheets/KS/KSC2690A.pdf\">C2690A</a> NPN BJT on the breadboard**.\n",
    "\n",
    "<img width=\"250px\" src=\"images/motor-drive-with-switch.jpg\">\n",
    "\n",
    "\n",
    "- **Use a different breadboard row for the 9V for the motors than the 9V for the voltage regulator.**\n",
    "- The motor is reversible so connect it any way for now. If it turns out to go backwards later, just reverse the two terminals of the motor.\n",
    "- The pin diagram of the BJT is reproduced below. Note that the diagram has the markings (3 circles) in the black plastic part facing up. <span style=\"color:#ba190f\">**Make sure to match the Base, Emitter, and Collector properly to the schematic.**</span>\n",
    "\n",
    "<img width=\"250px\" src=\"images/proj-bjt.png\">\n",
    "- A <a href=\"https://www.allaboutcircuits.com/textbook/semiconductors/chpt-3/introduction-to-diodes-and-rectifiers/\">diode</a> is a component that only conducts current one way. This diode is needed because of the inductive characteristics of the motor. If the motor is on and we turn it off, the inductive behavior of the motor maintains the current and we need a way to dissipate it. The diagram for the diode is shown below. **Note that the diode has a direction** - be careful which terminal is attached to the 9V power supply.\n",
    "<img width=\"300px\" src=\"images/proj-diode.png\">\n",
    "    \n",
    " **2. Add a switch between 9V and the motor drivers.** You only need **ONE** switch!\n",
    "- We are using this switch as a way to control whether your motors are powered or not.\n",
    "- At any given time, two of the three pins below are connected depending on which side the switch is flipped to.\n",
    "<img width=\"300px\" src=\"images/switch.png\">\n",
    "1. Place the switch somewhere fairly central (with respect to the long side) on your breadboard.\n",
    "2. Connect the 9V to `pin 1`\n",
    "3. Connect **BOTH** your motor controller circuits' 9V nodes to `pin 2`. \n",
    "4. Connect `pin 3` to ground.\n",
    "5. **Sanity check:** the middle pin of your switch should be connected to something.\n",
    "         \n",
    "\n",
    "         \n",
    "\n",
    "\n",
    "    \n",
    "    \n",
    "### 2.3 Test the motor controller circuits.\n",
    "\n",
    "**1. Connect the 9V from the wall plug to the switch to test the motors.**\n",
    "   - The motors can each draw 200-300mA of current, so we don't want to use batteries for them while we're just testing.\n",
    "    \n",
    "**2. Connect the node labeled <span style=\"color:#ba190f\">MSP430 output pin</span> in one of the motor controller circuit to <span style=\"color:#ba190f\">pin 2.0</span> on your Launchpad. Make sure to ground your Launchpad (connect gnd pin to negative rail)!**\n",
    "\n",
    "**3. Upload `motor_test.ino` to your Launchpad and hit `RST`.**\n",
    "\n",
    "**4. Open the serial monitor.**\n",
    "   - As the program runs, you should see the \"Duty Cycle\" reading change in the serial monitor. Your motor should speed up as the duty cycle increases, and slow down as it decreases. \n",
    "    \n",
    "  \n",
    "<span style=\"color:#ba190f\">**5. Repeat for the other motor circuit. Make sure that both motors drive as expected. They might not go at the same speed - our control scheme will fix that later in the project.**</span>\n",
    "\n"
   ]
  },
  {
   "cell_type": "markdown",
   "metadata": {},
   "source": [
    "# SIXT33N Car Instructions"
   ]
  },
  {
   "cell_type": "markdown",
   "metadata": {},
   "source": [
    "## Car Assembly\n",
    "\n",
    "[Assembly Instructions](https://drive.google.com/file/d/13Mokqk5kPcWg4J2nQpU-MfoXxFHDuTuW/view?usp=sharing)\n",
    "\n",
    "[Assembly Video Guide](https://youtu.be/P16ziUDR3GQ)"
   ]
  },
  {
   "cell_type": "markdown",
   "metadata": {},
   "source": [
    "### **DO NOT try to remove the wheels once you attach them to the axles.** \n",
    "### NOTE: The video says to scrape the inside of the wheels if you're having trouble attaching them. Be careful not to scrape too much, or the wheels may become too loose and not stay on the axle."
   ]
  },
  {
   "cell_type": "markdown",
   "metadata": {},
   "source": [
    "<a id='optional'></a>\n",
    "# <span style=\"color:navy\">Audio Front End Circuitry [Optional]</span>\n",
    "\n",
    "----\n",
    "\n",
    "## Materials\n",
    "- Op-amps\n",
    "- Resistors\n",
    "- Capacitors\n",
    "- Micboard + biasing circuit\n",
    "- Power supply circuits\n",
    "- Launchpad\n"
   ]
  },
  {
   "cell_type": "markdown",
   "metadata": {},
   "source": [
    "## Tasks\n",
    "\n",
    "Recall from the color organ labs that the frequency range for the human voice is about 180-20000Hz (female voice: 300 Hz-17kHz; male voice: 150Hz-8kHz), but most speech falls between **250Hz** and **2500Hz**. In order to minimize noise, we want to only collect data inside this frequency range. Additionally, the mic board has a bandpass transfer function. The lowpass cutoff frequency is a bit too high for our liking, so we'll build a lowpass filter to bring the higher frequency cutoff down to about 2.5 kHz. \n",
    "\n",
    "### Test your mic board biasing circuit.\n",
    "\n",
    "\n",
    "1. Using the multimeter, verify that the mic board VDD is 3.3V.\n",
    "\n",
    "2. Using the multimeter, verify that the voltage at OS1 and OS2 is about 1.65V.\n",
    "\n",
    "3. Verify that all the op-amps on your breadboard have VDD connected to 3.3V and their VSS connected to the ground rail.\n",
    "\n",
    "### Tune your mic board.\n",
    "4. Make sure you ground your Launchpad!\n",
    "1. Upload `tune_mic.ino` to your Launchpad and hit `RST`. Open the Serial Plotter. \n",
    "2. To calibrate the readings, connect `P6.0` on the Launchpad to your 3.3V rail. Hit `RST`. After the lights at the bottom of the board stop blinking, reconnect the mic board's output to `P6.0` on the Launchpad.\n",
    "3. Turn the potentiometer on the mic board to adjust the gain until the peak-to-peak measurement is 2-3V when you speak and it rails when you tap the mic. **Make sure it only rails when you tap it, not when you're speaking.** The plotter should have a legend at the top telling you which lines correspond to the mic board output, the peak-to-peak, and the 2.5V threshold. The peak-to-peak value is also given beside its legend title.\n",
    "\n",
    "### Build your low-pass filter. \n",
    "\n",
    "1. Calculate appropriate capacitor and resistor values for your filter. \n",
    "2. Build the filter on your breadboard. The filter's input should be the output of the mic board. \n",
    "\n",
    "3. Once you have built the circuit, check that:\n",
    "    - The DC offset at each node is what you expect.\n",
    "    - The frequency response of your circuit is correct:\n",
    "        - Use a tone generator to play a specific input frequency. Set your phone down so it stays a constant distance from the mic board.\n",
    "        - Watch the peak-to-peak value on the serial plotter as you sweep the frequency from low to high. \n",
    "        - Check that the amplitude of the output at the cutoff frequency is attenuated as expected.\n",
    "        - $\\mathrm{V_{out}}$ should be close to $\\frac{\\mathrm{V_{pp,lowFrequency}}}{\\sqrt{2}}$ at the cutoff frequency.\n",
    "            - $\\mathrm{V_{pp,lowFrequency}}$ is the peak-to-peak amplitude at low frequency. Since the mic oard has a bandpass transfer function, use the maximum peak-to-peak voltage you see before the cutoff frequency for this value.\n",
    "\n",
    "**<span style=\"color:#ba190f\">Record your choice of R and C for the project report!</span>**"
   ]
  },
  {
   "cell_type": "code",
   "execution_count": null,
   "metadata": {
    "collapsed": true
   },
   "outputs": [],
   "source": [
    "### YOUR CODE HERE\n",
    "R_low_pass = ... #calculate this value with code\n",
    "C_low_pass = ...\n",
    "f_cutoff_low_pass = ...\n",
    "\n",
    "vpp_low_freq = ...\n",
    "vpp_cutoff_ideal = ... #calculate this value with code\n",
    "vpp_cutoff_actual = ...\n",
    "\n",
    "\n",
    "print(\"Low-pass filter:\")\n",
    "print(\"================\")\n",
    "print(\"Resistor: {} ohms\".format(R_low_pass))\n",
    "print(\"Capacitor: {} farads\".format(C_low_pass))\n",
    "print(\"Cutoff frequency: {} Hz\".format(f_cutoff_low_pass))"
   ]
  },
  {
   "cell_type": "markdown",
   "metadata": {},
   "source": [
    "# <span style=\"color:#ba190f\">CHECKOFF</span>\n",
    "-----\n",
    "\n",
    "- Show your GSI your working circuits:\n",
    "    - Demonstrate that both of your motors work properly.\n",
    "    - Show your TA your assembled car.\n",
    "- **Remember what each part of your circuit is for (Record this in a Google doc or somewhere else safe). You will need to write a summary for your final report.**\n",
    "- **Back up this document (e.g. to Google Drive or Github).**"
   ]
  }
 ],
 "metadata": {
  "anaconda-cloud": {},
  "kernelspec": {
   "display_name": "Python 3",
   "language": "python",
   "name": "python3"
  },
  "language_info": {
   "codemirror_mode": {
    "name": "ipython",
    "version": 3
   },
   "file_extension": ".py",
   "mimetype": "text/x-python",
   "name": "python",
   "nbconvert_exporter": "python",
   "pygments_lexer": "ipython3",
   "version": "3.6.1"
  }
 },
 "nbformat": 4,
 "nbformat_minor": 4
}
