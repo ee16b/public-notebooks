{
 "cells": [
  {
   "cell_type": "markdown",
   "metadata": {},
   "source": [
    "# Color Organ I\n",
    "### EE16B: Designing Information Devices and Systems II, Summer 2020\n",
    "\n",
    "Updated by Mia Mirkovic (2020)\n",
    "\n",
    "miamirkovic@berkeley.edu\n",
    "\n",
    "-----"
   ]
  },
  {
   "cell_type": "markdown",
   "metadata": {},
   "source": [
    "## Table of Contents\n",
    "\n",
    "* [Part 0: Lab Note](https://drive.google.com/file/d/1y12fEfBAZLYCZkLoQ815W5mZGG1v99ES/view?usp=sharing)\n",
    "* [Part 1: Frequency Response of the Speaker-Microphone System](#part1)\n",
    "* [Part 2: Bass-ic Color Organ](#part2)\n",
    "* [Part 3: A Treble-some Color Organ](#part3)\n",
    "* [Part 4: Total Frequency Response](#part4)\n",
    "* [Part 5: Improving Your Color Organ](#part5)\n",
    "* [Part 6: Checkoff](#part5)\n",
    "\n"
   ]
  },
  {
   "cell_type": "markdown",
   "metadata": {},
   "source": [
    "\n",
    "# <span style=\"color:navy\">Part 0: Lab Note</span>\n",
    "-----\n",
    "\n",
    "<span style=\"color:#ba190f\"> **Make sure you read the Introduction and Part 1 of the [lab note](https://drive.google.com/file/d/1y12fEfBAZLYCZkLoQ815W5mZGG1v99ES/view?usp=sharing) before beginning!**</span>\n",
    "\n"
   ]
  },
  {
   "cell_type": "markdown",
   "metadata": {},
   "source": [
    "<a id='part1'></a>\n",
    "# <span style=\"color:navy\">Part 1: Frequency Response of the Speaker-Microphone System</span>\n",
    "-----"
   ]
  },
  {
   "cell_type": "markdown",
   "metadata": {},
   "source": [
    "## Materials\n",
    "- Mic board\n",
    "- Op-amp\n",
    "- 100 k$\\Omega$ resistor\n",
    "- Power supply (3.3V from regulator)\n",
    "- Launchpad\n",
    "- USB cable\n",
    "- Jumper wires\n",
    "- Wires\n",
    "- Phone speaker or headphones"
   ]
  },
  {
   "cell_type": "markdown",
   "metadata": {},
   "source": [
    "### 1.1. Build and Test the Biasing Circuit\n",
    "1. Build the circuit below near your mic board on the breadboard. \n",
    "\n",
    "<img style=\"width:500px\" src=\"images/co1_biasing.png\">\n",
    "\n",
    "<img style=\"width:500px\" src=\"images/op_amp_pinout.png\">\n",
    "\n",
    "2. Next, plug in one of your op amps into the 8 pin socket on your mic board. **Make sure you match the notch on the op amp to the notch on the socket and drawn on the board!!**\n",
    "2. Connect the mic board **$V_{\\text{DD}}$ to the 3.3V  rail** and **$V_{\\text{SS}}$ to the ground rail**.\n",
    "3. Make sure OS2 and OS1 on the micboard are connected to the appropriate nodes in the circuit above. \n",
    "4. Probe each node of the circuit with the multimeter to see if it matches what you would expect to see. You should be able to explain what voltage you would expect to see at each node at this point. Try turning the potentiometer all the way one way and then all the way the other way to see how it changes. \n",
    "5. **Once you know that your circuit is correct,** plug your Launchpad into your computer. **Connect one of the Launchpad's ground pins to the ground rail, but don't connect any of the Launchpad's 3.3V or 5V pins to the breadboard in ANY way.**\n",
    "6. Turn the potentiometer until the mic board output reaches its maximum, maxing out the mic board gain.\n",
    "7. Connect the mic board's output to `P6.0` on the Launchpad.\n",
    "\n",
    "\n",
    "\n",
    "### 1.2 Tune Your Mic Board\n",
    "\n",
    "1. Upload `tune_mic.ino` to your Launchpad and hit `RST`. Open the Serial Plotter. \n",
    "2. Press the button at the bottom left of the Launchpad (`P2.1`) to calibrate the readings. **Make sure the mic board gain is maxed out while this is happening.** Check to see that the values look reasonable.\n",
    "3. **Play a pure tone in the midrange** (1000 - 5000 Hz) on your phone at a reasonable volume. Make sure to point the speaker directly at the mic and hold it a few inches away from the mic. Use a [tone generator](https://www.szynalski.com/tone-generator/) to do this, NOT a youtube video! The frequency in youtube videos is often inaccurate.\n",
    "\n",
    "4. Turn the potentiometer (with a screwdriver or jumper pins) until you see a sine wave with a **peak-to-peak of around 2V to 3V** on the serial plotter (it doesn't have to be precise, just around that range is fine). The plotter should have a legend at the top telling you which lines correspond to the mic board output, the peak-to-peak, and the 2.5V threshold. The peak-to-peak value is also given beside its legend title. If you tap on the mic, it should rail, but **it should not be railing while you play the tone.** Railing is nonlinear behavior and can negatively affect the performance of the rest of your circuit.\n",
    "    - If you want to change the amount of time over which the peak-to-peak value is calculated, change the DELAY variable in the Launchpad code.\n",
    "    - If the peak-to-peak reading stops being accurate, move the probe wire (the wire connecting the mic board output to `P6.0`) to the 3.3V rail and press `RST`. After the red and green LEDs at the bottom of the board turn off, you can move the probe wire back to the mic board output. \n",
    "    - If there's a non-physical spike on the serial plotter preventing you from seeing your voltages at the correct scale, try closing and reopening it. You may have to repeat the procedure outlined in the bullet point above. \n",
    "    \n",
    "\n",
    "<span style=\"color:#ba190f\">**Congratulations! You have successfully tuned your mic board!**</span>\n"
   ]
  },
  {
   "cell_type": "markdown",
   "metadata": {},
   "source": [
    "### 1.3. Measure the Frequency Response of the Speaker-Microphone System\n",
    "The purpose of this task is to learn how the speaker-microphone system will react to different frequencies. You can refer to your findings for guidance on choosing gains for the amplifiers in the individual bands of your color organ. \n",
    "\n",
    "\n",
    "1. Keeping your headphones/smartphone/speaker at a fixed distance from your mic board, use the serial plotter to record the peak-to-peak voltage at each frequency in the array `freq` in the code below. \n",
    "  - We do not have a measurable input signal $V_{\\text{in}}$, so we normalize the maximum of the frequency response to  "
   ]
  },
  {
   "cell_type": "code",
   "execution_count": null,
   "metadata": {
    "collapsed": true
   },
   "outputs": [],
   "source": [
    "import numpy as np\n",
    "import matplotlib.pyplot as plt\n",
    "import scipy.signal as sp\n",
    "from pylab import * \n",
    "%matplotlib inline"
   ]
  },
  {
   "cell_type": "code",
   "execution_count": null,
   "metadata": {
    "collapsed": true
   },
   "outputs": [],
   "source": [
    "#Record the amplitude of the output sinusoid at each given frequency\n",
    "freq = [100, 150, 200, 300, 450, 600, 800, 1000, 1500, 2000, 3000, 4000, 5500, 7000, 8500, 10000, 15000, 20000]\n",
    "\n",
    "\n",
    "Vpp = [] #fill in your values here\n",
    "\n",
    "gain = np.array(Vpp)/max(Vpp)\n",
    "\n",
    "plt.semilogx(freq, gain)\n",
    "plt.title('Gain vs Frequency')\n",
    "plt.xlabel('Frequency (Hz)')\n",
    "plt.ylabel('Gain (Volts/Volt)')"
   ]
  },
  {
   "cell_type": "markdown",
   "metadata": {},
   "source": [
    "## Questions\n",
    "\n",
    "<span style=\"color:#075a04\"> **1.1. What do you notice about the shape of this function? Which frequencies result in large output?**</span>"
   ]
  },
  {
   "cell_type": "markdown",
   "metadata": {},
   "source": [
    "`YOUR ANSWER HERE`"
   ]
  },
  {
   "cell_type": "markdown",
   "metadata": {},
   "source": [
    "<span style=\"color:#075a04\"> **1.2. What does the plot tell you about the loudness of your speaker at certain frequencies? Does this reflect your experience listening to music?**</span>\n",
    "\n",
    "Hint: low frequencies correspond to the bass in a song. Try playing something [bass-heavy :)](https://youtu.be/rCuBBaLtXQQ)"
   ]
  },
  {
   "cell_type": "markdown",
   "metadata": {},
   "source": [
    "`YOUR ANSWER HERE`"
   ]
  },
  {
   "cell_type": "markdown",
   "metadata": {},
   "source": [
    "<span style=\"color:#075a04\">**1.3. Ultimately you want your circuit to have around the same output gain for all frequencies. Suggest a way to do this using components you've learned about in class and lecture.**</span>"
   ]
  },
  {
   "cell_type": "markdown",
   "metadata": {},
   "source": [
    "< YOUR ANSWER HERE >"
   ]
  },
  {
   "cell_type": "markdown",
   "metadata": {},
   "source": [
    "`YOUR ANSWER HERE`"
   ]
  },
  {
   "cell_type": "markdown",
   "metadata": {},
   "source": [
    "\n",
    "\n",
    "<a id='part2'></a>\n",
    "# <span style=\"color:navy\">Part 2: *Bass*ic Color Organ</span>\n",
    "------\n"
   ]
  },
  {
   "cell_type": "markdown",
   "metadata": {},
   "source": [
    "## Questions"
   ]
  },
  {
   "cell_type": "markdown",
   "metadata": {},
   "source": [
    "<span style=\"color:#075a04\">**2.1. Read Part 2 of the [note](https://drive.google.com/file/d/1R3uTA0XQXE1f-1cgg324EkreJhAV06D6/view?usp=sharing) and complete the question in the gray box.**</span>"
   ]
  },
  {
   "cell_type": "markdown",
   "metadata": {},
   "source": [
    "<span style=\"color:#075a04\">**2.2. On the same sheet of paper you used for layout (see q. 2.1.), draw the circuit diagram for a first-order low pass RC filter.**</span>"
   ]
  },
  {
   "cell_type": "markdown",
   "metadata": {},
   "source": [
    "<span style=\"color:#075a04\">**2.3. Find an equation for the cutoff frequency $f_c$.**</span>"
   ]
  },
  {
   "cell_type": "markdown",
   "metadata": {},
   "source": [
    "`YOUR ANSWER HERE`"
   ]
  },
  {
   "cell_type": "markdown",
   "metadata": {},
   "source": [
    "## Materials\n",
    "- Capacitors\n",
    "- Resistors\n",
    "- Op-amps\n",
    "- LEDs\n",
    "- Power supply (3.3V from regulator)\n",
    "- Launchpad\n",
    "- USB cable\n",
    "- Jumper wires\n",
    "- Wires\n",
    "- Phone speaker or headphones\n",
    "\n",
    "\n",
    "## Tasks"
   ]
  },
  {
   "cell_type": "markdown",
   "metadata": {},
   "source": [
    "### 2.1. Build and Test the Low-Pass Filter\n",
    "\n",
    "1. A low pass filter consists of a resistor and capacitor in series with each other, in that order (see diagram at bottom of part 2)\n",
    "2. Choose values for $R$ and $C$ such that your cutoff frequency $f_c$ is in the range 400 - 700 Hz.\n",
    "    - Since we have far more resistor values than we have capacitors values, choose an easy capacitor value. Try to pick one that that lets you choose resistors in the 1k - 10k$\\Omega$ range. \n",
    "    - You don't need to be overly precise with your resistor values --- if your goal cutoff frequency is 600 and the resistor value you calculate is ±100 ohms away from a value we have, don't sweat it; just use the new cutoff frequency instead. \n",
    "3. Record your values for $R$, $C$, and $f_c$ in the code below.\n",
    "4. Build the just the low-pass filter on your breadboard.\n",
    "5. **Unit test: Check the filter's output using the tone generator, your mic board, and the serial plotter to make sure the cutoff frequency is what you expect. **"
   ]
  },
  {
   "cell_type": "code",
   "execution_count": null,
   "metadata": {
    "collapsed": true
   },
   "outputs": [],
   "source": [
    "### YOUR CODE HERE\n",
    "R = ...\n",
    "C = ...\n",
    "f_c = ...\n",
    "\n",
    "print(\"Low pass filter\")\n",
    "print(\"===============\")\n",
    "print(\"Resistor: {} ohms\".format(R))\n",
    "print(\"Capacitor: {} farads\".format(C))\n",
    "print(\"Cutoff frequency: {} Hz\".format(f_c))"
   ]
  },
  {
   "cell_type": "markdown",
   "metadata": {},
   "source": [
    "### 2.2. Plot the Frequency Response of the Low-Pass-Filtered Mic Board\n",
    "\n",
    "When desiging filters, it's helpful to visualize how the frequency response looks. \n",
    "\n",
    "Run the script below to plot the frequency response of just your low pass filter. "
   ]
  },
  {
   "cell_type": "code",
   "execution_count": null,
   "metadata": {
    "collapsed": true
   },
   "outputs": [],
   "source": [
    "### TODO: Enter your low cutoff frequencies below. Cast them to floats so this block of code runs correctly. \n",
    "low_cutoff = float()\n",
    "\n",
    "peak_to_peak_voltages_lowpass = 1/(np.sqrt(1+((np.array(freq)/(low_cutoff))**2)))\n",
    "\n",
    "\n",
    "plt.plot(freq, peak_to_peak_voltages_lowpass)\n",
    "plt.xlabel(\"Frequency (Hz)\")\n",
    "plt.ylabel(\"Output Voltage/Input Voltage\")\n",
    "plt.title(\"Frequency vs Gain (Low Pass)\")\n",
    "\n",
    "plt.show()\n",
    "\n",
    "plt.xlabel(\"Frequency (Hz)\")\n",
    "plt.ylabel(\"Output Voltage/Input Voltage\")\n",
    "plt.title(\"log-Frequency vs log-Gain (Low Pass)\")\n",
    "plt.loglog(freq, peak_to_peak_voltages_lowpass)\n",
    "plt.show()"
   ]
  },
  {
   "cell_type": "markdown",
   "metadata": {},
   "source": [
    "The frequency response of your low pass filtered micboard is simply the product of the frequency responses of the low pass filter and the frequency response of the micboard. \n",
    "\n",
    "Run the script below to plot the frequency response of your low pass filtered micboard. \n"
   ]
  },
  {
   "cell_type": "code",
   "execution_count": null,
   "metadata": {
    "collapsed": true
   },
   "outputs": [],
   "source": [
    "response_lp_micboard = np.multiply(peak_to_peak_voltages_lowpass, Vpp)\n",
    "\n",
    "plt.xlabel(\"Frequency (Hz)\")\n",
    "plt.ylabel(\"Output Voltage/Input Voltage\")\n",
    "plt.title(\"Frequency vs Gain (Low pass filtered Micboard)\")\n",
    "plt.plot(freq, response_lp_micboard)\n",
    "plt.show()\n",
    "\n",
    "plt.xlabel(\"Frequency (Hz)\")\n",
    "plt.ylabel(\"Output Voltage/Input Voltage\")\n",
    "plt.title(\"log-Frequency vs log-Gain (Low pass filtered Micboard)\")\n",
    "plt.loglog(freq, response_lp_micboard)\n",
    "plt.show()\n"
   ]
  },
  {
   "cell_type": "markdown",
   "metadata": {},
   "source": [
    "### 2.3. Amplify $V_{out}$\n",
    "\n",
    "After filtering, you might find that the signal isn't quite large enough to turn on the LEDs reliably - we can fix this with amplification.\n",
    "\n",
    "1. Build a non-inverting amplifier with a gain of 2 as shown in the diagram below.\n",
    "    - **You may need to raise or lower the gain later** depending on your setup and the music you want to play.\n",
    "    - Use the same rail voltages as the mic board.\n",
    "    - Remember that the output voltage needs to be > 1 V, and different LEDs will require different amounts of voltage to turn them on.\n",
    "    - The resistors are no longer connected to GND, but to 1.65V, in order to preserve our 1.65V offset.\n",
    "    - **Use the second op amp on the other side of the op amp chip you used to build the bias circuit in part 1 to build this amplifier.**\n",
    "2. Connect the output of your filter to the input of your amplifier, and the output of your amplifier to a 10 $\\Omega$ resistor and LED as shown below.\n",
    "3. Make some noises at your microphone. Does the LED flash?\n",
    "    - Try playing some different frequencies from [this tone generator website](http://www.szynalski.com/tone-generator/) and make sure the LED lights up for lower tones rather than high ones.\n",
    "    - It may be easier to see this on the serial plotter.\n",
    "4. **If the LED doesn't turn on then you may need more gain or your filter's cutoff frequency might be too low.**\n",
    "    - Refer back to the frequency response you earlier in the lab to see how you may need to adjust the gain or cutoff frequency.\n",
    "\n",
    "<img style=\"width:750px\" src=\"images/LP_diagram.png\">\n",
    "\n",
    "\n",
    "## <span style=\"color:#ba190f\"> **STOP: Submit a help request with your group and show lab staff your low pass filter working!** </span>"
   ]
  },
  {
   "cell_type": "markdown",
   "metadata": {},
   "source": [
    "\n",
    "<a id='part3'></a>\n",
    "# <span style=\"color:navy\">Part 3: A *Treble*-some Color Organ</span>\n",
    "\n",
    "-----\n"
   ]
  },
  {
   "cell_type": "markdown",
   "metadata": {},
   "source": [
    "## Questions"
   ]
  },
  {
   "cell_type": "markdown",
   "metadata": {},
   "source": [
    "<span style=\"color:#075a04\">**3.1. Read Part 3 of the [lab note](https://drive.google.com/file/d/1R3uTA0XQXE1f-1cgg324EkreJhAV06D6/view?usp=sharing).**</span>"
   ]
  },
  {
   "cell_type": "markdown",
   "metadata": {},
   "source": [
    "<span style=\"color:#075a04\">**3.2. On the sheet of paper you used for 2.1 and 2.2, draw the circuit diagram for a first-order high pass RC filter.**</span>"
   ]
  },
  {
   "cell_type": "markdown",
   "metadata": {},
   "source": [
    "<span style=\"color:#075a04\"> **3.3. Find an equation for the cutoff frequency $f_c$.**</span>"
   ]
  },
  {
   "cell_type": "markdown",
   "metadata": {},
   "source": [
    "`YOUR ANSWER HERE`"
   ]
  },
  {
   "cell_type": "markdown",
   "metadata": {},
   "source": [
    "## Materials\n",
    "- Same as Part 2\n",
    "\n",
    "\n",
    "## Tasks"
   ]
  },
  {
   "cell_type": "markdown",
   "metadata": {},
   "source": [
    "### 3.1. Build and Test the High-Pass Filter Circuit\n",
    "\n",
    "1. Choose values for $R$ and $C$ s.t. your cutoff frequency $f_c$ is in the range 6000 - 8000 Hz.\n",
    "    - Since we have far more resistor values than we have capacitor values, choose an easy capacitor value. Try to pick one that that lets you choose resistors in the 1k - 10k $\\Omega$ range.\n",
    "    - Because the frequencies are attentuated slowly in a first order filter, you may want to choose a cutoff frequency closer to the middle of the high-frequency range.\n",
    "    - You can always change your cutoff frequency later.\n",
    "2. Record your values for $R$, $C$, and $f_c$ in the code below.\n",
    "3. Build the high-pass filter on your breadboard.\n",
    "    - **Build it in a different location from the low pass.**\n",
    "    - <span style=\"color:#ba190f\"> **Instead of connecting the end of the resistor to ground, connect it to OS2.**</span> This is because the capacitor in the signal path removes the 1.65V offset, and doing this adds it back into the signal. \n",
    "4. **Unit test: Check the filter's output using the tone generator, your mic board, and the serial plotter to make sure the cutoff frequency is what you expect. **\n",
    "5. Follow your filter with a non-inverting amplifier and LED/resistor like from before.\n",
    "    - **Because the lab kit contains only a single extra op-amp, please use the same noninverting amplifier you built for the low pass filter. You may need to change its gain for use with the high pass.**\n",
    "    - **Disconnect your low pass filter's output from the input of your noninverting amplifier and instead connect the output of your high pass filter.**\n",
    "6. Test again—does the LED light up when you expect?\n",
    "6. Connect your circuit to the mic board so that it resembles the diagram below.\n",
    "    - Try playing some music to your very basic color organ and watch it flash in time to the music!\n",
    "    - Feel free to mix up your gain and cutoff frequencies to make the LEDs more sensitive if you don't like how they look.\n",
    "\n",
    "\n",
    "<img style=\"width:750px\" src=\"images/HP_diagram.png\">"
   ]
  },
  {
   "cell_type": "code",
   "execution_count": null,
   "metadata": {
    "collapsed": true
   },
   "outputs": [],
   "source": [
    "### YOUR CODE HERE\n",
    "R = ...\n",
    "C = ...\n",
    "f_c = ...\n",
    "\n",
    "print(\"High pass filter\")\n",
    "print(\"================\")\n",
    "print(\"Resistor: {} ohms\".format(R))\n",
    "print(\"Capacitor: {} farads\".format(C))\n",
    "print(\"Cutoff frequency: {} Hz\".format(f_c))"
   ]
  },
  {
   "cell_type": "markdown",
   "metadata": {},
   "source": [
    "### 3.2. Plot the Frequency Response of the High-Pass-Filtered Micboard\n",
    "\n",
    "When desiging filters, it's helpful to visualize how the frequency response looks. \n",
    "\n",
    "Run the script below to plot the frequency response of just your high pass filter. "
   ]
  },
  {
   "cell_type": "code",
   "execution_count": null,
   "metadata": {
    "collapsed": true
   },
   "outputs": [],
   "source": [
    "high_cutoff = float()\n",
    "\n",
    "peak_to_peak_voltages_highpass =  (np.array(freq)/high_cutoff)/(np.sqrt(1 + (np.array(freq)/high_cutoff)**2))\n",
    "\n",
    "plt.xlabel(\"Frequency (Hz)\")\n",
    "plt.ylabel(\"Output Voltage/Input Voltage\")\n",
    "plt.title(\"Frequency vs Gain (High Pass)\")\n",
    "plt.plot(freq, peak_to_peak_voltages_highpass)\n",
    "plt.show()\n",
    "\n",
    "plt.xlabel(\"Frequency (Hz)\")\n",
    "plt.ylabel(\"Output Voltage/Input Voltage\")\n",
    "plt.title(\"log-Frequency vs log-Gain (High Pass)\")\n",
    "plt.loglog(freq, peak_to_peak_voltages_highpass)\n",
    "plt.show()"
   ]
  },
  {
   "cell_type": "markdown",
   "metadata": {},
   "source": [
    "<span style=\"color:#075a04\"> **3.2.1. What is the frequency response of your high-pass-filtered micboard in terms of the frequency response of your high pass filter and the the frequency response of your micboard? **</span>"
   ]
  },
  {
   "cell_type": "markdown",
   "metadata": {},
   "source": [
    "`YOUR ANSWER HERE`"
   ]
  },
  {
   "cell_type": "markdown",
   "metadata": {},
   "source": [
    "Complete the code below to plot it. "
   ]
  },
  {
   "cell_type": "code",
   "execution_count": null,
   "metadata": {
    "collapsed": true
   },
   "outputs": [],
   "source": [
    "response_hp_micboard = ... # ToDo\n",
    "\n",
    "plt.xlabel(\"Frequency (Hz)\")\n",
    "plt.ylabel(\"Output Voltage/Input Voltage\")\n",
    "plt.title(\"Frequency vs Gain (High pass filtered Micboard)\")\n",
    "plt.plot(freq, response_hp_micboard)\n",
    "plt.show()\n",
    "\n",
    "plt.xlabel(\"Frequency (Hz)\")\n",
    "plt.ylabel(\"Output Voltage/Input Voltage\")\n",
    "plt.title(\"log-Frequency vs log-Gain (High pass filtered Micboard)\")\n",
    "plt.loglog(freq, response_hp_micboard)\n",
    "plt.show()"
   ]
  },
  {
   "cell_type": "markdown",
   "metadata": {},
   "source": [
    "<a id='part4'></a>\n",
    "# <span style=\"color:navy\">Part 4: Plotting Your Color Organ's Frequency Response</span>\n",
    "\n",
    "-----\n"
   ]
  },
  {
   "cell_type": "markdown",
   "metadata": {},
   "source": [
    "You may have noticed that one of your filters performs better than the other. Why is this? The frequency response of your color organ depends not only on the frequency responses of your filters, but also on the frequency response of your mic board. This means that if your mic board attenuates low frequencies more than high frequencies, your low frequency LED may light up less intensely, even if the low pass filter should have the same gain as the high pass filter in theory. \n",
    "\n",
    "Run the following script to overlay the frequency responses of your low-pass-filtered micboard, and your high-pass-filtered micboard. "
   ]
  },
  {
   "cell_type": "code",
   "execution_count": null,
   "metadata": {
    "collapsed": true
   },
   "outputs": [],
   "source": [
    "plt.xlabel(\"Frequency (Hz)\")\n",
    "plt.ylabel(\"Output Voltage/Input Voltage\")\n",
    "plt.title(\"Frequency vs Gain \")\n",
    "plt.plot(freq, response_lp_micboard, freq, response_hp_micboard)\n",
    "plt.gca().legend(('Low-pass Filtered','High-pass Filtered'))\n",
    "#plt.gca().legend(('y0','y1'))\n",
    "\n",
    "plt.show()\n",
    "\n",
    "plt.xlabel(\"Frequency (Hz)\")\n",
    "plt.ylabel(\"Output Voltage/Input Voltage\")\n",
    "plt.title(\"log-Frequency vs log-Gain \")\n",
    "plt.loglog(freq, response_lp_micboard, freq, response_hp_micboard)\n",
    "plt.gca().legend(('Low-pass Filtered','High-pass Filtered'))\n",
    "\n",
    "plt.show()"
   ]
  },
  {
   "cell_type": "markdown",
   "metadata": {},
   "source": [
    "## Questions\n",
    "\n",
    "<span style=\"color:#075a04\"> **4.1. Does your frequency vs. output voltage plot seem consistent with what you observed? What frequency range(s) is your color organ most\n",
    "responsive to?**</span>"
   ]
  },
  {
   "cell_type": "markdown",
   "metadata": {},
   "source": [
    "`YOUR ANSWER HERE `"
   ]
  },
  {
   "cell_type": "markdown",
   "metadata": {},
   "source": [
    "<span style=\"color:#075a04\"> **4.2 Explain why you cannot directly connect a high-pass and low-pass filter to form a band-pass filter as shown below:**</span>\n",
    "![wrong filter](images/WrongFilter_withX.png)"
   ]
  },
  {
   "cell_type": "markdown",
   "metadata": {},
   "source": [
    "`YOUR ANSWER HERE`"
   ]
  },
  {
   "cell_type": "markdown",
   "metadata": {},
   "source": [
    "<span style=\"color:#075a04\">**1.2 Using the op-amp golden rules, explain why adding a buffer between a high-pass filter and a low-pass filter forms a valid band-pass filter:**</span>\n",
    "![right filter](images/RightFilter.png)"
   ]
  },
  {
   "cell_type": "markdown",
   "metadata": {},
   "source": [
    "`YOUR ANSWER HERE`"
   ]
  },
  {
   "cell_type": "markdown",
   "metadata": {},
   "source": [
    "# Color Organ II [Optional]\n",
    "---\n",
    "\n",
    "There are only enough op-amps in the EECS 16B lab kit to build a single filter, but for those who can get their hands on 1 or 2 op-amps will be able to create a fully functional bass-tenor-treble color organ. \n",
    "\n",
    "The lab note for this section still has a **WEALTH** of information so please take a look at it!"
   ]
  },
  {
   "cell_type": "markdown",
   "metadata": {},
   "source": [
    "## Table of Contents\n",
    "\n",
    "- [Part 0: Lab Note](https://drive.google.com/file/d/1QIF0DS0EMLltblRz-qc9_5hLxjTna9qT/view?usp=sharing)\n",
    "- [Part 1: Caught in the Midrange](#part1)\n",
    "- [Part 2: A Better Color Organ](#part2)\n",
    "\n",
    "\n",
    "# <span style=\"color:navy\">Part 0: Lab Note</span>\n",
    "-----\n",
    "\n",
    "<span style=\"color:#ba190f\"> **Make sure you read the Introduction and Part 1 of the [lab note](https://drive.google.com/file/d/1QIF0DS0EMLltblRz-qc9_5hLxjTna9qT/view?usp=sharing) before beginning!**</span>"
   ]
  },
  {
   "cell_type": "markdown",
   "metadata": {},
   "source": [
    "## Materials\n",
    "- Color organ part 1 setup\n",
    "- Various Caps and Resistors\n",
    "- Op-amps\n",
    "- Mic board\n",
    "- Power supply (3.3V)\n",
    "- Launchpad and accessories\n",
    "- `tune_mic.ino`\n",
    "\n",
    "## Tasks\n",
    "\n",
    "### 1.1 Build and Test the Band-Pass Filter's High-Pass Filter\n",
    "1. Choose values for $R_{\\text{high pass}}$ and $C_{\\text{high pass}}$ s.t. your cutoff frequency $f_{c, \\text{ high pass}}$ for your high pass filter is in the range 800 - 1000 Hz.\n",
    "2. Record your values for $R_{\\text{high pass}}$, $C_{\\text{high pass}}$, and $f_{c, \\text{ high pass}}$ below.\n",
    "3. Build your high pass filter and **test it to make sure your cutoff frequency is what you expected**.\n",
    "\n",
    "\n",
    "<span style=\"color:#ba190f\"> **Make sure you connect the end of the resistor that's not connected to the capacitor to 1.65V from OS2!**</span>\n",
    "\n",
    "### 1.2 Build and Test the Band-Pass Filter's Low-Pass Filter\n",
    "1. Choose values for $R_{\\text{low pass}}$ and $C_{\\text{low pass}}$ s.t. your cutoff frequency $f_{c, \\text{ low pass}}$ for your low pass filter is in the range 3000 - 5000 Hz.\n",
    "2. Record your values for $R_{\\text{low pass}}$, $C_{\\text{low pass}}$, and $f_{c, \\text{ low pass}}$ below.\n",
    "3. Build your low pass filter and **test it to make sure your cutoff frequency is what you expected**.\n",
    "\n",
    "### 1.3 Put Them Together and Test the Band-Pass Filter\n",
    "1. Connect your high-pass filter to your low-pass filter using a buffer as shown above.\n",
    "2. **Test your band-pass filter with the Launchpad and serial plotter to make sure that the cutoff frequencies are what you expected.**\n",
    "3. Follow your band-pass filter with another non-inverting amplifier connected to a 10 $\\Omega$ resistor and an LED just like before.\n",
    "    - You can choose the gain of your non-inverting amplifier. Try using 2 to start.\n",
    "4. Hook up your band pass filter in parallel with the other filters as shown in the block diagram below, and use the output of your mic board as an input to your band pass filter.\n",
    "\n",
    "<img style=\"width:500px\" src=\"images/low-high-band-flow.png\">"
   ]
  },
  {
   "cell_type": "code",
   "execution_count": null,
   "metadata": {
    "collapsed": true
   },
   "outputs": [],
   "source": [
    "### YOUR CODE HERE\n",
    "R_high_pass = ...\n",
    "C_high_pass = ...\n",
    "f_c_high_pass = ...\n",
    "\n",
    "R_low_pass = ...\n",
    "C_low_pass = ...\n",
    "f_c_low_pass = ...\n",
    "\n",
    "print(\"Band pass filter\")\n",
    "print(\"================\")\n",
    "print(\"High pass resistor: {} ohms\".format(R_high_pass))\n",
    "print(\"High pass capacitor: {} farads\".format(C_high_pass))\n",
    "print(\"High pass cutoff frequency: {} Hz\".format(f_c_high_pass))\n",
    "print(\"Low pass resistor: {} ohms\".format(R_low_pass))\n",
    "print(\"Low pass capacitor: {} farads\".format(C_low_pass))\n",
    "print(\"Low pass cutoff frequency: {} Hz\".format(f_c_low_pass))"
   ]
  },
  {
   "cell_type": "markdown",
   "metadata": {},
   "source": [
    "<a id='part2'></a>\n",
    "# <span style=\"color:navy\">Part 2: Improving Your Color Organ</span>\n",
    "-----"
   ]
  },
  {
   "cell_type": "markdown",
   "metadata": {},
   "source": [
    "#### <span style=\"color:#ba190f\"> **Please read Part 2 of the [lab note](https://drive.google.com/file/d/1QIF0DS0EMLltblRz-qc9_5hLxjTna9qT/view?usp=sharing) before you continue.**</span>\n",
    "\n",
    "## Questions"
   ]
  },
  {
   "cell_type": "markdown",
   "metadata": {},
   "source": [
    "Below is the schematic of a second-order low-pass filter. \n",
    "<img style=\"width:500px\" src=\"images/lab4_2nd_order_lpf.png\">"
   ]
  },
  {
   "cell_type": "markdown",
   "metadata": {},
   "source": [
    "<span style=\"color:#075a04\">**2.1 What purpose does the op amp serve in this circuit? What happens if we remove it?**</span>"
   ]
  },
  {
   "cell_type": "markdown",
   "metadata": {},
   "source": [
    "`YOUR ANSWER HERE`"
   ]
  },
  {
   "cell_type": "markdown",
   "metadata": {},
   "source": [
    "<span style=\"color:#075a04\">**2.2 Describe what would be different in a schematic of a second order high pass filter.**</span>"
   ]
  },
  {
   "cell_type": "markdown",
   "metadata": {},
   "source": [
    "`YOUR ANSWER HERE`"
   ]
  },
  {
   "cell_type": "markdown",
   "metadata": {},
   "source": [
    "<a id='part6'></a>\n",
    "# <span style=\"color:#ba190f\">CHECKOFF </span> \n",
    "-----\n",
    "    \n",
    "\n",
    "- Show your GSI your system's frequency response and your bass and treble LEDs flashing independently to varying frequencies.\n",
    "- Show your GSI your paper with your layout and circuit diagrams.\n",
    "- Have all of the plots and <span style=\"color:#075a04\"> green questions in the notebook completed</span>.\n",
    " \n",
    "### <span style=\"color:red\">KEEP YOUR CIRCUIT FOR THE NEXT LAB! YOU WILL NEED IT!</span>"
   ]
  }
 ],
 "metadata": {
  "anaconda-cloud": {},
  "kernelspec": {
   "display_name": "Python 3",
   "language": "python",
   "name": "python3"
  },
  "language_info": {
   "codemirror_mode": {
    "name": "ipython",
    "version": 3
   },
   "file_extension": ".py",
   "mimetype": "text/x-python",
   "name": "python",
   "nbconvert_exporter": "python",
   "pygments_lexer": "ipython3",
   "version": "3.6.1"
  }
 },
 "nbformat": 4,
 "nbformat_minor": 1
}
