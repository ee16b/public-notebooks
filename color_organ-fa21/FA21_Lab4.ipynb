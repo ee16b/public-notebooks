{
 "cells": [
  {
   "cell_type": "markdown",
   "metadata": {},
   "source": [
    "# Lab 4: Color Organ Part 1 and Part 2\n",
    "### EECS 16B: Designing Information Devices and Systems II, Fall 2021\n",
    "\n",
    "Updated by Mia Mirkovic (2020)\n",
    "\n",
    "Updated by Rafael Calleja (2021)\n",
    "\n",
    "Updated by Steven Lu, Kaitlyn Chan (2021)\n"
   ]
  },
  {
   "cell_type": "markdown",
   "metadata": {},
   "source": [
    "## Lab Notes (read them for helpful information!)\n",
    "* [Main Lab Note](https://drive.google.com/file/d/1FDXu8fiKKFQCPN2Wuu2t2b_AR0IqjZqX/view?usp=sharing)\n",
    "* [Mic Board Note](https://drive.google.com/file/d/1Noi_zAl_Zl7LYr3R9lIwl38MsPUXmmFz/view?usp=sharing)\n",
    "    \n",
    "## Table of Contents\n",
    "\n",
    "* [Part 1A: Frequency Response of the Speaker-Microphone System](#part1)\n",
    "    * [Micboard Setup](#micboard)\n",
    "    * [Biasing Circuit](#biasing_circuit)\n",
    "    * [Tuning](#tuning)\n",
    "    * [Measuring the Frequency Response](#speaker_microphone_frequency_response)\n",
    "* [Part 1B: Bass-ic Color Organ](#part2)\n",
    "* [Part 2A: A Treble-some Color Organ](#part3)\n",
    "* [Part 2B: Caught in the Midrange](#part4)\n",
    "\n"
   ]
  },
  {
   "cell_type": "markdown",
   "metadata": {},
   "source": [
    "<a id='part1'></a>\n",
    "# <span style=\"color:navy\">Part 1A: Frequency Response of the Speaker-Microphone System</span>\n",
    "-----"
   ]
  },
  {
   "cell_type": "markdown",
   "metadata": {},
   "source": [
    "### 1A.0. First, read Part 1A of the Color Organ [Lab Note](https://drive.google.com/file/d/1FDXu8fiKKFQCPN2Wuu2t2b_AR0IqjZqX/view?usp=sharing), as well as the [Mic Board Note](https://drive.google.com/file/d/1Noi_zAl_Zl7LYr3R9lIwl38MsPUXmmFz/view?usp=sharing), which contains information about the mic board and also has a helpful review of deriving cutoff frequencies for RC filters.\n",
    "\n",
    "<a id='micboard'></a>\n",
    "### 1A.1. Setting up the Mic Board\n",
    "\n",
    "#### Materials\n",
    "- Mic board\n",
    "- Op-amp\n",
    "\n",
    "<img style=\"width:250px\" src=\"images/mic_annotated.png\">\n",
    "\n",
    "#### Tasks: \n",
    "\n",
    "1. **PLUG IN AN OP AMP INTO THE 8-PIN SOCKET ON YOUR MIC BOARD**. Make sure you plug it in the right way by matching the notch on the op amp chip with the op amp socket on the mic board!\n",
    "\n",
    "2. Plug your micboard _DIRECTLY_ into your breadboard. **No jumper wires!!!**\n",
    "\n",
    "3. Connect the mic board's Vout pin (`MIC_OUT`) to an oscilloscope probe.\n",
    "\n",
    "4. Connect the mic board's VDD pin to the 3.3V  rail (powered by the power supply).\n",
    "\n",
    "5. Connect either of the mic board's two VSS pins to the ground rail. You need only connect one of them to your ground rail.\n",
    "\n",
    "Here is a recommended layout of your breadboard to help you get started on planning the locations for your circuits for this lab. We suggest you put your mic board near the center of your breadboard, as you will be adding more circuits during the lab.\n",
    "<img style=\"width:750px\" src=\"images/suggested_layout.jpg\">\n",
    "\n",
    "#### Notes/Tips:\n",
    "\n",
    "- The top of the op-amp is denoted by the little dot marked in one of the corners.\n",
    "- **Make sure you match the top of the op amp to the notch on the 8-pin socket!**"
   ]
  },
  {
   "cell_type": "markdown",
   "metadata": {},
   "source": [
    "<a id='biasing_circuit'></a>\n",
    "### 1A.2. Build the Biasing Circuit\n",
    "\n",
    "#### Materials\n",
    "- Mic board\n",
    "- Op-amp A from an op-amp chip\n",
    "- 2x $10 k\\Omega$ resistors | (code: brown, black, orange, gold)\n",
    "- $100 k\\Omega$ resistor | (code: brown, black, yellow, gold)\n",
    "- Power supply (3.3V rail)\n",
    "- 10 uF capacitor (code: 106)\n",
    "\n",
    "|Biasing Circuit:|Op-Amp Pinout:|\n",
    "|:-----:|:---------------:|\n",
    "|<img style=\"width:500px\" src=\"images/sp21_biasing.png\">|<img style=\"width:500px\" src=\"images/op_amp_pinout.png\">| \n",
    "\n",
    "\n",
    "#### Tasks:\n",
    "\n",
    "1. Build the biasing circuit near your mic board on the breadboard. You can use the suggested layout from above as a reference for where to build the circuit.\n",
    "\n",
    "2. Connect the node labeled `Half Rail` to an empty row on your breadboard.\n",
    "\n",
    "3. Connect `OS1` on your mic board to the `Half Rail` using a $100k\\Omega$ resistor.\n",
    "\n",
    "4. Connect `OS2` on your mic board to the `Half Rail` using a wire.\n",
    "\n",
    "5. Add a [decoupling capacitor](https://en.wikipedia.org/wiki/Decoupling_capacitor) of 10 uF (code: 106) between the power and gnd rails. This helps reduce high frequency noise and stabilize the voltage fluctuations on the rails (which can occur, for example, when the voltage source must supply a large amount of current across wires which actually have non-zero resistance and inductance).  You should use them in every circuit you build <i>in the future for the rest of your life</i>.\n",
    "\n",
    "#### Notes/Tips:\n",
    "\n",
    "- This circuit is giving a low-impedance DC voltage source equal to ~$\\frac{3.3V}{2} \\approx 1.65V$ to use as reference for our micboard. All our signals passing through the micboard will be thus be centered around 1.65."
   ]
  },
  {
   "cell_type": "markdown",
   "metadata": {},
   "source": [
    "## Questions\n",
    "\n",
    "<span style=\"color:#075a04\"> **1A.2.1 What is the purpose of OS1 and OS2?** </span>\n",
    "\n",
    "_Hint: Read the mic board note if you're not sure!_\n",
    "\n",
    "`YOUR ANSWER HERE`"
   ]
  },
  {
   "cell_type": "markdown",
   "metadata": {},
   "source": [
    "<a id='tuning'></a>\n",
    "### 1A.3. Tune Your Mic Board\n",
    "\n",
    "#### Materials:\n",
    "- Phone speaker or headphones\n",
    "- 6pc. Precision Screwdriver Set\n",
    "\n",
    "#### Tasks:\n",
    "1. Make sure the oscilloscope probe is connected to `MIC_OUT`.\n",
    "2. Display a **peak to peak** measurement for the oscilloscope channel used to measure.\n",
    "\n",
    "3.  **Play a pure tone using a [tone generator](https://www.szynalski.com/tone-generator/) in the range (3000 - 4000 Hz)** on your phone at a reasonable volume. Do NOT use a Youtube video!\n",
    "    - If the tone generator website is not working for you, you can download a tone generator app onto your phone instead.\n",
    "\n",
    "4.  Make sure to point the speaker directly at the mic and hold it a few inches away from the mic. \n",
    "    - The distance between your speaker and the mic affects the tuning process quite a bit so **try to keep your speaker at a fixed distance from your mic for the rest of the lab**.\n",
    "\n",
    "5. Using the appropriate screwdriver, turn the potentiometer on the mic board **(CW: decrease gain | CCW: increase gain)** until you see a sine wave with a **peak-to-peak of around 2V to 3V** on the oscilloscope. The sine wave should be centered at around 1.65 V.\n",
    "\n",
    "6. Verify that the frequency of the measured sinewave matches the tone from your phone using your oscilloscope. You may need to adjust the time scale on the display.\n",
    "\n",
    "#### Notes/Tips:\n",
    "\n",
    "- With oscillating signals like this, there is an important concept called \"railing.\" We define railing, with regards to this mic board, as non-linear behavior at the boundaries of the output range that results from the op-amp being limited by its VDD and VSS, rendering it unable to output the entire output range. In general, if the `peak-to-peak` measurement too high ($>3.0V$ in testing), or you see flat edges/lines instead of the smooth peaks and troughs of the sine wave, your micboard is probably railing. Keep this in mind as you tune your mic and as you go through the rest of the lab.\n",
    "- If you tap on the mic, it should rail, but **it should not be railing while you play the tone.**     \n",
    "\n",
    "<span style=\"color:#ba190f\">**Congratulations! You have successfully tuned your mic board!**</span>"
   ]
  },
  {
   "cell_type": "markdown",
   "metadata": {},
   "source": [
    "<a id='speaker_microphone_frequency_response'></a>\n",
    "### 1A.4. Measure the Frequency Response of the Speaker-Microphone System\n",
    "\n",
    "Finding the frequency response is the best way to know how your system will react to a range of frequencies. Usually this is performed with a linear sweep of every value within the range of frequencies that your system will be tasked with handling, but as this is not feasible for this lab, you will just be testing and measuring values for a finite list of frequencies spread out across the range. \n",
    "\n",
    "You may think that we are just finding the frequency response of our microphone, but actually we are finding the frequency response of our joint speaker-microphone system. You can think of our system as your speaker (which is playing the pure tones) in series with your microphone (which is receiving the pure tones) and outputting some voltage corresponding to those pure tones. Here we will measure how this cascaded system reacts to certain discrete pure tone frequency inputs to get a general idea of how our speaker-microphone system will react to other frequencies within our range.\n",
    "\n",
    "You can refer back to these findings for guidance on choosing gains for the amplifiers of your filters later in the lab.\n",
    "\n",
    "#### Tasks\n",
    "1. Keeping your headphones/smartphone/speaker at a fixed distance from your mic board, use the oscilloscope to measure the peak-to-peak voltage at each frequency in the array `freq`. Record these values in the array `Vpp` in the code below."
   ]
  },
  {
   "cell_type": "code",
   "execution_count": null,
   "metadata": {},
   "outputs": [],
   "source": [
    "import numpy as np\n",
    "import matplotlib.pyplot as plt\n",
    "import scipy.signal as sp\n",
    "from pylab import * \n",
    "%matplotlib inline"
   ]
  },
  {
   "cell_type": "code",
   "execution_count": null,
   "metadata": {},
   "outputs": [],
   "source": [
    "#Record the amplitude of the output sinusoid at each given frequency\n",
    "freq = [20, 50, 200, 300, 500, 800, 1000, 1250, 1750, 2000, 2500, 3000, 4000, 5000, 6000, 7000, 8000]\n",
    "\n",
    "\n",
    "Vpp = [] #fill in your values here\n",
    "\n",
    "# We do not have a measurable input signal Vin, so we normalize the maximum of the frequency response to 1.\n",
    "gain = np.array(Vpp)/max(Vpp)\n",
    "\n",
    "plt.loglog(freq, gain)\n",
    "plt.title('log-Gain vs log-Frequency')\n",
    "plt.xlabel('Frequency (Hz)')\n",
    "plt.ylabel('Gain (Volts/Volt)')"
   ]
  },
  {
   "cell_type": "markdown",
   "metadata": {},
   "source": [
    "## Questions\n",
    "\n",
    "<span style=\"color:#075a04\"> **1A.4.1. What do you notice about the shape of this function? Which frequencies result in large output?**</span>"
   ]
  },
  {
   "cell_type": "markdown",
   "metadata": {},
   "source": [
    "`YOUR ANSWER HERE`"
   ]
  },
  {
   "cell_type": "markdown",
   "metadata": {},
   "source": [
    "<span style=\"color:#075a04\"> **1A.4.2. What does the plot tell you about the loudness of your speaker at certain frequencies? Does this reflect your experience listening to music?**</span>\n",
    "\n",
    "Hint: low frequencies correspond to the bass in a song. Try playing something [bass-heavy :)](https://youtu.be/rCuBBaLtXQQ)"
   ]
  },
  {
   "cell_type": "markdown",
   "metadata": {},
   "source": [
    "`YOUR ANSWER HERE`"
   ]
  },
  {
   "cell_type": "markdown",
   "metadata": {},
   "source": [
    "<span style=\"color:#075a04\">**1A.4.3. Let's say you wanted to flatten out the frequency response of your system such that the gain is around the same across all frequencies. Suggest a way to accomplish this with the circuit elements you learned about in class.**</span>"
   ]
  },
  {
   "cell_type": "markdown",
   "metadata": {},
   "source": [
    "`YOUR ANSWER HERE`"
   ]
  },
  {
   "cell_type": "markdown",
   "metadata": {},
   "source": [
    "\n",
    "<a id='part2'></a>\n",
    "# <span style=\"color:navy\">Part 1B: *Bass*ic Color Organ</span>\n",
    "\n",
    "-----\n"
   ]
  },
  {
   "cell_type": "markdown",
   "metadata": {},
   "source": [
    "### Materials\n",
    "- Capacitors\n",
    "- Resistors\n",
    "- Op-amps\n",
    "- LEDs\n",
    "- Function generator\n",
    "- Oscilloscope"
   ]
  },
  {
   "cell_type": "markdown",
   "metadata": {},
   "source": [
    "## Tasks\n",
    "### 1B.0. First, read Part 1B of the Color Organ [Lab Note](https://drive.google.com/file/d/1FDXu8fiKKFQCPN2Wuu2t2b_AR0IqjZqX/view?usp=sharing).\n",
    "\n",
    "### 1B.1. Build and Test the Low-Pass Filter\n",
    "\n",
    "1. On a sheet of paper, draw the circuit diagram for a first-order low pass RC filter. Write out the equation for its cutoff frequency $f_c$. \n",
    "\n",
    "2. Choose values for $R$ and $C$ such that your cutoff frequency $f_c$ is in the range 100 - 500 Hz.\n",
    "    \n",
    "3. Record your values for $R$, $C$, and $f_c$ in the code below.\n",
    "\n",
    "4. Build the low-pass filter on your breadboard.\n",
    "    - We will have three different filters eventually, so budget your space accordingly! \n",
    "    - Look in the lab note for the resistor color code chart and capacitor code chart.\n",
    "    \n",
    "\n",
    "5. **Unit test!** Check the filter with the function generator and oscilloscope to make sure the cutoff frequency is near what you calculated.\n",
    "    - Connect the function generator to the input of your low pass filter.\n",
    "    - Move the oscope probe to the output of your low pass.\n",
    "    - Set your function generator to output a sinusoid with an offset of 1.65V and make sure the gain/attentuation at the cutoff frequency is what you expect. (Hint: compare the peak-to-peak values of your input sinusoid and your filter's output sinusoid). <span style=\"color:#075a04\"> **Sanity check: What value should this be?** </span> If you further increase the frequency, should the output signal increase or decrease in amplitude?\n",
    "\n",
    "#### Notes/Tips:\n",
    " \n",
    "- Since we have far more resistor values than we have capacitor values, start by choosing an easy capacitor value, like 1uF, 0.1uF, etc. Pick one that lets you choose resistors of at least 1kOhm.\n",
    "\n",
    "- Because the frequencies are attentuated slowly in a first order filter, you may want to choose a cutoff frequency closer to the middle of the low-frequency range (e.g. 250 Hz)\n",
    "\n",
    "- You can always change your cutoff frequency later."
   ]
  },
  {
   "cell_type": "code",
   "execution_count": null,
   "metadata": {},
   "outputs": [],
   "source": [
    "### YOUR CODE HERE\n",
    "R = ...\n",
    "C = ...\n",
    "f_c = ...\n",
    "\n",
    "print(\"Low pass filter\")\n",
    "print(\"===============\")\n",
    "print(\"Resistor: {} ohms\".format(R))\n",
    "print(\"Capacitor: {} farads\".format(C))\n",
    "print(\"Cutoff frequency: {} Hz\".format(f_c))"
   ]
  },
  {
   "cell_type": "markdown",
   "metadata": {},
   "source": [
    "### 1B.2. Plot the Frequency Response of the Low-Pass-Filtered Mic Board\n",
    "\n",
    "When designing filters, it's helpful to visualize how the frequency response looks. \n",
    "\n",
    "Run the script below to plot the frequency response of just your low pass filter. "
   ]
  },
  {
   "cell_type": "code",
   "execution_count": null,
   "metadata": {},
   "outputs": [],
   "source": [
    "### TODO: Enter your low cutoff frequency below. \n",
    "low_cutoff = float() #TODO\n",
    "\n",
    "lp_p2p_expected = 1/(np.sqrt(1+((np.array(freq)/(low_cutoff))**2)))\n",
    "\n",
    "\n",
    "plt.plot(freq, lp_p2p_expected)\n",
    "plt.xlabel(\"Frequency (Hz)\")\n",
    "plt.ylabel(\"Output Voltage/Input Voltage\")\n",
    "plt.title(\"Frequency vs Gain (Low Pass)\")\n",
    "plt.show()\n",
    "\n",
    "plt.loglog(freq, lp_p2p_expected)\n",
    "plt.xlabel(\"Frequency (Hz)\")\n",
    "plt.ylabel(\"Output Voltage/Input Voltage\")\n",
    "plt.title(\"log-Frequency vs log-Gain (Low Pass)\")\n",
    "plt.show()"
   ]
  },
  {
   "cell_type": "markdown",
   "metadata": {},
   "source": [
    "Measure and record the peak-to-peak voltage values into `lp_p2p_observed` for the given frequencies in `lp_freqs` and observe how your recorded values match up to the calculated frequency response of your system."
   ]
  },
  {
   "cell_type": "code",
   "execution_count": null,
   "metadata": {},
   "outputs": [],
   "source": [
    "lp_freqs = [100, 200, 400, 600, 1000, 2000, 5000]\n",
    "lp_p2p_observed = [] #TODO\n",
    "\n",
    "lp_gain_observed = np.array(lp_p2p_observed)/np.max(lp_p2p_observed)\n",
    "\n",
    "plt.xlabel(\"Frequency (Hz)\")\n",
    "plt.ylabel(\"Output Voltage/Input Voltage\")\n",
    "plt.title(\"Frequency vs Gain (Low Pass)\")\n",
    "plt.plot(freq, lp_p2p_expected)\n",
    "plt.scatter(lp_freqs, lp_gain_observed)\n",
    "plt.show()\n",
    "\n",
    "plt.xlabel(\"Frequency (Hz)\")\n",
    "plt.ylabel(\"Output Voltage/Input Voltage\")\n",
    "plt.title(\"log-Frequency vs log-Gain (Low Pass)\")\n",
    "plt.loglog(freq, lp_p2p_expected)\n",
    "plt.scatter(lp_freqs, lp_gain_observed)\n",
    "plt.show()"
   ]
  },
  {
   "cell_type": "markdown",
   "metadata": {},
   "source": [
    "The frequency response of your low pass filtered micboard is simply the product of the frequency responses of the low pass filter and the frequency response of the micboard. \n",
    "\n",
    "Run the script below to plot the frequency response of your low pass filtered micboard. \n"
   ]
  },
  {
   "cell_type": "code",
   "execution_count": null,
   "metadata": {},
   "outputs": [],
   "source": [
    "# Hint: Multiply the expected frequency response of the low pass filter with the micboard frequency response from Part 1A.4\n",
    "response_lp_micboard = #TODO\n",
    "\n",
    "plt.xlabel(\"Frequency (Hz)\")\n",
    "plt.ylabel(\"Output Voltage/Input Voltage\")\n",
    "plt.title(\"Frequency vs Gain (Low pass filtered Micboard)\")\n",
    "plt.plot(freq, response_lp_micboard)\n",
    "plt.scatter(lp_freqs,lp_gain_observed)\n",
    "plt.show()\n",
    "\n",
    "plt.xlabel(\"Frequency (Hz)\")\n",
    "plt.ylabel(\"Output Voltage/Input Voltage\")\n",
    "plt.title(\"log-Frequency vs log-Gain (Low pass filtered Micboard)\")\n",
    "plt.loglog(freq, response_lp_micboard)\n",
    "plt.scatter(lp_freqs,lp_gain_observed)\n",
    "plt.show()\n"
   ]
  },
  {
   "cell_type": "markdown",
   "metadata": {},
   "source": [
    "### 1B.3. Amplify the Low-Pass Signal\n",
    "1. Build a non-inverting amplifier with a gain of 2 as shown in the diagram below.\n",
    "    - **Hint:** The equation for the gain of a non-inverting amplifier is 1 + (Rf/R1) according to the circuit diagram below.\n",
    "    - **You may need to raise or lower the gain later** depending on your setup and the music you want to play. You can reduce it to a buffer if you don't need any extra gain.\n",
    "    - Use the same rail voltages as the mic board.\n",
    "    - Remember that the output voltage needs to be > 1 V, and different LEDs will require different amounts of voltage to turn them on.\n",
    "    - R1 is no longer connected to GND, but to 1.65V, in order to preserve our 1.65V offset.\n",
    "2. Connect the output of your filter to the input of your amplifier, and the output of your amplifier to a 100 $\\Omega$ resistor and LED as shown below.\n",
    "3. Make some noises at your microphone. Does the LED flash?\n",
    "    - Try playing some different frequencies from [this tone generator website](http://www.szynalski.com/tone-generator/) and make sure the LED lights up for lower tones rather than high ones.\n",
    "4. **If the LED doesn't turn on then you may need more gain or your filter's cutoff frequency might be too low.**\n",
    "    - Refer back to the frequency response you earlier in the lab to see how you may need to adjust the gain or cutoff frequency.\n",
    "    \n",
    "5. Alternatively, if your LED **turns on even when you aren't playing a sound**, the biasing voltage (\"HALF_RAIL\") may be too high. Instead of dividing the 3.3 V rail in half in the biasing circuit from Part 1A.2, try using a resistor ratio of R1 = 20k and R2 = 10k, or even R1 = 30k and R2 = 10k. The resulting biasing voltage at the non-inverting terminal of the op-amp should then be 3.3/3, or 1.1 V. \n",
    "    - Don't worry if your LED never turns off completely. We are just looking for an obvious dim in brightness as you move beyond the cutoff frequency, indicating that your low pass filter is attenuating the signal.\n",
    "    \n",
    "![low-pass-flow](images/low-pass-flow.png)\n",
    "\n",
    "<img style=\"width:750px\" src=\"images/sp21_low_pass.png\">\n",
    "\n",
    "## Color Organ Part 1 Checkoff\n",
    "\n",
    "### For Checkoff:\n",
    "- Show your GSI your:\n",
    "    - working micboard system\n",
    "    - low-pass filter\n",
    "    - relevant plots\n",
    "- Be prepared to answer checkoff questions.\n",
    "\n",
    "**After checkoff, please:**\n",
    "\n",
    "- <span style=\"color:#ff0000\"> **Keep all the circuits you built in this lab on your breadboard!**   </span> You will be using these circuits in the next lab!\n",
    "- Store all your electrical components in a neat and organized manner.\n",
    "- Make sure that all components that you received in your lab kit are stored safely for use in future labs."
   ]
  },
  {
   "cell_type": "markdown",
   "metadata": {},
   "source": [
    "## <span style=\"color:red\">STOP HERE FOR THE END OF COLOR ORGAN PART 1</span>"
   ]
  },
  {
   "cell_type": "markdown",
   "metadata": {},
   "source": [
    "\n",
    "<a id='part3'></a>\n",
    "# <span style=\"color:navy\">Part 2A: A Treble-some Color Organ</span>\n",
    "\n",
    "-----\n",
    "\n",
    "#### Materials\n",
    "- Capacitors\n",
    "- Resistors\n",
    "- Phone speaker or headphones\n",
    "- Oscilloscope probes\n",
    "\n",
    "## Tasks\n",
    "### 2A.0. First, read Part 2A of the Color Organ [Lab Note](https://drive.google.com/file/d/1FDXu8fiKKFQCPN2Wuu2t2b_AR0IqjZqX/view?usp=sharing).\n",
    "\n",
    "### 2A.1. Build and Test the High-Pass Filter Circuit\n",
    "\n",
    "1. On a sheet of paper, draw the circuit diagram for a first-order high pass RC filter. Write out the equation for its cutoff frequency $f_c$. \n",
    "\n",
    "- Choose values for $R$ and $C$ such that your cutoff frequency $f_c$ is in the range 5000 - 8000 Hz. Don't worry about getting the exact cutoff frequency you chose, since you have limited component values. If you're a few hundred Hz off from what you started with, just take that as your new frequency.\n",
    "    \n",
    "- Record your values for $R$, $C$, and $f_c$ in the code below.\n",
    "\n",
    "- Build the high-pass filter on your breadboard.\n",
    "\n",
    "- <span style=\"color:red\"> **Instead of connecting the end of the resistor to ground, connect it to the `Half Rail`.**</span> <span style=\"color:#075a04\"> **Sanity check: Why do we do this?** </span>\n",
    "\n",
    "5. **Unit test!** Check the filter with the function generator and oscilloscope to make sure the cutoff frequency is near what you calculated.\n",
    "    - Connect the function generator to the input of your high pass filter.\n",
    "    - Move the oscope probe to the output of your high pass.\n",
    "    - Set your function generator to output a sinusoid with an offset of 1.65V and make sure the gain/attentuation at the cutoff frequency is what you expect. (Hint: compare the peak-to-peak values of your input sinusoid and your filter's output sinusoid). <span style=\"color:#075a04\"> **Sanity check: What value should this be?** </span> If you further increase the frequency, should the output signal increase or decrease in amplitude?\n",
    "\n",
    "#### Notes/Tips:\n",
    " \n",
    "- Since we have far more resistor values than we have capacitor values, start by choosing an easy capacitor value. Pick one that that lets you choose resistors of at least 1kOhm.\n",
    "\n",
    "- Because the frequencies are attentuated slowly in a first order filter, you may want to choose a cutoff frequency closer to the middle of the high-frequency range.\n",
    "\n",
    "- You can always change your cutoff frequency later."
   ]
  },
  {
   "cell_type": "code",
   "execution_count": null,
   "metadata": {},
   "outputs": [],
   "source": [
    "### YOUR CODE HERE\n",
    "R = ...\n",
    "C = ...\n",
    "f_c = ...\n",
    "\n",
    "print(\"High pass filter\")\n",
    "print(\"================\")\n",
    "print(\"Resistor: {} ohms\".format(R))\n",
    "print(\"Capacitor: {} farads\".format(C))\n",
    "print(\"Cutoff frequency: {} Hz\".format(f_c))"
   ]
  },
  {
   "cell_type": "markdown",
   "metadata": {},
   "source": [
    "### 2A.2. Plot the Frequency Response of the Micboard High-Pass System\n",
    "\n",
    "When designing filters, it's helpful to visualize how the frequency response looks. \n",
    "\n",
    "Run the script below to plot the expected frequency response of your high pass filter. "
   ]
  },
  {
   "cell_type": "code",
   "execution_count": null,
   "metadata": {},
   "outputs": [],
   "source": [
    "### TODO: Enter your high cutoff frequency below. \n",
    "high_cutoff = float() #TODO\n",
    "\n",
    "hp_p2p_expected =  (np.array(freq)/high_cutoff)/(np.sqrt(1 + (np.array(freq)/high_cutoff)**2))\n",
    "\n",
    "plt.xlabel(\"Frequency (Hz)\")\n",
    "plt.ylabel(\"Output Voltage/Input Voltage\")\n",
    "plt.title(\"Frequency vs Gain (High Pass)\")\n",
    "plt.plot(freq, hp_p2p_expected)\n",
    "plt.show()\n",
    "\n",
    "plt.xlabel(\"Frequency (Hz)\")\n",
    "plt.ylabel(\"Output Voltage/Input Voltage\")\n",
    "plt.title(\"log-Frequency vs log-Gain (High Pass)\")\n",
    "plt.loglog(freq, hp_p2p_expected)\n",
    "plt.show()"
   ]
  },
  {
   "cell_type": "markdown",
   "metadata": {},
   "source": [
    "Record the peak-to-peak voltage values into `hp_p2p_observed` for the given frequencies in `hp_freqs`, and observe how your recorded values match up to the calculated frequency response of your system."
   ]
  },
  {
   "cell_type": "code",
   "execution_count": null,
   "metadata": {},
   "outputs": [],
   "source": [
    "hp_freqs = [200, 500, 1000, 2000, 5000, 10000]\n",
    "hp_p2p_observed = [] #TODO\n",
    "\n",
    "hp_gain_observed = np.array(hp_p2p_observed)/np.max(hp_p2p_observed)\n",
    "\n",
    "plt.xlabel(\"Frequency (Hz)\")\n",
    "plt.ylabel(\"Output Voltage/Input Voltage\")\n",
    "plt.title(\"Frequency vs Gain (High Pass)\")\n",
    "plt.plot(freq, hp_p2p_expected)\n",
    "plt.scatter(hp_freqs, hp_gain_observed)\n",
    "plt.show()\n",
    "\n",
    "plt.xlabel(\"Frequency (Hz)\")\n",
    "plt.ylabel(\"Output Voltage/Input Voltage\")\n",
    "plt.title(\"log-Frequency vs log-Gain (High Pass)\")\n",
    "plt.loglog(freq, hp_p2p_expected)\n",
    "plt.scatter(hp_freqs, hp_gain_observed)\n",
    "plt.show()"
   ]
  },
  {
   "cell_type": "markdown",
   "metadata": {},
   "source": [
    "<span style=\"color:#075a04\"> **Do your observed values match up with the expected frequency response of our high pass? Why or why not? _Hint: Are we accounting for our full system?_** </span>"
   ]
  },
  {
   "cell_type": "markdown",
   "metadata": {},
   "source": [
    "`YOUR ANSWER HERE`"
   ]
  },
  {
   "cell_type": "markdown",
   "metadata": {},
   "source": [
    "<span style=\"color:#075a04\"> **What is the frequency response of your high-pass-filtered micboard in terms of the frequency response of your high pass filter and the frequency response of your micboard?**</span>"
   ]
  },
  {
   "cell_type": "markdown",
   "metadata": {},
   "source": [
    "`YOUR ANSWER HERE`"
   ]
  },
  {
   "cell_type": "markdown",
   "metadata": {},
   "source": [
    "Use the code below to plot the frequency response of your micboard-high pass filter system and compare it to the frequency response of just your micboard."
   ]
  },
  {
   "cell_type": "code",
   "execution_count": null,
   "metadata": {
    "scrolled": false
   },
   "outputs": [],
   "source": [
    "response_hp_micboard = np.multiply(hp_p2p_expected, gain)\n",
    "\n",
    "plt.xlabel(\"Frequency (Hz)\")\n",
    "plt.ylabel(\"Output Voltage/Input Voltage\")\n",
    "plt.title(\"Frequency vs Gain (High pass filtered Micboard)\")\n",
    "plt.plot(freq, Vpp, label=\"Micboard\")\n",
    "plt.plot(freq, response_hp_micboard, label=\"HP Expected\")\n",
    "plt.scatter(hp_freqs, hp_p2p_observed, label=\"HP observed\")\n",
    "plt.legend()\n",
    "plt.show()\n",
    "\n",
    "plt.xlabel(\"Frequency (Hz)\")\n",
    "plt.ylabel(\"Output Voltage/Input Voltage\")\n",
    "plt.title(\"log-Frequency vs log-Gain (High pass filtered Micboard)\")\n",
    "plt.loglog(freq, Vpp, label=\"Micboard\")\n",
    "plt.loglog(freq, response_hp_micboard)\n",
    "plt.scatter(hp_freqs, hp_p2p_observed)\n",
    "plt.legend()\n",
    "plt.show()"
   ]
  },
  {
   "cell_type": "markdown",
   "metadata": {},
   "source": [
    "Does your observed values match up with the frequency response of our full system?"
   ]
  },
  {
   "cell_type": "markdown",
   "metadata": {},
   "source": [
    "### 2A.3 Amplify the High-Pass Signal\n",
    "1. Follow your filter with a non-inverting amplifier and LED/resistor as shown below.\n",
    "    - Try different gains to get the LED to brighten or light up more in the frequency range that you want. To figure out how much to raise or lower your gain, _refer to the frequency response plot!_\n",
    "    - If you find that you don't actually need a gain (the output is fine as is), just change the non-inverting amplifier to a buffer.\n",
    "\n",
    "- Make some noises at your microphone. Does the brightness of the LED change?\n",
    "    - Try playing some different frequencies from this [tone generator website](http://www.szynalski.com/tone-generator/) and make sure the LED brightens or lights up for frequencies in your expected frequency range.\n",
    "\n",
    "- Here is the final circuit schematic:\n",
    "    \n",
    "\n",
    "<img style=\"width:750px\" src=\"images/high_pass.png\">\n"
   ]
  },
  {
   "cell_type": "markdown",
   "metadata": {},
   "source": [
    "\n",
    "<a id='part4'></a>\n",
    "# <span style=\"color:navy\">Part 2B: Caught in the Midrange</span>\n",
    "\n",
    "-----\n",
    "\n",
    "#### Materials\n",
    "- Capacitors\n",
    "- Resistors\n",
    "- Phone speaker or headphones\n",
    "- Oscilloscope probes\n",
    "\n",
    "## Tasks\n",
    "### 2B.0. First, read Part 2B of the Color Organ [Lab Note](https://drive.google.com/file/d/1FDXu8fiKKFQCPN2Wuu2t2b_AR0IqjZqX/view?usp=sharing).\n",
    "\n",
    "### 2B.1 Build and Test the High-Pass Filter of the Band-Pass\n",
    "1. Choose values for $R_{\\text{high pass}}$ and $C_{\\text{high pass}}$ such that your cutoff frequency $f_{c, \\text{ high pass}}$ for your high pass filter is in the range 800 - 1000 Hz.\n",
    "2. Record your values for $R_{\\text{high pass}}$, $C_{\\text{high pass}}$, and $f_{c, \\text{ high pass}}$ below.\n",
    "3. Build your high pass filter and **test it to make sure your cutoff frequency is what you expected**.\n",
    "\n",
    "\n",
    "<span style=\"color:red\"> **Make sure you connect the end of the resistor that's not connected to the capacitor to 1.65V from OS2, just like what you did in Part 2A!**</span>\n",
    "\n",
    "### 2B.2 Build and Test the Low-Pass Filter of the Band-Pass\n",
    "1. Choose values for $R_{\\text{low pass}}$ and $C_{\\text{low pass}}$ s.t. your cutoff frequency $f_{c, \\text{ low pass}}$ for your low pass filter is in the range 3000 - 5000 Hz.\n",
    "2. Record your values for $R_{\\text{low pass}}$, $C_{\\text{low pass}}$, and $f_{c, \\text{ low pass}}$ below.\n",
    "3. Build your low pass filter and **test it to make sure your cutoff frequency is what you expected**.\n",
    "\n",
    "### 2B.3 Put Them Together and Test the Band-Pass Filter\n",
    "![right filter](images/RightFilter.png)\n",
    "1. Connect your high-pass filter from part 2B.1 to your low-pass filter from 2B.2 using a buffer as shown above to complete your band-pass filter. The input to the high-pass filter is your band-pass filter input, and the output of the low-pass filter is your band-pass filter output.\n",
    "2. **Test your band-pass filter with the oscilloscope to make sure that the cutoff frequencies are what you expected.**\n",
    "3. Follow your band-pass filter with another non-inverting amplifier connected to a 100 $\\Omega$ resistor and an LED just like before.\n",
    "    - You can choose the gain of your non-inverting amplifier. Try using 2 to start.\n",
    "4. Hook up your band pass filter in parallel with the other filters as shown in the block diagram below, and use the output of your mic board as an input to your band pass filter.\n",
    "\n",
    "<img style=\"width:500px\" src=\"images/low-high-band-flow.png\">"
   ]
  },
  {
   "cell_type": "code",
   "execution_count": null,
   "metadata": {},
   "outputs": [],
   "source": [
    "### YOUR CODE HERE\n",
    "R_high_pass = ...\n",
    "C_high_pass = ...\n",
    "f_c_high_pass = ...\n",
    "\n",
    "R_low_pass = ...\n",
    "C_low_pass = ...\n",
    "f_c_low_pass = ...\n",
    "\n",
    "print(\"Band pass filter\")\n",
    "print(\"================\")\n",
    "print(\"High pass resistor: {} ohms\".format(R_high_pass))\n",
    "print(\"High pass capacitor: {} farads\".format(C_high_pass))\n",
    "print(\"High pass cutoff frequency: {} Hz\".format(f_c_high_pass))\n",
    "print(\"Low pass resistor: {} ohms\".format(R_low_pass))\n",
    "print(\"Low pass capacitor: {} farads\".format(C_low_pass))\n",
    "print(\"Low pass cutoff frequency: {} Hz\".format(f_c_low_pass))"
   ]
  },
  {
   "cell_type": "markdown",
   "metadata": {},
   "source": [
    "You have now completed your full color organ! Play some music and see your LEDs flash in time!\n",
    "\n",
    "<a id='checkoff'> </a>\n",
    "\n",
    "# Color Organ Part 2 Checkoff"
   ]
  },
  {
   "cell_type": "markdown",
   "metadata": {},
   "source": [
    "### For Checkoff:\n",
    "- Show your GSI your:\n",
    "    - high-pass filter\n",
    "    - band-pass filter\n",
    "    - relevant plots\n",
    "- Be prepared to answer some questions.\n",
    "\n",
    "**After checkoff, please:**\n",
    "\n",
    "- <span style=\"color:#ff0000\"> **Keep the mic board, biasing circuits, and low-pass filter from Parts 1A and 1B you built on your breadboard!**   </span> You will be using these for the SIXT33N car project!\n",
    "- Store all your electrical components in a neat and organized manner.\n",
    "- Make sure that all components that you received in your lab kit are stored safely for use in future labs."
   ]
  },
  {
   "cell_type": "code",
   "execution_count": null,
   "metadata": {},
   "outputs": [],
   "source": []
  }
 ],
 "metadata": {
  "anaconda-cloud": {},
  "kernelspec": {
   "display_name": "Python 3",
   "language": "python",
   "name": "python3"
  },
  "language_info": {
   "codemirror_mode": {
    "name": "ipython",
    "version": 3
   },
   "file_extension": ".py",
   "mimetype": "text/x-python",
   "name": "python",
   "nbconvert_exporter": "python",
   "pygments_lexer": "ipython3",
   "version": "3.7.4"
  }
 },
 "nbformat": 4,
 "nbformat_minor": 1
}
