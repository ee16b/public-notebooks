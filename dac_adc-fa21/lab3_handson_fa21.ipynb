{
 "cells": [
  {
   "cell_type": "markdown",
   "metadata": {},
   "source": [
    "# Analog-Digital Circuit Interfaces\n",
    "\n",
    "\n",
    "### EECS 16B: Designing Information Devices and Systems II, Fall 2021\n",
    "\n",
    "Updated by Mia Mirkovic (2020)\n",
    "\n",
    "Updated by Rafael Calleja, Steven Lu (2020)\n",
    "\n",
    "Updated by Kaitlyn Chan, Steven Lu (2021)\n",
    "\n",
    "-----"
   ]
  },
  {
   "cell_type": "markdown",
   "metadata": {},
   "source": [
    "## Table of Contents\n",
    "\n",
    "* [Part 0: Lab Note](#part0)\n",
    "* [Part 1: Digital to Analog Converters (DACs)](#part1)\n",
    "* [Part 2: Analog to Digital Converters (ADCs)](#part2)"
   ]
  },
  {
   "cell_type": "markdown",
   "metadata": {},
   "source": [
    "<a id='part1'></a>\n",
    "# <span style=\"color:navy\">Part 1: Digital to Analog Converters (DACs)</span>\n",
    "-----"
   ]
  },
  {
   "cell_type": "markdown",
   "metadata": {},
   "source": [
    "### 1.0. Please read Part 1 of the [lab note](https://drive.google.com/file/d/1VSwOWebQEQyfcEJFt_ePPz4OZWNZ5xCx/view?usp=sharing).\n"
   ]
  },
  {
   "cell_type": "markdown",
   "metadata": {},
   "source": [
    "<img style=\"width: 400px\" src=\"imgs/lab2_r_2r.png\">"
   ]
  },
  {
   "cell_type": "markdown",
   "metadata": {},
   "source": [
    "## Questions\n",
    "\n",
    "For the questions below, we assume we have an $n = 3$ bit DAC. You've solved this using KCL in the homework, but can you think of another technique to simplify the circuit? (Hint: Superposition!)\n",
    "\n",
    "**<span style=\"color:#ba190f\">Please do not spend too long on these questions. If you get stuck, ask for help.</span>**"
   ]
  },
  {
   "cell_type": "markdown",
   "metadata": {},
   "source": [
    "**<span style=\"color:#075a04\">1. Assuming [$V_0, V_1, V_2$] = [0,1,0], what is $V_{out}$?</span>**"
   ]
  },
  {
   "cell_type": "markdown",
   "metadata": {},
   "source": [
    "< YOUR ANSWER HERE >"
   ]
  },
  {
   "cell_type": "markdown",
   "metadata": {},
   "source": [
    "**<span style=\"color:#075a04\">2. Assuming [$V_0, V_1, V_2$] = [1,1,1], what is $V_{out}$?</span>**\n"
   ]
  },
  {
   "cell_type": "markdown",
   "metadata": {},
   "source": [
    "< YOUR ANSWER HERE >"
   ]
  },
  {
   "cell_type": "markdown",
   "metadata": {},
   "source": [
    "## Physical Circuit\n",
    "---"
   ]
  },
  {
   "cell_type": "markdown",
   "metadata": {},
   "source": [
    "### Materials\n",
    "- MSP430 Launchpad + USB cable\n",
    "- Jumper wires\n",
    "- 1 k$\\Omega$ Resistors (brown, black, red, gold)\n",
    "- 2 k$\\Omega$ Resistors (red, black, red, gold)\n",
    "- Breadboard\n",
    "- Oscilloscope probe"
   ]
  },
  {
   "cell_type": "markdown",
   "metadata": {},
   "source": [
    "### 1.1. Build the physical 3-bit DAC \n",
    "\n",
    "Use the diagram below to build the 3-bit DAC using the $1 k\\Omega$ and $2 k\\Omega$ resistors for R and 2R, respectively. Use the jumper wires to connect the Launchpad to the circuit. For example `P4.1` below tells you to connect that node on the breadboard to pin `4.1` on the Launchpad. In this circuit, the Launchpad will act as a signal generator.\n",
    "\n",
    "<img style=\"width: 400px\" src=\"imgs/lab2_r_2r_pins_noled.png\">"
   ]
  },
  {
   "cell_type": "markdown",
   "metadata": {},
   "source": [
    "### 1.2. Running the physical 3-bit DAC\n",
    "\n",
    "**Make sure to connect the ground of your Launchpad with the ground of your circuit!**\n",
    "\n",
    "- Open the file `dac.ino` in Energia and take a look at the code.\n",
    "    - What do you expect the output of the DAC to be? This understanding is vital to the debugging process: if you don't know what you're looking for, how can you know if your result is correct or not?\n",
    "- Upload the code to your Launchpad. The code sets pins 2.7, 4.2, 4.1 to output an increasing and decreasing binary number, where pin 4.1 is the least significant bit (LSB).\n",
    "- Connect these pins to the inputs $V_2, V_1,$ and $V_0$ of your DAC.\n",
    "- Use an oscilloscope probe $V_{out}$ to make sure your DAC behaves correctly. Adjust the time axis on the oscilloscope to show 100ms per division. \n",
    "- **<span style=\"color:#ba190f\"> Make sure to connect the ground of your Launchpad with the ground of your circuit!**\n",
    "- <span style=\"color:#ba190f\"> **Press the `RST` button on your Launchpad.**"
   ]
  },
  {
   "cell_type": "markdown",
   "metadata": {},
   "source": [
    "### 1.3. Build the 4-bit DAC\n",
    "- **Modify both your circuit and the Launchpad code** to extend the 3-bit DAC to 4 bits.\n",
    "    - **You should use pin `3.2` for the new most significant bit (MSB)**.\n",
    "    - All you have to do to the code is comment Section A out and uncomment Section B.\n",
    "- Make sure your 4-bit DAC works using the oscilloscope."
   ]
  },
  {
   "cell_type": "markdown",
   "metadata": {},
   "source": [
    "<a id='part2'></a>\n",
    "# <span style=\"color:navy\">Part 2: Analog to Digital Converters (ADCs)</span>\n",
    "-----"
   ]
  },
  {
   "cell_type": "markdown",
   "metadata": {},
   "source": [
    "### 2.0. Please read Part 2 of the [lab note](https://drive.google.com/file/d/1VSwOWebQEQyfcEJFt_ePPz4OZWNZ5xCx/view?usp=sharing) to learn about:\n",
    "    - SAR ADC Algorithm\n",
    "    - Comparators\n",
    "    \n",
    "One commonly used circuit architecture for Analog to Digital Converters is the Successive Approximation Register ADC (SAR ADC), which is what we'll be using today.\n",
    "\n",
    "The SAR ADC algorithm uses a DAC to generate voltages and compares them to an analog input voltage. It then uses feedback to adjust the DAC voltage to get as close as possible to the analog voltage."
   ]
  },
  {
   "cell_type": "markdown",
   "metadata": {},
   "source": [
    "## Physical Circuit\n",
    "---"
   ]
  },
  {
   "cell_type": "markdown",
   "metadata": {},
   "source": [
    "### Materials\n",
    "- MSP430 Launchpad + USB cable\n",
    "- 1 k$\\Omega$ resistors (already included in your 4-bit DAC)\n",
    "- 2 k$\\Omega$ resistors (already included in your 4-bit DAC)\n",
    "- LMC6482 Op-amp\n",
    "- Breadboard\n",
    "- Oscilloscope & probe\n",
    "- Banana alligators for the power supply"
   ]
  },
  {
   "cell_type": "markdown",
   "metadata": {},
   "source": [
    "### 2.1. Build the ADC\n",
    "\n",
    "While we've already written the code for the ADC, you'll still need to make some changes to your circuit. Specifically, you will need to build the part that compares the output of the DAC to the analog input and feeds the result of the comparison back to pin 6.5 on your launchpad (hint: it's the comparator).\n",
    "\n",
    "Here's a block diagram for the ADC that demonstrates what you need to at a high level. Use it to build the circuit. The specific implementation is up to you.\n",
    "\n",
    "\n",
    "The pinout of the LMC6482 op-amp in your lab kit is given as reference. _What should $V_{dd}$ and $V_{ss}$ be for this op-amp?_\n",
    "\n",
    "<img style=\"width: 400px\" src=\"imgs/lab2_adc.png\">\n",
    "<img style=\"width: 400px\" src=\"imgs/op_amp_pinout.png\">"
   ]
  },
  {
   "cell_type": "markdown",
   "metadata": {},
   "source": [
    "### 2.2. Run the ADC\n",
    "\n",
    "- Open the file `sar_adc.ino` and skim the code. It reads from pin `6.5` and outputs the approximated result in pins `3.2`, `2.7`, `4.2`, `4.1` with pin `4.1` as the LSB.\n",
    "- Set the current limit of the power source to 100mA.\n",
    "- **<span style=\"color:#ba190f\"> IMPORTANT: Do not connect pin 6.5 to your op-amp output until after you have powered your Launchpad (connected the USB)! You will run the risk of frying the pin if you do so.**\n",
    "- Use 3.3V for all power supplies. Introducing higher voltages in the circuit risks damaging the Launchad. Use the +25V channel of the power supply to power the op-amp. **<span style=\"color:#ba190f\"> Do not use the 3V3 or 5V pin on the Launchpad.**\n",
    "- Use the 6V channel as the input voltage (which ranges from 0V to 3.3V).\n",
    "- Probe the output of the DAC using the oscilloscope. Adjust the time axis on the oscilloscope to show 100us per division. \n",
    "- **<span style=\"color:#ba190f\"> Press the `RST` button on your Launchpad after uploading the code.**\n",
    "\n",
    "Your oscilloscope should show something like this. Should your signal look exactly like this? Think about why the signal steps up and down when it does, and why it converges to this specific voltage (~1.5V). How does this translate to the binary representation of the signal?\n",
    "\n",
    "\n",
    "<center>\n",
    "<img style=\"width:600px\" src=\"imgs/adc_oscope_1.5.jpg\"/>\n",
    "</center>\n",
    "\n",
    "In the image above, the input to the SAR ARC is $1.5V$. The first large voltage jump on the oscilloscope screen marks the beginning of the ADC conversion, which corresponds to the MSB being set. Setting the MSB causes our DAC output to be $\\frac{3.3V}{2} = 1.65V$. Since this is greater than our input of $1.5V$, the MSB bit is set back to 0. \n",
    "\n",
    "In each phase, the SAR ADC attempts to set the next most significant bit. Then, the latest bit gets set to the correct value (either 0 or 1), depending on the comparator's output. As seen in the Measurements on the right side of the oscilloscope, we settle at $1.45V$, which is the closest we can get to our input of $1.5V$. This is equivalent to $0*(\\frac{3.3V}{2})+1*(\\frac{3.3V}{4})+1*(\\frac{3.3V}{8})+1*(\\frac{3.3V}{16})$. Think about which bits are turned on, based on what you see.\n",
    "\n",
    "Try seeing if your ADC output for different voltages makes sense according to what the SAR ADC algorithm does!"
   ]
  },
  {
   "cell_type": "markdown",
   "metadata": {},
   "source": [
    "## Questions\n"
   ]
  },
  {
   "cell_type": "markdown",
   "metadata": {},
   "source": [
    "**<span style=\"color:#075a04\">2.1. Using your 4-bit SAR ADC, describe the output signal you would see on the oscilloscope for a 2.2V analog input signal. How does this translate to the digital (binary) representation? </span>**"
   ]
  },
  {
   "cell_type": "markdown",
   "metadata": {},
   "source": [
    "< YOUR ANSWER HERE >"
   ]
  },
  {
   "cell_type": "markdown",
   "metadata": {},
   "source": [
    "**<span style=\"color:#075a04\">2.2. If we want to build a 4-bit ADC with a sampling frequency of 1kHz (read the input voltage 1000 times per second), what is the minimum clock frequency the ADC has to run at assuming it takes one clock cycle to set each bit in the ADC's register?</span>**"
   ]
  },
  {
   "cell_type": "markdown",
   "metadata": {},
   "source": [
    "< YOUR ANSWER HERE >"
   ]
  },
  {
   "cell_type": "markdown",
   "metadata": {},
   "source": [
    "**Settling time** marks the time that passes between the applied input value and the final output value of the component (within some error bound). \n",
    "\n",
    "In this lab, we directly connect our analog voltage from the power supply to our comparator. However, in reality, we sample the time-variant input voltage with a track-and-hold circuit (see SAR ADC circuit diagram in lab note). There would be sampling time/acquisition time for the track-and-hold circuit to have a stable sampled voltage for the ADC to convert. Here, we can assume that the input signal looks practically constant to the algorithm since the operation frequency of the SAR ADC is much higher than the frequency of the input signal. Therefore, the acquision time is negligible.\n",
    "\n",
    "Let's say we want to build a SAR ADC using this resistor-ladder DAC and some microprocessor (i.e. the launchpad).\n",
    "\n",
    "We will assume for this question that there is no delay between the output of one component and the input of the next (e.g. there is no delay between the output of the DAC changing and the inverting input of the comparator changing).\n",
    "\n",
    "- Assume the settling time of the DAC is 100ns.\n",
    "\n",
    "- Assume the settling time of the comparator is 150ns.\n",
    "\n",
    "- Assume that it takes 100ns for the microprocessor to look at the comparator output and set the bit off or keep it on. Now, the algorithm repeats for the next bit."
   ]
  },
  {
   "cell_type": "markdown",
   "metadata": {},
   "source": [
    "**<span style=\"color:#075a04\">2.3. What is the worst-case time required to set a single bit in the ADC's sample? \n",
    "Hint: For which part of the SAR ADC block diagram does each step correspond to? How many nanoseconds does each step take? </span>**"
   ]
  },
  {
   "cell_type": "markdown",
   "metadata": {},
   "source": [
    "< YOUR ANSWER HERE >"
   ]
  },
  {
   "cell_type": "markdown",
   "metadata": {},
   "source": [
    "**<span style=\"color:#075a04\">2.4. How long would it take in the worst case to see the correct ADC output? Hint: how many bits is our ADC? </span>**"
   ]
  },
  {
   "cell_type": "markdown",
   "metadata": {},
   "source": [
    "< YOUR ANSWER HERE >"
   ]
  },
  {
   "cell_type": "markdown",
   "metadata": {},
   "source": [
    "**<span style=\"color:#075a04\">2.5. With an 8 bit DAC, we can make a more precise ADC than the 4 bit ADC we made in this lab. By adding more bits we can represent the input voltage more accurately, increasing our precision by a factor of 2 for every bit we add. If this is the case, should we just keep adding bits into our DAC and ADC to get finer and finer precision? Why or why not? </span>**"
   ]
  },
  {
   "cell_type": "markdown",
   "metadata": {},
   "source": [
    "< YOUR ANSWER HERE >"
   ]
  },
  {
   "cell_type": "markdown",
   "metadata": {},
   "source": [
    "# <span style=\"color:#ba190f\">CHECKOFF</span>\n",
    "-----\n",
    "- Have your ADC running and be ready to explain how it works.\n",
    "- Have all <span style=\"color:#075a04\"> green questions in the notebook completed</span>.\n",
    "- Be prepared to answer checkoff questions.\n",
    "\n",
    "Don't forget to save this notebook somewhere all your group members can access it!"
   ]
  },
  {
   "cell_type": "code",
   "execution_count": null,
   "metadata": {},
   "outputs": [],
   "source": []
  }
 ],
 "metadata": {
  "anaconda-cloud": {},
  "kernelspec": {
   "display_name": "Python 3",
   "language": "python",
   "name": "python3"
  },
  "language_info": {
   "codemirror_mode": {
    "name": "ipython",
    "version": 3
   },
   "file_extension": ".py",
   "mimetype": "text/x-python",
   "name": "python",
   "nbconvert_exporter": "python",
   "pygments_lexer": "ipython3",
   "version": "3.7.4"
  }
 },
 "nbformat": 4,
 "nbformat_minor": 1
}
