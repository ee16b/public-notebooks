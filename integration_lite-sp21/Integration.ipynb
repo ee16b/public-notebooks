{
 "cells": [
  {
   "cell_type": "markdown",
   "metadata": {},
   "source": [
    "# SIXT33N Project\n",
    "## Phase 6: Integration\n",
    "\n",
    "### EE 16B: Designing Information Devices and Systems II, Spring 2021\n",
    "\n",
    "\n",
    "Written by Nathaniel Mailoa and Emily Naviasky (2016)\n",
    "\n",
    "nmailoa@berkeley.edu &emsp; enaviasky@berkeley.edu\n",
    "\n",
    "Written by Zhongkai Wang (2021)\n",
    "\n",
    "zhongkai@berkeley.edu"
   ]
  },
  {
   "cell_type": "markdown",
   "metadata": {},
   "source": [
    "## Table of Contents\n",
    "\n",
    "* [Part 0. Introduction](#intro)\n",
    "* [Part 1. Integration](#part1)\n",
    "* [Part 2. Final Demo and Lab Report](#part2)"
   ]
  },
  {
   "cell_type": "markdown",
   "metadata": {},
   "source": [
    "<a id='intro'></a>\n",
    "## <span style=\"color:blue\"> Part 0. Introduction\n",
    "\n",
    "Now you are on your last steps! SIXT33N has slowly been taking shape and soon it will be running around causing trouble. All you need to do now is to put everything together in a single Arduino program. The objective is to get SIXT33N to **drive far, drive left, drive close, and drive right** when it hears the corresponding four commands (words).\n",
    "\n",
    "For this phase of the project, to be eligible for full credit on this lab, you need to\n",
    "\n",
    "- Finish the last Gradescope questions. \n",
    "- Submit your final demo. Please read the last section of the notebook for details."
   ]
  },
  {
   "cell_type": "markdown",
   "metadata": {},
   "source": [
    "<a id='part1'></a>\n",
    "## <span style=\"color:blue\"> Part 1. Integration</span>"
   ]
  },
  {
   "cell_type": "markdown",
   "metadata": {},
   "source": [
    "### Materials\n",
    "- SIXT33N Module in TinkerCAD\n",
    "Model Link to be used in ths entire lab: [TinkerCAD Model](https://www.tinkercad.com/things/iyWfV54CYKr) \n",
    "- Close-loop turn scheme \n",
    "- PCA classifier scheme\n",
    "\n",
    "Everything you work on in this phase will be in the sketch `integration.ino`, which is your final Arduino code for SIXT33N. As we go through it, fill in sections labelled `YOUR CODE HERE` as instructed.\n"
   ]
  },
  {
   "cell_type": "markdown",
   "metadata": {},
   "source": [
    "### Wheel Control \n",
    "\n",
    "In the main body of the sketch, the code defines 2 modes: `MODE_LISTEN` and `MODE_DRIVE`. \n",
    "\n",
    "- Copy `CODE BLOCK CON1/2/3/4` from `turning.ino`.\n",
    "\n",
    "### Enveloping and PCA Vectors\n",
    "\n",
    "In `MODE_LISTEN`, the SIXT33N listens to your words and tries to classify the word. The Arduino will run classification on the processed snippet to figure out the command. If the Launchpad sucessfully classifies a word then it will enter `MODE_DRIVE`.\n",
    "\n",
    "- Copy `CODE BLOCK PCA1/2` from `classify.ino`.\n",
    "- Initialize the variable `word1`, `word2`, `word3` and `word4` with the processed snippets of **four** words you chose with the scripts from Part 3 of the Advanced Control Phase.\n",
    "\n",
    "### Classification\n",
    "\n",
    "Next, go to the section labeled **`CODE BLOCK PCA3`** in the `loop()` function, and copy the code from `classify.ino`. This block should do the PCA projection and classification. **Please note that you need to project each element of 'word_arr' (not 'result') onto the principal components in `classify.ino`.**\n",
    "\n",
    "**<span style=\"color:red\">If the Arduino does not classify as well as you think it should, remember to play with the `KMEANS_THRESHOLD` and `LOUDNESS_THRESHOLD` variables.</span>** To debug the sketch, you can also print out any of the variables you have used.\n",
    "\n",
    "###  Driving\n",
    "\n",
    "Then, go to the section labeled **`CODE BLOCK DRV`**, which defines a series of commands controlling SIXT33N. By default, the `word_arr` (shown below) controls the car to `drive left`, `drive far`, `drive right` and `drive close`, with four commands in the following order: **word2, word1, word4 and word3**. \n",
    "\n",
    "`float* word_arr[NUM_COMMANDS] = { (float *) &word2, (float *) &word1, (float *) &word4, (float *) &word3};`\n",
    "\n",
    "- Remember to change the parameter `NUM_COMMANDS` when you change the number of commands.\n"
   ]
  },
  {
   "cell_type": "markdown",
   "metadata": {},
   "source": [
    "That's it! You should be set. Now load the sketch into TinkerCad and run the simulation. The serial monitor will plot two waveforms in the serial plotter just as the Advanced Control phase. You can see that\n",
    " - The blue curve corresponds to the x-position of the car, and the orange line corresponds to the y-position of the car. \n",
    " - After finish the plot, the serial monitor also prints out the positions after each command. With four commands, we would have five positions by including the initial position (0, 0).\n",
    "\n",
    "<img width=700px src=\"images/serial_plot.jpg\">\n",
    "\n",
    "Finally, copy the **positions after each command** to the `trajectory.txt`, and run the following code, which plots the positions after the commands. From the plot, you can guess the trajectory of SIXT33N. For example, the following plot shows four commands: **drive far, drive left, drive close and drive right**.\n",
    "\n",
    "<img width=300px src=\"images/positions.jpg\">\n"
   ]
  },
  {
   "cell_type": "code",
   "execution_count": null,
   "metadata": {
    "collapsed": true
   },
   "outputs": [],
   "source": [
    "import numpy as np\n",
    "import matplotlib.pyplot as plt\n",
    "%matplotlib inline\n",
    "\n",
    "with open('trajectory.txt', 'r') as file:\n",
    "    data = []\n",
    "    for line in file.readlines():\n",
    "        if not len(line.strip()) == 0 : \n",
    "            data.append ([float(num) for num in line.strip().split(',')])\n",
    "    data = np.array(data)\n",
    "\n",
    "# compute velocity from distances\n",
    "x_pos  = data[:, 0]\n",
    "y_pos = data[:, 1]\n",
    "\n",
    "print(x_pos)\n",
    "print(y_pos)\n",
    "\n",
    "plt.figure(figsize=(4, 4))\n",
    "plt.plot(x_pos, y_pos, 'ro-')\n",
    "plt.xlabel(\"x positions\")\n",
    "plt.ylabel(\"y positions\")\n",
    "plt.show()"
   ]
  },
  {
   "cell_type": "markdown",
   "metadata": {},
   "source": [
    "Did it work? If not, you might still need to tweak your control parameters. If it did work: time to celebrate!"
   ]
  },
  {
   "cell_type": "markdown",
   "metadata": {},
   "source": [
    "## Questions\n",
    "\n",
    "<span style=\"color:#075a04\"> **1. With the default commands (`word2`, `word1`, `word4` and `word3`) in `CODE BLOCK DRV`, what is the final value of X position of the car? <span style=\"color:#ba190f\">Enter numerical value with two decimal points (e.g. 3.14).**\n",
    "    \n",
    "< YOU ANSWER ON GRADESCOPE >\n",
    "    \n",
    "    \n",
    "<span style=\"color:#075a04\"> **2. In the same case as Q1, what is the final value of Y position of the car? <span style=\"color:#ba190f\">Enter numerical value with two decimal points (e.g. 3.14).**\n",
    "\n",
    "< YOUR ANSWER ON GRADESCOPE > \n",
    "    \n",
    "    \n",
    "<span style=\"color:#075a04\"> **3. If we change `CODE BLOCK DRV` with five commands as `word3`, `word4`, `word1`, `word2` and `word1`, what is the corresponding behavior of the car? Remember to change the parameter `NUM_COMMANDS` to 5. Please identify the commands `drive far`=F, `drive left`=L, `drive close`=C and `drive right`=R. For example, the behavior of default command is `LFRC`. <span style=\"color:#ba190f\">You need to have five letters in the answer.**\n",
    "\n",
    "< YOUR ANSWER ON GRADESCOPE > \n",
    "\n",
    "<span style=\"color:#075a04\"> **4. In the same case as Q3, how many points in the position plot? <span style=\"color:#ba190f\">Enter integer value(e.g. 10).**\n",
    "    \n",
    "< YOUR ANSWER ON GRADESCOPE > \n",
    "    \n",
    "<span style=\"color:#075a04\"> **5. In the same case as Q3, what is the value of X position of the car after the third command? <span style=\"color:#ba190f\">Enter numerical value with two decimal points (e.g. 3.14).**\n",
    "\n",
    "< YOUR ANSWER ON GRADESCOPE >   \n",
    "    \n",
    "    \n",
    "<span style=\"color:#075a04\"> **6. In the same case as Q3, what is the value of Y position of the car after the third command? <span style=\"color:#ba190f\">Enter numerical value with two decimal points (e.g. 3.14).**\n",
    "\n",
    "< YOUR ANSWER ON GRADESCOPE >   \n",
    "    \n",
    "<span style=\"color:#075a04\"> **7. If we change `CODE BLOCK DRV` with commands as `word4`, `word4`, `word2` and `word2`, what is the corresponding behavior of the car? Remember to change the parameter `NUM_COMMANDS` to 4. Please identify the commands `drive far`=F, `drive left`=L, `drive close`=C and `drive right`=R. For example, the behavior of default command is `LFRC`. <span style=\"color:#ba190f\">You need to have four letters in the answer.**\n",
    "\n",
    "< YOUR ANSWER ON GRADESCOPE > \n",
    "    \n",
    "<span style=\"color:#075a04\"> **8. In the same case as Q7, what is the final value of X position of the car? <span style=\"color:#ba190f\">Enter numerical value with two decimal points (e.g. 3.14).**\n",
    "\n",
    "< YOUR ANSWER ON GRADESCOPE >    \n",
    "    \n",
    "<span style=\"color:#075a04\"> **9. In the same case as Q7, what is the final value of Y position of the car? <span style=\"color:#ba190f\">Enter numerical value with two decimal points (e.g. 3.14).**\n",
    "\n",
    "< YOUR ANSWER ON GRADESCOPE >     \n",
    "    \n",
    "<span style=\"color:#075a04\"> **10. In the same case as Q7, how many U turns does the car make?<span style=\"color:#ba190f\"> Enter integer value(e.g. 10).**\n",
    "\n",
    "< YOUR ANSWER ON GRADESCOPE > \n",
    "   \n"
   ]
  },
  {
   "cell_type": "markdown",
   "metadata": {},
   "source": [
    "<a id='part2'></a>\n",
    "## <span style=\"color:blue\">Part 2. Final Demo and Lab Report</span>"
   ]
  },
  {
   "cell_type": "markdown",
   "metadata": {},
   "source": [
    "### Final Demo\n",
    "To be eligible to receive full credit on the Integration lab, you must submit a final demo to Gradescope by Friday, May 7, at 11:00PM PT. Submit this demo with the group you're working with for the final lab report, if you have one. In one pdf, compile all of the following and submit the following to the Gradescope assignment:\n",
    "1. Show three randomly generated trajectories of SIXT33N. Each trajectory includes ten commands, which can be generated with the script below, with `1`, `2`, `3` and `4` representing `drive far`, `drive left`, `drive close`, and `drive right`, respectively. For each trajectory, take a picture/screenshot/printout of the following: the command sequence, and the plot of the trajectory resulting from the sequence (the one generated from the code above, not the Arduino serial plotter output). Remember to change the parameter `NUM_COMMANDS` to 10.\n",
    "2. Take a picture/screenshot/printout of your 2 figures of your **centroids** plotted with your **training data set** and **test data set** from the SVD/PCA lab **using your own words** like shown below.\n",
    "   \n",
    "<img width=900px src=\"images/pca_plots.png\">\n",
    "\n",
    "<span style=\"color:#ba190f\"> **To summarize, for the final demo, you need to show three command sequences, their three corresponding plots of the car trajectory, and the two plots of centroids with training data set and test data set using your own words.**\n",
    "\n",
    "   \n"
   ]
  },
  {
   "cell_type": "code",
   "execution_count": null,
   "metadata": {
    "collapsed": true
   },
   "outputs": [],
   "source": [
    "from numpy import random\n",
    "\n",
    "x=random.randint(4, size=(10)) + 1\n",
    "y=random.randint(4, size=(10)) + 1\n",
    "z=random.randint(4, size=(10)) + 1\n",
    "\n",
    "print(x)\n",
    "print(y)\n",
    "print(z)"
   ]
  },
  {
   "cell_type": "markdown",
   "metadata": {},
   "source": [
    "### Final Lab Report\n",
    "\n",
    "On top of the demo, you will need to submit a final lab report. Briefly summarize each lab we have done this semester, elaborate on your design choices, and answer all the questions in the report pdf. Submit the write-up as a PDF to Gradescope by **Friday, May 7th at 11:00 PM**.\n",
    "\n",
    "See [here](https://drive.google.com/file/d/1QYa4ueH4C9lAth8R0-da-zSi5eLT4F6v/view?usp=sharing) for the report pdf.\n",
    "\n",
    "\n",
    "<img width='30px' align='left' src=\"http://inst.eecs.berkeley.edu/~ee16b/sp16/lab_pics/check.png\">\n",
    "<br/>\n",
    "\n",
    "## <span style=\"color:green\">DEADLINES</span>\n",
    "\n",
    "- Complete the questions on Gradescope by **Wednesday, May 5th at 11PM PT**.\n",
    "- Submit the final demo to Gradescope by **Friday, May 7th at 11PM PT**.\n",
    "- Submit the lab report to Gradescope by **Friday, May 7th at 11PM PT**."
   ]
  }
 ],
 "metadata": {
  "anaconda-cloud": {},
  "kernelspec": {
   "display_name": "Python 3",
   "language": "python",
   "name": "python3"
  },
  "language_info": {
   "codemirror_mode": {
    "name": "ipython",
    "version": 3
   },
   "file_extension": ".py",
   "mimetype": "text/x-python",
   "name": "python",
   "nbconvert_exporter": "python",
   "pygments_lexer": "ipython3",
   "version": "3.7.4"
  }
 },
 "nbformat": 4,
 "nbformat_minor": 1
}
