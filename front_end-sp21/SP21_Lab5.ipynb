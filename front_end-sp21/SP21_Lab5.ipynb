{
 "cells": [
  {
   "cell_type": "markdown",
   "metadata": {},
   "source": [
    "# SIXT33N Project Part 1: Circuits\n",
    "\n",
    "### EE 16B: Designing Information Devices and Systems II, Fall 2020\n",
    "\n",
    "Written by Nathaniel Mailoa and Emily Naviasky (2016).\n",
    "\n",
    "Updated by Peter Schafhalter and Zain Zaidi (2019), Mia Mirkovic (2020), Rafael Calleja (2020)\n",
    "\n",
    "nmailoa@berkeley.edu &emsp; enaviasky@berkeley.edu &emsp; pschafhalter@berkeley.edu &emsp; zzaidi@berkeley.edu &emsp; miamirkovic@berkeley.edu &emsp; rafael.calleja@berkeley.edu\n",
    "\n",
    "----"
   ]
  },
  {
   "cell_type": "markdown",
   "metadata": {},
   "source": [
    "\n",
    "# Table of Contents\n",
    "\n",
    "* [Part 0: Lab Note](https://drive.google.com/file/d/1tmgY3TBdl9UcBlzSCfssNMhWTRSXfyUm/view?usp=sharing)\n",
    "* [Part 1: Testing Your Existing Circuits](#part1)\n",
    "* [Part 2: Audio Front End Circuitry](#part2)\n",
    "* [Part 3: Motor controller Circuits](#part3)\n"
   ]
  },
  {
   "cell_type": "markdown",
   "metadata": {},
   "source": [
    "\n",
    "\n",
    "<a id='part0'></a>\n",
    "# <span style=\"color:navy\">Part 0: Lab Note</span>\n",
    "-----\n",
    "\n",
    "## Please read the [lab note](https://drive.google.com/file/d/1tmgY3TBdl9UcBlzSCfssNMhWTRSXfyUm/view?usp=sharing).\n",
    "\n",
    "\n",
    "\n"
   ]
  },
  {
   "cell_type": "markdown",
   "metadata": {},
   "source": [
    "<a id='part1'></a>\n",
    "# <span style=\"color:navy\">Part 1: Testing Your Existing Circuits</span>\n",
    "-----\n",
    "\n",
    "## Materials\n",
    "- Voltage regulator circuits from Lab 1\n",
    "- Multimeter\n",
    "- Launchpad"
   ]
  },
  {
   "cell_type": "markdown",
   "metadata": {},
   "source": [
    "## Tasks\n",
    "\n",
    "### 1.0 Breadboard Layout\n",
    "- Plan ahead how you will build each circuit to minimize space usage on your breadboard. \n",
    "    - The layout below is a **strong** suggestion of where each circuit should be placed and how much space they should be taking up.\n",
    "    - Do NOT plug in your 9V supply into the positive rails!!! It should ONLY ever be connected to the 9V row reserved on your breadboard.\n",
    "    - All circuits from here on out will be used for the duration of the lab course. **Do not dismantle anything!**\n",
    "    \n",
    "<img style=\"width:700px\" src=\"images/sp21_breadboard_layout.png\">\n",
    "\n",
    "- <span style=\"color:blue\"> **Unit Test! Unit Test! Unit Test!** </span> Many of your circuit elements (specifically your op-amps) are not very expendable so unit tests can be invaluable.\n",
    "- **Before** connecting any of your circuits to power, always:\n",
    "    1. Double check that your circuit was built correctly \n",
    "    2. Check that all the relevant nodes are connected properly\n",
    "    3. Check that none of your circuit elements are shorted (i.e. are connected in some way they shouldn't be)\n",
    "    4. Check that everything that should be grounded _is connected to the negative rail (-) of your op-amp_ (i.e. launchpad, wall-adapter, voltage regulators, op-amps)!\n",
    "    5. <span style=\"color:red\">**Make sure the 3V3 pin and the 5V pin on the Launchpad are not connected to anything**\n",
    "- After connecting any of your circuits to power always:\n",
    "    1. Check that the output is in a range that you expect\n",
    "    2. **Check that none of your circuit elements (i.e. voltage regulators, Launchpad, op-amps) are getting hot, which is a clear sign of a short**"
   ]
  },
  {
   "cell_type": "markdown",
   "metadata": {},
   "source": [
    "### 1.1 Test your voltage regulators.\n",
    "\n",
    "Your **SIXT33N&trade;** car will run on a 9V battery when it is driving around. \n",
    "- A voltage regulator regulates this 9V down to 5V\n",
    "- The Launchpad will take 5V from the voltage regulator **<span style=\"color:red\">DO NOT PLUG IN THE 5V TO YOUR LAUNCHPAD FOR THIS LAB.</span>**\n",
    "\n",
    "#### Materials\n",
    "1. 9V Wall Adapter\n",
    "- 5V Voltage Regulator\n",
    "- 3.3V Voltage Regulator\n",
    "\n",
    "#### Tasks:\n",
    "1. Create another 9V rail (which we will call `9V Motor Rail`) centrally located on your breadboard.\n",
    "- Using the multimeter verify:\n",
    "    - output of your 5V regulator is 5V\n",
    "    - output of the 3.3V regulator is about 3.3V\n",
    "    - both your `9V Regulator Rail` and `9V Motor Rail` both measure 9V\n",
    "\n",
    "#### Notes/Tips:\n",
    "- We are differentiating between `9V Regulator Rail` and `9V Motor Rail` in order to transition from using our 9V wall adapter to 2x 9V batteries. \n",
    "- We will NOT be using the 9V batteries until the next lab!"
   ]
  },
  {
   "cell_type": "markdown",
   "metadata": {},
   "source": [
    "<a id='part2'></a>\n",
    "# <span style=\"color:navy\">Part 2: Audio Front End Circuitry</span>\n",
    "----"
   ]
  },
  {
   "cell_type": "markdown",
   "metadata": {},
   "source": [
    "Recall from the color organ labs that the frequency range for the human voice is about 180-20000Hz (female voice: 300 Hz-17kHz; male voice: 150Hz-8kHz), but most speech falls between **250Hz** and **2500Hz**. In order to minimize noise, we want to only collect data inside this frequency range. Additionally, the mic board has a bandpass transfer function. The lowpass cutoff frequency is a bit too high for our liking, so we'll build a lowpass filter to bring the higher frequency cutoff down to about 2.5 kHz. "
   ]
  },
  {
   "cell_type": "markdown",
   "metadata": {},
   "source": [
    "<a id='calibration'></a>\n",
    "### 2.1. Calibrating your Launchpad to the Mic Board \\[Review\\]\n",
    "\n",
    "#### Materials:\n",
    "- Mic board\n",
    "- Launchpad\n",
    "- USB cable\n",
    "- Jumper wires\n",
    "\n",
    "### <span style=\"color:red\">DO NOT connect the 3V3 pin or the 5V pin to anything on your breadboard.</span>\n",
    "#### Tasks:\n",
    "\n",
    "1. Open up `oscope.ino` in Energia.\n",
    "\n",
    "- Measure the output of your 3.3V rail **with your multimeter** and record that voltage next to the `#define MAX_VOLTAGE`  directive at the top of the `oscope.ino` file.\n",
    "\n",
    "- Plug in your Launchpad to your computer via USB. **You must do this before the next step.** <span style=\"color:red\">**As a reminder, DO NOT connect the 3V3 pin or the 5V pin to anything.**</span>\n",
    "\n",
    "- Plug your Launchpad GND pin into your negative rail.\n",
    "\n",
    "- Connect the calibration pin (`P6.2`) to your 3.3V rail. **Your Launchpad must be connected to your computer via USB before you do this.**\n",
    "\n",
    "- Make sure your Launchpad's probe pin (`P6.0`) is connected to the mic board output (`MIC_OUT`). Check that the values look reasonable. _Hint: What should the micboard's output be centered around? What are its max and min values? Review the mic board note if you're uncertain._\n",
    "\n",
    "- Open the serial plotter.\n",
    "\n",
    "- Upload `oscope.ino` to your Launchpad and hit `RST`.\n",
    "\n",
    "- Press the button at the bottom left of the Launchpad (`P2.1`) to calibrate the readings. This button will calculate a `conversion_factor` to convert the readings of the Launchpad's ADC to an understandable voltage measurement.\n",
    "\n",
    "- Disconnect the calibration pin (`P6.2`) from your 3.3V rail. **Do not leave this pin connected to the 3.3V rail, especially if your Launchpad is not connected to power via USB.**\n",
    "\n",
    "\n",
    "#### Notes/Tips:\n",
    "\n",
    "- **<span style=\"color:red\"> Make sure to connect the GND pin of your launchpad to the negative rail of your breadboard!</span>**\n",
    "- **<span style=\"color:red\"> Make sure you DO NOT connect the 3V3 pin or the 5V pin to anything on your breadboard!</span>**\n",
    "- **Remove the calibration pin `P6.2` from your 3.3V rail when you are not explicitly calibrating.**\n",
    "- **If you skipped the peak detector, use `oscope_wout_PD.ino` instead.**\n",
    "- Use the shortcut `CTRL-SHIFT-L` on Windows or `CMD-SHIFT-L` on Mac to open the serial plotter.\n",
    "- **Repeat these steps if the readings on your serial plotter aren't on the correct scale (between $[0,~3.45]$).**"
   ]
  },
  {
   "cell_type": "markdown",
   "metadata": {},
   "source": [
    "<a id='tuning'></a>\n",
    "### 2.2. Tune Your Mic Board \\[Review\\]\n",
    "\n",
    "#### Materials:\n",
    "- Phone speaker or headphones\n",
    "- 6pc. Precision Screwdriver Set\n",
    "\n",
    "#### Tasks:\n",
    "1. Make sure `P6.0` is connected to `MIC_OUT`.\n",
    "- Make sure `P6.1` is connected to you peak detector `P2P_OUT`\n",
    "- **Play a pure tone using a [tone generator](https://www.szynalski.com/tone-generator/) in the range (3000 - 4000 Hz)** on your phone at a reasonable volume. Do NOT use a Youtube video!\n",
    "- Make sure to point the speaker directly at the mic and hold it a few inches away from the mic. \n",
    "    - The distance between your speaker and the mic affects the tuning process quite a bit so **try to keep your speaker at a fixed distance from your mic.**.\n",
    "- Turn the potentiometer **(CW: decrease gain | CCW: increase gain)** until you see a sine wave with a **peak-to-peak of around 2V to 3V** on the serial plotter. Since it's a multi-turn potentiometer, you may need to turn it a lot to notice a difference in the output, on the order of 10-25 turns if you're too far in one direction or another.\n",
    "\n",
    "#### Notes/Tips:\n",
    "\n",
    "- **<span style=\"color:red\"> Make sure to connect the GND pin of your launchpad to the negative rail of your breadboard!</span>**\n",
    "- The mic board's output plot is centered around zero (0) to make reading the peak-to-peak more convenient. This does not reflect the actual DC value of its center, which is generated by the biasing circuitry from part 1.2.\n",
    "- The instantaneous peak-to-peak value is given beside its legend title.\n",
    "- If you tap on the mic, it should rail, but **it should not be railing while you play the tone.** \n",
    "- If the peak-to-peak reading stops being accurate, go through [**the calibration steps**](#calibration) again.\n",
    "- If there's a non-sensical spike on the serial plotter preventing you from seeing your voltages at the correct scale, try closing and reopening it. You may have to [calibrate](#calibration) again.\n",
    "    "
   ]
  },
  {
   "cell_type": "markdown",
   "metadata": {},
   "source": [
    "<a id=\"lp_filter\"></a>\n",
    "### 2.3 Build a low-pass filter. \n",
    "In order to capture just the range of normal conversational voices, convert the high-pass filter you built in Lab 4 to a low-pass filter.\n",
    "\n",
    "#### Materials\n",
    "1. Resistors\n",
    "2. Capacitors\n",
    "3. Op-amp\n",
    "\n",
    "#### Tasks:\n",
    "\n",
    "1. Calculate appropriate capacitor and resistor values for a low-pass with a center frequency, $f_c$, of 2500 Hz\n",
    "- Build the filter on your breadboard by replacing your high pass filter from the last lab. The filter's input should be the output of the mic board (`MIC_OUT`). \n",
    "    - Your low-pass filter's capacitor should be connected to GND instead, not `HALF_RAIL`\n",
    "    - As always, power your op amp with 3.3V and gnd for the op amp's VDD and VSS rails, respectively.\n",
    "    \n",
    "- You will most likely have to connect your low-pass filter to a non-inverting amplifier with at least a gain of 2. _Why?_\n",
    "\n",
    "    - If it turns out you don't need any extra gain, you can change the non-inverting amplifier into a unity gain buffer.\n",
    "    \n",
    "    \n",
    "- Once you have built the circuit, check that the DC offset at each node is what you expect.\n",
    "- Connect your peak detector's input to AMP_OUT.\n",
    "- Connect `P6_0` to MIC_OUT.\n",
    "- Use a tone generator to play a specific input frequency. Set your phone down so it stays a constant distance from the mic board.\n",
    "- Watch the peak-to-peak value on the serial plotter as you sweep the frequency from low to high. \n",
    "- Check that your filter's output peak to peak is what you expect at the cutoff frequency.\n",
    "    - At the output of the op-amp, you should expect to see a peak to peak of $amp\\_gain*\\frac{1}{\\sqrt{2}}$ times the `MIC_OUT` peak to peak at the cutoff frequency.\n",
    "    - You can estimate the `MIC_OUT` peak to peak by visual inspection of the plot.\n",
    "- Once you're done verifying this, disconnect `P6_0` and `P6_1` from your Launchpad to reduce the risk of frying.\n",
    "\n",
    "<img style=\"width:750px\" src=\"images/sp21_low_pass.png\">\n",
    "\n",
    "**<span style=\"color:#ba190f\">Record your choice of R and C for the project report!</span>**"
   ]
  },
  {
   "cell_type": "code",
   "execution_count": null,
   "metadata": {},
   "outputs": [],
   "source": [
    "### YOUR CODE HERE\n",
    "R_low_pass = ... #calculate this value with code\n",
    "C_low_pass = ...\n",
    "f_cutoff_low_pass = ...\n",
    "\n",
    "vpp_low_freq = ...\n",
    "vpp_cutoff_ideal = ... #calculate this value with code\n",
    "vpp_cutoff_actual = ...\n",
    "\n",
    "\n",
    "print(\"Low-pass filter:\")\n",
    "print(\"================\")\n",
    "print(\"Resistor: {} ohms\".format(R_low_pass))\n",
    "print(\"Capacitor: {} farads\".format(C_low_pass))\n",
    "print(\"Cutoff frequency: {} Hz\".format(f_cutoff_low_pass))\n",
    "print(f\"Vpp @ {f_cutoff_low_pass:.2f} Hz:\\n\\tIdeal: {vpp_cutoff_ideal:.2f}\\n\\tActual: {vpp_cutoff_actual:.2f}\")"
   ]
  },
  {
   "cell_type": "markdown",
   "metadata": {},
   "source": [
    "<a id='part3'></a>\n",
    "# <span style=\"color:navy\">Part 3: Motor Controller Circuits</span>\n",
    "\n",
    "-----"
   ]
  },
  {
   "cell_type": "markdown",
   "metadata": {},
   "source": [
    "### 3.0 Read <a href=\"https://drive.google.com/file/d/1tmgY3TBdl9UcBlzSCfssNMhWTRSXfyUm/view?usp=sharing\">Part 3</a> of the note before you begin this part!"
   ]
  },
  {
   "cell_type": "markdown",
   "metadata": {},
   "source": [
    "### 3.1 Test the motors individually.\n",
    "\n",
    "**<span style=\"color:red\">Be careful not to tug on the motor wires too hard! The solder connection could break and render your motors useless.</span>**\n",
    "1. Touch the ends of the motor wires to the battery cap leads. The motor should turn on. If you switch the polarity (switch the wires), it should turn the other direction."
   ]
  },
  {
   "cell_type": "markdown",
   "metadata": {},
   "source": [
    "<a id=\"motor_circuit\"></a>\n",
    "### 3.2 Build the motor controller circuits.\n",
    "\n",
    "#### Materials\n",
    "- 2 C2690A NPN BJTs (Bipolar Junction Transistor)\n",
    "- 2 IN4001 Diodes\n",
    "- 2 1.5k$\\Omega$ resistors\n",
    "- 1 3-terminal switch\n",
    "\n",
    "#### Tasks:\n",
    "1.  **Construct the circuit below for each wheel using the <a href=\"https://www.fairchildsemi.com/datasheets/KS/KSC2690A.pdf\">C2690A</a> NPN BJT on the breadboard**.\n",
    "<img width=\"250px\" src=\"images/motor-drive-with-switch.jpg\">\n",
    "\n",
    "2. Connect your motors to the `9V Motor Rail` through a switch. You only need **ONE** switch!\n",
    "    - We are using this switch as a way to control whether your motors are powered or not.\n",
    "    - At any given time, two of the three pins below are connected depending on which side the switch is flipped to.\n",
    "    <img width=\"300px\" src=\"images/switch.png\">\n",
    "    1. Place the switch somewhere fairly central (with respect to the long side) on your breadboard.\n",
    "    2. Connect the 9V to `pin 1`\n",
    "    3. Connect **BOTH** your motor controller circuits' 9V nodes to `pin 2`. \n",
    "    4. Connect `pin 3` to ground.\n",
    "    5. **Sanity check:** the middle pin of your switch should be connected to something. \n",
    "\n",
    "\n",
    "#### Notes/Tips:\n",
    "- The motor is reversible so connect it any way for now. If it turns out to go backwards later, just reverse the two terminals of the motor.\n",
    "- The pin diagram of the BJT is reproduced below. Note that the diagram has the markings (3 circles) in the black plastic part facing up. <span style=\"color:#ba190f\">**Make sure to match the Base, Emitter, and Collector properly to the schematic.**</span>\n",
    "\n",
    "<img width=\"250px\" src=\"images/proj-bjt.png\">\n",
    "\n",
    "- A <a href=\"https://www.allaboutcircuits.com/textbook/semiconductors/chpt-3/introduction-to-diodes-and-rectifiers/\">diode</a> is a component that only conducts current one way. This diode is needed because of the inductive characteristics of the motor. If the motor is on and we turn it off, the inductive behavior of the motor maintains the current and we need a way to dissipate it. The diagram for the diode is shown below. **Note that the diode has a direction** - be careful which terminal is attached to the 9V power supply.\n",
    "<img width=\"300px\" src=\"images/proj-diode.png\">\n",
    "    "
   ]
  },
  {
   "cell_type": "markdown",
   "metadata": {},
   "source": [
    "    \n",
    "    \n",
    "### 3.3 Test the motor controller circuits\n",
    "\n",
    "#### Tasks:\n",
    "**1. Connect the 9V from the wall plug to pin 1 on the switch to test the motors.**\n",
    "    \n",
    "**2. Connect the node labeled <span style=\"color:#ba190f\">MSP430 output pin</span> in one of the motor controller circuit to <span style=\"color:#ba190f\">pin 2.0</span> on your Launchpad. Make sure to ground your Launchpad (connect gnd pin to negative rail)!**\n",
    "\n",
    "**3. Upload `motor_test.ino` to your Launchpad and hit `RST`.**\n",
    "\n",
    "**4. Open the serial monitor (`CTRL-SHIFT-L` / `CMD-SHIFT-L`).**\n",
    "    \n",
    "#### Notes/Tips:\n",
    "- The motors can each draw 200-300mA of current, so we don't want to use batteries for them while we're just testing.\n",
    "- As the program runs, you should see the \"Duty Cycle\" reading change in the serial monitor. Your motor should speed up as the duty cycle increases, and slow down as it decreases. \n",
    "  \n",
    "<span style=\"color:#ba190f\">**5. Repeat for the other motor circuit. Make sure that both motors drive as expected. They might not go at the same speed - our control scheme will fix that later in the project.**</span>"
   ]
  },
  {
   "cell_type": "markdown",
   "metadata": {},
   "source": [
    "<a id='part3'></a>\n",
    "# <span style=\"color:navy\">Part 4: SIXT33N&#8482; Car Instructions</span>\n",
    "\n",
    "-----"
   ]
  },
  {
   "cell_type": "markdown",
   "metadata": {},
   "source": [
    "## Car Assembly\n",
    "\n",
    "### <span style=\"color:red\">Assemble your car by the start of next week's lab (Project Part 2: System ID)!</span>\n",
    "\n",
    "[Assembly Instructions](https://drive.google.com/file/d/13Mokqk5kPcWg4J2nQpU-MfoXxFHDuTuW/view?usp=sharing)\n",
    "\n",
    "[Assembly Video Guide](https://youtu.be/P16ziUDR3GQ)"
   ]
  },
  {
   "cell_type": "markdown",
   "metadata": {},
   "source": [
    "### **DO NOT try to remove the wheels once you attach them to the axles.** \n",
    "### NOTE: The video says to scrape the inside of the wheels if you're having trouble attaching them. Be careful not to scrape too much, or the wheels may become too loose and not stay on the axle."
   ]
  },
  {
   "cell_type": "markdown",
   "metadata": {},
   "source": [
    "# <span style=\"color:#ba190f\">CHECKOFF</span>\n",
    "-----\n",
    "\n",
    "- Show your GSI your working circuits:\n",
    "    - Demonstrate your working filter circuitry.\n",
    "    - Demonstrate that both of your motors work properly.\n",
    "    - Build your car before next week's lab! If you have time during this lab, get a head start during this section.\n",
    "- **Remember what each part of your circuit is for (Record this in a Google doc or somewhere else safe). You will need to write a summary for your final report.**\n",
    "- **Back up this document (e.g. to Google Drive or Github).**"
   ]
  }
 ],
 "metadata": {
  "anaconda-cloud": {},
  "kernelspec": {
   "display_name": "Python 3",
   "language": "python",
   "name": "python3"
  },
  "language_info": {
   "codemirror_mode": {
    "name": "ipython",
    "version": 3
   },
   "file_extension": ".py",
   "mimetype": "text/x-python",
   "name": "python",
   "nbconvert_exporter": "python",
   "pygments_lexer": "ipython3",
   "version": "3.7.4"
  }
 },
 "nbformat": 4,
 "nbformat_minor": 4
}
